{
 "cells": [
  {
   "cell_type": "markdown",
   "metadata": {},
   "source": [
    "# Linear dimensionality reduction with PCA"
   ]
  },
  {
   "cell_type": "code",
   "execution_count": 55,
   "metadata": {
    "collapsed": true
   },
   "outputs": [],
   "source": [
    "from sklearn.decomposition import PCA\n",
    "import pandas as pd\n",
    "import matplotlib.pyplot as plt\n",
    "%matplotlib inline  "
   ]
  },
  {
   "cell_type": "code",
   "execution_count": 56,
   "metadata": {
    "collapsed": true
   },
   "outputs": [],
   "source": [
    "pca = PCA(n_components=2)"
   ]
  },
  {
   "cell_type": "code",
   "execution_count": 57,
   "metadata": {
    "collapsed": false
   },
   "outputs": [
    {
     "data": {
      "text/html": [
       "<div>\n",
       "<table border=\"1\" class=\"dataframe\">\n",
       "  <thead>\n",
       "    <tr style=\"text-align: right;\">\n",
       "      <th></th>\n",
       "      <th>Place</th>\n",
       "      <th>Berlin</th>\n",
       "      <th>Bremen</th>\n",
       "      <th>Dresden</th>\n",
       "      <th>Düsseldorf</th>\n",
       "      <th>Essen</th>\n",
       "      <th>Frankfurt</th>\n",
       "      <th>Genf</th>\n",
       "      <th>Hamburg</th>\n",
       "      <th>Hannover</th>\n",
       "      <th>Köln</th>\n",
       "      <th>Leipzig</th>\n",
       "      <th>München</th>\n",
       "      <th>Stuttgart</th>\n",
       "      <th>Wien</th>\n",
       "      <th>Zürich</th>\n",
       "    </tr>\n",
       "  </thead>\n",
       "  <tbody>\n",
       "    <tr>\n",
       "      <th>0</th>\n",
       "      <td>Berlin</td>\n",
       "      <td>0</td>\n",
       "      <td>316</td>\n",
       "      <td>165</td>\n",
       "      <td>478</td>\n",
       "      <td>454</td>\n",
       "      <td>424</td>\n",
       "      <td>878</td>\n",
       "      <td>256</td>\n",
       "      <td>250</td>\n",
       "      <td>478</td>\n",
       "      <td>149</td>\n",
       "      <td>354</td>\n",
       "      <td>512</td>\n",
       "      <td>524</td>\n",
       "      <td>671</td>\n",
       "    </tr>\n",
       "    <tr>\n",
       "      <th>1</th>\n",
       "      <td>Bremen</td>\n",
       "      <td>316</td>\n",
       "      <td>0</td>\n",
       "      <td>406</td>\n",
       "      <td>248</td>\n",
       "      <td>218</td>\n",
       "      <td>331</td>\n",
       "      <td>790</td>\n",
       "      <td>95</td>\n",
       "      <td>100</td>\n",
       "      <td>270</td>\n",
       "      <td>311</td>\n",
       "      <td>437</td>\n",
       "      <td>480</td>\n",
       "      <td>761</td>\n",
       "      <td>636</td>\n",
       "    </tr>\n",
       "    <tr>\n",
       "      <th>2</th>\n",
       "      <td>Dresden</td>\n",
       "      <td>165</td>\n",
       "      <td>406</td>\n",
       "      <td>0</td>\n",
       "      <td>487</td>\n",
       "      <td>471</td>\n",
       "      <td>372</td>\n",
       "      <td>777</td>\n",
       "      <td>377</td>\n",
       "      <td>313</td>\n",
       "      <td>475</td>\n",
       "      <td>100</td>\n",
       "      <td>226</td>\n",
       "      <td>413</td>\n",
       "      <td>369</td>\n",
       "      <td>557</td>\n",
       "    </tr>\n",
       "    <tr>\n",
       "      <th>3</th>\n",
       "      <td>Düsseldorf</td>\n",
       "      <td>478</td>\n",
       "      <td>248</td>\n",
       "      <td>487</td>\n",
       "      <td>0</td>\n",
       "      <td>30</td>\n",
       "      <td>183</td>\n",
       "      <td>562</td>\n",
       "      <td>339</td>\n",
       "      <td>240</td>\n",
       "      <td>35</td>\n",
       "      <td>390</td>\n",
       "      <td>389</td>\n",
       "      <td>323</td>\n",
       "      <td>768</td>\n",
       "      <td>448</td>\n",
       "    </tr>\n",
       "    <tr>\n",
       "      <th>4</th>\n",
       "      <td>Essen</td>\n",
       "      <td>454</td>\n",
       "      <td>218</td>\n",
       "      <td>471</td>\n",
       "      <td>30</td>\n",
       "      <td>0</td>\n",
       "      <td>190</td>\n",
       "      <td>589</td>\n",
       "      <td>309</td>\n",
       "      <td>213</td>\n",
       "      <td>58</td>\n",
       "      <td>373</td>\n",
       "      <td>387</td>\n",
       "      <td>336</td>\n",
       "      <td>763</td>\n",
       "      <td>468</td>\n",
       "    </tr>\n",
       "  </tbody>\n",
       "</table>\n",
       "</div>"
      ],
      "text/plain": [
       "        Place  Berlin  Bremen  Dresden  Düsseldorf  Essen  Frankfurt  Genf  \\\n",
       "0      Berlin       0     316      165         478    454        424   878   \n",
       "1      Bremen     316       0      406         248    218        331   790   \n",
       "2     Dresden     165     406        0         487    471        372   777   \n",
       "3  Düsseldorf     478     248      487           0     30        183   562   \n",
       "4       Essen     454     218      471          30      0        190   589   \n",
       "\n",
       "   Hamburg  Hannover  Köln  Leipzig  München  Stuttgart  Wien  Zürich  \n",
       "0      256       250   478      149      354        512   524     671  \n",
       "1       95       100   270      311      437        480   761     636  \n",
       "2      377       313   475      100      226        413   369     557  \n",
       "3      339       240    35      390      389        323   768     448  \n",
       "4      309       213    58      373      387        336   763     468  "
      ]
     },
     "execution_count": 57,
     "metadata": {},
     "output_type": "execute_result"
    }
   ],
   "source": [
    "df = pd.read_csv('data/distance.csv', sep=';')\n",
    "df.head()"
   ]
  },
  {
   "cell_type": "markdown",
   "metadata": {},
   "source": [
    "> Note: Data from http://www.entfernung.org/"
   ]
  },
  {
   "cell_type": "code",
   "execution_count": 58,
   "metadata": {
    "collapsed": false
   },
   "outputs": [],
   "source": [
    "cols = set(df.columns)\n",
    "cols.remove('Place')\n",
    "X = df[list(cols)]"
   ]
  },
  {
   "cell_type": "code",
   "execution_count": 63,
   "metadata": {
    "collapsed": false
   },
   "outputs": [],
   "source": [
    "n = pca.fit(X)"
   ]
  },
  {
   "cell_type": "code",
   "execution_count": 64,
   "metadata": {
    "collapsed": false
   },
   "outputs": [],
   "source": [
    "t = pca.transform(X)\n",
    "new = pd.DataFrame(t, columns=['X', 'Y'])"
   ]
  },
  {
   "cell_type": "code",
   "execution_count": 65,
   "metadata": {
    "collapsed": false
   },
   "outputs": [
    {
     "data": {
      "image/png": "[encoded data removed]",
      "text/plain": [
       "<matplotlib.figure.Figure at 0x1185a1048>"
      ]
     },
     "metadata": {},
     "output_type": "display_data"
    }
   ],
   "source": [
    "fig = plt.figure()\n",
    "ax = fig.add_subplot(111)\n",
    "\n",
    "plt.scatter(new.X, new.Y)\n",
    "\n",
    "for p in zip(df['Place'], t):\n",
    "    ax.annotate(str(p[0]), xy=(p[1][0], p[1][1]))"
   ]
  }
 ],
 "metadata": {
  "kernelspec": {
   "display_name": "Python 3",
   "language": "python",
   "name": "python3"
  },
  "language_info": {
   "codemirror_mode": {
    "name": "ipython",
    "version": 3
   },
   "file_extension": ".py",
   "mimetype": "text/x-python",
   "name": "python",
   "nbconvert_exporter": "python",
   "pygments_lexer": "ipython3",
   "version": "3.5.1"
  }
 },
 "nbformat": 4,
 "nbformat_minor": 0
}
