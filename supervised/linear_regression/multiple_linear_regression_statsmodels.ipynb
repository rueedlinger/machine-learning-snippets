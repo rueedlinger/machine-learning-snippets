{
 "cells": [
  {
   "cell_type": "markdown",
   "metadata": {},
   "source": [
    "## Multiple Linear Regression with statsmodels"
   ]
  },
  {
   "cell_type": "code",
   "execution_count": 11,
   "metadata": {
    "collapsed": false
   },
   "outputs": [],
   "source": [
    "import statsmodels.api as sm\n",
    "import statsmodels.formula.api as smf\n",
    "import pandas as pd\n",
    "\n",
    "from sklearn import datasets, model_selection\n"
   ]
  },
  {
   "cell_type": "code",
   "execution_count": 12,
   "metadata": {
    "collapsed": false
   },
   "outputs": [],
   "source": [
    "boston = datasets.load_boston()\n",
    "\n",
    "X = pd.DataFrame(boston.data, columns=boston.feature_names)\n",
    "y = boston.target\n"
   ]
  },
  {
   "cell_type": "code",
   "execution_count": 13,
   "metadata": {
    "collapsed": false
   },
   "outputs": [],
   "source": [
    "X_train, X_test, y_train, y_test = model_selection.train_test_split(X, y, train_size=0.7)"
   ]
  },
  {
   "cell_type": "code",
   "execution_count": 14,
   "metadata": {
    "collapsed": false
   },
   "outputs": [
    {
     "name": "stdout",
     "output_type": "stream",
     "text": [
      "                            OLS Regression Results                            \n",
      "==============================================================================\n",
      "Dep. Variable:                      y   R-squared:                       0.718\n",
      "Model:                            OLS   Adj. R-squared:                  0.708\n",
      "Method:                 Least Squares   F-statistic:                     66.71\n",
      "Date:                Fri, 18 Aug 2017   Prob (F-statistic):           3.30e-85\n",
      "Time:                        17:35:58   Log-Likelihood:                -1050.6\n",
      "No. Observations:                 354   AIC:                             2129.\n",
      "Df Residuals:                     340   BIC:                             2183.\n",
      "Df Model:                          13                                         \n",
      "Covariance Type:            nonrobust                                         \n",
      "==============================================================================\n",
      "                 coef    std err          t      P>|t|      [0.025      0.975]\n",
      "------------------------------------------------------------------------------\n",
      "const         42.8182      5.999      7.138      0.000      31.019      54.618\n",
      "CRIM          -0.0737      0.048     -1.527      0.128      -0.169       0.021\n",
      "ZN             0.0335      0.017      1.914      0.056      -0.001       0.068\n",
      "INDUS         -0.0407      0.074     -0.549      0.583      -0.187       0.105\n",
      "CHAS           1.7645      0.963      1.831      0.068      -0.131       3.659\n",
      "NOX          -16.3928      4.526     -3.622      0.000     -25.296      -7.490\n",
      "RM             3.1268      0.485      6.441      0.000       2.172       4.082\n",
      "AGE           -0.0104      0.016     -0.658      0.511      -0.042       0.021\n",
      "DIS           -1.4666      0.245     -5.986      0.000      -1.948      -0.985\n",
      "RAD            0.2624      0.081      3.240      0.001       0.103       0.422\n",
      "TAX           -0.0109      0.005     -2.411      0.016      -0.020      -0.002\n",
      "PTRATIO       -1.0316      0.161     -6.401      0.000      -1.349      -0.715\n",
      "B              0.0083      0.003      2.445      0.015       0.002       0.015\n",
      "LSTAT         -0.5059      0.059     -8.626      0.000      -0.621      -0.391\n",
      "==============================================================================\n",
      "Omnibus:                      138.177   Durbin-Watson:                   2.070\n",
      "Prob(Omnibus):                  0.000   Jarque-Bera (JB):              594.230\n",
      "Skew:                           1.650   Prob(JB):                    9.22e-130\n",
      "Kurtosis:                       8.421   Cond. No.                     1.46e+04\n",
      "==============================================================================\n",
      "\n",
      "Warnings:\n",
      "[1] Standard Errors assume that the covariance matrix of the errors is correctly specified.\n",
      "[2] The condition number is large, 1.46e+04. This might indicate that there are\n",
      "strong multicollinearity or other numerical problems.\n"
     ]
    }
   ],
   "source": [
    "model = sm.OLS(y_train, sm.add_constant(X_train))\n",
    "res = model.fit()\n",
    "\n",
    "print(res.summary())"
   ]
  },
  {
   "cell_type": "code",
   "execution_count": 15,
   "metadata": {
    "collapsed": false
   },
   "outputs": [
    {
     "data": {
      "text/plain": [
       "const      5.774031e-12\n",
       "CRIM       1.277064e-01\n",
       "ZN         5.644465e-02\n",
       "INDUS      5.833678e-01\n",
       "CHAS       6.790150e-02\n",
       "NOX        3.373860e-04\n",
       "RM         4.046170e-10\n",
       "AGE        5.111047e-01\n",
       "DIS        5.447579e-09\n",
       "RAD        1.312844e-03\n",
       "TAX        1.641811e-02\n",
       "PTRATIO    5.109053e-10\n",
       "B          1.501062e-02\n",
       "LSTAT      2.456468e-16\n",
       "dtype: float64"
      ]
     },
     "execution_count": 15,
     "metadata": {},
     "output_type": "execute_result"
    }
   ],
   "source": [
    "res.pvalues"
   ]
  },
  {
   "cell_type": "code",
   "execution_count": 16,
   "metadata": {
    "collapsed": false
   },
   "outputs": [
    {
     "data": {
      "text/plain": [
       "const       True\n",
       "CRIM       False\n",
       "ZN         False\n",
       "INDUS      False\n",
       "CHAS       False\n",
       "NOX         True\n",
       "RM          True\n",
       "AGE        False\n",
       "DIS         True\n",
       "RAD         True\n",
       "TAX         True\n",
       "PTRATIO     True\n",
       "B           True\n",
       "LSTAT       True\n",
       "dtype: bool"
      ]
     },
     "execution_count": 16,
     "metadata": {},
     "output_type": "execute_result"
    }
   ],
   "source": [
    "res.pvalues < 0.05"
   ]
  },
  {
   "cell_type": "code",
   "execution_count": 17,
   "metadata": {
    "collapsed": false
   },
   "outputs": [
    {
     "data": {
      "text/html": [
       "<div>\n",
       "<table border=\"1\" class=\"dataframe\">\n",
       "  <thead>\n",
       "    <tr style=\"text-align: right;\">\n",
       "      <th></th>\n",
       "      <th>CRIM</th>\n",
       "      <th>ZN</th>\n",
       "      <th>INDUS</th>\n",
       "      <th>CHAS</th>\n",
       "      <th>NOX</th>\n",
       "      <th>RM</th>\n",
       "      <th>AGE</th>\n",
       "      <th>DIS</th>\n",
       "      <th>RAD</th>\n",
       "      <th>TAX</th>\n",
       "      <th>PTRATIO</th>\n",
       "      <th>B</th>\n",
       "      <th>LSTAT</th>\n",
       "      <th>PRICE</th>\n",
       "    </tr>\n",
       "  </thead>\n",
       "  <tbody>\n",
       "    <tr>\n",
       "      <th>184</th>\n",
       "      <td>0.08308</td>\n",
       "      <td>0.0</td>\n",
       "      <td>2.46</td>\n",
       "      <td>0.0</td>\n",
       "      <td>0.488</td>\n",
       "      <td>5.604</td>\n",
       "      <td>89.8</td>\n",
       "      <td>2.9879</td>\n",
       "      <td>3.0</td>\n",
       "      <td>193.0</td>\n",
       "      <td>17.8</td>\n",
       "      <td>391.00</td>\n",
       "      <td>13.98</td>\n",
       "      <td>26.4</td>\n",
       "    </tr>\n",
       "    <tr>\n",
       "      <th>307</th>\n",
       "      <td>0.04932</td>\n",
       "      <td>33.0</td>\n",
       "      <td>2.18</td>\n",
       "      <td>0.0</td>\n",
       "      <td>0.472</td>\n",
       "      <td>6.849</td>\n",
       "      <td>70.3</td>\n",
       "      <td>3.1827</td>\n",
       "      <td>7.0</td>\n",
       "      <td>222.0</td>\n",
       "      <td>18.4</td>\n",
       "      <td>396.90</td>\n",
       "      <td>7.53</td>\n",
       "      <td>28.2</td>\n",
       "    </tr>\n",
       "    <tr>\n",
       "      <th>288</th>\n",
       "      <td>0.04590</td>\n",
       "      <td>52.5</td>\n",
       "      <td>5.32</td>\n",
       "      <td>0.0</td>\n",
       "      <td>0.405</td>\n",
       "      <td>6.315</td>\n",
       "      <td>45.6</td>\n",
       "      <td>7.3172</td>\n",
       "      <td>6.0</td>\n",
       "      <td>293.0</td>\n",
       "      <td>16.6</td>\n",
       "      <td>396.90</td>\n",
       "      <td>7.60</td>\n",
       "      <td>22.3</td>\n",
       "    </tr>\n",
       "    <tr>\n",
       "      <th>137</th>\n",
       "      <td>0.35233</td>\n",
       "      <td>0.0</td>\n",
       "      <td>21.89</td>\n",
       "      <td>0.0</td>\n",
       "      <td>0.624</td>\n",
       "      <td>6.454</td>\n",
       "      <td>98.4</td>\n",
       "      <td>1.8498</td>\n",
       "      <td>4.0</td>\n",
       "      <td>437.0</td>\n",
       "      <td>21.2</td>\n",
       "      <td>394.08</td>\n",
       "      <td>14.59</td>\n",
       "      <td>17.1</td>\n",
       "    </tr>\n",
       "    <tr>\n",
       "      <th>292</th>\n",
       "      <td>0.03615</td>\n",
       "      <td>80.0</td>\n",
       "      <td>4.95</td>\n",
       "      <td>0.0</td>\n",
       "      <td>0.411</td>\n",
       "      <td>6.630</td>\n",
       "      <td>23.4</td>\n",
       "      <td>5.1167</td>\n",
       "      <td>4.0</td>\n",
       "      <td>245.0</td>\n",
       "      <td>19.2</td>\n",
       "      <td>396.90</td>\n",
       "      <td>4.70</td>\n",
       "      <td>27.9</td>\n",
       "    </tr>\n",
       "  </tbody>\n",
       "</table>\n",
       "</div>"
      ],
      "text/plain": [
       "        CRIM    ZN  INDUS  CHAS    NOX     RM   AGE     DIS  RAD    TAX  \\\n",
       "184  0.08308   0.0   2.46   0.0  0.488  5.604  89.8  2.9879  3.0  193.0   \n",
       "307  0.04932  33.0   2.18   0.0  0.472  6.849  70.3  3.1827  7.0  222.0   \n",
       "288  0.04590  52.5   5.32   0.0  0.405  6.315  45.6  7.3172  6.0  293.0   \n",
       "137  0.35233   0.0  21.89   0.0  0.624  6.454  98.4  1.8498  4.0  437.0   \n",
       "292  0.03615  80.0   4.95   0.0  0.411  6.630  23.4  5.1167  4.0  245.0   \n",
       "\n",
       "     PTRATIO       B  LSTAT  PRICE  \n",
       "184     17.8  391.00  13.98   26.4  \n",
       "307     18.4  396.90   7.53   28.2  \n",
       "288     16.6  396.90   7.60   22.3  \n",
       "137     21.2  394.08  14.59   17.1  \n",
       "292     19.2  396.90   4.70   27.9  "
      ]
     },
     "execution_count": 17,
     "metadata": {},
     "output_type": "execute_result"
    }
   ],
   "source": [
    "dat = X_train.copy()\n",
    "dat['PRICE'] = y_train\n",
    "dat.head()"
   ]
  },
  {
   "cell_type": "code",
   "execution_count": 18,
   "metadata": {
    "collapsed": false
   },
   "outputs": [
    {
     "name": "stdout",
     "output_type": "stream",
     "text": [
      "                            OLS Regression Results                            \n",
      "==============================================================================\n",
      "Dep. Variable:                  PRICE   R-squared:                       0.642\n",
      "Model:                            OLS   Adj. R-squared:                  0.632\n",
      "Method:                 Least Squares   F-statistic:                     61.60\n",
      "Date:                Fri, 18 Aug 2017   Prob (F-statistic):           1.73e-70\n",
      "Time:                        17:36:25   Log-Likelihood:                -1092.9\n",
      "No. Observations:                 354   AIC:                             2208.\n",
      "Df Residuals:                     343   BIC:                             2250.\n",
      "Df Model:                          10                                         \n",
      "Covariance Type:            nonrobust                                         \n",
      "==============================================================================\n",
      "                 coef    std err          t      P>|t|      [0.025      0.975]\n",
      "------------------------------------------------------------------------------\n",
      "Intercept     27.4607      6.453      4.256      0.000      14.769      40.152\n",
      "CRIM          -0.1492      0.053     -2.802      0.005      -0.254      -0.044\n",
      "ZN             0.0209      0.019      1.103      0.271      -0.016       0.058\n",
      "INDUS         -0.1966      0.074     -2.656      0.008      -0.342      -0.051\n",
      "CHAS           2.3746      1.069      2.222      0.027       0.273       4.476\n",
      "NOX          -26.3337      4.785     -5.504      0.000     -35.745     -16.922\n",
      "RM             5.2653      0.471     11.181      0.000       4.339       6.192\n",
      "DIS           -1.3127      0.260     -5.040      0.000      -1.825      -0.800\n",
      "RAD            0.1485      0.056      2.642      0.009       0.038       0.259\n",
      "PTRATIO       -1.2293      0.178     -6.907      0.000      -1.579      -0.879\n",
      "B              0.0141      0.004      3.800      0.000       0.007       0.021\n",
      "==============================================================================\n",
      "Omnibus:                      182.829   Durbin-Watson:                   2.059\n",
      "Prob(Omnibus):                  0.000   Jarque-Bera (JB):             1446.232\n",
      "Skew:                           2.022   Prob(JB):                         0.00\n",
      "Kurtosis:                      12.038   Cond. No.                     9.43e+03\n",
      "==============================================================================\n",
      "\n",
      "Warnings:\n",
      "[1] Standard Errors assume that the covariance matrix of the errors is correctly specified.\n",
      "[2] The condition number is large, 9.43e+03. This might indicate that there are\n",
      "strong multicollinearity or other numerical problems.\n"
     ]
    }
   ],
   "source": [
    "results = smf.ols('PRICE ~ CRIM + ZN + INDUS + CHAS + NOX + RM + DIS + RAD + PTRATIO + B', data=dat).fit()\n",
    "print(results.summary())"
   ]
  },
  {
   "cell_type": "code",
   "execution_count": 19,
   "metadata": {
    "collapsed": false
   },
   "outputs": [
    {
     "name": "stdout",
     "output_type": "stream",
     "text": [
      "                            OLS Regression Results                            \n",
      "==============================================================================\n",
      "Dep. Variable:                  PRICE   R-squared:                       0.231\n",
      "Model:                            OLS   Adj. R-squared:                  0.227\n",
      "Method:                 Least Squares   F-statistic:                     52.72\n",
      "Date:                Fri, 18 Aug 2017   Prob (F-statistic):           9.52e-21\n",
      "Time:                        17:36:28   Log-Likelihood:                -1228.4\n",
      "No. Observations:                 354   AIC:                             2463.\n",
      "Df Residuals:                     351   BIC:                             2474.\n",
      "Df Model:                           2                                         \n",
      "Covariance Type:            nonrobust                                         \n",
      "==============================================================================\n",
      "                 coef    std err          t      P>|t|      [0.025      0.975]\n",
      "------------------------------------------------------------------------------\n",
      "Intercept     22.4943      0.518     43.419      0.000      21.475      23.513\n",
      "CRIM          -0.4111      0.055     -7.430      0.000      -0.520      -0.302\n",
      "ZN             0.0999      0.019      5.337      0.000       0.063       0.137\n",
      "==============================================================================\n",
      "Omnibus:                      114.155   Durbin-Watson:                   2.059\n",
      "Prob(Omnibus):                  0.000   Jarque-Bera (JB):              285.710\n",
      "Skew:                           1.574   Prob(JB):                     9.10e-63\n",
      "Kurtosis:                       6.077   Cond. No.                         31.5\n",
      "==============================================================================\n",
      "\n",
      "Warnings:\n",
      "[1] Standard Errors assume that the covariance matrix of the errors is correctly specified.\n"
     ]
    }
   ],
   "source": [
    "results = smf.ols('PRICE ~ CRIM + ZN', data=dat).fit()\n",
    "print(results.summary())"
   ]
  }
 ],
 "metadata": {
  "kernelspec": {
   "display_name": "Python 3",
   "language": "python",
   "name": "python3"
  },
  "language_info": {
   "codemirror_mode": {
    "name": "ipython",
    "version": 3
   },
   "file_extension": ".py",
   "mimetype": "text/x-python",
   "name": "python",
   "nbconvert_exporter": "python",
   "pygments_lexer": "ipython3",
   "version": "3.5.2"
  }
 },
 "nbformat": 4,
 "nbformat_minor": 2
}
