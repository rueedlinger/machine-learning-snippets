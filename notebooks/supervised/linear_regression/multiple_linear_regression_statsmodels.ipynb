{
 "cells": [
  {
   "cell_type": "markdown",
   "metadata": {},
   "source": [
    "## Multiple Linear Regression with statsmodels"
   ]
  },
  {
   "cell_type": "code",
   "execution_count": 1,
   "metadata": {},
   "outputs": [],
   "source": [
    "import statsmodels.api as sm\n",
    "import statsmodels.formula.api as smf\n",
    "import pandas as pd\n",
    "\n",
    "from sklearn import datasets, model_selection\n"
   ]
  },
  {
   "cell_type": "code",
   "execution_count": 2,
   "metadata": {},
   "outputs": [],
   "source": [
    "boston = datasets.load_boston()\n",
    "\n",
    "X = pd.DataFrame(boston.data, columns=boston.feature_names)\n",
    "y = boston.target\n"
   ]
  },
  {
   "cell_type": "code",
   "execution_count": 3,
   "metadata": {},
   "outputs": [],
   "source": [
    "X_train, X_test, y_train, y_test = model_selection.train_test_split(X, y, train_size=0.7)"
   ]
  },
  {
   "cell_type": "code",
   "execution_count": 4,
   "metadata": {},
   "outputs": [
    {
     "name": "stdout",
     "output_type": "stream",
     "text": [
      "                            OLS Regression Results                            \n",
      "==============================================================================\n",
      "Dep. Variable:                      y   R-squared:                       0.728\n",
      "Model:                            OLS   Adj. R-squared:                  0.718\n",
      "Method:                 Least Squares   F-statistic:                     70.06\n",
      "Date:                Fri, 30 Oct 2020   Prob (F-statistic):           8.50e-88\n",
      "Time:                        09:04:53   Log-Likelihood:                -1053.8\n",
      "No. Observations:                 354   AIC:                             2136.\n",
      "Df Residuals:                     340   BIC:                             2190.\n",
      "Df Model:                          13                                         \n",
      "Covariance Type:            nonrobust                                         \n",
      "==============================================================================\n",
      "                 coef    std err          t      P>|t|      [0.025      0.975]\n",
      "------------------------------------------------------------------------------\n",
      "const         44.0878      6.177      7.137      0.000      31.938      56.238\n",
      "CRIM          -0.1248      0.037     -3.354      0.001      -0.198      -0.052\n",
      "ZN             0.0665      0.017      3.807      0.000       0.032       0.101\n",
      "INDUS         -0.0580      0.075     -0.769      0.443      -0.206       0.090\n",
      "CHAS           3.1769      1.181      2.689      0.008       0.853       5.501\n",
      "NOX          -17.8546      4.636     -3.851      0.000     -26.974      -8.735\n",
      "RM             3.0239      0.501      6.040      0.000       2.039       4.009\n",
      "AGE           -0.0066      0.016     -0.416      0.678      -0.038       0.025\n",
      "DIS           -1.8322      0.247     -7.410      0.000      -2.319      -1.346\n",
      "RAD            0.3892      0.082      4.743      0.000       0.228       0.551\n",
      "TAX           -0.0151      0.005     -3.155      0.002      -0.025      -0.006\n",
      "PTRATIO       -0.9300      0.158     -5.897      0.000      -1.240      -0.620\n",
      "B              0.0084      0.003      2.577      0.010       0.002       0.015\n",
      "LSTAT         -0.5012      0.061     -8.284      0.000      -0.620      -0.382\n",
      "==============================================================================\n",
      "Omnibus:                      122.408   Durbin-Watson:                   1.802\n",
      "Prob(Omnibus):                  0.000   Jarque-Bera (JB):              503.572\n",
      "Skew:                           1.454   Prob(JB):                    4.47e-110\n",
      "Kurtosis:                       8.068   Cond. No.                     1.50e+04\n",
      "==============================================================================\n",
      "\n",
      "Notes:\n",
      "[1] Standard Errors assume that the covariance matrix of the errors is correctly specified.\n",
      "[2] The condition number is large, 1.5e+04. This might indicate that there are\n",
      "strong multicollinearity or other numerical problems.\n"
     ]
    }
   ],
   "source": [
    "model = sm.OLS(y_train, sm.add_constant(X_train))\n",
    "res = model.fit()\n",
    "\n",
    "print(res.summary())"
   ]
  },
  {
   "cell_type": "code",
   "execution_count": 5,
   "metadata": {},
   "outputs": [
    {
     "data": {
      "text/plain": [
       "const      5.793213e-12\n",
       "CRIM       8.869828e-04\n",
       "ZN         1.666095e-04\n",
       "INDUS      4.426706e-01\n",
       "CHAS       7.514282e-03\n",
       "NOX        1.405692e-04\n",
       "RM         4.045495e-09\n",
       "AGE        6.779796e-01\n",
       "DIS        1.009368e-12\n",
       "RAD        3.110157e-06\n",
       "TAX        1.750243e-03\n",
       "PTRATIO    8.928530e-09\n",
       "B          1.037824e-02\n",
       "LSTAT      2.781755e-15\n",
       "dtype: float64"
      ]
     },
     "execution_count": 5,
     "metadata": {},
     "output_type": "execute_result"
    }
   ],
   "source": [
    "res.pvalues"
   ]
  },
  {
   "cell_type": "code",
   "execution_count": 6,
   "metadata": {},
   "outputs": [
    {
     "data": {
      "text/plain": [
       "const       True\n",
       "CRIM        True\n",
       "ZN          True\n",
       "INDUS      False\n",
       "CHAS        True\n",
       "NOX         True\n",
       "RM          True\n",
       "AGE        False\n",
       "DIS         True\n",
       "RAD         True\n",
       "TAX         True\n",
       "PTRATIO     True\n",
       "B           True\n",
       "LSTAT       True\n",
       "dtype: bool"
      ]
     },
     "execution_count": 6,
     "metadata": {},
     "output_type": "execute_result"
    }
   ],
   "source": [
    "res.pvalues < 0.05"
   ]
  },
  {
   "cell_type": "code",
   "execution_count": 7,
   "metadata": {},
   "outputs": [
    {
     "data": {
      "text/html": [
       "<div>\n",
       "<style scoped>\n",
       "    .dataframe tbody tr th:only-of-type {\n",
       "        vertical-align: middle;\n",
       "    }\n",
       "\n",
       "    .dataframe tbody tr th {\n",
       "        vertical-align: top;\n",
       "    }\n",
       "\n",
       "    .dataframe thead th {\n",
       "        text-align: right;\n",
       "    }\n",
       "</style>\n",
       "<table border=\"1\" class=\"dataframe\">\n",
       "  <thead>\n",
       "    <tr style=\"text-align: right;\">\n",
       "      <th></th>\n",
       "      <th>CRIM</th>\n",
       "      <th>ZN</th>\n",
       "      <th>INDUS</th>\n",
       "      <th>CHAS</th>\n",
       "      <th>NOX</th>\n",
       "      <th>RM</th>\n",
       "      <th>AGE</th>\n",
       "      <th>DIS</th>\n",
       "      <th>RAD</th>\n",
       "      <th>TAX</th>\n",
       "      <th>PTRATIO</th>\n",
       "      <th>B</th>\n",
       "      <th>LSTAT</th>\n",
       "      <th>PRICE</th>\n",
       "    </tr>\n",
       "  </thead>\n",
       "  <tbody>\n",
       "    <tr>\n",
       "      <th>406</th>\n",
       "      <td>20.71620</td>\n",
       "      <td>0.0</td>\n",
       "      <td>18.10</td>\n",
       "      <td>0.0</td>\n",
       "      <td>0.659</td>\n",
       "      <td>4.138</td>\n",
       "      <td>100.0</td>\n",
       "      <td>1.1781</td>\n",
       "      <td>24.0</td>\n",
       "      <td>666.0</td>\n",
       "      <td>20.2</td>\n",
       "      <td>370.22</td>\n",
       "      <td>23.34</td>\n",
       "      <td>11.9</td>\n",
       "    </tr>\n",
       "    <tr>\n",
       "      <th>257</th>\n",
       "      <td>0.61154</td>\n",
       "      <td>20.0</td>\n",
       "      <td>3.97</td>\n",
       "      <td>0.0</td>\n",
       "      <td>0.647</td>\n",
       "      <td>8.704</td>\n",
       "      <td>86.9</td>\n",
       "      <td>1.8010</td>\n",
       "      <td>5.0</td>\n",
       "      <td>264.0</td>\n",
       "      <td>13.0</td>\n",
       "      <td>389.70</td>\n",
       "      <td>5.12</td>\n",
       "      <td>50.0</td>\n",
       "    </tr>\n",
       "    <tr>\n",
       "      <th>219</th>\n",
       "      <td>0.11425</td>\n",
       "      <td>0.0</td>\n",
       "      <td>13.89</td>\n",
       "      <td>1.0</td>\n",
       "      <td>0.550</td>\n",
       "      <td>6.373</td>\n",
       "      <td>92.4</td>\n",
       "      <td>3.3633</td>\n",
       "      <td>5.0</td>\n",
       "      <td>276.0</td>\n",
       "      <td>16.4</td>\n",
       "      <td>393.74</td>\n",
       "      <td>10.50</td>\n",
       "      <td>23.0</td>\n",
       "    </tr>\n",
       "    <tr>\n",
       "      <th>169</th>\n",
       "      <td>2.44953</td>\n",
       "      <td>0.0</td>\n",
       "      <td>19.58</td>\n",
       "      <td>0.0</td>\n",
       "      <td>0.605</td>\n",
       "      <td>6.402</td>\n",
       "      <td>95.2</td>\n",
       "      <td>2.2625</td>\n",
       "      <td>5.0</td>\n",
       "      <td>403.0</td>\n",
       "      <td>14.7</td>\n",
       "      <td>330.04</td>\n",
       "      <td>11.32</td>\n",
       "      <td>22.3</td>\n",
       "    </tr>\n",
       "    <tr>\n",
       "      <th>132</th>\n",
       "      <td>0.59005</td>\n",
       "      <td>0.0</td>\n",
       "      <td>21.89</td>\n",
       "      <td>0.0</td>\n",
       "      <td>0.624</td>\n",
       "      <td>6.372</td>\n",
       "      <td>97.9</td>\n",
       "      <td>2.3274</td>\n",
       "      <td>4.0</td>\n",
       "      <td>437.0</td>\n",
       "      <td>21.2</td>\n",
       "      <td>385.76</td>\n",
       "      <td>11.12</td>\n",
       "      <td>23.0</td>\n",
       "    </tr>\n",
       "  </tbody>\n",
       "</table>\n",
       "</div>"
      ],
      "text/plain": [
       "         CRIM    ZN  INDUS  CHAS    NOX     RM    AGE     DIS   RAD    TAX  \\\n",
       "406  20.71620   0.0  18.10   0.0  0.659  4.138  100.0  1.1781  24.0  666.0   \n",
       "257   0.61154  20.0   3.97   0.0  0.647  8.704   86.9  1.8010   5.0  264.0   \n",
       "219   0.11425   0.0  13.89   1.0  0.550  6.373   92.4  3.3633   5.0  276.0   \n",
       "169   2.44953   0.0  19.58   0.0  0.605  6.402   95.2  2.2625   5.0  403.0   \n",
       "132   0.59005   0.0  21.89   0.0  0.624  6.372   97.9  2.3274   4.0  437.0   \n",
       "\n",
       "     PTRATIO       B  LSTAT  PRICE  \n",
       "406     20.2  370.22  23.34   11.9  \n",
       "257     13.0  389.70   5.12   50.0  \n",
       "219     16.4  393.74  10.50   23.0  \n",
       "169     14.7  330.04  11.32   22.3  \n",
       "132     21.2  385.76  11.12   23.0  "
      ]
     },
     "execution_count": 7,
     "metadata": {},
     "output_type": "execute_result"
    }
   ],
   "source": [
    "dat = X_train.copy()\n",
    "dat['PRICE'] = y_train\n",
    "dat.head()"
   ]
  },
  {
   "cell_type": "code",
   "execution_count": 8,
   "metadata": {},
   "outputs": [
    {
     "name": "stdout",
     "output_type": "stream",
     "text": [
      "                            OLS Regression Results                            \n",
      "==============================================================================\n",
      "Dep. Variable:                  PRICE   R-squared:                       0.658\n",
      "Model:                            OLS   Adj. R-squared:                  0.648\n",
      "Method:                 Least Squares   F-statistic:                     66.05\n",
      "Date:                Fri, 30 Oct 2020   Prob (F-statistic):           8.00e-74\n",
      "Time:                        09:04:58   Log-Likelihood:                -1094.4\n",
      "No. Observations:                 354   AIC:                             2211.\n",
      "Df Residuals:                     343   BIC:                             2253.\n",
      "Df Model:                          10                                         \n",
      "Covariance Type:            nonrobust                                         \n",
      "==============================================================================\n",
      "                 coef    std err          t      P>|t|      [0.025      0.975]\n",
      "------------------------------------------------------------------------------\n",
      "Intercept     26.6504      6.555      4.065      0.000      13.757      39.544\n",
      "CRIM          -0.1832      0.041     -4.489      0.000      -0.264      -0.103\n",
      "ZN             0.0441      0.019      2.362      0.019       0.007       0.081\n",
      "INDUS         -0.2310      0.075     -3.069      0.002      -0.379      -0.083\n",
      "CHAS           4.1816      1.308      3.196      0.002       1.609       6.755\n",
      "NOX          -26.7490      4.873     -5.489      0.000     -36.334     -17.164\n",
      "RM             5.2540      0.477     11.008      0.000       4.315       6.193\n",
      "DIS           -1.5998      0.264     -6.068      0.000      -2.118      -1.081\n",
      "RAD            0.2174      0.054      4.057      0.000       0.112       0.323\n",
      "PTRATIO       -1.1178      0.174     -6.442      0.000      -1.459      -0.776\n",
      "B              0.0139      0.004      3.916      0.000       0.007       0.021\n",
      "==============================================================================\n",
      "Omnibus:                      160.668   Durbin-Watson:                   1.875\n",
      "Prob(Omnibus):                  0.000   Jarque-Bera (JB):             1107.863\n",
      "Skew:                           1.766   Prob(JB):                    2.69e-241\n",
      "Kurtosis:                      10.914   Cond. No.                     9.62e+03\n",
      "==============================================================================\n",
      "\n",
      "Notes:\n",
      "[1] Standard Errors assume that the covariance matrix of the errors is correctly specified.\n",
      "[2] The condition number is large, 9.62e+03. This might indicate that there are\n",
      "strong multicollinearity or other numerical problems.\n"
     ]
    }
   ],
   "source": [
    "results = smf.ols('PRICE ~ CRIM + ZN + INDUS + CHAS + NOX + RM + DIS + RAD + PTRATIO + B', data=dat).fit()\n",
    "print(results.summary())"
   ]
  },
  {
   "cell_type": "code",
   "execution_count": 9,
   "metadata": {},
   "outputs": [
    {
     "name": "stdout",
     "output_type": "stream",
     "text": [
      "                            OLS Regression Results                            \n",
      "==============================================================================\n",
      "Dep. Variable:                  PRICE   R-squared:                       0.237\n",
      "Model:                            OLS   Adj. R-squared:                  0.232\n",
      "Method:                 Least Squares   F-statistic:                     54.39\n",
      "Date:                Fri, 30 Oct 2020   Prob (F-statistic):           2.66e-21\n",
      "Time:                        09:04:59   Log-Likelihood:                -1236.6\n",
      "No. Observations:                 354   AIC:                             2479.\n",
      "Df Residuals:                     351   BIC:                             2491.\n",
      "Df Model:                           2                                         \n",
      "Covariance Type:            nonrobust                                         \n",
      "==============================================================================\n",
      "                 coef    std err          t      P>|t|      [0.025      0.975]\n",
      "------------------------------------------------------------------------------\n",
      "Intercept     22.0958      0.517     42.717      0.000      21.078      23.113\n",
      "CRIM          -0.2970      0.049     -6.068      0.000      -0.393      -0.201\n",
      "ZN             0.1313      0.018      7.194      0.000       0.095       0.167\n",
      "==============================================================================\n",
      "Omnibus:                      111.809   Durbin-Watson:                   2.054\n",
      "Prob(Omnibus):                  0.000   Jarque-Bera (JB):              280.122\n",
      "Skew:                           1.537   Prob(JB):                     1.49e-61\n",
      "Kurtosis:                       6.089   Cond. No.                         32.2\n",
      "==============================================================================\n",
      "\n",
      "Notes:\n",
      "[1] Standard Errors assume that the covariance matrix of the errors is correctly specified.\n"
     ]
    }
   ],
   "source": [
    "results = smf.ols('PRICE ~ CRIM + ZN', data=dat).fit()\n",
    "print(results.summary())"
   ]
  }
 ],
 "metadata": {
  "kernelspec": {
   "display_name": "Python 3",
   "language": "python",
   "name": "python3"
  },
  "language_info": {
   "codemirror_mode": {
    "name": "ipython",
    "version": 3
   },
   "file_extension": ".py",
   "mimetype": "text/x-python",
   "name": "python",
   "nbconvert_exporter": "python",
   "pygments_lexer": "ipython3",
   "version": "3.7.4"
  }
 },
 "nbformat": 4,
 "nbformat_minor": 4
}
