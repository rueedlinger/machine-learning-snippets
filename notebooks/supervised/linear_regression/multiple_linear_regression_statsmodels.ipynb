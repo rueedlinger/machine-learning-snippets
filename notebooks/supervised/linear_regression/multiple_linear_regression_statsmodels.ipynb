{
 "cells": [
  {
   "cell_type": "markdown",
   "metadata": {},
   "source": [
    "## Linear regression with statsmodels (OLS)"
   ]
  },
  {
   "cell_type": "code",
   "execution_count": 1,
   "metadata": {},
   "outputs": [],
   "source": [
    "import statsmodels.api as sm\n",
    "import statsmodels.formula.api as smf\n",
    "import statsmodels.tools.eval_measures as eval_measures\n",
    "import scipy.stats as stats\n",
    "import pandas as pd\n",
    "import numpy as np\n",
    "\n",
    "from matplotlib import pyplot as plt\n",
    "from sklearn import datasets, model_selection"
   ]
  },
  {
   "cell_type": "markdown",
   "metadata": {},
   "source": [
    "We load the boston house-prices dataset and `X` are our features and `y` is the target variable `medv` (Median value of owner-occupied homes in $1000s)."
   ]
  },
  {
   "cell_type": "code",
   "execution_count": 2,
   "metadata": {},
   "outputs": [
    {
     "name": "stdout",
     "output_type": "stream",
     "text": [
      ".. _boston_dataset:\n",
      "\n",
      "Boston house prices dataset\n",
      "---------------------------\n",
      "\n",
      "**Data Set Characteristics:**  \n",
      "\n",
      "    :Number of Instances: 506 \n",
      "\n",
      "    :Number of Attributes: 13 numeric/categorical predictive. Median Value (attribute 14) is usually the target.\n",
      "\n",
      "    :Attribute Information (in order):\n",
      "        - CRIM     per capita crime rate by town\n",
      "        - ZN       proportion of residential land zoned for lots over 25,000 sq.ft.\n",
      "        - INDUS    proportion of non-retail business acres per town\n",
      "        - CHAS     Charles River dummy variable (= 1 if tract bounds river; 0 otherwise)\n",
      "        - NOX      nitric oxides concentration (parts per 10 million)\n",
      "        - RM       average number of rooms per dwelling\n",
      "        - AGE      proportion of owner-occupied units built prior to 1940\n",
      "        - DIS      weighted distances to five Boston employment centres\n",
      "        - RAD      index of accessibility to radial highways\n",
      "        - TAX      full-value property-tax rate per $10,000\n",
      "        - PTRATIO  pupil-teacher ratio by town\n",
      "        - B        1000(Bk - 0.63)^2 where Bk is the proportion of blacks by town\n",
      "        - LSTAT    % lower status of the population\n",
      "        - MEDV     Median value of owner-occupied homes in $1000's\n",
      "\n",
      "    :Missing Attribute Values: None\n",
      "\n",
      "    :Creator: Harrison, D. and Rubinfeld, D.L.\n",
      "\n",
      "This is a copy of UCI ML housing dataset.\n",
      "https://archive.ics.uci.edu/ml/machine-learning-databases/housing/\n",
      "\n",
      "\n",
      "This dataset was taken from the StatLib library which is maintained at Carnegie Mellon University.\n",
      "\n",
      "The Boston house-price data of Harrison, D. and Rubinfeld, D.L. 'Hedonic\n",
      "prices and the demand for clean air', J. Environ. Economics & Management,\n",
      "vol.5, 81-102, 1978.   Used in Belsley, Kuh & Welsch, 'Regression diagnostics\n",
      "...', Wiley, 1980.   N.B. Various transformations are used in the table on\n",
      "pages 244-261 of the latter.\n",
      "\n",
      "The Boston house-price data has been used in many machine learning papers that address regression\n",
      "problems.   \n",
      "     \n",
      ".. topic:: References\n",
      "\n",
      "   - Belsley, Kuh & Welsch, 'Regression diagnostics: Identifying Influential Data and Sources of Collinearity', Wiley, 1980. 244-261.\n",
      "   - Quinlan,R. (1993). Combining Instance-Based and Model-Based Learning. In Proceedings on the Tenth International Conference of Machine Learning, 236-243, University of Massachusetts, Amherst. Morgan Kaufmann.\n",
      "\n"
     ]
    }
   ],
   "source": [
    "boston = datasets.load_boston()\n",
    "print(boston.DESCR)"
   ]
  },
  {
   "cell_type": "markdown",
   "metadata": {},
   "source": [
    "Let's split the data in a test and training set."
   ]
  },
  {
   "cell_type": "code",
   "execution_count": 3,
   "metadata": {},
   "outputs": [],
   "source": [
    "X = pd.DataFrame(boston.data, columns=boston.feature_names)\n",
    "y = boston.target\n",
    "\n",
    "X_train, X_test, y_train, y_test = model_selection.train_test_split(X, y, train_size=0.7)"
   ]
  },
  {
   "cell_type": "markdown",
   "metadata": {},
   "source": [
    "## Fitting models - the standard way\n",
    "### Full model without an intercept\n"
   ]
  },
  {
   "cell_type": "code",
   "execution_count": 4,
   "metadata": {},
   "outputs": [
    {
     "name": "stdout",
     "output_type": "stream",
     "text": [
      "                                 OLS Regression Results                                \n",
      "=======================================================================================\n",
      "Dep. Variable:                      y   R-squared (uncentered):                   0.956\n",
      "Model:                            OLS   Adj. R-squared (uncentered):              0.955\n",
      "Method:                 Least Squares   F-statistic:                              575.5\n",
      "Date:                Mon, 08 Mar 2021   Prob (F-statistic):                   6.00e-223\n",
      "Time:                        20:50:38   Log-Likelihood:                         -1078.6\n",
      "No. Observations:                 354   AIC:                                      2183.\n",
      "Df Residuals:                     341   BIC:                                      2234.\n",
      "Df Model:                          13                                                  \n",
      "Covariance Type:            nonrobust                                                  \n",
      "==============================================================================\n",
      "                 coef    std err          t      P>|t|      [0.025      0.975]\n",
      "------------------------------------------------------------------------------\n",
      "CRIM          -0.1215      0.044     -2.759      0.006      -0.208      -0.035\n",
      "ZN             0.0427      0.018      2.396      0.017       0.008       0.078\n",
      "INDUS         -0.0191      0.089     -0.215      0.830      -0.194       0.156\n",
      "CHAS           3.5648      1.080      3.301      0.001       1.441       5.689\n",
      "NOX           -5.9006      4.033     -1.463      0.144     -13.834       2.033\n",
      "RM             5.9557      0.387     15.375      0.000       5.194       6.718\n",
      "AGE           -0.0047      0.018     -0.262      0.794      -0.040       0.030\n",
      "DIS           -1.0202      0.247     -4.125      0.000      -1.507      -0.534\n",
      "RAD            0.2435      0.084      2.912      0.004       0.079       0.408\n",
      "TAX           -0.0087      0.005     -1.739      0.083      -0.019       0.001\n",
      "PTRATIO       -0.3875      0.137     -2.836      0.005      -0.656      -0.119\n",
      "B              0.0167      0.003      4.784      0.000       0.010       0.024\n",
      "LSTAT         -0.3991      0.065     -6.131      0.000      -0.527      -0.271\n",
      "==============================================================================\n",
      "Omnibus:                      151.892   Durbin-Watson:                   2.104\n",
      "Prob(Omnibus):                  0.000   Jarque-Bera (JB):              794.513\n",
      "Skew:                           1.758   Prob(JB):                    2.98e-173\n",
      "Kurtosis:                       9.443   Cond. No.                     8.22e+03\n",
      "==============================================================================\n",
      "\n",
      "Notes:\n",
      "[1] R² is computed without centering (uncentered) since the model does not contain a constant.\n",
      "[2] Standard Errors assume that the covariance matrix of the errors is correctly specified.\n",
      "[3] The condition number is large, 8.22e+03. This might indicate that there are\n",
      "strong multicollinearity or other numerical problems.\n"
     ]
    }
   ],
   "source": [
    "model = sm.OLS(y_train, X_train)\n",
    "result = model.fit()\n",
    "print(result.summary())"
   ]
  },
  {
   "cell_type": "code",
   "execution_count": 5,
   "metadata": {},
   "outputs": [
    {
     "data": {
      "image/png": "[encoded data removed]",
      "text/plain": [
       "<Figure size 432x288 with 1 Axes>"
      ]
     },
     "metadata": {
      "needs_background": "light"
     },
     "output_type": "display_data"
    }
   ],
   "source": [
    "fig = sm.qqplot(result.resid, fit=True, line=\"s\")\n",
    "plt.show()"
   ]
  },
  {
   "cell_type": "code",
   "execution_count": 6,
   "metadata": {},
   "outputs": [
    {
     "data": {
      "text/plain": [
       "CRIM        True\n",
       "ZN          True\n",
       "INDUS      False\n",
       "CHAS        True\n",
       "NOX        False\n",
       "RM          True\n",
       "AGE        False\n",
       "DIS         True\n",
       "RAD         True\n",
       "TAX        False\n",
       "PTRATIO     True\n",
       "B           True\n",
       "LSTAT       True\n",
       "dtype: bool"
      ]
     },
     "execution_count": 6,
     "metadata": {},
     "output_type": "execute_result"
    }
   ],
   "source": [
    "result.pvalues < 0.05"
   ]
  },
  {
   "cell_type": "code",
   "execution_count": 7,
   "metadata": {},
   "outputs": [
    {
     "name": "stdout",
     "output_type": "stream",
     "text": [
      "rsquared: 0.9564051270348813\n",
      "mse: 25.945035455550492\n",
      "rmse: 5.093626945070722\n"
     ]
    }
   ],
   "source": [
    "print(\"rsquared: {}\".format(result.rsquared))\n",
    "print(\"mse: {}\".format(eval_measures.mse(y_train, result.fittedvalues)))\n",
    "print(\"rmse: {}\".format(eval_measures.rmse(y_train, result.fittedvalues)))"
   ]
  },
  {
   "cell_type": "markdown",
   "metadata": {},
   "source": [
    "### Full model with an intercept\n"
   ]
  },
  {
   "cell_type": "code",
   "execution_count": 8,
   "metadata": {},
   "outputs": [
    {
     "name": "stdout",
     "output_type": "stream",
     "text": [
      "                            OLS Regression Results                            \n",
      "==============================================================================\n",
      "Dep. Variable:                      y   R-squared:                       0.722\n",
      "Model:                            OLS   Adj. R-squared:                  0.712\n",
      "Method:                 Least Squares   F-statistic:                     68.07\n",
      "Date:                Mon, 08 Mar 2021   Prob (F-statistic):           2.86e-86\n",
      "Time:                        20:50:38   Log-Likelihood:                -1066.1\n",
      "No. Observations:                 354   AIC:                             2160.\n",
      "Df Residuals:                     340   BIC:                             2214.\n",
      "Df Model:                          13                                         \n",
      "Covariance Type:            nonrobust                                         \n",
      "==============================================================================\n",
      "                 coef    std err          t      P>|t|      [0.025      0.975]\n",
      "------------------------------------------------------------------------------\n",
      "const         33.1803      6.643      4.994      0.000      20.113      46.248\n",
      "CRIM          -0.1222      0.043     -2.869      0.004      -0.206      -0.038\n",
      "ZN             0.0421      0.017      2.440      0.015       0.008       0.076\n",
      "INDUS         -0.0005      0.086     -0.006      0.995      -0.170       0.169\n",
      "CHAS           3.1842      1.047      3.043      0.003       1.126       5.243\n",
      "NOX          -18.1471      4.606     -3.940      0.000     -27.207      -9.088\n",
      "RM             4.0289      0.538      7.494      0.000       2.971       5.086\n",
      "AGE            0.0004      0.017      0.021      0.983      -0.034       0.034\n",
      "DIS           -1.5147      0.259     -5.854      0.000      -2.024      -1.006\n",
      "RAD            0.3582      0.084      4.263      0.000       0.193       0.524\n",
      "TAX           -0.0121      0.005     -2.470      0.014      -0.022      -0.002\n",
      "PTRATIO       -0.8858      0.166     -5.351      0.000      -1.211      -0.560\n",
      "B              0.0111      0.004      3.116      0.002       0.004       0.018\n",
      "LSTAT         -0.5069      0.067     -7.620      0.000      -0.638      -0.376\n",
      "==============================================================================\n",
      "Omnibus:                      130.108   Durbin-Watson:                   2.118\n",
      "Prob(Omnibus):                  0.000   Jarque-Bera (JB):              485.905\n",
      "Skew:                           1.600   Prob(JB):                    3.07e-106\n",
      "Kurtosis:                       7.765   Cond. No.                     1.53e+04\n",
      "==============================================================================\n",
      "\n",
      "Notes:\n",
      "[1] Standard Errors assume that the covariance matrix of the errors is correctly specified.\n",
      "[2] The condition number is large, 1.53e+04. This might indicate that there are\n",
      "strong multicollinearity or other numerical problems.\n"
     ]
    }
   ],
   "source": [
    "model = sm.OLS(y_train, sm.add_constant(X_train))\n",
    "result = model.fit()\n",
    "print(result.summary())"
   ]
  },
  {
   "cell_type": "code",
   "execution_count": 9,
   "metadata": {},
   "outputs": [
    {
     "data": {
      "image/png": "[encoded data removed]",
      "text/plain": [
       "<Figure size 432x288 with 1 Axes>"
      ]
     },
     "metadata": {
      "needs_background": "light"
     },
     "output_type": "display_data"
    }
   ],
   "source": [
    "fig = sm.qqplot(result.resid, fit=True, line=\"s\")\n",
    "plt.show()"
   ]
  },
  {
   "cell_type": "code",
   "execution_count": 10,
   "metadata": {},
   "outputs": [
    {
     "name": "stdout",
     "output_type": "stream",
     "text": [
      "rsquared: 0.7224293903444526\n",
      "mse: 24.171656619600636\n",
      "rmse: 4.916467900800394\n"
     ]
    }
   ],
   "source": [
    "print(\"rsquared: {}\".format(result.rsquared))\n",
    "print(\"mse: {}\".format(eval_measures.mse(y_train, result.fittedvalues)))\n",
    "print(\"rmse: {}\".format(eval_measures.rmse(y_train, result.fittedvalues)))"
   ]
  },
  {
   "cell_type": "markdown",
   "metadata": {},
   "source": [
    "## Fitting models using R-style formulas\n",
    "We can also fit a model with the R syntax `y ~ x_1 + x_2` and build some complexer models."
   ]
  },
  {
   "cell_type": "code",
   "execution_count": 11,
   "metadata": {},
   "outputs": [
    {
     "data": {
      "text/html": [
       "<div>\n",
       "<style scoped>\n",
       "    .dataframe tbody tr th:only-of-type {\n",
       "        vertical-align: middle;\n",
       "    }\n",
       "\n",
       "    .dataframe tbody tr th {\n",
       "        vertical-align: top;\n",
       "    }\n",
       "\n",
       "    .dataframe thead th {\n",
       "        text-align: right;\n",
       "    }\n",
       "</style>\n",
       "<table border=\"1\" class=\"dataframe\">\n",
       "  <thead>\n",
       "    <tr style=\"text-align: right;\">\n",
       "      <th></th>\n",
       "      <th>CRIM</th>\n",
       "      <th>ZN</th>\n",
       "      <th>INDUS</th>\n",
       "      <th>CHAS</th>\n",
       "      <th>NOX</th>\n",
       "      <th>RM</th>\n",
       "      <th>AGE</th>\n",
       "      <th>DIS</th>\n",
       "      <th>RAD</th>\n",
       "      <th>TAX</th>\n",
       "      <th>PTRATIO</th>\n",
       "      <th>B</th>\n",
       "      <th>LSTAT</th>\n",
       "      <th>MEDV</th>\n",
       "    </tr>\n",
       "  </thead>\n",
       "  <tbody>\n",
       "    <tr>\n",
       "      <th>199</th>\n",
       "      <td>0.03150</td>\n",
       "      <td>95.0</td>\n",
       "      <td>1.47</td>\n",
       "      <td>0.0</td>\n",
       "      <td>0.403</td>\n",
       "      <td>6.975</td>\n",
       "      <td>15.3</td>\n",
       "      <td>7.6534</td>\n",
       "      <td>3.0</td>\n",
       "      <td>402.0</td>\n",
       "      <td>17.0</td>\n",
       "      <td>396.90</td>\n",
       "      <td>4.56</td>\n",
       "      <td>34.9</td>\n",
       "    </tr>\n",
       "    <tr>\n",
       "      <th>138</th>\n",
       "      <td>0.24980</td>\n",
       "      <td>0.0</td>\n",
       "      <td>21.89</td>\n",
       "      <td>0.0</td>\n",
       "      <td>0.624</td>\n",
       "      <td>5.857</td>\n",
       "      <td>98.2</td>\n",
       "      <td>1.6686</td>\n",
       "      <td>4.0</td>\n",
       "      <td>437.0</td>\n",
       "      <td>21.2</td>\n",
       "      <td>392.04</td>\n",
       "      <td>21.32</td>\n",
       "      <td>13.3</td>\n",
       "    </tr>\n",
       "    <tr>\n",
       "      <th>35</th>\n",
       "      <td>0.06417</td>\n",
       "      <td>0.0</td>\n",
       "      <td>5.96</td>\n",
       "      <td>0.0</td>\n",
       "      <td>0.499</td>\n",
       "      <td>5.933</td>\n",
       "      <td>68.2</td>\n",
       "      <td>3.3603</td>\n",
       "      <td>5.0</td>\n",
       "      <td>279.0</td>\n",
       "      <td>19.2</td>\n",
       "      <td>396.90</td>\n",
       "      <td>9.68</td>\n",
       "      <td>18.9</td>\n",
       "    </tr>\n",
       "    <tr>\n",
       "      <th>150</th>\n",
       "      <td>1.65660</td>\n",
       "      <td>0.0</td>\n",
       "      <td>19.58</td>\n",
       "      <td>0.0</td>\n",
       "      <td>0.871</td>\n",
       "      <td>6.122</td>\n",
       "      <td>97.3</td>\n",
       "      <td>1.6180</td>\n",
       "      <td>5.0</td>\n",
       "      <td>403.0</td>\n",
       "      <td>14.7</td>\n",
       "      <td>372.80</td>\n",
       "      <td>14.10</td>\n",
       "      <td>21.5</td>\n",
       "    </tr>\n",
       "    <tr>\n",
       "      <th>378</th>\n",
       "      <td>23.64820</td>\n",
       "      <td>0.0</td>\n",
       "      <td>18.10</td>\n",
       "      <td>0.0</td>\n",
       "      <td>0.671</td>\n",
       "      <td>6.380</td>\n",
       "      <td>96.2</td>\n",
       "      <td>1.3861</td>\n",
       "      <td>24.0</td>\n",
       "      <td>666.0</td>\n",
       "      <td>20.2</td>\n",
       "      <td>396.90</td>\n",
       "      <td>23.69</td>\n",
       "      <td>13.1</td>\n",
       "    </tr>\n",
       "  </tbody>\n",
       "</table>\n",
       "</div>"
      ],
      "text/plain": [
       "         CRIM    ZN  INDUS  CHAS    NOX     RM   AGE     DIS   RAD    TAX  \\\n",
       "199   0.03150  95.0   1.47   0.0  0.403  6.975  15.3  7.6534   3.0  402.0   \n",
       "138   0.24980   0.0  21.89   0.0  0.624  5.857  98.2  1.6686   4.0  437.0   \n",
       "35    0.06417   0.0   5.96   0.0  0.499  5.933  68.2  3.3603   5.0  279.0   \n",
       "150   1.65660   0.0  19.58   0.0  0.871  6.122  97.3  1.6180   5.0  403.0   \n",
       "378  23.64820   0.0  18.10   0.0  0.671  6.380  96.2  1.3861  24.0  666.0   \n",
       "\n",
       "     PTRATIO       B  LSTAT  MEDV  \n",
       "199     17.0  396.90   4.56  34.9  \n",
       "138     21.2  392.04  21.32  13.3  \n",
       "35      19.2  396.90   9.68  18.9  \n",
       "150     14.7  372.80  14.10  21.5  \n",
       "378     20.2  396.90  23.69  13.1  "
      ]
     },
     "execution_count": 11,
     "metadata": {},
     "output_type": "execute_result"
    }
   ],
   "source": [
    "dat = X_train.copy()\n",
    "dat['MEDV'] = y_train\n",
    "dat.head()"
   ]
  },
  {
   "cell_type": "markdown",
   "metadata": {},
   "source": [
    "### Full model with an intercept"
   ]
  },
  {
   "cell_type": "code",
   "execution_count": 12,
   "metadata": {},
   "outputs": [
    {
     "name": "stdout",
     "output_type": "stream",
     "text": [
      "                            OLS Regression Results                            \n",
      "==============================================================================\n",
      "Dep. Variable:                   MEDV   R-squared:                       0.675\n",
      "Model:                            OLS   Adj. R-squared:                  0.664\n",
      "Method:                 Least Squares   F-statistic:                     59.03\n",
      "Date:                Mon, 08 Mar 2021   Prob (F-statistic):           1.10e-75\n",
      "Time:                        20:50:39   Log-Likelihood:                -1094.0\n",
      "No. Observations:                 354   AIC:                             2214.\n",
      "Df Residuals:                     341   BIC:                             2264.\n",
      "Df Model:                          12                                         \n",
      "Covariance Type:            nonrobust                                         \n",
      "==============================================================================\n",
      "                 coef    std err          t      P>|t|      [0.025      0.975]\n",
      "------------------------------------------------------------------------------\n",
      "Intercept     16.7526      6.789      2.467      0.014       3.398      30.107\n",
      "CRIM          -0.1964      0.045     -4.384      0.000      -0.284      -0.108\n",
      "ZN             0.0400      0.019      2.151      0.032       0.003       0.077\n",
      "INDUS         -0.0177      0.093     -0.191      0.849      -0.200       0.165\n",
      "CHAS           4.1062      1.123      3.656      0.000       1.897       6.315\n",
      "NOX          -21.1202      4.958     -4.259      0.000     -30.873     -11.367\n",
      "RM             6.3940      0.474     13.480      0.000       5.461       7.327\n",
      "AGE           -0.0488      0.017     -2.820      0.005      -0.083      -0.015\n",
      "DIS           -1.6610      0.279     -5.957      0.000      -2.209      -1.113\n",
      "RAD            0.3702      0.091      4.078      0.000       0.192       0.549\n",
      "TAX           -0.0134      0.005     -2.533      0.012      -0.024      -0.003\n",
      "PTRATIO       -0.9153      0.179     -5.119      0.000      -1.267      -0.564\n",
      "B              0.0168      0.004      4.466      0.000       0.009       0.024\n",
      "==============================================================================\n",
      "Omnibus:                      194.696   Durbin-Watson:                   2.160\n",
      "Prob(Omnibus):                  0.000   Jarque-Bera (JB):             1676.664\n",
      "Skew:                           2.159   Prob(JB):                         0.00\n",
      "Kurtosis:                      12.748   Cond. No.                     1.48e+04\n",
      "==============================================================================\n",
      "\n",
      "Notes:\n",
      "[1] Standard Errors assume that the covariance matrix of the errors is correctly specified.\n",
      "[2] The condition number is large, 1.48e+04. This might indicate that there are\n",
      "strong multicollinearity or other numerical problems.\n"
     ]
    }
   ],
   "source": [
    "result = smf.ols('MEDV ~ CRIM + ZN + INDUS + CHAS + NOX + RM + AGE + DIS + RAD + TAX + PTRATIO + B', data=dat).fit()\n",
    "print(result.summary())"
   ]
  },
  {
   "cell_type": "code",
   "execution_count": 13,
   "metadata": {},
   "outputs": [
    {
     "data": {
      "image/png": "[encoded data removed]",
      "text/plain": [
       "<Figure size 432x288 with 1 Axes>"
      ]
     },
     "metadata": {
      "needs_background": "light"
     },
     "output_type": "display_data"
    }
   ],
   "source": [
    "fig = sm.qqplot(result.resid, fit=True, line=\"s\")\n",
    "\n",
    "plt.show()"
   ]
  },
  {
   "cell_type": "code",
   "execution_count": 14,
   "metadata": {},
   "outputs": [
    {
     "name": "stdout",
     "output_type": "stream",
     "text": [
      "rsquared: 0.6750222688763698\n",
      "mse: 28.300006745978266\n",
      "rmse: 5.319775065355514\n"
     ]
    }
   ],
   "source": [
    "print(\"rsquared: {}\".format(result.rsquared))\n",
    "print(\"mse: {}\".format(eval_measures.mse(y_train, result.fittedvalues)))\n",
    "print(\"rmse: {}\".format(eval_measures.rmse(y_train, result.fittedvalues)))"
   ]
  },
  {
   "cell_type": "markdown",
   "metadata": {},
   "source": [
    "### Model with a polynomial and the target variable log transformed"
   ]
  },
  {
   "cell_type": "code",
   "execution_count": 15,
   "metadata": {},
   "outputs": [
    {
     "name": "stdout",
     "output_type": "stream",
     "text": [
      "                            OLS Regression Results                            \n",
      "==============================================================================\n",
      "Dep. Variable:           np.log(MEDV)   R-squared:                       0.704\n",
      "Model:                            OLS   Adj. R-squared:                  0.696\n",
      "Method:                 Least Squares   F-statistic:                     81.68\n",
      "Date:                Mon, 08 Mar 2021   Prob (F-statistic):           1.74e-84\n",
      "Time:                        20:50:39   Log-Likelihood:                 20.227\n",
      "No. Observations:                 354   AIC:                            -18.45\n",
      "Df Residuals:                     343   BIC:                             24.11\n",
      "Df Model:                          10                                         \n",
      "Covariance Type:            nonrobust                                         \n",
      "===============================================================================\n",
      "                  coef    std err          t      P>|t|      [0.025      0.975]\n",
      "-------------------------------------------------------------------------------\n",
      "Intercept       3.0897      0.290     10.658      0.000       2.520       3.660\n",
      "CRIM           -0.0153      0.002     -8.025      0.000      -0.019      -0.012\n",
      "CHAS            0.1606      0.048      3.356      0.001       0.066       0.255\n",
      "NOX            -0.9715      0.204     -4.763      0.000      -1.373      -0.570\n",
      "RM              0.2305      0.020     11.598      0.000       0.191       0.270\n",
      "DIS            -0.0511      0.010     -4.920      0.000      -0.072      -0.031\n",
      "RAD             0.0171      0.004      4.645      0.000       0.010       0.024\n",
      "TAX            -0.0006      0.000     -3.269      0.001      -0.001      -0.000\n",
      "PTRATIO        -0.0444      0.007     -6.083      0.000      -0.059      -0.030\n",
      "B               0.0008      0.000      5.044      0.000       0.000       0.001\n",
      "pow(AGE, 2) -2.008e-05   6.13e-06     -3.277      0.001   -3.21e-05   -8.03e-06\n",
      "==============================================================================\n",
      "Omnibus:                       89.192   Durbin-Watson:                   2.206\n",
      "Prob(Omnibus):                  0.000   Jarque-Bera (JB):              620.124\n",
      "Skew:                           0.846   Prob(JB):                    2.20e-135\n",
      "Kurtosis:                       9.259   Cond. No.                     1.73e+05\n",
      "==============================================================================\n",
      "\n",
      "Notes:\n",
      "[1] Standard Errors assume that the covariance matrix of the errors is correctly specified.\n",
      "[2] The condition number is large, 1.73e+05. This might indicate that there are\n",
      "strong multicollinearity or other numerical problems.\n"
     ]
    }
   ],
   "source": [
    "result = smf.ols('np.log(MEDV) ~ CRIM + CHAS + NOX + RM + DIS + RAD + TAX + PTRATIO + B + pow(AGE, 2)', data=dat).fit()\n",
    "print(result.summary())"
   ]
  },
  {
   "cell_type": "markdown",
   "metadata": {},
   "source": [
    "Let's plot the QQ-Plot for the residuals"
   ]
  },
  {
   "cell_type": "code",
   "execution_count": 16,
   "metadata": {},
   "outputs": [
    {
     "data": {
      "text/plain": [
       "Intercept      True\n",
       "CRIM           True\n",
       "CHAS           True\n",
       "NOX            True\n",
       "RM             True\n",
       "DIS            True\n",
       "RAD            True\n",
       "TAX            True\n",
       "PTRATIO        True\n",
       "B              True\n",
       "pow(AGE, 2)    True\n",
       "dtype: bool"
      ]
     },
     "execution_count": 16,
     "metadata": {},
     "output_type": "execute_result"
    }
   ],
   "source": [
    "result.pvalues < 0.05"
   ]
  },
  {
   "cell_type": "code",
   "execution_count": 17,
   "metadata": {},
   "outputs": [
    {
     "name": "stdout",
     "output_type": "stream",
     "text": [
      "rsquared: 0.7042534387024948\n",
      "mse: 0.05222710085817946\n",
      "rmse: 0.22853249409696524\n"
     ]
    }
   ],
   "source": [
    "print(\"rsquared: {}\".format(result.rsquared))\n",
    "print(\"mse: {}\".format(eval_measures.mse(np.log(y_train), result.fittedvalues)))\n",
    "print(\"rmse: {}\".format(eval_measures.rmse(np.log(y_train), result.fittedvalues)))"
   ]
  },
  {
   "cell_type": "code",
   "execution_count": 18,
   "metadata": {},
   "outputs": [
    {
     "data": {
      "image/png": "[encoded data removed]",
      "text/plain": [
       "<Figure size 432x288 with 1 Axes>"
      ]
     },
     "metadata": {
      "needs_background": "light"
     },
     "output_type": "display_data"
    }
   ],
   "source": [
    "fig = sm.qqplot(result.resid, fit=True, line=\"q\")\n",
    "plt.show()"
   ]
  }
 ],
 "metadata": {
  "kernelspec": {
   "display_name": "Python 3",
   "language": "python",
   "name": "python3"
  },
  "language_info": {
   "codemirror_mode": {
    "name": "ipython",
    "version": 3
   },
   "file_extension": ".py",
   "mimetype": "text/x-python",
   "name": "python",
   "nbconvert_exporter": "python",
   "pygments_lexer": "ipython3",
   "version": "3.8.5"
  }
 },
 "nbformat": 4,
 "nbformat_minor": 4
}
