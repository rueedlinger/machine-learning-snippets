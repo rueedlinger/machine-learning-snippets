{
 "cells": [
  {
   "cell_type": "markdown",
   "metadata": {},
   "source": [
    "## Multiple linear regression with statsmodels"
   ]
  },
  {
   "cell_type": "code",
   "execution_count": 1,
   "metadata": {},
   "outputs": [],
   "source": [
    "import statsmodels.api as sm\n",
    "import statsmodels.formula.api as smf\n",
    "import statsmodels.tools.eval_measures as eval_measures\n",
    "import scipy.stats as stats\n",
    "import pandas as pd\n",
    "import numpy as np\n",
    "\n",
    "from matplotlib import pyplot as plt\n",
    "from sklearn import datasets, model_selection"
   ]
  },
  {
   "cell_type": "markdown",
   "metadata": {},
   "source": [
    "We load the boston house-prices dataset and `X` are our features and `y` is the target variable `medv` (Median value of owner-occupied homes in $1000s)."
   ]
  },
  {
   "cell_type": "code",
   "execution_count": 2,
   "metadata": {},
   "outputs": [
    {
     "name": "stdout",
     "output_type": "stream",
     "text": [
      ".. _boston_dataset:\n",
      "\n",
      "Boston house prices dataset\n",
      "---------------------------\n",
      "\n",
      "**Data Set Characteristics:**  \n",
      "\n",
      "    :Number of Instances: 506 \n",
      "\n",
      "    :Number of Attributes: 13 numeric/categorical predictive. Median Value (attribute 14) is usually the target.\n",
      "\n",
      "    :Attribute Information (in order):\n",
      "        - CRIM     per capita crime rate by town\n",
      "        - ZN       proportion of residential land zoned for lots over 25,000 sq.ft.\n",
      "        - INDUS    proportion of non-retail business acres per town\n",
      "        - CHAS     Charles River dummy variable (= 1 if tract bounds river; 0 otherwise)\n",
      "        - NOX      nitric oxides concentration (parts per 10 million)\n",
      "        - RM       average number of rooms per dwelling\n",
      "        - AGE      proportion of owner-occupied units built prior to 1940\n",
      "        - DIS      weighted distances to five Boston employment centres\n",
      "        - RAD      index of accessibility to radial highways\n",
      "        - TAX      full-value property-tax rate per $10,000\n",
      "        - PTRATIO  pupil-teacher ratio by town\n",
      "        - B        1000(Bk - 0.63)^2 where Bk is the proportion of blacks by town\n",
      "        - LSTAT    % lower status of the population\n",
      "        - MEDV     Median value of owner-occupied homes in $1000's\n",
      "\n",
      "    :Missing Attribute Values: None\n",
      "\n",
      "    :Creator: Harrison, D. and Rubinfeld, D.L.\n",
      "\n",
      "This is a copy of UCI ML housing dataset.\n",
      "https://archive.ics.uci.edu/ml/machine-learning-databases/housing/\n",
      "\n",
      "\n",
      "This dataset was taken from the StatLib library which is maintained at Carnegie Mellon University.\n",
      "\n",
      "The Boston house-price data of Harrison, D. and Rubinfeld, D.L. 'Hedonic\n",
      "prices and the demand for clean air', J. Environ. Economics & Management,\n",
      "vol.5, 81-102, 1978.   Used in Belsley, Kuh & Welsch, 'Regression diagnostics\n",
      "...', Wiley, 1980.   N.B. Various transformations are used in the table on\n",
      "pages 244-261 of the latter.\n",
      "\n",
      "The Boston house-price data has been used in many machine learning papers that address regression\n",
      "problems.   \n",
      "     \n",
      ".. topic:: References\n",
      "\n",
      "   - Belsley, Kuh & Welsch, 'Regression diagnostics: Identifying Influential Data and Sources of Collinearity', Wiley, 1980. 244-261.\n",
      "   - Quinlan,R. (1993). Combining Instance-Based and Model-Based Learning. In Proceedings on the Tenth International Conference of Machine Learning, 236-243, University of Massachusetts, Amherst. Morgan Kaufmann.\n",
      "\n"
     ]
    }
   ],
   "source": [
    "boston = datasets.load_boston()\n",
    "print(boston.DESCR)"
   ]
  },
  {
   "cell_type": "markdown",
   "metadata": {},
   "source": [
    "Let's split the data in a test and training set."
   ]
  },
  {
   "cell_type": "code",
   "execution_count": 3,
   "metadata": {},
   "outputs": [],
   "source": [
    "X = pd.DataFrame(boston.data, columns=boston.feature_names)\n",
    "y = boston.target\n",
    "\n",
    "X_train, X_test, y_train, y_test = model_selection.train_test_split(X, y, train_size=0.7)"
   ]
  },
  {
   "cell_type": "markdown",
   "metadata": {},
   "source": [
    "## Fitting models - the standard way\n",
    "### Full model without an intercept\n"
   ]
  },
  {
   "cell_type": "code",
   "execution_count": 4,
   "metadata": {},
   "outputs": [
    {
     "name": "stdout",
     "output_type": "stream",
     "text": [
      "                                 OLS Regression Results                                \n",
      "=======================================================================================\n",
      "Dep. Variable:                      y   R-squared (uncentered):                   0.956\n",
      "Model:                            OLS   Adj. R-squared (uncentered):              0.954\n",
      "Method:                 Least Squares   F-statistic:                              565.2\n",
      "Date:                Sat, 20 Feb 2021   Prob (F-statistic):                   1.12e-221\n",
      "Time:                        23:49:36   Log-Likelihood:                         -1078.6\n",
      "No. Observations:                 354   AIC:                                      2183.\n",
      "Df Residuals:                     341   BIC:                                      2234.\n",
      "Df Model:                          13                                                  \n",
      "Covariance Type:            nonrobust                                                  \n",
      "==============================================================================\n",
      "                 coef    std err          t      P>|t|      [0.025      0.975]\n",
      "------------------------------------------------------------------------------\n",
      "CRIM          -0.0519      0.052     -0.996      0.320      -0.154       0.051\n",
      "ZN             0.0499      0.020      2.556      0.011       0.011       0.088\n",
      "INDUS         -0.0058      0.083     -0.070      0.944      -0.169       0.157\n",
      "CHAS           2.1404      1.187      1.804      0.072      -0.194       4.474\n",
      "NOX           -2.2084      4.260     -0.518      0.605     -10.588       6.171\n",
      "RM             5.7327      0.407     14.099      0.000       4.933       6.533\n",
      "AGE           -0.0035      0.018     -0.199      0.843      -0.038       0.031\n",
      "DIS           -0.9181      0.247     -3.723      0.000      -1.403      -0.433\n",
      "RAD            0.1593      0.087      1.828      0.068      -0.012       0.331\n",
      "TAX           -0.0096      0.005     -1.831      0.068      -0.020       0.001\n",
      "PTRATIO       -0.3324      0.142     -2.340      0.020      -0.612      -0.053\n",
      "B              0.0140      0.003      4.144      0.000       0.007       0.021\n",
      "LSTAT         -0.4279      0.064     -6.675      0.000      -0.554      -0.302\n",
      "==============================================================================\n",
      "Omnibus:                      156.769   Durbin-Watson:                   1.981\n",
      "Prob(Omnibus):                  0.000   Jarque-Bera (JB):             1083.370\n",
      "Skew:                           1.712   Prob(JB):                    5.61e-236\n",
      "Kurtosis:                      10.857   Cond. No.                     8.67e+03\n",
      "==============================================================================\n",
      "\n",
      "Notes:\n",
      "[1] R² is computed without centering (uncentered) since the model does not contain a constant.\n",
      "[2] Standard Errors assume that the covariance matrix of the errors is correctly specified.\n",
      "[3] The condition number is large, 8.67e+03. This might indicate that there are\n",
      "strong multicollinearity or other numerical problems.\n"
     ]
    }
   ],
   "source": [
    "model = sm.OLS(y_train, X_train)\n",
    "result = model.fit()\n",
    "print(result.summary())"
   ]
  },
  {
   "cell_type": "code",
   "execution_count": 5,
   "metadata": {},
   "outputs": [
    {
     "data": {
      "image/png": "[encoded data removed]",
      "text/plain": [
       "<Figure size 432x288 with 1 Axes>"
      ]
     },
     "metadata": {
      "needs_background": "light"
     },
     "output_type": "display_data"
    }
   ],
   "source": [
    "fig = sm.qqplot(result.resid, fit=True, line=\"s\")\n",
    "plt.show()"
   ]
  },
  {
   "cell_type": "code",
   "execution_count": 6,
   "metadata": {},
   "outputs": [
    {
     "data": {
      "text/plain": [
       "CRIM       False\n",
       "ZN          True\n",
       "INDUS      False\n",
       "CHAS       False\n",
       "NOX        False\n",
       "RM          True\n",
       "AGE        False\n",
       "DIS         True\n",
       "RAD        False\n",
       "TAX        False\n",
       "PTRATIO     True\n",
       "B           True\n",
       "LSTAT       True\n",
       "dtype: bool"
      ]
     },
     "execution_count": 6,
     "metadata": {},
     "output_type": "execute_result"
    }
   ],
   "source": [
    "result.pvalues < 0.05"
   ]
  },
  {
   "cell_type": "code",
   "execution_count": 7,
   "metadata": {},
   "outputs": [
    {
     "name": "stdout",
     "output_type": "stream",
     "text": [
      "rsquared: 0.9556498929752535\n",
      "mse: 25.944610904187666\n",
      "rmse: 5.093585270140048\n"
     ]
    }
   ],
   "source": [
    "print(\"rsquared: {}\".format(result.rsquared))\n",
    "print(\"mse: {}\".format(eval_measures.mse(y_train, result.fittedvalues)))\n",
    "print(\"rmse: {}\".format(eval_measures.rmse(y_train, result.fittedvalues)))"
   ]
  },
  {
   "cell_type": "markdown",
   "metadata": {},
   "source": [
    "### Full model with an intercept\n"
   ]
  },
  {
   "cell_type": "code",
   "execution_count": 8,
   "metadata": {},
   "outputs": [
    {
     "name": "stdout",
     "output_type": "stream",
     "text": [
      "                            OLS Regression Results                            \n",
      "==============================================================================\n",
      "Dep. Variable:                      y   R-squared:                       0.718\n",
      "Model:                            OLS   Adj. R-squared:                  0.707\n",
      "Method:                 Least Squares   F-statistic:                     66.50\n",
      "Date:                Sat, 20 Feb 2021   Prob (F-statistic):           4.82e-85\n",
      "Time:                        23:49:36   Log-Likelihood:                -1059.4\n",
      "No. Observations:                 354   AIC:                             2147.\n",
      "Df Residuals:                     340   BIC:                             2201.\n",
      "Df Model:                          13                                         \n",
      "Covariance Type:            nonrobust                                         \n",
      "==============================================================================\n",
      "                 coef    std err          t      P>|t|      [0.025      0.975]\n",
      "------------------------------------------------------------------------------\n",
      "const         38.2050      6.122      6.241      0.000      26.164      50.246\n",
      "CRIM          -0.0886      0.050     -1.779      0.076      -0.187       0.009\n",
      "ZN             0.0445      0.019      2.402      0.017       0.008       0.081\n",
      "INDUS          0.0327      0.079      0.415      0.679      -0.123       0.188\n",
      "CHAS           2.3014      1.126      2.044      0.042       0.087       4.516\n",
      "NOX          -17.4541      4.722     -3.696      0.000     -26.743      -8.166\n",
      "RM             3.5246      0.523      6.734      0.000       2.495       4.554\n",
      "AGE            0.0035      0.017      0.209      0.834      -0.030       0.037\n",
      "DIS           -1.4219      0.247     -5.746      0.000      -1.909      -0.935\n",
      "RAD            0.3196      0.087      3.691      0.000       0.149       0.490\n",
      "TAX           -0.0131      0.005     -2.617      0.009      -0.023      -0.003\n",
      "PTRATIO       -0.9527      0.167     -5.690      0.000      -1.282      -0.623\n",
      "B              0.0086      0.003      2.597      0.010       0.002       0.015\n",
      "LSTAT         -0.5373      0.063     -8.489      0.000      -0.662      -0.413\n",
      "==============================================================================\n",
      "Omnibus:                      141.016   Durbin-Watson:                   2.054\n",
      "Prob(Omnibus):                  0.000   Jarque-Bera (JB):              648.153\n",
      "Skew:                           1.661   Prob(JB):                    1.80e-141\n",
      "Kurtosis:                       8.736   Cond. No.                     1.47e+04\n",
      "==============================================================================\n",
      "\n",
      "Notes:\n",
      "[1] Standard Errors assume that the covariance matrix of the errors is correctly specified.\n",
      "[2] The condition number is large, 1.47e+04. This might indicate that there are\n",
      "strong multicollinearity or other numerical problems.\n"
     ]
    }
   ],
   "source": [
    "model = sm.OLS(y_train, sm.add_constant(X_train))\n",
    "result = model.fit()\n",
    "print(result.summary())"
   ]
  },
  {
   "cell_type": "code",
   "execution_count": 9,
   "metadata": {},
   "outputs": [
    {
     "data": {
      "image/png": "[encoded data removed]",
      "text/plain": [
       "<Figure size 432x288 with 1 Axes>"
      ]
     },
     "metadata": {
      "needs_background": "light"
     },
     "output_type": "display_data"
    }
   ],
   "source": [
    "fig = sm.qqplot(result.resid, fit=True, line=\"s\")\n",
    "plt.show()"
   ]
  },
  {
   "cell_type": "code",
   "execution_count": 10,
   "metadata": {},
   "outputs": [
    {
     "name": "stdout",
     "output_type": "stream",
     "text": [
      "rsquared: 0.7177180199132047\n",
      "mse: 23.27786907041852\n",
      "rmse: 4.824714402989935\n"
     ]
    }
   ],
   "source": [
    "print(\"rsquared: {}\".format(result.rsquared))\n",
    "print(\"mse: {}\".format(eval_measures.mse(y_train, result.fittedvalues)))\n",
    "print(\"rmse: {}\".format(eval_measures.rmse(y_train, result.fittedvalues)))"
   ]
  },
  {
   "cell_type": "markdown",
   "metadata": {},
   "source": [
    "## Fitting models using R-style formulas\n",
    "We can also fit a model with the R syntax `y ~ x_1 + x_2` and build some complexer models."
   ]
  },
  {
   "cell_type": "code",
   "execution_count": 11,
   "metadata": {},
   "outputs": [
    {
     "data": {
      "text/html": [
       "<div>\n",
       "<style scoped>\n",
       "    .dataframe tbody tr th:only-of-type {\n",
       "        vertical-align: middle;\n",
       "    }\n",
       "\n",
       "    .dataframe tbody tr th {\n",
       "        vertical-align: top;\n",
       "    }\n",
       "\n",
       "    .dataframe thead th {\n",
       "        text-align: right;\n",
       "    }\n",
       "</style>\n",
       "<table border=\"1\" class=\"dataframe\">\n",
       "  <thead>\n",
       "    <tr style=\"text-align: right;\">\n",
       "      <th></th>\n",
       "      <th>CRIM</th>\n",
       "      <th>ZN</th>\n",
       "      <th>INDUS</th>\n",
       "      <th>CHAS</th>\n",
       "      <th>NOX</th>\n",
       "      <th>RM</th>\n",
       "      <th>AGE</th>\n",
       "      <th>DIS</th>\n",
       "      <th>RAD</th>\n",
       "      <th>TAX</th>\n",
       "      <th>PTRATIO</th>\n",
       "      <th>B</th>\n",
       "      <th>LSTAT</th>\n",
       "      <th>MEDV</th>\n",
       "    </tr>\n",
       "  </thead>\n",
       "  <tbody>\n",
       "    <tr>\n",
       "      <th>242</th>\n",
       "      <td>0.10290</td>\n",
       "      <td>30.0</td>\n",
       "      <td>4.93</td>\n",
       "      <td>0.0</td>\n",
       "      <td>0.428</td>\n",
       "      <td>6.358</td>\n",
       "      <td>52.9</td>\n",
       "      <td>7.0355</td>\n",
       "      <td>6.0</td>\n",
       "      <td>300.0</td>\n",
       "      <td>16.6</td>\n",
       "      <td>372.75</td>\n",
       "      <td>11.22</td>\n",
       "      <td>22.2</td>\n",
       "    </tr>\n",
       "    <tr>\n",
       "      <th>97</th>\n",
       "      <td>0.12083</td>\n",
       "      <td>0.0</td>\n",
       "      <td>2.89</td>\n",
       "      <td>0.0</td>\n",
       "      <td>0.445</td>\n",
       "      <td>8.069</td>\n",
       "      <td>76.0</td>\n",
       "      <td>3.4952</td>\n",
       "      <td>2.0</td>\n",
       "      <td>276.0</td>\n",
       "      <td>18.0</td>\n",
       "      <td>396.90</td>\n",
       "      <td>4.21</td>\n",
       "      <td>38.7</td>\n",
       "    </tr>\n",
       "    <tr>\n",
       "      <th>481</th>\n",
       "      <td>5.70818</td>\n",
       "      <td>0.0</td>\n",
       "      <td>18.10</td>\n",
       "      <td>0.0</td>\n",
       "      <td>0.532</td>\n",
       "      <td>6.750</td>\n",
       "      <td>74.9</td>\n",
       "      <td>3.3317</td>\n",
       "      <td>24.0</td>\n",
       "      <td>666.0</td>\n",
       "      <td>20.2</td>\n",
       "      <td>393.07</td>\n",
       "      <td>7.74</td>\n",
       "      <td>23.7</td>\n",
       "    </tr>\n",
       "    <tr>\n",
       "      <th>432</th>\n",
       "      <td>6.44405</td>\n",
       "      <td>0.0</td>\n",
       "      <td>18.10</td>\n",
       "      <td>0.0</td>\n",
       "      <td>0.584</td>\n",
       "      <td>6.425</td>\n",
       "      <td>74.8</td>\n",
       "      <td>2.2004</td>\n",
       "      <td>24.0</td>\n",
       "      <td>666.0</td>\n",
       "      <td>20.2</td>\n",
       "      <td>97.95</td>\n",
       "      <td>12.03</td>\n",
       "      <td>16.1</td>\n",
       "    </tr>\n",
       "    <tr>\n",
       "      <th>214</th>\n",
       "      <td>0.28955</td>\n",
       "      <td>0.0</td>\n",
       "      <td>10.59</td>\n",
       "      <td>0.0</td>\n",
       "      <td>0.489</td>\n",
       "      <td>5.412</td>\n",
       "      <td>9.8</td>\n",
       "      <td>3.5875</td>\n",
       "      <td>4.0</td>\n",
       "      <td>277.0</td>\n",
       "      <td>18.6</td>\n",
       "      <td>348.93</td>\n",
       "      <td>29.55</td>\n",
       "      <td>23.7</td>\n",
       "    </tr>\n",
       "  </tbody>\n",
       "</table>\n",
       "</div>"
      ],
      "text/plain": [
       "        CRIM    ZN  INDUS  CHAS    NOX     RM   AGE     DIS   RAD    TAX  \\\n",
       "242  0.10290  30.0   4.93   0.0  0.428  6.358  52.9  7.0355   6.0  300.0   \n",
       "97   0.12083   0.0   2.89   0.0  0.445  8.069  76.0  3.4952   2.0  276.0   \n",
       "481  5.70818   0.0  18.10   0.0  0.532  6.750  74.9  3.3317  24.0  666.0   \n",
       "432  6.44405   0.0  18.10   0.0  0.584  6.425  74.8  2.2004  24.0  666.0   \n",
       "214  0.28955   0.0  10.59   0.0  0.489  5.412   9.8  3.5875   4.0  277.0   \n",
       "\n",
       "     PTRATIO       B  LSTAT  MEDV  \n",
       "242     16.6  372.75  11.22  22.2  \n",
       "97      18.0  396.90   4.21  38.7  \n",
       "481     20.2  393.07   7.74  23.7  \n",
       "432     20.2   97.95  12.03  16.1  \n",
       "214     18.6  348.93  29.55  23.7  "
      ]
     },
     "execution_count": 11,
     "metadata": {},
     "output_type": "execute_result"
    }
   ],
   "source": [
    "dat = X_train.copy()\n",
    "dat['MEDV'] = y_train\n",
    "dat.head()"
   ]
  },
  {
   "cell_type": "markdown",
   "metadata": {},
   "source": [
    "### Full model with an intercept"
   ]
  },
  {
   "cell_type": "code",
   "execution_count": 12,
   "metadata": {},
   "outputs": [
    {
     "name": "stdout",
     "output_type": "stream",
     "text": [
      "                            OLS Regression Results                            \n",
      "==============================================================================\n",
      "Dep. Variable:                   MEDV   R-squared:                       0.658\n",
      "Model:                            OLS   Adj. R-squared:                  0.646\n",
      "Method:                 Least Squares   F-statistic:                     54.65\n",
      "Date:                Sat, 20 Feb 2021   Prob (F-statistic):           6.18e-72\n",
      "Time:                        23:49:36   Log-Likelihood:                -1093.4\n",
      "No. Observations:                 354   AIC:                             2213.\n",
      "Df Residuals:                     341   BIC:                             2263.\n",
      "Df Model:                          12                                         \n",
      "Covariance Type:            nonrobust                                         \n",
      "==============================================================================\n",
      "                 coef    std err          t      P>|t|      [0.025      0.975]\n",
      "------------------------------------------------------------------------------\n",
      "Intercept     23.8196      6.466      3.684      0.000      11.101      36.539\n",
      "CRIM          -0.1628      0.054     -3.020      0.003      -0.269      -0.057\n",
      "ZN             0.0381      0.020      1.874      0.062      -0.002       0.078\n",
      "INDUS       1.827e-05      0.087      0.000      1.000      -0.170       0.170\n",
      "CHAS           2.6636      1.237      2.154      0.032       0.231       5.096\n",
      "NOX          -22.5106      5.150     -4.371      0.000     -32.640     -12.382\n",
      "RM             5.9684      0.481     12.421      0.000       5.023       6.914\n",
      "AGE           -0.0389      0.018     -2.201      0.028      -0.074      -0.004\n",
      "DIS           -1.5642      0.271     -5.763      0.000      -2.098      -1.030\n",
      "RAD            0.3202      0.095      3.365      0.001       0.133       0.507\n",
      "TAX           -0.0143      0.005     -2.598      0.010      -0.025      -0.003\n",
      "PTRATIO       -1.0473      0.184     -5.703      0.000      -1.409      -0.686\n",
      "B              0.0123      0.004      3.394      0.001       0.005       0.019\n",
      "==============================================================================\n",
      "Omnibus:                      204.791   Durbin-Watson:                   1.995\n",
      "Prob(Omnibus):                  0.000   Jarque-Bera (JB):             2051.910\n",
      "Skew:                           2.245   Prob(JB):                         0.00\n",
      "Kurtosis:                      13.907   Cond. No.                     1.45e+04\n",
      "==============================================================================\n",
      "\n",
      "Notes:\n",
      "[1] Standard Errors assume that the covariance matrix of the errors is correctly specified.\n",
      "[2] The condition number is large, 1.45e+04. This might indicate that there are\n",
      "strong multicollinearity or other numerical problems.\n"
     ]
    }
   ],
   "source": [
    "result = smf.ols('MEDV ~ CRIM + ZN + INDUS + CHAS + NOX + RM + AGE + DIS + RAD + TAX + PTRATIO + B', data=dat).fit()\n",
    "print(result.summary())"
   ]
  },
  {
   "cell_type": "code",
   "execution_count": 13,
   "metadata": {},
   "outputs": [
    {
     "data": {
      "image/png": "[encoded data removed]",
      "text/plain": [
       "<Figure size 432x288 with 1 Axes>"
      ]
     },
     "metadata": {
      "needs_background": "light"
     },
     "output_type": "display_data"
    }
   ],
   "source": [
    "fig = sm.qqplot(result.resid, fit=True, line=\"s\")\n",
    "\n",
    "plt.show()"
   ]
  },
  {
   "cell_type": "code",
   "execution_count": 14,
   "metadata": {},
   "outputs": [
    {
     "name": "stdout",
     "output_type": "stream",
     "text": [
      "rsquared: 0.6578853414251402\n",
      "mse: 28.211861865670137\n",
      "rmse: 5.311483960784419\n"
     ]
    }
   ],
   "source": [
    "print(\"rsquared: {}\".format(result.rsquared))\n",
    "print(\"mse: {}\".format(eval_measures.mse(y_train, result.fittedvalues)))\n",
    "print(\"rmse: {}\".format(eval_measures.rmse(y_train, result.fittedvalues)))"
   ]
  },
  {
   "cell_type": "markdown",
   "metadata": {},
   "source": [
    "### Model with a polynomial and the target variable log transformed"
   ]
  },
  {
   "cell_type": "code",
   "execution_count": 15,
   "metadata": {},
   "outputs": [
    {
     "name": "stdout",
     "output_type": "stream",
     "text": [
      "                            OLS Regression Results                            \n",
      "==============================================================================\n",
      "Dep. Variable:           np.log(MEDV)   R-squared:                       0.688\n",
      "Model:                            OLS   Adj. R-squared:                  0.679\n",
      "Method:                 Least Squares   F-statistic:                     75.59\n",
      "Date:                Sat, 20 Feb 2021   Prob (F-statistic):           1.65e-80\n",
      "Time:                        23:49:36   Log-Likelihood:                 20.427\n",
      "No. Observations:                 354   AIC:                            -18.85\n",
      "Df Residuals:                     343   BIC:                             23.71\n",
      "Df Model:                          10                                         \n",
      "Covariance Type:            nonrobust                                         \n",
      "===============================================================================\n",
      "                  coef    std err          t      P>|t|      [0.025      0.975]\n",
      "-------------------------------------------------------------------------------\n",
      "Intercept       3.3940      0.277     12.257      0.000       2.849       3.939\n",
      "CRIM           -0.0166      0.002     -7.201      0.000      -0.021      -0.012\n",
      "CHAS            0.1140      0.053      2.164      0.031       0.010       0.218\n",
      "NOX            -1.0435      0.214     -4.883      0.000      -1.464      -0.623\n",
      "RM              0.2112      0.020     10.505      0.000       0.172       0.251\n",
      "DIS            -0.0486      0.010     -4.865      0.000      -0.068      -0.029\n",
      "RAD             0.0166      0.004      4.265      0.000       0.009       0.024\n",
      "TAX            -0.0007      0.000     -3.418      0.001      -0.001      -0.000\n",
      "PTRATIO        -0.0459      0.007     -6.402      0.000      -0.060      -0.032\n",
      "B               0.0005      0.000      3.256      0.001       0.000       0.001\n",
      "pow(AGE, 2) -1.432e-05   6.27e-06     -2.284      0.023   -2.67e-05   -1.99e-06\n",
      "==============================================================================\n",
      "Omnibus:                       91.525   Durbin-Watson:                   1.991\n",
      "Prob(Omnibus):                  0.000   Jarque-Bera (JB):              612.384\n",
      "Skew:                           0.888   Prob(JB):                    1.05e-133\n",
      "Kurtosis:                       9.194   Cond. No.                     1.70e+05\n",
      "==============================================================================\n",
      "\n",
      "Notes:\n",
      "[1] Standard Errors assume that the covariance matrix of the errors is correctly specified.\n",
      "[2] The condition number is large, 1.7e+05. This might indicate that there are\n",
      "strong multicollinearity or other numerical problems.\n"
     ]
    }
   ],
   "source": [
    "result = smf.ols('np.log(MEDV) ~ CRIM + CHAS + NOX + RM + DIS + RAD + TAX + PTRATIO + B + pow(AGE, 2)', data=dat).fit()\n",
    "print(result.summary())"
   ]
  },
  {
   "cell_type": "markdown",
   "metadata": {},
   "source": [
    "Let's plot the QQ-Plot for the residuals"
   ]
  },
  {
   "cell_type": "code",
   "execution_count": 16,
   "metadata": {},
   "outputs": [
    {
     "data": {
      "text/plain": [
       "Intercept      True\n",
       "CRIM           True\n",
       "CHAS           True\n",
       "NOX            True\n",
       "RM             True\n",
       "DIS            True\n",
       "RAD            True\n",
       "TAX            True\n",
       "PTRATIO        True\n",
       "B              True\n",
       "pow(AGE, 2)    True\n",
       "dtype: bool"
      ]
     },
     "execution_count": 16,
     "metadata": {},
     "output_type": "execute_result"
    }
   ],
   "source": [
    "result.pvalues < 0.05"
   ]
  },
  {
   "cell_type": "code",
   "execution_count": 17,
   "metadata": {},
   "outputs": [
    {
     "name": "stdout",
     "output_type": "stream",
     "text": [
      "rsquared: 0.687856214760986\n",
      "mse: 0.052168229658311936\n",
      "rmse: 0.2284036550896503\n"
     ]
    }
   ],
   "source": [
    "print(\"rsquared: {}\".format(result.rsquared))\n",
    "print(\"mse: {}\".format(eval_measures.mse(np.log(y_train), result.fittedvalues)))\n",
    "print(\"rmse: {}\".format(eval_measures.rmse(np.log(y_train), result.fittedvalues)))"
   ]
  },
  {
   "cell_type": "code",
   "execution_count": 18,
   "metadata": {},
   "outputs": [
    {
     "data": {
      "image/png": "[encoded data removed]",
      "text/plain": [
       "<Figure size 432x288 with 1 Axes>"
      ]
     },
     "metadata": {
      "needs_background": "light"
     },
     "output_type": "display_data"
    }
   ],
   "source": [
    "fig = sm.qqplot(result.resid, fit=True, line=\"q\")\n",
    "plt.show()"
   ]
  }
 ],
 "metadata": {
  "kernelspec": {
   "display_name": "Python 3",
   "language": "python",
   "name": "python3"
  },
  "language_info": {
   "codemirror_mode": {
    "name": "ipython",
    "version": 3
   },
   "file_extension": ".py",
   "mimetype": "text/x-python",
   "name": "python",
   "nbconvert_exporter": "python",
   "pygments_lexer": "ipython3",
   "version": "3.8.5"
  }
 },
 "nbformat": 4,
 "nbformat_minor": 4
}
