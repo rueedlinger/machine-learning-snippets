{
 "cells": [
  {
   "cell_type": "markdown",
   "metadata": {},
   "source": [
    "## Multiple Linear Regression with statsmodels"
   ]
  },
  {
   "cell_type": "code",
   "execution_count": 15,
   "metadata": {},
   "outputs": [],
   "source": [
    "import statsmodels.api as sm\n",
    "import statsmodels.formula.api as smf\n",
    "import pandas as pd\n",
    "\n",
    "from sklearn import datasets, model_selection\n"
   ]
  },
  {
   "cell_type": "code",
   "execution_count": 16,
   "metadata": {},
   "outputs": [],
   "source": [
    "boston = datasets.load_boston()\n",
    "\n",
    "X = pd.DataFrame(boston.data, columns=boston.feature_names)\n",
    "y = boston.target\n"
   ]
  },
  {
   "cell_type": "code",
   "execution_count": 17,
   "metadata": {},
   "outputs": [
    {
     "name": "stderr",
     "output_type": "stream",
     "text": [
      "/opt/conda/lib/python3.6/site-packages/sklearn/model_selection/_split.py:2010: FutureWarning: From version 0.21, test_size will always complement train_size unless both are specified.\n",
      "  FutureWarning)\n"
     ]
    }
   ],
   "source": [
    "X_train, X_test, y_train, y_test = model_selection.train_test_split(X, y, train_size=0.7)"
   ]
  },
  {
   "cell_type": "code",
   "execution_count": 18,
   "metadata": {},
   "outputs": [
    {
     "name": "stdout",
     "output_type": "stream",
     "text": [
      "                            OLS Regression Results                            \n",
      "==============================================================================\n",
      "Dep. Variable:                      y   R-squared:                       0.767\n",
      "Model:                            OLS   Adj. R-squared:                  0.758\n",
      "Method:                 Least Squares   F-statistic:                     86.20\n",
      "Date:                Sat, 30 Sep 2017   Prob (F-statistic):           4.05e-99\n",
      "Time:                        18:19:02   Log-Likelihood:                -998.34\n",
      "No. Observations:                 354   AIC:                             2025.\n",
      "Df Residuals:                     340   BIC:                             2079.\n",
      "Df Model:                          13                                         \n",
      "Covariance Type:            nonrobust                                         \n",
      "==============================================================================\n",
      "                 coef    std err          t      P>|t|      [0.025      0.975]\n",
      "------------------------------------------------------------------------------\n",
      "const         29.7434      5.252      5.663      0.000      19.412      40.075\n",
      "CRIM          -0.1377      0.037     -3.726      0.000      -0.210      -0.065\n",
      "ZN             0.0400      0.014      2.834      0.005       0.012       0.068\n",
      "INDUS         -0.0342      0.065     -0.524      0.601      -0.163       0.094\n",
      "CHAS           1.5077      0.911      1.655      0.099      -0.284       3.299\n",
      "NOX          -10.4760      4.076     -2.570      0.011     -18.493      -2.459\n",
      "RM             3.8722      0.443      8.748      0.000       3.002       4.743\n",
      "AGE           -0.0079      0.014     -0.567      0.571      -0.035       0.019\n",
      "DIS           -1.1816      0.203     -5.827      0.000      -1.580      -0.783\n",
      "RAD            0.2712      0.071      3.843      0.000       0.132       0.410\n",
      "TAX           -0.0141      0.004     -3.529      0.000      -0.022      -0.006\n",
      "PTRATIO       -0.7972      0.136     -5.879      0.000      -1.064      -0.530\n",
      "B              0.0085      0.003      3.077      0.002       0.003       0.014\n",
      "LSTAT         -0.4656      0.056     -8.297      0.000      -0.576      -0.355\n",
      "==============================================================================\n",
      "Omnibus:                      138.142   Durbin-Watson:                   2.161\n",
      "Prob(Omnibus):                  0.000   Jarque-Bera (JB):              795.610\n",
      "Skew:                           1.532   Prob(JB):                    1.72e-173\n",
      "Kurtosis:                       9.675   Cond. No.                     1.51e+04\n",
      "==============================================================================\n",
      "\n",
      "Warnings:\n",
      "[1] Standard Errors assume that the covariance matrix of the errors is correctly specified.\n",
      "[2] The condition number is large, 1.51e+04. This might indicate that there are\n",
      "strong multicollinearity or other numerical problems.\n"
     ]
    }
   ],
   "source": [
    "model = sm.OLS(y_train, sm.add_constant(X_train))\n",
    "res = model.fit()\n",
    "\n",
    "print(res.summary())"
   ]
  },
  {
   "cell_type": "code",
   "execution_count": 19,
   "metadata": {},
   "outputs": [
    {
     "data": {
      "text/plain": [
       "const      3.172061e-08\n",
       "CRIM       2.277476e-04\n",
       "ZN         4.867809e-03\n",
       "INDUS      6.008156e-01\n",
       "CHAS       9.875179e-02\n",
       "NOX        1.058637e-02\n",
       "RM         1.024719e-16\n",
       "AGE        5.710887e-01\n",
       "DIS        1.308529e-08\n",
       "RAD        1.452952e-04\n",
       "TAX        4.738253e-04\n",
       "PTRATIO    9.851339e-09\n",
       "B          2.262158e-03\n",
       "LSTAT      2.526541e-15\n",
       "dtype: float64"
      ]
     },
     "execution_count": 19,
     "metadata": {},
     "output_type": "execute_result"
    }
   ],
   "source": [
    "res.pvalues"
   ]
  },
  {
   "cell_type": "code",
   "execution_count": 20,
   "metadata": {},
   "outputs": [
    {
     "data": {
      "text/plain": [
       "const       True\n",
       "CRIM        True\n",
       "ZN          True\n",
       "INDUS      False\n",
       "CHAS       False\n",
       "NOX         True\n",
       "RM          True\n",
       "AGE        False\n",
       "DIS         True\n",
       "RAD         True\n",
       "TAX         True\n",
       "PTRATIO     True\n",
       "B           True\n",
       "LSTAT       True\n",
       "dtype: bool"
      ]
     },
     "execution_count": 20,
     "metadata": {},
     "output_type": "execute_result"
    }
   ],
   "source": [
    "res.pvalues < 0.05"
   ]
  },
  {
   "cell_type": "code",
   "execution_count": 21,
   "metadata": {},
   "outputs": [
    {
     "data": {
      "text/html": [
       "<div>\n",
       "<style>\n",
       "    .dataframe thead tr:only-child th {\n",
       "        text-align: right;\n",
       "    }\n",
       "\n",
       "    .dataframe thead th {\n",
       "        text-align: left;\n",
       "    }\n",
       "\n",
       "    .dataframe tbody tr th {\n",
       "        vertical-align: top;\n",
       "    }\n",
       "</style>\n",
       "<table border=\"1\" class=\"dataframe\">\n",
       "  <thead>\n",
       "    <tr style=\"text-align: right;\">\n",
       "      <th></th>\n",
       "      <th>CRIM</th>\n",
       "      <th>ZN</th>\n",
       "      <th>INDUS</th>\n",
       "      <th>CHAS</th>\n",
       "      <th>NOX</th>\n",
       "      <th>RM</th>\n",
       "      <th>AGE</th>\n",
       "      <th>DIS</th>\n",
       "      <th>RAD</th>\n",
       "      <th>TAX</th>\n",
       "      <th>PTRATIO</th>\n",
       "      <th>B</th>\n",
       "      <th>LSTAT</th>\n",
       "      <th>PRICE</th>\n",
       "    </tr>\n",
       "  </thead>\n",
       "  <tbody>\n",
       "    <tr>\n",
       "      <th>28</th>\n",
       "      <td>0.77299</td>\n",
       "      <td>0.0</td>\n",
       "      <td>8.14</td>\n",
       "      <td>0.0</td>\n",
       "      <td>0.538</td>\n",
       "      <td>6.495</td>\n",
       "      <td>94.4</td>\n",
       "      <td>4.4547</td>\n",
       "      <td>4.0</td>\n",
       "      <td>307.0</td>\n",
       "      <td>21.0</td>\n",
       "      <td>387.94</td>\n",
       "      <td>12.80</td>\n",
       "      <td>18.4</td>\n",
       "    </tr>\n",
       "    <tr>\n",
       "      <th>59</th>\n",
       "      <td>0.10328</td>\n",
       "      <td>25.0</td>\n",
       "      <td>5.13</td>\n",
       "      <td>0.0</td>\n",
       "      <td>0.453</td>\n",
       "      <td>5.927</td>\n",
       "      <td>47.2</td>\n",
       "      <td>6.9320</td>\n",
       "      <td>8.0</td>\n",
       "      <td>284.0</td>\n",
       "      <td>19.7</td>\n",
       "      <td>396.90</td>\n",
       "      <td>9.22</td>\n",
       "      <td>19.6</td>\n",
       "    </tr>\n",
       "    <tr>\n",
       "      <th>265</th>\n",
       "      <td>0.76162</td>\n",
       "      <td>20.0</td>\n",
       "      <td>3.97</td>\n",
       "      <td>0.0</td>\n",
       "      <td>0.647</td>\n",
       "      <td>5.560</td>\n",
       "      <td>62.8</td>\n",
       "      <td>1.9865</td>\n",
       "      <td>5.0</td>\n",
       "      <td>264.0</td>\n",
       "      <td>13.0</td>\n",
       "      <td>392.40</td>\n",
       "      <td>10.45</td>\n",
       "      <td>22.8</td>\n",
       "    </tr>\n",
       "    <tr>\n",
       "      <th>208</th>\n",
       "      <td>0.13587</td>\n",
       "      <td>0.0</td>\n",
       "      <td>10.59</td>\n",
       "      <td>1.0</td>\n",
       "      <td>0.489</td>\n",
       "      <td>6.064</td>\n",
       "      <td>59.1</td>\n",
       "      <td>4.2392</td>\n",
       "      <td>4.0</td>\n",
       "      <td>277.0</td>\n",
       "      <td>18.6</td>\n",
       "      <td>381.32</td>\n",
       "      <td>14.66</td>\n",
       "      <td>24.4</td>\n",
       "    </tr>\n",
       "    <tr>\n",
       "      <th>483</th>\n",
       "      <td>2.81838</td>\n",
       "      <td>0.0</td>\n",
       "      <td>18.10</td>\n",
       "      <td>0.0</td>\n",
       "      <td>0.532</td>\n",
       "      <td>5.762</td>\n",
       "      <td>40.3</td>\n",
       "      <td>4.0983</td>\n",
       "      <td>24.0</td>\n",
       "      <td>666.0</td>\n",
       "      <td>20.2</td>\n",
       "      <td>392.92</td>\n",
       "      <td>10.42</td>\n",
       "      <td>21.8</td>\n",
       "    </tr>\n",
       "  </tbody>\n",
       "</table>\n",
       "</div>"
      ],
      "text/plain": [
       "        CRIM    ZN  INDUS  CHAS    NOX     RM   AGE     DIS   RAD    TAX  \\\n",
       "28   0.77299   0.0   8.14   0.0  0.538  6.495  94.4  4.4547   4.0  307.0   \n",
       "59   0.10328  25.0   5.13   0.0  0.453  5.927  47.2  6.9320   8.0  284.0   \n",
       "265  0.76162  20.0   3.97   0.0  0.647  5.560  62.8  1.9865   5.0  264.0   \n",
       "208  0.13587   0.0  10.59   1.0  0.489  6.064  59.1  4.2392   4.0  277.0   \n",
       "483  2.81838   0.0  18.10   0.0  0.532  5.762  40.3  4.0983  24.0  666.0   \n",
       "\n",
       "     PTRATIO       B  LSTAT  PRICE  \n",
       "28      21.0  387.94  12.80   18.4  \n",
       "59      19.7  396.90   9.22   19.6  \n",
       "265     13.0  392.40  10.45   22.8  \n",
       "208     18.6  381.32  14.66   24.4  \n",
       "483     20.2  392.92  10.42   21.8  "
      ]
     },
     "execution_count": 21,
     "metadata": {},
     "output_type": "execute_result"
    }
   ],
   "source": [
    "dat = X_train.copy()\n",
    "dat['PRICE'] = y_train\n",
    "dat.head()"
   ]
  },
  {
   "cell_type": "code",
   "execution_count": 22,
   "metadata": {},
   "outputs": [
    {
     "name": "stdout",
     "output_type": "stream",
     "text": [
      "                            OLS Regression Results                            \n",
      "==============================================================================\n",
      "Dep. Variable:                  PRICE   R-squared:                       0.699\n",
      "Model:                            OLS   Adj. R-squared:                  0.690\n",
      "Method:                 Least Squares   F-statistic:                     79.49\n",
      "Date:                Sat, 30 Sep 2017   Prob (F-statistic):           4.42e-83\n",
      "Time:                        18:19:02   Log-Likelihood:                -1044.1\n",
      "No. Observations:                 354   AIC:                             2110.\n",
      "Df Residuals:                     343   BIC:                             2153.\n",
      "Df Model:                          10                                         \n",
      "Covariance Type:            nonrobust                                         \n",
      "==============================================================================\n",
      "                 coef    std err          t      P>|t|      [0.025      0.975]\n",
      "------------------------------------------------------------------------------\n",
      "Intercept     13.4544      5.609      2.399      0.017       2.421      24.488\n",
      "CRIM          -0.1872      0.041     -4.524      0.000      -0.269      -0.106\n",
      "ZN             0.0301      0.015      1.960      0.051      -0.000       0.060\n",
      "INDUS         -0.2077      0.068     -3.074      0.002      -0.341      -0.075\n",
      "CHAS           2.1516      1.022      2.104      0.036       0.141       4.163\n",
      "NOX          -18.2292      4.379     -4.162      0.000     -26.843      -9.615\n",
      "RM             5.8921      0.428     13.761      0.000       5.050       6.734\n",
      "DIS           -1.0514      0.221     -4.753      0.000      -1.486      -0.616\n",
      "RAD            0.0806      0.049      1.655      0.099      -0.015       0.176\n",
      "PTRATIO       -0.9318      0.152     -6.135      0.000      -1.231      -0.633\n",
      "B              0.0130      0.003      4.202      0.000       0.007       0.019\n",
      "==============================================================================\n",
      "Omnibus:                      143.438   Durbin-Watson:                   2.113\n",
      "Prob(Omnibus):                  0.000   Jarque-Bera (JB):              993.358\n",
      "Skew:                           1.533   Prob(JB):                    1.97e-216\n",
      "Kurtosis:                      10.613   Cond. No.                     9.64e+03\n",
      "==============================================================================\n",
      "\n",
      "Warnings:\n",
      "[1] Standard Errors assume that the covariance matrix of the errors is correctly specified.\n",
      "[2] The condition number is large, 9.64e+03. This might indicate that there are\n",
      "strong multicollinearity or other numerical problems.\n"
     ]
    }
   ],
   "source": [
    "results = smf.ols('PRICE ~ CRIM + ZN + INDUS + CHAS + NOX + RM + DIS + RAD + PTRATIO + B', data=dat).fit()\n",
    "print(results.summary())"
   ]
  },
  {
   "cell_type": "code",
   "execution_count": 23,
   "metadata": {},
   "outputs": [
    {
     "name": "stdout",
     "output_type": "stream",
     "text": [
      "                            OLS Regression Results                            \n",
      "==============================================================================\n",
      "Dep. Variable:                  PRICE   R-squared:                       0.280\n",
      "Model:                            OLS   Adj. R-squared:                  0.276\n",
      "Method:                 Least Squares   F-statistic:                     68.41\n",
      "Date:                Sat, 30 Sep 2017   Prob (F-statistic):           8.18e-26\n",
      "Time:                        18:19:02   Log-Likelihood:                -1198.1\n",
      "No. Observations:                 354   AIC:                             2402.\n",
      "Df Residuals:                     351   BIC:                             2414.\n",
      "Df Model:                           2                                         \n",
      "Covariance Type:            nonrobust                                         \n",
      "==============================================================================\n",
      "                 coef    std err          t      P>|t|      [0.025      0.975]\n",
      "------------------------------------------------------------------------------\n",
      "Intercept     21.7449      0.474     45.844      0.000      20.812      22.678\n",
      "CRIM          -0.3583      0.049     -7.367      0.000      -0.454      -0.263\n",
      "ZN             0.1166      0.016      7.333      0.000       0.085       0.148\n",
      "==============================================================================\n",
      "Omnibus:                      114.831   Durbin-Watson:                   1.917\n",
      "Prob(Omnibus):                  0.000   Jarque-Bera (JB):              310.219\n",
      "Skew:                           1.540   Prob(JB):                     4.33e-68\n",
      "Kurtosis:                       6.398   Cond. No.                         34.2\n",
      "==============================================================================\n",
      "\n",
      "Warnings:\n",
      "[1] Standard Errors assume that the covariance matrix of the errors is correctly specified.\n"
     ]
    }
   ],
   "source": [
    "results = smf.ols('PRICE ~ CRIM + ZN', data=dat).fit()\n",
    "print(results.summary())"
   ]
  }
 ],
 "metadata": {
  "kernelspec": {
   "display_name": "Python 3",
   "language": "python",
   "name": "python3"
  },
  "language_info": {
   "codemirror_mode": {
    "name": "ipython",
    "version": 3
   },
   "file_extension": ".py",
   "mimetype": "text/x-python",
   "name": "python",
   "nbconvert_exporter": "python",
   "pygments_lexer": "ipython3",
   "version": "3.6.1"
  }
 },
 "nbformat": 4,
 "nbformat_minor": 2
}
