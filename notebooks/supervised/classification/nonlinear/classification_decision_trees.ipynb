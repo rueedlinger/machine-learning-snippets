{
 "cells": [
  {
   "cell_type": "markdown",
   "id": "ideal-dimension",
   "metadata": {},
   "source": [
    "## Classification with decision trees"
   ]
  },
  {
   "cell_type": "code",
   "execution_count": 1,
   "id": "patient-cancellation",
   "metadata": {
    "execution": {
     "iopub.execute_input": "2021-03-09T16:23:00.342973Z",
     "iopub.status.busy": "2021-03-09T16:23:00.342110Z",
     "iopub.status.idle": "2021-03-09T16:23:01.337202Z",
     "shell.execute_reply": "2021-03-09T16:23:01.336634Z"
    },
    "tags": []
   },
   "outputs": [],
   "source": [
    "%matplotlib inline\n",
    "import matplotlib.pyplot as plt\n",
    "import seaborn as sns\n",
    "import pandas as pd\n",
    "import numpy as np\n",
    "import graphviz \n",
    "\n",
    "from sklearn import tree, datasets, metrics, model_selection, preprocessing, pipeline"
   ]
  },
  {
   "cell_type": "markdown",
   "id": "known-failing",
   "metadata": {},
   "source": [
    "Load the data set"
   ]
  },
  {
   "cell_type": "code",
   "execution_count": 2,
   "id": "statewide-columbus",
   "metadata": {
    "execution": {
     "iopub.execute_input": "2021-03-09T16:23:01.343244Z",
     "iopub.status.busy": "2021-03-09T16:23:01.342093Z",
     "iopub.status.idle": "2021-03-09T16:23:01.346641Z",
     "shell.execute_reply": "2021-03-09T16:23:01.346946Z"
    },
    "tags": []
   },
   "outputs": [
    {
     "name": "stdout",
     "output_type": "stream",
     "text": [
      ".. _wine_dataset:\n",
      "\n",
      "Wine recognition dataset\n",
      "------------------------\n",
      "\n",
      "**Data Set Characteristics:**\n",
      "\n",
      "    :Number of Instances: 178 (50 in each of three classes)\n",
      "    :Number of Attributes: 13 numeric, predictive attributes and the class\n",
      "    :Attribute Information:\n",
      " \t\t- Alcohol\n",
      " \t\t- Malic acid\n",
      " \t\t- Ash\n",
      "\t\t- Alcalinity of ash  \n",
      " \t\t- Magnesium\n",
      "\t\t- Total phenols\n",
      " \t\t- Flavanoids\n",
      " \t\t- Nonflavanoid phenols\n",
      " \t\t- Proanthocyanins\n",
      "\t\t- Color intensity\n",
      " \t\t- Hue\n",
      " \t\t- OD280/OD315 of diluted wines\n",
      " \t\t- Proline\n",
      "\n",
      "    - class:\n",
      "            - class_0\n",
      "            - class_1\n",
      "            - class_2\n",
      "\t\t\n",
      "    :Summary Statistics:\n",
      "    \n",
      "    ============================= ==== ===== ======= =====\n",
      "                                   Min   Max   Mean     SD\n",
      "    ============================= ==== ===== ======= =====\n",
      "    Alcohol:                      11.0  14.8    13.0   0.8\n",
      "    Malic Acid:                   0.74  5.80    2.34  1.12\n",
      "    Ash:                          1.36  3.23    2.36  0.27\n",
      "    Alcalinity of Ash:            10.6  30.0    19.5   3.3\n",
      "    Magnesium:                    70.0 162.0    99.7  14.3\n",
      "    Total Phenols:                0.98  3.88    2.29  0.63\n",
      "    Flavanoids:                   0.34  5.08    2.03  1.00\n",
      "    Nonflavanoid Phenols:         0.13  0.66    0.36  0.12\n",
      "    Proanthocyanins:              0.41  3.58    1.59  0.57\n",
      "    Colour Intensity:              1.3  13.0     5.1   2.3\n",
      "    Hue:                          0.48  1.71    0.96  0.23\n",
      "    OD280/OD315 of diluted wines: 1.27  4.00    2.61  0.71\n",
      "    Proline:                       278  1680     746   315\n",
      "    ============================= ==== ===== ======= =====\n",
      "\n",
      "    :Missing Attribute Values: None\n",
      "    :Class Distribution: class_0 (59), class_1 (71), class_2 (48)\n",
      "    :Creator: R.A. Fisher\n",
      "    :Donor: Michael Marshall (MARSHALL%PLU@io.arc.nasa.gov)\n",
      "    :Date: July, 1988\n",
      "\n",
      "This is a copy of UCI ML Wine recognition datasets.\n",
      "https://archive.ics.uci.edu/ml/machine-learning-databases/wine/wine.data\n",
      "\n",
      "The data is the results of a chemical analysis of wines grown in the same\n",
      "region in Italy by three different cultivators. There are thirteen different\n",
      "measurements taken for different constituents found in the three types of\n",
      "wine.\n",
      "\n",
      "Original Owners: \n",
      "\n",
      "Forina, M. et al, PARVUS - \n",
      "An Extendible Package for Data Exploration, Classification and Correlation. \n",
      "Institute of Pharmaceutical and Food Analysis and Technologies,\n",
      "Via Brigata Salerno, 16147 Genoa, Italy.\n",
      "\n",
      "Citation:\n",
      "\n",
      "Lichman, M. (2013). UCI Machine Learning Repository\n",
      "[https://archive.ics.uci.edu/ml]. Irvine, CA: University of California,\n",
      "School of Information and Computer Science. \n",
      "\n",
      ".. topic:: References\n",
      "\n",
      "  (1) S. Aeberhard, D. Coomans and O. de Vel, \n",
      "  Comparison of Classifiers in High Dimensional Settings, \n",
      "  Tech. Rep. no. 92-02, (1992), Dept. of Computer Science and Dept. of  \n",
      "  Mathematics and Statistics, James Cook University of North Queensland. \n",
      "  (Also submitted to Technometrics). \n",
      "\n",
      "  The data was used with many others for comparing various \n",
      "  classifiers. The classes are separable, though only RDA \n",
      "  has achieved 100% correct classification. \n",
      "  (RDA : 100%, QDA 99.4%, LDA 98.9%, 1NN 96.1% (z-transformed data)) \n",
      "  (All results using the leave-one-out technique) \n",
      "\n",
      "  (2) S. Aeberhard, D. Coomans and O. de Vel, \n",
      "  \"THE CLASSIFICATION PERFORMANCE OF RDA\" \n",
      "  Tech. Rep. no. 92-01, (1992), Dept. of Computer Science and Dept. of \n",
      "  Mathematics and Statistics, James Cook University of North Queensland. \n",
      "  (Also submitted to Journal of Chemometrics).\n",
      "\n"
     ]
    }
   ],
   "source": [
    "wine = datasets.load_wine()\n",
    "print(wine.DESCR)"
   ]
  },
  {
   "cell_type": "code",
   "execution_count": 3,
   "id": "controlling-morgan",
   "metadata": {
    "execution": {
     "iopub.execute_input": "2021-03-09T16:23:01.350888Z",
     "iopub.status.busy": "2021-03-09T16:23:01.350169Z",
     "iopub.status.idle": "2021-03-09T16:23:01.352322Z",
     "shell.execute_reply": "2021-03-09T16:23:01.352656Z"
    },
    "tags": []
   },
   "outputs": [],
   "source": [
    "X = pd.DataFrame(wine.data, columns=wine.feature_names)\n",
    "y = wine.target"
   ]
  },
  {
   "cell_type": "markdown",
   "id": "built-playback",
   "metadata": {},
   "source": [
    "Stratify the data by the target label"
   ]
  },
  {
   "cell_type": "code",
   "execution_count": 4,
   "id": "persistent-accommodation",
   "metadata": {
    "execution": {
     "iopub.execute_input": "2021-03-09T16:23:01.357242Z",
     "iopub.status.busy": "2021-03-09T16:23:01.356717Z",
     "iopub.status.idle": "2021-03-09T16:23:01.508334Z",
     "shell.execute_reply": "2021-03-09T16:23:01.507965Z"
    },
    "tags": []
   },
   "outputs": [
    {
     "name": "stdout",
     "output_type": "stream",
     "text": [
      "train samples: 124\n",
      "test samples 54\n"
     ]
    },
    {
     "data": {
      "image/png": "[encoded data removed]",
      "text/plain": [
       "<Figure size 432x288 with 1 Axes>"
      ]
     },
     "metadata": {
      "needs_background": "light"
     },
     "output_type": "display_data"
    }
   ],
   "source": [
    "X_train, X_test, y_train, y_test = model_selection.train_test_split(X, y, train_size=0.7, stratify=y)\n",
    "\n",
    "df_train = pd.DataFrame(y_train, columns=['target'])\n",
    "df_train['type'] = 'train'\n",
    "\n",
    "df_test = pd.DataFrame(y_test, columns=['target'])\n",
    "df_test['type'] = 'test'\n",
    "\n",
    "df_set = df_train.append(df_test)\n",
    "\n",
    "_ = sns.countplot(x='target', hue='type', data=df_set)     \n",
    "\n",
    "print('train samples:', len(X_train))\n",
    "print('test samples', len(X_test))"
   ]
  },
  {
   "cell_type": "code",
   "execution_count": 5,
   "id": "regular-confusion",
   "metadata": {
    "execution": {
     "iopub.execute_input": "2021-03-09T16:23:01.512480Z",
     "iopub.status.busy": "2021-03-09T16:23:01.510821Z",
     "iopub.status.idle": "2021-03-09T16:23:01.516666Z",
     "shell.execute_reply": "2021-03-09T16:23:01.517133Z"
    },
    "tags": []
   },
   "outputs": [
    {
     "data": {
      "text/plain": [
       "DecisionTreeClassifier()"
      ]
     },
     "execution_count": 1,
     "metadata": {},
     "output_type": "execute_result"
    }
   ],
   "source": [
    "model = tree.DecisionTreeClassifier()\n",
    "model.fit(X_train, y_train)"
   ]
  },
  {
   "cell_type": "code",
   "execution_count": 6,
   "id": "another-sleeping",
   "metadata": {
    "execution": {
     "iopub.execute_input": "2021-03-09T16:23:01.524781Z",
     "iopub.status.busy": "2021-03-09T16:23:01.523816Z",
     "iopub.status.idle": "2021-03-09T16:23:01.533435Z",
     "shell.execute_reply": "2021-03-09T16:23:01.532878Z"
    }
   },
   "outputs": [
    {
     "data": {
      "text/html": [
       "<div>\n",
       "<style scoped>\n",
       "    .dataframe tbody tr th:only-of-type {\n",
       "        vertical-align: middle;\n",
       "    }\n",
       "\n",
       "    .dataframe tbody tr th {\n",
       "        vertical-align: top;\n",
       "    }\n",
       "\n",
       "    .dataframe thead th {\n",
       "        text-align: right;\n",
       "    }\n",
       "</style>\n",
       "<table border=\"1\" class=\"dataframe\">\n",
       "  <thead>\n",
       "    <tr style=\"text-align: right;\">\n",
       "      <th>target_truth</th>\n",
       "      <th>0</th>\n",
       "      <th>1</th>\n",
       "      <th>2</th>\n",
       "    </tr>\n",
       "    <tr>\n",
       "      <th>target_predicted</th>\n",
       "      <th></th>\n",
       "      <th></th>\n",
       "      <th></th>\n",
       "    </tr>\n",
       "  </thead>\n",
       "  <tbody>\n",
       "    <tr>\n",
       "      <th>0</th>\n",
       "      <td>16.0</td>\n",
       "      <td>1.0</td>\n",
       "      <td>0.0</td>\n",
       "    </tr>\n",
       "    <tr>\n",
       "      <th>1</th>\n",
       "      <td>2.0</td>\n",
       "      <td>19.0</td>\n",
       "      <td>1.0</td>\n",
       "    </tr>\n",
       "    <tr>\n",
       "      <th>2</th>\n",
       "      <td>0.0</td>\n",
       "      <td>1.0</td>\n",
       "      <td>14.0</td>\n",
       "    </tr>\n",
       "  </tbody>\n",
       "</table>\n",
       "</div>"
      ],
      "text/plain": [
       "target_truth         0     1     2\n",
       "target_predicted                  \n",
       "0                 16.0   1.0   0.0\n",
       "1                  2.0  19.0   1.0\n",
       "2                  0.0   1.0  14.0"
      ]
     },
     "execution_count": 1,
     "metadata": {},
     "output_type": "execute_result"
    }
   ],
   "source": [
    "predicted = model.predict(X_test)\n",
    "\n",
    "truth_table = pd.DataFrame(predicted, columns=['target_predicted'])\n",
    "truth_table['target_truth'] = y_test\n",
    "\n",
    "truth_table = truth_table.groupby(['target_predicted', 'target_truth']).size().unstack().fillna(0)\n",
    "\n",
    "truth_table"
   ]
  },
  {
   "cell_type": "code",
   "execution_count": 7,
   "id": "swedish-wisdom",
   "metadata": {
    "execution": {
     "iopub.execute_input": "2021-03-09T16:23:01.549867Z",
     "iopub.status.busy": "2021-03-09T16:23:01.546728Z",
     "iopub.status.idle": "2021-03-09T16:23:01.713419Z",
     "shell.execute_reply": "2021-03-09T16:23:01.713000Z"
    }
   },
   "outputs": [
    {
     "data": {
      "image/png": "[encoded data removed]",
      "text/plain": [
       "<Figure size 432x288 with 2 Axes>"
      ]
     },
     "metadata": {
      "needs_background": "light"
     },
     "output_type": "display_data"
    }
   ],
   "source": [
    "_ = sns.heatmap(truth_table, annot=True, cmap=\"Blues\")"
   ]
  },
  {
   "cell_type": "code",
   "execution_count": 8,
   "id": "collected-subdivision",
   "metadata": {
    "execution": {
     "iopub.execute_input": "2021-03-09T16:23:01.717753Z",
     "iopub.status.busy": "2021-03-09T16:23:01.717161Z",
     "iopub.status.idle": "2021-03-09T16:23:01.723144Z",
     "shell.execute_reply": "2021-03-09T16:23:01.722760Z"
    },
    "tags": []
   },
   "outputs": [
    {
     "name": "stdout",
     "output_type": "stream",
     "text": [
      "accuracy: 0.907\n",
      "precision: 0.909\n",
      "recall: 0.907\n",
      "f1 score: 0.908\n"
     ]
    }
   ],
   "source": [
    "print(\"accuracy: {:.3f}\".format(metrics.accuracy_score(y_test, predicted)))\n",
    "print(\"precision: {:.3f}\".format(metrics.precision_score(y_test, predicted, average='weighted')))\n",
    "print(\"recall: {:.3f}\".format(metrics.recall_score(y_test, predicted, average='weighted')))\n",
    "print(\"f1 score: {:.3f}\".format(metrics.f1_score(y_test, predicted, average='weighted')))"
   ]
  },
  {
   "cell_type": "code",
   "execution_count": 9,
   "id": "exciting-scheme",
   "metadata": {
    "execution": {
     "iopub.execute_input": "2021-03-09T16:23:01.729385Z",
     "iopub.status.busy": "2021-03-09T16:23:01.728964Z",
     "iopub.status.idle": "2021-03-09T16:23:02.223009Z",
     "shell.execute_reply": "2021-03-09T16:23:02.222458Z"
    }
   },
   "outputs": [
    {
     "data": {
      "image/svg+xml": [
       "<?xml version=\"1.0\" encoding=\"UTF-8\" standalone=\"no\"?>\n",
       "<!DOCTYPE svg PUBLIC \"-//W3C//DTD SVG 1.1//EN\"\n",
       " \"http://www.w3.org/Graphics/SVG/1.1/DTD/svg11.dtd\">\n",
       "<!-- Generated by graphviz version 2.46.1 (20210213.1702)\n",
       " -->\n",
       "<!-- Title: Tree Pages: 1 -->\n",
       "<svg width=\"774pt\" height=\"581pt\"\n",
       " viewBox=\"0.00 0.00 773.50 581.00\" xmlns=\"http://www.w3.org/2000/svg\" xmlns:xlink=\"http://www.w3.org/1999/xlink\">\n",
       "<g id=\"graph0\" class=\"graph\" transform=\"scale(1 1) rotate(0) translate(4 577)\">\n",
       "<title>Tree</title>\n",
       "<polygon fill=\"white\" stroke=\"transparent\" points=\"-4,4 -4,-577 769.5,-577 769.5,4 -4,4\"/>\n",
       "<!-- 0 -->\n",
       "<g id=\"node1\" class=\"node\">\n",
       "<title>0</title>\n",
       "<polygon fill=\"#eafcf1\" stroke=\"black\" points=\"534,-573 408,-573 408,-505 534,-505 534,-573\"/>\n",
       "<text text-anchor=\"middle\" x=\"471\" y=\"-557.8\" font-family=\"Times,serif\" font-size=\"14.00\">proline &lt;= 755.0</text>\n",
       "<text text-anchor=\"middle\" x=\"471\" y=\"-542.8\" font-family=\"Times,serif\" font-size=\"14.00\">gini = 0.657</text>\n",
       "<text text-anchor=\"middle\" x=\"471\" y=\"-527.8\" font-family=\"Times,serif\" font-size=\"14.00\">samples = 124</text>\n",
       "<text text-anchor=\"middle\" x=\"471\" y=\"-512.8\" font-family=\"Times,serif\" font-size=\"14.00\">value = [41, 50, 33]</text>\n",
       "</g>\n",
       "<!-- 1 -->\n",
       "<g id=\"node2\" class=\"node\">\n",
       "<title>1</title>\n",
       "<polygon fill=\"#b5f5d0\" stroke=\"black\" points=\"476.5,-469 233.5,-469 233.5,-401 476.5,-401 476.5,-469\"/>\n",
       "<text text-anchor=\"middle\" x=\"355\" y=\"-453.8\" font-family=\"Times,serif\" font-size=\"14.00\">od280/od315_of_diluted_wines &lt;= 2.115</text>\n",
       "<text text-anchor=\"middle\" x=\"355\" y=\"-438.8\" font-family=\"Times,serif\" font-size=\"14.00\">gini = 0.485</text>\n",
       "<text text-anchor=\"middle\" x=\"355\" y=\"-423.8\" font-family=\"Times,serif\" font-size=\"14.00\">samples = 77</text>\n",
       "<text text-anchor=\"middle\" x=\"355\" y=\"-408.8\" font-family=\"Times,serif\" font-size=\"14.00\">value = [1, 47, 29]</text>\n",
       "</g>\n",
       "<!-- 0&#45;&gt;1 -->\n",
       "<g id=\"edge1\" class=\"edge\">\n",
       "<title>0&#45;&gt;1</title>\n",
       "<path fill=\"none\" stroke=\"black\" d=\"M433.34,-504.88C422.9,-495.71 411.46,-485.65 400.63,-476.12\"/>\n",
       "<polygon fill=\"black\" stroke=\"black\" points=\"402.69,-473.27 392.87,-469.3 398.07,-478.53 402.69,-473.27\"/>\n",
       "<text text-anchor=\"middle\" x=\"394.47\" y=\"-490.55\" font-family=\"Times,serif\" font-size=\"14.00\">True</text>\n",
       "</g>\n",
       "<!-- 14 -->\n",
       "<g id=\"node15\" class=\"node\">\n",
       "<title>14</title>\n",
       "<polygon fill=\"#e99659\" stroke=\"black\" points=\"631,-469 511,-469 511,-401 631,-401 631,-469\"/>\n",
       "<text text-anchor=\"middle\" x=\"571\" y=\"-453.8\" font-family=\"Times,serif\" font-size=\"14.00\">flavanoids &lt;= 2.32</text>\n",
       "<text text-anchor=\"middle\" x=\"571\" y=\"-438.8\" font-family=\"Times,serif\" font-size=\"14.00\">gini = 0.264</text>\n",
       "<text text-anchor=\"middle\" x=\"571\" y=\"-423.8\" font-family=\"Times,serif\" font-size=\"14.00\">samples = 47</text>\n",
       "<text text-anchor=\"middle\" x=\"571\" y=\"-408.8\" font-family=\"Times,serif\" font-size=\"14.00\">value = [40, 3, 4]</text>\n",
       "</g>\n",
       "<!-- 0&#45;&gt;14 -->\n",
       "<g id=\"edge14\" class=\"edge\">\n",
       "<title>0&#45;&gt;14</title>\n",
       "<path fill=\"none\" stroke=\"black\" d=\"M503.47,-504.88C512.29,-495.89 521.94,-486.04 531.12,-476.68\"/>\n",
       "<polygon fill=\"black\" stroke=\"black\" points=\"533.85,-478.89 538.35,-469.3 528.85,-473.99 533.85,-478.89\"/>\n",
       "<text text-anchor=\"middle\" x=\"538.6\" y=\"-490.6\" font-family=\"Times,serif\" font-size=\"14.00\">False</text>\n",
       "</g>\n",
       "<!-- 2 -->\n",
       "<g id=\"node3\" class=\"node\">\n",
       "<title>2</title>\n",
       "<polygon fill=\"#985eea\" stroke=\"black\" points=\"257,-365 111,-365 111,-297 257,-297 257,-365\"/>\n",
       "<text text-anchor=\"middle\" x=\"184\" y=\"-349.8\" font-family=\"Times,serif\" font-size=\"14.00\">color_intensity &lt;= 3.56</text>\n",
       "<text text-anchor=\"middle\" x=\"184\" y=\"-334.8\" font-family=\"Times,serif\" font-size=\"14.00\">gini = 0.264</text>\n",
       "<text text-anchor=\"middle\" x=\"184\" y=\"-319.8\" font-family=\"Times,serif\" font-size=\"14.00\">samples = 32</text>\n",
       "<text text-anchor=\"middle\" x=\"184\" y=\"-304.8\" font-family=\"Times,serif\" font-size=\"14.00\">value = [0, 5, 27]</text>\n",
       "</g>\n",
       "<!-- 1&#45;&gt;2 -->\n",
       "<g id=\"edge2\" class=\"edge\">\n",
       "<title>1&#45;&gt;2</title>\n",
       "<path fill=\"none\" stroke=\"black\" d=\"M299.48,-400.88C283.12,-391.12 265.08,-380.37 248.23,-370.31\"/>\n",
       "<polygon fill=\"black\" stroke=\"black\" points=\"249.91,-367.24 239.53,-365.12 246.33,-373.25 249.91,-367.24\"/>\n",
       "</g>\n",
       "<!-- 7 -->\n",
       "<g id=\"node8\" class=\"node\">\n",
       "<title>7</title>\n",
       "<polygon fill=\"#47e78a\" stroke=\"black\" points=\"418.5,-365 291.5,-365 291.5,-297 418.5,-297 418.5,-365\"/>\n",
       "<text text-anchor=\"middle\" x=\"355\" y=\"-349.8\" font-family=\"Times,serif\" font-size=\"14.00\">flavanoids &lt;= 0.795</text>\n",
       "<text text-anchor=\"middle\" x=\"355\" y=\"-334.8\" font-family=\"Times,serif\" font-size=\"14.00\">gini = 0.126</text>\n",
       "<text text-anchor=\"middle\" x=\"355\" y=\"-319.8\" font-family=\"Times,serif\" font-size=\"14.00\">samples = 45</text>\n",
       "<text text-anchor=\"middle\" x=\"355\" y=\"-304.8\" font-family=\"Times,serif\" font-size=\"14.00\">value = [1, 42, 2]</text>\n",
       "</g>\n",
       "<!-- 1&#45;&gt;7 -->\n",
       "<g id=\"edge7\" class=\"edge\">\n",
       "<title>1&#45;&gt;7</title>\n",
       "<path fill=\"none\" stroke=\"black\" d=\"M355,-400.88C355,-392.78 355,-383.98 355,-375.47\"/>\n",
       "<polygon fill=\"black\" stroke=\"black\" points=\"358.5,-375.3 355,-365.3 351.5,-375.3 358.5,-375.3\"/>\n",
       "</g>\n",
       "<!-- 3 -->\n",
       "<g id=\"node4\" class=\"node\">\n",
       "<title>3</title>\n",
       "<polygon fill=\"#39e581\" stroke=\"black\" points=\"106,-253.5 0,-253.5 0,-200.5 106,-200.5 106,-253.5\"/>\n",
       "<text text-anchor=\"middle\" x=\"53\" y=\"-238.3\" font-family=\"Times,serif\" font-size=\"14.00\">gini = 0.0</text>\n",
       "<text text-anchor=\"middle\" x=\"53\" y=\"-223.3\" font-family=\"Times,serif\" font-size=\"14.00\">samples = 4</text>\n",
       "<text text-anchor=\"middle\" x=\"53\" y=\"-208.3\" font-family=\"Times,serif\" font-size=\"14.00\">value = [0, 4, 0]</text>\n",
       "</g>\n",
       "<!-- 2&#45;&gt;3 -->\n",
       "<g id=\"edge3\" class=\"edge\">\n",
       "<title>2&#45;&gt;3</title>\n",
       "<path fill=\"none\" stroke=\"black\" d=\"M141.47,-296.88C126.21,-285.01 109.06,-271.65 93.94,-259.88\"/>\n",
       "<polygon fill=\"black\" stroke=\"black\" points=\"95.82,-256.9 85.78,-253.52 91.52,-262.43 95.82,-256.9\"/>\n",
       "</g>\n",
       "<!-- 4 -->\n",
       "<g id=\"node5\" class=\"node\">\n",
       "<title>4</title>\n",
       "<polygon fill=\"#8640e6\" stroke=\"black\" points=\"244,-261 124,-261 124,-193 244,-193 244,-261\"/>\n",
       "<text text-anchor=\"middle\" x=\"184\" y=\"-245.8\" font-family=\"Times,serif\" font-size=\"14.00\">flavanoids &lt;= 1.49</text>\n",
       "<text text-anchor=\"middle\" x=\"184\" y=\"-230.8\" font-family=\"Times,serif\" font-size=\"14.00\">gini = 0.069</text>\n",
       "<text text-anchor=\"middle\" x=\"184\" y=\"-215.8\" font-family=\"Times,serif\" font-size=\"14.00\">samples = 28</text>\n",
       "<text text-anchor=\"middle\" x=\"184\" y=\"-200.8\" font-family=\"Times,serif\" font-size=\"14.00\">value = [0, 1, 27]</text>\n",
       "</g>\n",
       "<!-- 2&#45;&gt;4 -->\n",
       "<g id=\"edge4\" class=\"edge\">\n",
       "<title>2&#45;&gt;4</title>\n",
       "<path fill=\"none\" stroke=\"black\" d=\"M184,-296.88C184,-288.78 184,-279.98 184,-271.47\"/>\n",
       "<polygon fill=\"black\" stroke=\"black\" points=\"187.5,-271.3 184,-261.3 180.5,-271.3 187.5,-271.3\"/>\n",
       "</g>\n",
       "<!-- 5 -->\n",
       "<g id=\"node6\" class=\"node\">\n",
       "<title>5</title>\n",
       "<polygon fill=\"#8139e5\" stroke=\"black\" points=\"177.5,-149.5 64.5,-149.5 64.5,-96.5 177.5,-96.5 177.5,-149.5\"/>\n",
       "<text text-anchor=\"middle\" x=\"121\" y=\"-134.3\" font-family=\"Times,serif\" font-size=\"14.00\">gini = 0.0</text>\n",
       "<text text-anchor=\"middle\" x=\"121\" y=\"-119.3\" font-family=\"Times,serif\" font-size=\"14.00\">samples = 27</text>\n",
       "<text text-anchor=\"middle\" x=\"121\" y=\"-104.3\" font-family=\"Times,serif\" font-size=\"14.00\">value = [0, 0, 27]</text>\n",
       "</g>\n",
       "<!-- 4&#45;&gt;5 -->\n",
       "<g id=\"edge5\" class=\"edge\">\n",
       "<title>4&#45;&gt;5</title>\n",
       "<path fill=\"none\" stroke=\"black\" d=\"M163.55,-192.88C156.68,-181.78 149.02,-169.37 142.11,-158.18\"/>\n",
       "<polygon fill=\"black\" stroke=\"black\" points=\"145,-156.19 136.76,-149.52 139.04,-159.87 145,-156.19\"/>\n",
       "</g>\n",
       "<!-- 6 -->\n",
       "<g id=\"node7\" class=\"node\">\n",
       "<title>6</title>\n",
       "<polygon fill=\"#39e581\" stroke=\"black\" points=\"302,-149.5 196,-149.5 196,-96.5 302,-96.5 302,-149.5\"/>\n",
       "<text text-anchor=\"middle\" x=\"249\" y=\"-134.3\" font-family=\"Times,serif\" font-size=\"14.00\">gini = 0.0</text>\n",
       "<text text-anchor=\"middle\" x=\"249\" y=\"-119.3\" font-family=\"Times,serif\" font-size=\"14.00\">samples = 1</text>\n",
       "<text text-anchor=\"middle\" x=\"249\" y=\"-104.3\" font-family=\"Times,serif\" font-size=\"14.00\">value = [0, 1, 0]</text>\n",
       "</g>\n",
       "<!-- 4&#45;&gt;6 -->\n",
       "<g id=\"edge6\" class=\"edge\">\n",
       "<title>4&#45;&gt;6</title>\n",
       "<path fill=\"none\" stroke=\"black\" d=\"M205.1,-192.88C212.18,-181.78 220.09,-169.37 227.22,-158.18\"/>\n",
       "<polygon fill=\"black\" stroke=\"black\" points=\"230.31,-159.83 232.74,-149.52 224.41,-156.07 230.31,-159.83\"/>\n",
       "</g>\n",
       "<!-- 8 -->\n",
       "<g id=\"node9\" class=\"node\">\n",
       "<title>8</title>\n",
       "<polygon fill=\"#8139e5\" stroke=\"black\" points=\"368,-253.5 262,-253.5 262,-200.5 368,-200.5 368,-253.5\"/>\n",
       "<text text-anchor=\"middle\" x=\"315\" y=\"-238.3\" font-family=\"Times,serif\" font-size=\"14.00\">gini = 0.0</text>\n",
       "<text text-anchor=\"middle\" x=\"315\" y=\"-223.3\" font-family=\"Times,serif\" font-size=\"14.00\">samples = 2</text>\n",
       "<text text-anchor=\"middle\" x=\"315\" y=\"-208.3\" font-family=\"Times,serif\" font-size=\"14.00\">value = [0, 0, 2]</text>\n",
       "</g>\n",
       "<!-- 7&#45;&gt;8 -->\n",
       "<g id=\"edge8\" class=\"edge\">\n",
       "<title>7&#45;&gt;8</title>\n",
       "<path fill=\"none\" stroke=\"black\" d=\"M342.01,-296.88C337.74,-286 332.99,-273.86 328.67,-262.85\"/>\n",
       "<polygon fill=\"black\" stroke=\"black\" points=\"331.92,-261.55 325.01,-253.52 325.4,-264.11 331.92,-261.55\"/>\n",
       "</g>\n",
       "<!-- 9 -->\n",
       "<g id=\"node10\" class=\"node\">\n",
       "<title>9</title>\n",
       "<polygon fill=\"#3ee684\" stroke=\"black\" points=\"499.5,-261 386.5,-261 386.5,-193 499.5,-193 499.5,-261\"/>\n",
       "<text text-anchor=\"middle\" x=\"443\" y=\"-245.8\" font-family=\"Times,serif\" font-size=\"14.00\">proline &lt;= 726.5</text>\n",
       "<text text-anchor=\"middle\" x=\"443\" y=\"-230.8\" font-family=\"Times,serif\" font-size=\"14.00\">gini = 0.045</text>\n",
       "<text text-anchor=\"middle\" x=\"443\" y=\"-215.8\" font-family=\"Times,serif\" font-size=\"14.00\">samples = 43</text>\n",
       "<text text-anchor=\"middle\" x=\"443\" y=\"-200.8\" font-family=\"Times,serif\" font-size=\"14.00\">value = [1, 42, 0]</text>\n",
       "</g>\n",
       "<!-- 7&#45;&gt;9 -->\n",
       "<g id=\"edge9\" class=\"edge\">\n",
       "<title>7&#45;&gt;9</title>\n",
       "<path fill=\"none\" stroke=\"black\" d=\"M383.57,-296.88C391.26,-287.98 399.66,-278.24 407.66,-268.96\"/>\n",
       "<polygon fill=\"black\" stroke=\"black\" points=\"410.39,-271.16 414.27,-261.3 405.09,-266.58 410.39,-271.16\"/>\n",
       "</g>\n",
       "<!-- 10 -->\n",
       "<g id=\"node11\" class=\"node\">\n",
       "<title>10</title>\n",
       "<polygon fill=\"#39e581\" stroke=\"black\" points=\"434.5,-149.5 321.5,-149.5 321.5,-96.5 434.5,-96.5 434.5,-149.5\"/>\n",
       "<text text-anchor=\"middle\" x=\"378\" y=\"-134.3\" font-family=\"Times,serif\" font-size=\"14.00\">gini = 0.0</text>\n",
       "<text text-anchor=\"middle\" x=\"378\" y=\"-119.3\" font-family=\"Times,serif\" font-size=\"14.00\">samples = 41</text>\n",
       "<text text-anchor=\"middle\" x=\"378\" y=\"-104.3\" font-family=\"Times,serif\" font-size=\"14.00\">value = [0, 41, 0]</text>\n",
       "</g>\n",
       "<!-- 9&#45;&gt;10 -->\n",
       "<g id=\"edge10\" class=\"edge\">\n",
       "<title>9&#45;&gt;10</title>\n",
       "<path fill=\"none\" stroke=\"black\" d=\"M421.9,-192.88C414.82,-181.78 406.91,-169.37 399.78,-158.18\"/>\n",
       "<polygon fill=\"black\" stroke=\"black\" points=\"402.59,-156.07 394.26,-149.52 396.69,-159.83 402.59,-156.07\"/>\n",
       "</g>\n",
       "<!-- 11 -->\n",
       "<g id=\"node12\" class=\"node\">\n",
       "<title>11</title>\n",
       "<polygon fill=\"#ffffff\" stroke=\"black\" points=\"559,-157 453,-157 453,-89 559,-89 559,-157\"/>\n",
       "<text text-anchor=\"middle\" x=\"506\" y=\"-141.8\" font-family=\"Times,serif\" font-size=\"14.00\">ash &lt;= 2.41</text>\n",
       "<text text-anchor=\"middle\" x=\"506\" y=\"-126.8\" font-family=\"Times,serif\" font-size=\"14.00\">gini = 0.5</text>\n",
       "<text text-anchor=\"middle\" x=\"506\" y=\"-111.8\" font-family=\"Times,serif\" font-size=\"14.00\">samples = 2</text>\n",
       "<text text-anchor=\"middle\" x=\"506\" y=\"-96.8\" font-family=\"Times,serif\" font-size=\"14.00\">value = [1, 1, 0]</text>\n",
       "</g>\n",
       "<!-- 9&#45;&gt;11 -->\n",
       "<g id=\"edge11\" class=\"edge\">\n",
       "<title>9&#45;&gt;11</title>\n",
       "<path fill=\"none\" stroke=\"black\" d=\"M463.45,-192.88C468.74,-184.33 474.49,-175.01 480.01,-166.07\"/>\n",
       "<polygon fill=\"black\" stroke=\"black\" points=\"483.16,-167.65 485.43,-157.3 477.2,-163.97 483.16,-167.65\"/>\n",
       "</g>\n",
       "<!-- 12 -->\n",
       "<g id=\"node13\" class=\"node\">\n",
       "<title>12</title>\n",
       "<polygon fill=\"#39e581\" stroke=\"black\" points=\"497,-53 391,-53 391,0 497,0 497,-53\"/>\n",
       "<text text-anchor=\"middle\" x=\"444\" y=\"-37.8\" font-family=\"Times,serif\" font-size=\"14.00\">gini = 0.0</text>\n",
       "<text text-anchor=\"middle\" x=\"444\" y=\"-22.8\" font-family=\"Times,serif\" font-size=\"14.00\">samples = 1</text>\n",
       "<text text-anchor=\"middle\" x=\"444\" y=\"-7.8\" font-family=\"Times,serif\" font-size=\"14.00\">value = [0, 1, 0]</text>\n",
       "</g>\n",
       "<!-- 11&#45;&gt;12 -->\n",
       "<g id=\"edge12\" class=\"edge\">\n",
       "<title>11&#45;&gt;12</title>\n",
       "<path fill=\"none\" stroke=\"black\" d=\"M484.32,-88.95C478.55,-80.17 472.32,-70.66 466.51,-61.82\"/>\n",
       "<polygon fill=\"black\" stroke=\"black\" points=\"469.3,-59.68 460.89,-53.24 463.44,-63.52 469.3,-59.68\"/>\n",
       "</g>\n",
       "<!-- 13 -->\n",
       "<g id=\"node14\" class=\"node\">\n",
       "<title>13</title>\n",
       "<polygon fill=\"#e58139\" stroke=\"black\" points=\"621,-53 515,-53 515,0 621,0 621,-53\"/>\n",
       "<text text-anchor=\"middle\" x=\"568\" y=\"-37.8\" font-family=\"Times,serif\" font-size=\"14.00\">gini = 0.0</text>\n",
       "<text text-anchor=\"middle\" x=\"568\" y=\"-22.8\" font-family=\"Times,serif\" font-size=\"14.00\">samples = 1</text>\n",
       "<text text-anchor=\"middle\" x=\"568\" y=\"-7.8\" font-family=\"Times,serif\" font-size=\"14.00\">value = [1, 0, 0]</text>\n",
       "</g>\n",
       "<!-- 11&#45;&gt;13 -->\n",
       "<g id=\"edge13\" class=\"edge\">\n",
       "<title>11&#45;&gt;13</title>\n",
       "<path fill=\"none\" stroke=\"black\" d=\"M527.68,-88.95C533.45,-80.17 539.68,-70.66 545.49,-61.82\"/>\n",
       "<polygon fill=\"black\" stroke=\"black\" points=\"548.56,-63.52 551.11,-53.24 542.7,-59.68 548.56,-63.52\"/>\n",
       "</g>\n",
       "<!-- 15 -->\n",
       "<g id=\"node16\" class=\"node\">\n",
       "<title>15</title>\n",
       "<polygon fill=\"#e0cef8\" stroke=\"black\" points=\"634.5,-365 507.5,-365 507.5,-297 634.5,-297 634.5,-365\"/>\n",
       "<text text-anchor=\"middle\" x=\"571\" y=\"-349.8\" font-family=\"Times,serif\" font-size=\"14.00\">flavanoids &lt;= 0.855</text>\n",
       "<text text-anchor=\"middle\" x=\"571\" y=\"-334.8\" font-family=\"Times,serif\" font-size=\"14.00\">gini = 0.49</text>\n",
       "<text text-anchor=\"middle\" x=\"571\" y=\"-319.8\" font-family=\"Times,serif\" font-size=\"14.00\">samples = 7</text>\n",
       "<text text-anchor=\"middle\" x=\"571\" y=\"-304.8\" font-family=\"Times,serif\" font-size=\"14.00\">value = [0, 3, 4]</text>\n",
       "</g>\n",
       "<!-- 14&#45;&gt;15 -->\n",
       "<g id=\"edge15\" class=\"edge\">\n",
       "<title>14&#45;&gt;15</title>\n",
       "<path fill=\"none\" stroke=\"black\" d=\"M571,-400.88C571,-392.78 571,-383.98 571,-375.47\"/>\n",
       "<polygon fill=\"black\" stroke=\"black\" points=\"574.5,-375.3 571,-365.3 567.5,-375.3 574.5,-375.3\"/>\n",
       "</g>\n",
       "<!-- 18 -->\n",
       "<g id=\"node19\" class=\"node\">\n",
       "<title>18</title>\n",
       "<polygon fill=\"#e58139\" stroke=\"black\" points=\"765.5,-357.5 652.5,-357.5 652.5,-304.5 765.5,-304.5 765.5,-357.5\"/>\n",
       "<text text-anchor=\"middle\" x=\"709\" y=\"-342.3\" font-family=\"Times,serif\" font-size=\"14.00\">gini = 0.0</text>\n",
       "<text text-anchor=\"middle\" x=\"709\" y=\"-327.3\" font-family=\"Times,serif\" font-size=\"14.00\">samples = 40</text>\n",
       "<text text-anchor=\"middle\" x=\"709\" y=\"-312.3\" font-family=\"Times,serif\" font-size=\"14.00\">value = [40, 0, 0]</text>\n",
       "</g>\n",
       "<!-- 14&#45;&gt;18 -->\n",
       "<g id=\"edge18\" class=\"edge\">\n",
       "<title>14&#45;&gt;18</title>\n",
       "<path fill=\"none\" stroke=\"black\" d=\"M615.8,-400.88C632.02,-388.9 650.28,-375.4 666.32,-363.55\"/>\n",
       "<polygon fill=\"black\" stroke=\"black\" points=\"668.51,-366.28 674.47,-357.52 664.35,-360.65 668.51,-366.28\"/>\n",
       "</g>\n",
       "<!-- 16 -->\n",
       "<g id=\"node17\" class=\"node\">\n",
       "<title>16</title>\n",
       "<polygon fill=\"#8139e5\" stroke=\"black\" points=\"624,-253.5 518,-253.5 518,-200.5 624,-200.5 624,-253.5\"/>\n",
       "<text text-anchor=\"middle\" x=\"571\" y=\"-238.3\" font-family=\"Times,serif\" font-size=\"14.00\">gini = 0.0</text>\n",
       "<text text-anchor=\"middle\" x=\"571\" y=\"-223.3\" font-family=\"Times,serif\" font-size=\"14.00\">samples = 4</text>\n",
       "<text text-anchor=\"middle\" x=\"571\" y=\"-208.3\" font-family=\"Times,serif\" font-size=\"14.00\">value = [0, 0, 4]</text>\n",
       "</g>\n",
       "<!-- 15&#45;&gt;16 -->\n",
       "<g id=\"edge16\" class=\"edge\">\n",
       "<title>15&#45;&gt;16</title>\n",
       "<path fill=\"none\" stroke=\"black\" d=\"M571,-296.88C571,-286.33 571,-274.6 571,-263.85\"/>\n",
       "<polygon fill=\"black\" stroke=\"black\" points=\"574.5,-263.52 571,-253.52 567.5,-263.52 574.5,-263.52\"/>\n",
       "</g>\n",
       "<!-- 17 -->\n",
       "<g id=\"node18\" class=\"node\">\n",
       "<title>17</title>\n",
       "<polygon fill=\"#39e581\" stroke=\"black\" points=\"748,-253.5 642,-253.5 642,-200.5 748,-200.5 748,-253.5\"/>\n",
       "<text text-anchor=\"middle\" x=\"695\" y=\"-238.3\" font-family=\"Times,serif\" font-size=\"14.00\">gini = 0.0</text>\n",
       "<text text-anchor=\"middle\" x=\"695\" y=\"-223.3\" font-family=\"Times,serif\" font-size=\"14.00\">samples = 3</text>\n",
       "<text text-anchor=\"middle\" x=\"695\" y=\"-208.3\" font-family=\"Times,serif\" font-size=\"14.00\">value = [0, 3, 0]</text>\n",
       "</g>\n",
       "<!-- 15&#45;&gt;17 -->\n",
       "<g id=\"edge17\" class=\"edge\">\n",
       "<title>15&#45;&gt;17</title>\n",
       "<path fill=\"none\" stroke=\"black\" d=\"M611.26,-296.88C625.7,-285.01 641.94,-271.65 656.25,-259.88\"/>\n",
       "<polygon fill=\"black\" stroke=\"black\" points=\"658.48,-262.58 663.98,-253.52 654.03,-257.17 658.48,-262.58\"/>\n",
       "</g>\n",
       "</g>\n",
       "</svg>\n"
      ],
      "text/plain": [
       "<graphviz.files.Source at 0x1296a8640>"
      ]
     },
     "execution_count": 1,
     "metadata": {},
     "output_type": "execute_result"
    }
   ],
   "source": [
    "tree = graphviz.Source(tree.export_graphviz(model, out_file=None, feature_names=wine.feature_names, filled = True))\n",
    "tree"
   ]
  },
  {
   "cell_type": "code",
   "execution_count": null,
   "id": "inappropriate-range",
   "metadata": {},
   "outputs": [],
   "source": []
  }
 ],
 "metadata": {
  "kernelspec": {
   "display_name": "Python 3",
   "language": "python",
   "name": "python3"
  },
  "language_info": {
   "codemirror_mode": {
    "name": "ipython",
    "version": 3
   },
   "file_extension": ".py",
   "mimetype": "text/x-python",
   "name": "python",
   "nbconvert_exporter": "python",
   "pygments_lexer": "ipython3",
   "version": "3.8.5"
  }
 },
 "nbformat": 4,
 "nbformat_minor": 5
}
