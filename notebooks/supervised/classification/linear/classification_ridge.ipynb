{
 "cells": [
  {
   "cell_type": "markdown",
   "id": "heard-shareware",
   "metadata": {},
   "source": [
    "## Classification with ridge regression"
   ]
  },
  {
   "cell_type": "code",
   "execution_count": 1,
   "id": "sapphire-volunteer",
   "metadata": {
    "execution": {
     "iopub.execute_input": "2021-03-09T16:22:43.056349Z",
     "iopub.status.busy": "2021-03-09T16:22:43.055743Z",
     "iopub.status.idle": "2021-03-09T16:22:44.030394Z",
     "shell.execute_reply": "2021-03-09T16:22:44.030746Z"
    },
    "tags": []
   },
   "outputs": [],
   "source": [
    "%matplotlib inline\n",
    "import matplotlib.pyplot as plt\n",
    "import seaborn as sns\n",
    "import pandas as pd\n",
    "import numpy as np\n",
    "\n",
    "from sklearn import linear_model, datasets, metrics, model_selection, preprocessing, pipeline"
   ]
  },
  {
   "cell_type": "markdown",
   "id": "physical-cowboy",
   "metadata": {},
   "source": [
    "Load the data set"
   ]
  },
  {
   "cell_type": "code",
   "execution_count": 2,
   "id": "economic-portugal",
   "metadata": {
    "execution": {
     "iopub.execute_input": "2021-03-09T16:22:44.035028Z",
     "iopub.status.busy": "2021-03-09T16:22:44.034348Z",
     "iopub.status.idle": "2021-03-09T16:22:44.039307Z",
     "shell.execute_reply": "2021-03-09T16:22:44.039776Z"
    },
    "tags": []
   },
   "outputs": [
    {
     "name": "stdout",
     "output_type": "stream",
     "text": [
      ".. _wine_dataset:\n",
      "\n",
      "Wine recognition dataset\n",
      "------------------------\n",
      "\n",
      "**Data Set Characteristics:**\n",
      "\n",
      "    :Number of Instances: 178 (50 in each of three classes)\n",
      "    :Number of Attributes: 13 numeric, predictive attributes and the class\n",
      "    :Attribute Information:\n",
      " \t\t- Alcohol\n",
      " \t\t- Malic acid\n",
      " \t\t- Ash\n",
      "\t\t- Alcalinity of ash  \n",
      " \t\t- Magnesium\n",
      "\t\t- Total phenols\n",
      " \t\t- Flavanoids\n",
      " \t\t- Nonflavanoid phenols\n",
      " \t\t- Proanthocyanins\n",
      "\t\t- Color intensity\n",
      " \t\t- Hue\n",
      " \t\t- OD280/OD315 of diluted wines\n",
      " \t\t- Proline\n",
      "\n",
      "    - class:\n",
      "            - class_0\n",
      "            - class_1\n",
      "            - class_2\n",
      "\t\t\n",
      "    :Summary Statistics:\n",
      "    \n",
      "    ============================= ==== ===== ======= =====\n",
      "                                   Min   Max   Mean     SD\n",
      "    ============================= ==== ===== ======= =====\n",
      "    Alcohol:                      11.0  14.8    13.0   0.8\n",
      "    Malic Acid:                   0.74  5.80    2.34  1.12\n",
      "    Ash:                          1.36  3.23    2.36  0.27\n",
      "    Alcalinity of Ash:            10.6  30.0    19.5   3.3\n",
      "    Magnesium:                    70.0 162.0    99.7  14.3\n",
      "    Total Phenols:                0.98  3.88    2.29  0.63\n",
      "    Flavanoids:                   0.34  5.08    2.03  1.00\n",
      "    Nonflavanoid Phenols:         0.13  0.66    0.36  0.12\n",
      "    Proanthocyanins:              0.41  3.58    1.59  0.57\n",
      "    Colour Intensity:              1.3  13.0     5.1   2.3\n",
      "    Hue:                          0.48  1.71    0.96  0.23\n",
      "    OD280/OD315 of diluted wines: 1.27  4.00    2.61  0.71\n",
      "    Proline:                       278  1680     746   315\n",
      "    ============================= ==== ===== ======= =====\n",
      "\n",
      "    :Missing Attribute Values: None\n",
      "    :Class Distribution: class_0 (59), class_1 (71), class_2 (48)\n",
      "    :Creator: R.A. Fisher\n",
      "    :Donor: Michael Marshall (MARSHALL%PLU@io.arc.nasa.gov)\n",
      "    :Date: July, 1988\n",
      "\n",
      "This is a copy of UCI ML Wine recognition datasets.\n",
      "https://archive.ics.uci.edu/ml/machine-learning-databases/wine/wine.data\n",
      "\n",
      "The data is the results of a chemical analysis of wines grown in the same\n",
      "region in Italy by three different cultivators. There are thirteen different\n",
      "measurements taken for different constituents found in the three types of\n",
      "wine.\n",
      "\n",
      "Original Owners: \n",
      "\n",
      "Forina, M. et al, PARVUS - \n",
      "An Extendible Package for Data Exploration, Classification and Correlation. \n",
      "Institute of Pharmaceutical and Food Analysis and Technologies,\n",
      "Via Brigata Salerno, 16147 Genoa, Italy.\n",
      "\n",
      "Citation:\n",
      "\n",
      "Lichman, M. (2013). UCI Machine Learning Repository\n",
      "[https://archive.ics.uci.edu/ml]. Irvine, CA: University of California,\n",
      "School of Information and Computer Science. \n",
      "\n",
      ".. topic:: References\n",
      "\n",
      "  (1) S. Aeberhard, D. Coomans and O. de Vel, \n",
      "  Comparison of Classifiers in High Dimensional Settings, \n",
      "  Tech. Rep. no. 92-02, (1992), Dept. of Computer Science and Dept. of  \n",
      "  Mathematics and Statistics, James Cook University of North Queensland. \n",
      "  (Also submitted to Technometrics). \n",
      "\n",
      "  The data was used with many others for comparing various \n",
      "  classifiers. The classes are separable, though only RDA \n",
      "  has achieved 100% correct classification. \n",
      "  (RDA : 100%, QDA 99.4%, LDA 98.9%, 1NN 96.1% (z-transformed data)) \n",
      "  (All results using the leave-one-out technique) \n",
      "\n",
      "  (2) S. Aeberhard, D. Coomans and O. de Vel, \n",
      "  \"THE CLASSIFICATION PERFORMANCE OF RDA\" \n",
      "  Tech. Rep. no. 92-01, (1992), Dept. of Computer Science and Dept. of \n",
      "  Mathematics and Statistics, James Cook University of North Queensland. \n",
      "  (Also submitted to Journal of Chemometrics).\n",
      "\n"
     ]
    }
   ],
   "source": [
    "wine = datasets.load_wine()\n",
    "print(wine.DESCR)"
   ]
  },
  {
   "cell_type": "code",
   "execution_count": 3,
   "id": "attractive-venture",
   "metadata": {
    "execution": {
     "iopub.execute_input": "2021-03-09T16:22:44.044394Z",
     "iopub.status.busy": "2021-03-09T16:22:44.043737Z",
     "iopub.status.idle": "2021-03-09T16:22:44.045824Z",
     "shell.execute_reply": "2021-03-09T16:22:44.046206Z"
    },
    "tags": []
   },
   "outputs": [],
   "source": [
    "X = pd.DataFrame(wine.data, columns=wine.feature_names)\n",
    "y = wine.target"
   ]
  },
  {
   "cell_type": "markdown",
   "id": "unique-permit",
   "metadata": {},
   "source": [
    "Stratify the data by the target label"
   ]
  },
  {
   "cell_type": "code",
   "execution_count": 4,
   "id": "excess-blink",
   "metadata": {
    "execution": {
     "iopub.execute_input": "2021-03-09T16:22:44.056680Z",
     "iopub.status.busy": "2021-03-09T16:22:44.056248Z",
     "iopub.status.idle": "2021-03-09T16:22:44.195979Z",
     "shell.execute_reply": "2021-03-09T16:22:44.195492Z"
    },
    "tags": []
   },
   "outputs": [
    {
     "name": "stdout",
     "output_type": "stream",
     "text": [
      "train samples: 124\n",
      "test samples 54\n"
     ]
    },
    {
     "data": {
      "image/png": "[encoded data removed]",
      "text/plain": [
       "<Figure size 432x288 with 1 Axes>"
      ]
     },
     "metadata": {
      "needs_background": "light"
     },
     "output_type": "display_data"
    }
   ],
   "source": [
    "X_train, X_test, y_train, y_test = model_selection.train_test_split(X, y, train_size=0.7, stratify=y)\n",
    "\n",
    "df_train = pd.DataFrame(y_train, columns=['target'])\n",
    "df_train['type'] = 'train'\n",
    "\n",
    "df_test = pd.DataFrame(y_test, columns=['target'])\n",
    "df_test['type'] = 'test'\n",
    "\n",
    "df_set = df_train.append(df_test)\n",
    "\n",
    "_ = sns.countplot(x='target', hue='type', data=df_set)     \n",
    "\n",
    "print('train samples:', len(X_train))\n",
    "print('test samples', len(X_test))"
   ]
  },
  {
   "cell_type": "code",
   "execution_count": 5,
   "id": "spread-western",
   "metadata": {
    "execution": {
     "iopub.execute_input": "2021-03-09T16:22:44.202555Z",
     "iopub.status.busy": "2021-03-09T16:22:44.201701Z",
     "iopub.status.idle": "2021-03-09T16:22:44.208202Z",
     "shell.execute_reply": "2021-03-09T16:22:44.207815Z"
    },
    "tags": []
   },
   "outputs": [
    {
     "data": {
      "text/plain": [
       "RidgeClassifier(class_weight='balanced')"
      ]
     },
     "execution_count": 1,
     "metadata": {},
     "output_type": "execute_result"
    }
   ],
   "source": [
    "model = linear_model.RidgeClassifier(class_weight='balanced')\n",
    "model.fit(X_train, y_train)"
   ]
  },
  {
   "cell_type": "code",
   "execution_count": 6,
   "id": "after-leadership",
   "metadata": {
    "execution": {
     "iopub.execute_input": "2021-03-09T16:22:44.216690Z",
     "iopub.status.busy": "2021-03-09T16:22:44.216261Z",
     "iopub.status.idle": "2021-03-09T16:22:44.224693Z",
     "shell.execute_reply": "2021-03-09T16:22:44.224232Z"
    }
   },
   "outputs": [
    {
     "data": {
      "text/html": [
       "<div>\n",
       "<style scoped>\n",
       "    .dataframe tbody tr th:only-of-type {\n",
       "        vertical-align: middle;\n",
       "    }\n",
       "\n",
       "    .dataframe tbody tr th {\n",
       "        vertical-align: top;\n",
       "    }\n",
       "\n",
       "    .dataframe thead th {\n",
       "        text-align: right;\n",
       "    }\n",
       "</style>\n",
       "<table border=\"1\" class=\"dataframe\">\n",
       "  <thead>\n",
       "    <tr style=\"text-align: right;\">\n",
       "      <th>target_truth</th>\n",
       "      <th>0</th>\n",
       "      <th>1</th>\n",
       "      <th>2</th>\n",
       "    </tr>\n",
       "    <tr>\n",
       "      <th>target_predicted</th>\n",
       "      <th></th>\n",
       "      <th></th>\n",
       "      <th></th>\n",
       "    </tr>\n",
       "  </thead>\n",
       "  <tbody>\n",
       "    <tr>\n",
       "      <th>0</th>\n",
       "      <td>18.0</td>\n",
       "      <td>0.0</td>\n",
       "      <td>0.0</td>\n",
       "    </tr>\n",
       "    <tr>\n",
       "      <th>1</th>\n",
       "      <td>0.0</td>\n",
       "      <td>20.0</td>\n",
       "      <td>0.0</td>\n",
       "    </tr>\n",
       "    <tr>\n",
       "      <th>2</th>\n",
       "      <td>0.0</td>\n",
       "      <td>1.0</td>\n",
       "      <td>15.0</td>\n",
       "    </tr>\n",
       "  </tbody>\n",
       "</table>\n",
       "</div>"
      ],
      "text/plain": [
       "target_truth         0     1     2\n",
       "target_predicted                  \n",
       "0                 18.0   0.0   0.0\n",
       "1                  0.0  20.0   0.0\n",
       "2                  0.0   1.0  15.0"
      ]
     },
     "execution_count": 1,
     "metadata": {},
     "output_type": "execute_result"
    }
   ],
   "source": [
    "predicted = model.predict(X_test)\n",
    "\n",
    "truth_table = pd.DataFrame(predicted, columns=['target_predicted'])\n",
    "truth_table['target_truth'] = y_test\n",
    "\n",
    "truth_table = truth_table.groupby(['target_predicted', 'target_truth']).size().unstack().fillna(0)\n",
    "\n",
    "truth_table"
   ]
  },
  {
   "cell_type": "code",
   "execution_count": 7,
   "id": "afraid-embassy",
   "metadata": {
    "execution": {
     "iopub.execute_input": "2021-03-09T16:22:44.261092Z",
     "iopub.status.busy": "2021-03-09T16:22:44.254194Z",
     "iopub.status.idle": "2021-03-09T16:22:44.412976Z",
     "shell.execute_reply": "2021-03-09T16:22:44.412485Z"
    }
   },
   "outputs": [
    {
     "data": {
      "image/png": "[encoded data removed]",
      "text/plain": [
       "<Figure size 432x288 with 2 Axes>"
      ]
     },
     "metadata": {
      "needs_background": "light"
     },
     "output_type": "display_data"
    }
   ],
   "source": [
    "_ = sns.heatmap(truth_table, annot=True, cmap=\"Blues\")"
   ]
  },
  {
   "cell_type": "code",
   "execution_count": 8,
   "id": "endangered-grace",
   "metadata": {
    "execution": {
     "iopub.execute_input": "2021-03-09T16:22:44.417570Z",
     "iopub.status.busy": "2021-03-09T16:22:44.417132Z",
     "iopub.status.idle": "2021-03-09T16:22:44.421579Z",
     "shell.execute_reply": "2021-03-09T16:22:44.421952Z"
    },
    "tags": []
   },
   "outputs": [
    {
     "name": "stdout",
     "output_type": "stream",
     "text": [
      "accuracy: 0.981\n",
      "precision: 0.983\n",
      "recall: 0.981\n",
      "f1 score: 0.982\n"
     ]
    }
   ],
   "source": [
    "print(\"accuracy: {:.3f}\".format(metrics.accuracy_score(y_test, predicted)))\n",
    "print(\"precision: {:.3f}\".format(metrics.precision_score(y_test, predicted, average='weighted')))\n",
    "print(\"recall: {:.3f}\".format(metrics.recall_score(y_test, predicted, average='weighted')))\n",
    "print(\"f1 score: {:.3f}\".format(metrics.f1_score(y_test, predicted, average='weighted')))"
   ]
  }
 ],
 "metadata": {
  "kernelspec": {
   "display_name": "Python 3",
   "language": "python",
   "name": "python3"
  },
  "language_info": {
   "codemirror_mode": {
    "name": "ipython",
    "version": 3
   },
   "file_extension": ".py",
   "mimetype": "text/x-python",
   "name": "python",
   "nbconvert_exporter": "python",
   "pygments_lexer": "ipython3",
   "version": "3.8.5"
  }
 },
 "nbformat": 4,
 "nbformat_minor": 5
}
