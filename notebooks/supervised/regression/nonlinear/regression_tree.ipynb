{
 "cells": [
  {
   "cell_type": "markdown",
   "id": "shaped-configuration",
   "metadata": {},
   "source": [
    "## Regression with a decision tree"
   ]
  },
  {
   "cell_type": "code",
   "execution_count": 1,
   "id": "residential-stretch",
   "metadata": {
    "execution": {
     "iopub.execute_input": "2021-03-09T16:24:13.125647Z",
     "iopub.status.busy": "2021-03-09T16:24:13.124340Z",
     "iopub.status.idle": "2021-03-09T16:24:14.135633Z",
     "shell.execute_reply": "2021-03-09T16:24:14.135123Z"
    }
   },
   "outputs": [],
   "source": [
    "%matplotlib inline\n",
    "import matplotlib.pyplot as plt\n",
    "import seaborn as sns\n",
    "import pandas as pd\n",
    "import numpy as np\n",
    "import graphviz \n",
    "\n",
    "from sklearn import tree, datasets, metrics, model_selection"
   ]
  },
  {
   "cell_type": "code",
   "execution_count": 2,
   "id": "quick-rogers",
   "metadata": {
    "execution": {
     "iopub.execute_input": "2021-03-09T16:24:14.138373Z",
     "iopub.status.busy": "2021-03-09T16:24:14.137898Z",
     "iopub.status.idle": "2021-03-09T16:24:14.144421Z",
     "shell.execute_reply": "2021-03-09T16:24:14.143905Z"
    }
   },
   "outputs": [
    {
     "name": "stdout",
     "output_type": "stream",
     "text": [
      ".. _boston_dataset:\n",
      "\n",
      "Boston house prices dataset\n",
      "---------------------------\n",
      "\n",
      "**Data Set Characteristics:**  \n",
      "\n",
      "    :Number of Instances: 506 \n",
      "\n",
      "    :Number of Attributes: 13 numeric/categorical predictive. Median Value (attribute 14) is usually the target.\n",
      "\n",
      "    :Attribute Information (in order):\n",
      "        - CRIM     per capita crime rate by town\n",
      "        - ZN       proportion of residential land zoned for lots over 25,000 sq.ft.\n",
      "        - INDUS    proportion of non-retail business acres per town\n",
      "        - CHAS     Charles River dummy variable (= 1 if tract bounds river; 0 otherwise)\n",
      "        - NOX      nitric oxides concentration (parts per 10 million)\n",
      "        - RM       average number of rooms per dwelling\n",
      "        - AGE      proportion of owner-occupied units built prior to 1940\n",
      "        - DIS      weighted distances to five Boston employment centres\n",
      "        - RAD      index of accessibility to radial highways\n",
      "        - TAX      full-value property-tax rate per $10,000\n",
      "        - PTRATIO  pupil-teacher ratio by town\n",
      "        - B        1000(Bk - 0.63)^2 where Bk is the proportion of blacks by town\n",
      "        - LSTAT    % lower status of the population\n",
      "        - MEDV     Median value of owner-occupied homes in $1000's\n",
      "\n",
      "    :Missing Attribute Values: None\n",
      "\n",
      "    :Creator: Harrison, D. and Rubinfeld, D.L.\n",
      "\n",
      "This is a copy of UCI ML housing dataset.\n",
      "https://archive.ics.uci.edu/ml/machine-learning-databases/housing/\n",
      "\n",
      "\n",
      "This dataset was taken from the StatLib library which is maintained at Carnegie Mellon University.\n",
      "\n",
      "The Boston house-price data of Harrison, D. and Rubinfeld, D.L. 'Hedonic\n",
      "prices and the demand for clean air', J. Environ. Economics & Management,\n",
      "vol.5, 81-102, 1978.   Used in Belsley, Kuh & Welsch, 'Regression diagnostics\n",
      "...', Wiley, 1980.   N.B. Various transformations are used in the table on\n",
      "pages 244-261 of the latter.\n",
      "\n",
      "The Boston house-price data has been used in many machine learning papers that address regression\n",
      "problems.   \n",
      "     \n",
      ".. topic:: References\n",
      "\n",
      "   - Belsley, Kuh & Welsch, 'Regression diagnostics: Identifying Influential Data and Sources of Collinearity', Wiley, 1980. 244-261.\n",
      "   - Quinlan,R. (1993). Combining Instance-Based and Model-Based Learning. In Proceedings on the Tenth International Conference of Machine Learning, 236-243, University of Massachusetts, Amherst. Morgan Kaufmann.\n",
      "\n"
     ]
    }
   ],
   "source": [
    "boston = datasets.load_boston()\n",
    "print(boston.DESCR)"
   ]
  },
  {
   "cell_type": "code",
   "execution_count": 3,
   "id": "unknown-orbit",
   "metadata": {
    "execution": {
     "iopub.execute_input": "2021-03-09T16:24:14.147937Z",
     "iopub.status.busy": "2021-03-09T16:24:14.147509Z",
     "iopub.status.idle": "2021-03-09T16:24:14.149745Z",
     "shell.execute_reply": "2021-03-09T16:24:14.149313Z"
    }
   },
   "outputs": [],
   "source": [
    "X = pd.DataFrame(boston.data, columns=boston.feature_names)\n",
    "y = boston.target"
   ]
  },
  {
   "cell_type": "code",
   "execution_count": 4,
   "id": "substantial-growth",
   "metadata": {
    "execution": {
     "iopub.execute_input": "2021-03-09T16:24:14.153161Z",
     "iopub.status.busy": "2021-03-09T16:24:14.152668Z",
     "iopub.status.idle": "2021-03-09T16:24:14.155902Z",
     "shell.execute_reply": "2021-03-09T16:24:14.156283Z"
    }
   },
   "outputs": [
    {
     "name": "stdout",
     "output_type": "stream",
     "text": [
      "train samples: 354\n",
      "test samples 152\n"
     ]
    }
   ],
   "source": [
    "X_train, X_test, y_train, y_test = model_selection.train_test_split(X, y, train_size=0.7)\n",
    "\n",
    "print('train samples:', len(X_train))\n",
    "print('test samples', len(X_test))"
   ]
  },
  {
   "cell_type": "code",
   "execution_count": 5,
   "id": "defensive-attribute",
   "metadata": {
    "execution": {
     "iopub.execute_input": "2021-03-09T16:24:14.160656Z",
     "iopub.status.busy": "2021-03-09T16:24:14.160208Z",
     "iopub.status.idle": "2021-03-09T16:24:14.165646Z",
     "shell.execute_reply": "2021-03-09T16:24:14.166065Z"
    }
   },
   "outputs": [
    {
     "data": {
      "text/plain": [
       "DecisionTreeRegressor(max_depth=4)"
      ]
     },
     "execution_count": 1,
     "metadata": {},
     "output_type": "execute_result"
    }
   ],
   "source": [
    "model = tree.DecisionTreeRegressor(max_depth=4, criterion='mse')\n",
    "model.fit(X_train, y_train)"
   ]
  },
  {
   "cell_type": "code",
   "execution_count": 6,
   "id": "modified-visibility",
   "metadata": {
    "execution": {
     "iopub.execute_input": "2021-03-09T16:24:14.170786Z",
     "iopub.status.busy": "2021-03-09T16:24:14.170283Z",
     "iopub.status.idle": "2021-03-09T16:24:14.303381Z",
     "shell.execute_reply": "2021-03-09T16:24:14.302866Z"
    }
   },
   "outputs": [
    {
     "data": {
      "image/png": "[encoded data removed]",
      "text/plain": [
       "<Figure size 432x288 with 1 Axes>"
      ]
     },
     "metadata": {
      "needs_background": "light"
     },
     "output_type": "display_data"
    }
   ],
   "source": [
    "predicted = model.predict(X_test)\n",
    "\n",
    "fig, ax = plt.subplots()\n",
    "ax.scatter(y_test, predicted)\n",
    "\n",
    "ax.set_xlabel('True Values')\n",
    "ax.set_ylabel('Predicted')\n",
    "_ = ax.plot([0, y.max()], [0, y.max()], ls='-', color='red')"
   ]
  },
  {
   "cell_type": "code",
   "execution_count": 7,
   "id": "secret-emperor",
   "metadata": {
    "execution": {
     "iopub.execute_input": "2021-03-09T16:24:14.342749Z",
     "iopub.status.busy": "2021-03-09T16:24:14.336991Z",
     "iopub.status.idle": "2021-03-09T16:24:14.426069Z",
     "shell.execute_reply": "2021-03-09T16:24:14.426405Z"
    }
   },
   "outputs": [
    {
     "data": {
      "image/png": "[encoded data removed]",
      "text/plain": [
       "<Figure size 432x288 with 1 Axes>"
      ]
     },
     "metadata": {
      "needs_background": "light"
     },
     "output_type": "display_data"
    }
   ],
   "source": [
    "residual = y_test - predicted\n",
    "\n",
    "fig, ax = plt.subplots()\n",
    "ax.scatter(y_test, residual)\n",
    "ax.set_xlabel('y')\n",
    "ax.set_ylabel('residual')\n",
    "\n",
    "_ = plt.axhline(0, color='red', ls='--')"
   ]
  },
  {
   "cell_type": "code",
   "execution_count": 8,
   "id": "adjustable-dealing",
   "metadata": {
    "execution": {
     "iopub.execute_input": "2021-03-09T16:24:14.446263Z",
     "iopub.status.busy": "2021-03-09T16:24:14.440279Z",
     "iopub.status.idle": "2021-03-09T16:24:14.596650Z",
     "shell.execute_reply": "2021-03-09T16:24:14.597012Z"
    }
   },
   "outputs": [
    {
     "data": {
      "text/plain": [
       "<seaborn.axisgrid.FacetGrid at 0x12efc7370>"
      ]
     },
     "execution_count": 1,
     "metadata": {},
     "output_type": "execute_result"
    },
    {
     "data": {
      "image/png": "[encoded data removed]",
      "text/plain": [
       "<Figure size 360x360 with 1 Axes>"
      ]
     },
     "metadata": {
      "needs_background": "light"
     },
     "output_type": "display_data"
    }
   ],
   "source": [
    "sns.displot(residual, kind=\"kde\");"
   ]
  },
  {
   "cell_type": "code",
   "execution_count": 9,
   "id": "gothic-emergency",
   "metadata": {
    "execution": {
     "iopub.execute_input": "2021-03-09T16:24:14.601351Z",
     "iopub.status.busy": "2021-03-09T16:24:14.600907Z",
     "iopub.status.idle": "2021-03-09T16:24:14.603924Z",
     "shell.execute_reply": "2021-03-09T16:24:14.603408Z"
    }
   },
   "outputs": [
    {
     "name": "stdout",
     "output_type": "stream",
     "text": [
      "r2 score: 0.6510478441610834\n",
      "mse: 31.676606650495877\n",
      "rmse: 5.628197460155061\n"
     ]
    }
   ],
   "source": [
    "print(\"r2 score: {}\".format(metrics.r2_score(y_test, predicted)))\n",
    "print(\"mse: {}\".format(metrics.mean_squared_error(y_test, predicted)))\n",
    "print(\"rmse: {}\".format(np.sqrt(metrics.mean_squared_error(y_test, predicted))))"
   ]
  },
  {
   "cell_type": "code",
   "execution_count": 10,
   "id": "unusual-jewelry",
   "metadata": {
    "execution": {
     "iopub.execute_input": "2021-03-09T16:24:14.611283Z",
     "iopub.status.busy": "2021-03-09T16:24:14.610776Z",
     "iopub.status.idle": "2021-03-09T16:24:14.992843Z",
     "shell.execute_reply": "2021-03-09T16:24:14.993166Z"
    }
   },
   "outputs": [
    {
     "data": {
      "image/svg+xml": [
       "<?xml version=\"1.0\" encoding=\"UTF-8\" standalone=\"no\"?>\n",
       "<!DOCTYPE svg PUBLIC \"-//W3C//DTD SVG 1.1//EN\"\n",
       " \"http://www.w3.org/Graphics/SVG/1.1/DTD/svg11.dtd\">\n",
       "<!-- Generated by graphviz version 2.46.1 (20210213.1702)\n",
       " -->\n",
       "<!-- Title: Tree Pages: 1 -->\n",
       "<svg width=\"1749pt\" height=\"477pt\"\n",
       " viewBox=\"0.00 0.00 1749.00 477.00\" xmlns=\"http://www.w3.org/2000/svg\" xmlns:xlink=\"http://www.w3.org/1999/xlink\">\n",
       "<g id=\"graph0\" class=\"graph\" transform=\"scale(1 1) rotate(0) translate(4 473)\">\n",
       "<title>Tree</title>\n",
       "<polygon fill=\"white\" stroke=\"transparent\" points=\"-4,4 -4,-473 1745,-473 1745,4 -4,4\"/>\n",
       "<!-- 0 -->\n",
       "<g id=\"node1\" class=\"node\">\n",
       "<title>0</title>\n",
       "<polygon fill=\"#f7d8c2\" stroke=\"black\" points=\"920.5,-469 821.5,-469 821.5,-401 920.5,-401 920.5,-469\"/>\n",
       "<text text-anchor=\"middle\" x=\"871\" y=\"-453.8\" font-family=\"Times,serif\" font-size=\"14.00\">RM &lt;= 6.92</text>\n",
       "<text text-anchor=\"middle\" x=\"871\" y=\"-438.8\" font-family=\"Times,serif\" font-size=\"14.00\">mse = 81.46</text>\n",
       "<text text-anchor=\"middle\" x=\"871\" y=\"-423.8\" font-family=\"Times,serif\" font-size=\"14.00\">samples = 354</text>\n",
       "<text text-anchor=\"middle\" x=\"871\" y=\"-408.8\" font-family=\"Times,serif\" font-size=\"14.00\">value = 22.796</text>\n",
       "</g>\n",
       "<!-- 1 -->\n",
       "<g id=\"node2\" class=\"node\">\n",
       "<title>1</title>\n",
       "<polygon fill=\"#f9e0ce\" stroke=\"black\" points=\"704.5,-365 599.5,-365 599.5,-297 704.5,-297 704.5,-365\"/>\n",
       "<text text-anchor=\"middle\" x=\"652\" y=\"-349.8\" font-family=\"Times,serif\" font-size=\"14.00\">LSTAT &lt;= 14.4</text>\n",
       "<text text-anchor=\"middle\" x=\"652\" y=\"-334.8\" font-family=\"Times,serif\" font-size=\"14.00\">mse = 40.442</text>\n",
       "<text text-anchor=\"middle\" x=\"652\" y=\"-319.8\" font-family=\"Times,serif\" font-size=\"14.00\">samples = 304</text>\n",
       "<text text-anchor=\"middle\" x=\"652\" y=\"-304.8\" font-family=\"Times,serif\" font-size=\"14.00\">value = 20.348</text>\n",
       "</g>\n",
       "<!-- 0&#45;&gt;1 -->\n",
       "<g id=\"edge1\" class=\"edge\">\n",
       "<title>0&#45;&gt;1</title>\n",
       "<path fill=\"none\" stroke=\"black\" d=\"M821.31,-410.85C789.47,-396.03 747.9,-376.67 713.92,-360.84\"/>\n",
       "<polygon fill=\"black\" stroke=\"black\" points=\"715.09,-357.53 704.55,-356.48 712.14,-363.87 715.09,-357.53\"/>\n",
       "<text text-anchor=\"middle\" x=\"713.11\" y=\"-376.26\" font-family=\"Times,serif\" font-size=\"14.00\">True</text>\n",
       "</g>\n",
       "<!-- 16 -->\n",
       "<g id=\"node17\" class=\"node\">\n",
       "<title>16</title>\n",
       "<polygon fill=\"#eda977\" stroke=\"black\" points=\"1140.5,-365 1047.5,-365 1047.5,-297 1140.5,-297 1140.5,-365\"/>\n",
       "<text text-anchor=\"middle\" x=\"1094\" y=\"-349.8\" font-family=\"Times,serif\" font-size=\"14.00\">RM &lt;= 7.437</text>\n",
       "<text text-anchor=\"middle\" x=\"1094\" y=\"-334.8\" font-family=\"Times,serif\" font-size=\"14.00\">mse = 72.872</text>\n",
       "<text text-anchor=\"middle\" x=\"1094\" y=\"-319.8\" font-family=\"Times,serif\" font-size=\"14.00\">samples = 50</text>\n",
       "<text text-anchor=\"middle\" x=\"1094\" y=\"-304.8\" font-family=\"Times,serif\" font-size=\"14.00\">value = 37.68</text>\n",
       "</g>\n",
       "<!-- 0&#45;&gt;16 -->\n",
       "<g id=\"edge16\" class=\"edge\">\n",
       "<title>0&#45;&gt;16</title>\n",
       "<path fill=\"none\" stroke=\"black\" d=\"M920.77,-411.24C955.53,-395.34 1001.98,-374.09 1038.03,-357.6\"/>\n",
       "<polygon fill=\"black\" stroke=\"black\" points=\"1039.79,-360.64 1047.43,-353.3 1036.88,-354.28 1039.79,-360.64\"/>\n",
       "<text text-anchor=\"middle\" x=\"1038.71\" y=\"-373.03\" font-family=\"Times,serif\" font-size=\"14.00\">False</text>\n",
       "</g>\n",
       "<!-- 2 -->\n",
       "<g id=\"node3\" class=\"node\">\n",
       "<title>2</title>\n",
       "<polygon fill=\"#f6d5be\" stroke=\"black\" points=\"371.5,-261 272.5,-261 272.5,-193 371.5,-193 371.5,-261\"/>\n",
       "<text text-anchor=\"middle\" x=\"322\" y=\"-245.8\" font-family=\"Times,serif\" font-size=\"14.00\">DIS &lt;= 1.434</text>\n",
       "<text text-anchor=\"middle\" x=\"322\" y=\"-230.8\" font-family=\"Times,serif\" font-size=\"14.00\">mse = 25.565</text>\n",
       "<text text-anchor=\"middle\" x=\"322\" y=\"-215.8\" font-family=\"Times,serif\" font-size=\"14.00\">samples = 188</text>\n",
       "<text text-anchor=\"middle\" x=\"322\" y=\"-200.8\" font-family=\"Times,serif\" font-size=\"14.00\">value = 23.655</text>\n",
       "</g>\n",
       "<!-- 1&#45;&gt;2 -->\n",
       "<g id=\"edge2\" class=\"edge\">\n",
       "<title>1&#45;&gt;2</title>\n",
       "<path fill=\"none\" stroke=\"black\" d=\"M599.35,-313.73C539.84,-295.33 443.21,-265.47 381.15,-246.28\"/>\n",
       "<polygon fill=\"black\" stroke=\"black\" points=\"382.09,-242.91 371.5,-243.3 380.02,-249.6 382.09,-242.91\"/>\n",
       "</g>\n",
       "<!-- 9 -->\n",
       "<g id=\"node10\" class=\"node\">\n",
       "<title>9</title>\n",
       "<polygon fill=\"#fcf1e9\" stroke=\"black\" points=\"708,-261 596,-261 596,-193 708,-193 708,-261\"/>\n",
       "<text text-anchor=\"middle\" x=\"652\" y=\"-245.8\" font-family=\"Times,serif\" font-size=\"14.00\">LSTAT &lt;= 19.83</text>\n",
       "<text text-anchor=\"middle\" x=\"652\" y=\"-230.8\" font-family=\"Times,serif\" font-size=\"14.00\">mse = 18.1</text>\n",
       "<text text-anchor=\"middle\" x=\"652\" y=\"-215.8\" font-family=\"Times,serif\" font-size=\"14.00\">samples = 116</text>\n",
       "<text text-anchor=\"middle\" x=\"652\" y=\"-200.8\" font-family=\"Times,serif\" font-size=\"14.00\">value = 14.988</text>\n",
       "</g>\n",
       "<!-- 1&#45;&gt;9 -->\n",
       "<g id=\"edge9\" class=\"edge\">\n",
       "<title>1&#45;&gt;9</title>\n",
       "<path fill=\"none\" stroke=\"black\" d=\"M652,-296.88C652,-288.78 652,-279.98 652,-271.47\"/>\n",
       "<polygon fill=\"black\" stroke=\"black\" points=\"655.5,-271.3 652,-261.3 648.5,-271.3 655.5,-271.3\"/>\n",
       "</g>\n",
       "<!-- 3 -->\n",
       "<g id=\"node4\" class=\"node\">\n",
       "<title>3</title>\n",
       "<polygon fill=\"#e99355\" stroke=\"black\" points=\"203.5,-157 90.5,-157 90.5,-89 203.5,-89 203.5,-157\"/>\n",
       "<text text-anchor=\"middle\" x=\"147\" y=\"-141.8\" font-family=\"Times,serif\" font-size=\"14.00\">CRIM &lt;= 10.109</text>\n",
       "<text text-anchor=\"middle\" x=\"147\" y=\"-126.8\" font-family=\"Times,serif\" font-size=\"14.00\">mse = 91.577</text>\n",
       "<text text-anchor=\"middle\" x=\"147\" y=\"-111.8\" font-family=\"Times,serif\" font-size=\"14.00\">samples = 4</text>\n",
       "<text text-anchor=\"middle\" x=\"147\" y=\"-96.8\" font-family=\"Times,serif\" font-size=\"14.00\">value = 44.475</text>\n",
       "</g>\n",
       "<!-- 2&#45;&gt;3 -->\n",
       "<g id=\"edge3\" class=\"edge\">\n",
       "<title>2&#45;&gt;3</title>\n",
       "<path fill=\"none\" stroke=\"black\" d=\"M272.32,-197.04C253.66,-186.17 232.16,-173.63 212.29,-162.05\"/>\n",
       "<polygon fill=\"black\" stroke=\"black\" points=\"213.99,-159 203.59,-156.98 210.47,-165.04 213.99,-159\"/>\n",
       "</g>\n",
       "<!-- 6 -->\n",
       "<g id=\"node7\" class=\"node\">\n",
       "<title>6</title>\n",
       "<polygon fill=\"#f7d7c0\" stroke=\"black\" points=\"371.5,-157 272.5,-157 272.5,-89 371.5,-89 371.5,-157\"/>\n",
       "<text text-anchor=\"middle\" x=\"322\" y=\"-141.8\" font-family=\"Times,serif\" font-size=\"14.00\">RM &lt;= 6.542</text>\n",
       "<text text-anchor=\"middle\" x=\"322\" y=\"-126.8\" font-family=\"Times,serif\" font-size=\"14.00\">mse = 14.501</text>\n",
       "<text text-anchor=\"middle\" x=\"322\" y=\"-111.8\" font-family=\"Times,serif\" font-size=\"14.00\">samples = 184</text>\n",
       "<text text-anchor=\"middle\" x=\"322\" y=\"-96.8\" font-family=\"Times,serif\" font-size=\"14.00\">value = 23.202</text>\n",
       "</g>\n",
       "<!-- 2&#45;&gt;6 -->\n",
       "<g id=\"edge6\" class=\"edge\">\n",
       "<title>2&#45;&gt;6</title>\n",
       "<path fill=\"none\" stroke=\"black\" d=\"M322,-192.88C322,-184.78 322,-175.98 322,-167.47\"/>\n",
       "<polygon fill=\"black\" stroke=\"black\" points=\"325.5,-167.3 322,-157.3 318.5,-167.3 325.5,-167.3\"/>\n",
       "</g>\n",
       "<!-- 4 -->\n",
       "<g id=\"node5\" class=\"node\">\n",
       "<title>4</title>\n",
       "<polygon fill=\"#e58139\" stroke=\"black\" points=\"86,-53 0,-53 0,0 86,0 86,-53\"/>\n",
       "<text text-anchor=\"middle\" x=\"43\" y=\"-37.8\" font-family=\"Times,serif\" font-size=\"14.00\">mse = 0.0</text>\n",
       "<text text-anchor=\"middle\" x=\"43\" y=\"-22.8\" font-family=\"Times,serif\" font-size=\"14.00\">samples = 3</text>\n",
       "<text text-anchor=\"middle\" x=\"43\" y=\"-7.8\" font-family=\"Times,serif\" font-size=\"14.00\">value = 50.0</text>\n",
       "</g>\n",
       "<!-- 3&#45;&gt;4 -->\n",
       "<g id=\"edge4\" class=\"edge\">\n",
       "<title>3&#45;&gt;4</title>\n",
       "<path fill=\"none\" stroke=\"black\" d=\"M110.63,-88.95C100.36,-79.62 89.19,-69.47 78.95,-60.16\"/>\n",
       "<polygon fill=\"black\" stroke=\"black\" points=\"81.08,-57.37 71.32,-53.24 76.37,-62.55 81.08,-57.37\"/>\n",
       "</g>\n",
       "<!-- 5 -->\n",
       "<g id=\"node6\" class=\"node\">\n",
       "<title>5</title>\n",
       "<polygon fill=\"#f4c8a8\" stroke=\"black\" points=\"190,-53 104,-53 104,0 190,0 190,-53\"/>\n",
       "<text text-anchor=\"middle\" x=\"147\" y=\"-37.8\" font-family=\"Times,serif\" font-size=\"14.00\">mse = &#45;0.0</text>\n",
       "<text text-anchor=\"middle\" x=\"147\" y=\"-22.8\" font-family=\"Times,serif\" font-size=\"14.00\">samples = 1</text>\n",
       "<text text-anchor=\"middle\" x=\"147\" y=\"-7.8\" font-family=\"Times,serif\" font-size=\"14.00\">value = 27.9</text>\n",
       "</g>\n",
       "<!-- 3&#45;&gt;5 -->\n",
       "<g id=\"edge5\" class=\"edge\">\n",
       "<title>3&#45;&gt;5</title>\n",
       "<path fill=\"none\" stroke=\"black\" d=\"M147,-88.95C147,-80.72 147,-71.85 147,-63.48\"/>\n",
       "<polygon fill=\"black\" stroke=\"black\" points=\"150.5,-63.24 147,-53.24 143.5,-63.24 150.5,-63.24\"/>\n",
       "</g>\n",
       "<!-- 7 -->\n",
       "<g id=\"node8\" class=\"node\">\n",
       "<title>7</title>\n",
       "<polygon fill=\"#f8dbc6\" stroke=\"black\" points=\"305.5,-53 208.5,-53 208.5,0 305.5,0 305.5,-53\"/>\n",
       "<text text-anchor=\"middle\" x=\"257\" y=\"-37.8\" font-family=\"Times,serif\" font-size=\"14.00\">mse = 7.829</text>\n",
       "<text text-anchor=\"middle\" x=\"257\" y=\"-22.8\" font-family=\"Times,serif\" font-size=\"14.00\">samples = 144</text>\n",
       "<text text-anchor=\"middle\" x=\"257\" y=\"-7.8\" font-family=\"Times,serif\" font-size=\"14.00\">value = 21.96</text>\n",
       "</g>\n",
       "<!-- 6&#45;&gt;7 -->\n",
       "<g id=\"edge7\" class=\"edge\">\n",
       "<title>6&#45;&gt;7</title>\n",
       "<path fill=\"none\" stroke=\"black\" d=\"M299.27,-88.95C293.16,-80.07 286.55,-70.46 280.41,-61.54\"/>\n",
       "<polygon fill=\"black\" stroke=\"black\" points=\"283.25,-59.49 274.7,-53.24 277.49,-63.46 283.25,-59.49\"/>\n",
       "</g>\n",
       "<!-- 8 -->\n",
       "<g id=\"node9\" class=\"node\">\n",
       "<title>8</title>\n",
       "<polygon fill=\"#f4c9aa\" stroke=\"black\" points=\"422.5,-53 323.5,-53 323.5,0 422.5,0 422.5,-53\"/>\n",
       "<text text-anchor=\"middle\" x=\"373\" y=\"-37.8\" font-family=\"Times,serif\" font-size=\"14.00\">mse = 12.959</text>\n",
       "<text text-anchor=\"middle\" x=\"373\" y=\"-22.8\" font-family=\"Times,serif\" font-size=\"14.00\">samples = 40</text>\n",
       "<text text-anchor=\"middle\" x=\"373\" y=\"-7.8\" font-family=\"Times,serif\" font-size=\"14.00\">value = 27.675</text>\n",
       "</g>\n",
       "<!-- 6&#45;&gt;8 -->\n",
       "<g id=\"edge8\" class=\"edge\">\n",
       "<title>6&#45;&gt;8</title>\n",
       "<path fill=\"none\" stroke=\"black\" d=\"M339.84,-88.95C344.53,-80.26 349.6,-70.86 354.33,-62.09\"/>\n",
       "<polygon fill=\"black\" stroke=\"black\" points=\"357.44,-63.7 359.11,-53.24 351.28,-60.37 357.44,-63.7\"/>\n",
       "</g>\n",
       "<!-- 10 -->\n",
       "<g id=\"node11\" class=\"node\">\n",
       "<title>10</title>\n",
       "<polygon fill=\"#fbebdf\" stroke=\"black\" points=\"642.5,-157 543.5,-157 543.5,-89 642.5,-89 642.5,-157\"/>\n",
       "<text text-anchor=\"middle\" x=\"593\" y=\"-141.8\" font-family=\"Times,serif\" font-size=\"14.00\">B &lt;= 174.315</text>\n",
       "<text text-anchor=\"middle\" x=\"593\" y=\"-126.8\" font-family=\"Times,serif\" font-size=\"14.00\">mse = 11.504</text>\n",
       "<text text-anchor=\"middle\" x=\"593\" y=\"-111.8\" font-family=\"Times,serif\" font-size=\"14.00\">samples = 66</text>\n",
       "<text text-anchor=\"middle\" x=\"593\" y=\"-96.8\" font-family=\"Times,serif\" font-size=\"14.00\">value = 17.077</text>\n",
       "</g>\n",
       "<!-- 9&#45;&gt;10 -->\n",
       "<g id=\"edge10\" class=\"edge\">\n",
       "<title>9&#45;&gt;10</title>\n",
       "<path fill=\"none\" stroke=\"black\" d=\"M632.84,-192.88C627.9,-184.33 622.51,-175.01 617.34,-166.07\"/>\n",
       "<polygon fill=\"black\" stroke=\"black\" points=\"620.3,-164.2 612.26,-157.3 614.24,-167.71 620.3,-164.2\"/>\n",
       "</g>\n",
       "<!-- 13 -->\n",
       "<g id=\"node14\" class=\"node\">\n",
       "<title>13</title>\n",
       "<polygon fill=\"#fefaf7\" stroke=\"black\" points=\"761.5,-157 660.5,-157 660.5,-89 761.5,-89 761.5,-157\"/>\n",
       "<text text-anchor=\"middle\" x=\"711\" y=\"-141.8\" font-family=\"Times,serif\" font-size=\"14.00\">NOX &lt;= 0.603</text>\n",
       "<text text-anchor=\"middle\" x=\"711\" y=\"-126.8\" font-family=\"Times,serif\" font-size=\"14.00\">mse = 13.439</text>\n",
       "<text text-anchor=\"middle\" x=\"711\" y=\"-111.8\" font-family=\"Times,serif\" font-size=\"14.00\">samples = 50</text>\n",
       "<text text-anchor=\"middle\" x=\"711\" y=\"-96.8\" font-family=\"Times,serif\" font-size=\"14.00\">value = 12.23</text>\n",
       "</g>\n",
       "<!-- 9&#45;&gt;13 -->\n",
       "<g id=\"edge13\" class=\"edge\">\n",
       "<title>9&#45;&gt;13</title>\n",
       "<path fill=\"none\" stroke=\"black\" d=\"M671.16,-192.88C676.1,-184.33 681.49,-175.01 686.66,-166.07\"/>\n",
       "<polygon fill=\"black\" stroke=\"black\" points=\"689.76,-167.71 691.74,-157.3 683.7,-164.2 689.76,-167.71\"/>\n",
       "</g>\n",
       "<!-- 11 -->\n",
       "<g id=\"node12\" class=\"node\">\n",
       "<title>11</title>\n",
       "<polygon fill=\"#fdf5ef\" stroke=\"black\" points=\"531,-53 441,-53 441,0 531,0 531,-53\"/>\n",
       "<text text-anchor=\"middle\" x=\"486\" y=\"-37.8\" font-family=\"Times,serif\" font-size=\"14.00\">mse = 4.744</text>\n",
       "<text text-anchor=\"middle\" x=\"486\" y=\"-22.8\" font-family=\"Times,serif\" font-size=\"14.00\">samples = 14</text>\n",
       "<text text-anchor=\"middle\" x=\"486\" y=\"-7.8\" font-family=\"Times,serif\" font-size=\"14.00\">value = 13.8</text>\n",
       "</g>\n",
       "<!-- 10&#45;&gt;11 -->\n",
       "<g id=\"edge11\" class=\"edge\">\n",
       "<title>10&#45;&gt;11</title>\n",
       "<path fill=\"none\" stroke=\"black\" d=\"M555.58,-88.95C544.91,-79.53 533.3,-69.27 522.68,-59.89\"/>\n",
       "<polygon fill=\"black\" stroke=\"black\" points=\"524.95,-57.23 515.14,-53.24 520.32,-62.48 524.95,-57.23\"/>\n",
       "</g>\n",
       "<!-- 12 -->\n",
       "<g id=\"node13\" class=\"node\">\n",
       "<title>12</title>\n",
       "<polygon fill=\"#fae8da\" stroke=\"black\" points=\"641,-53 549,-53 549,0 641,0 641,-53\"/>\n",
       "<text text-anchor=\"middle\" x=\"595\" y=\"-37.8\" font-family=\"Times,serif\" font-size=\"14.00\">mse = 9.654</text>\n",
       "<text text-anchor=\"middle\" x=\"595\" y=\"-22.8\" font-family=\"Times,serif\" font-size=\"14.00\">samples = 52</text>\n",
       "<text text-anchor=\"middle\" x=\"595\" y=\"-7.8\" font-family=\"Times,serif\" font-size=\"14.00\">value = 17.96</text>\n",
       "</g>\n",
       "<!-- 10&#45;&gt;12 -->\n",
       "<g id=\"edge12\" class=\"edge\">\n",
       "<title>10&#45;&gt;12</title>\n",
       "<path fill=\"none\" stroke=\"black\" d=\"M593.7,-88.95C593.87,-80.72 594.06,-71.85 594.24,-63.48\"/>\n",
       "<polygon fill=\"black\" stroke=\"black\" points=\"597.74,-63.31 594.46,-53.24 590.74,-63.16 597.74,-63.31\"/>\n",
       "</g>\n",
       "<!-- 14 -->\n",
       "<g id=\"node15\" class=\"node\">\n",
       "<title>14</title>\n",
       "<polygon fill=\"#fbece2\" stroke=\"black\" points=\"758.5,-53 659.5,-53 659.5,0 758.5,0 758.5,-53\"/>\n",
       "<text text-anchor=\"middle\" x=\"709\" y=\"-37.8\" font-family=\"Times,serif\" font-size=\"14.00\">mse = 7.024</text>\n",
       "<text text-anchor=\"middle\" x=\"709\" y=\"-22.8\" font-family=\"Times,serif\" font-size=\"14.00\">samples = 13</text>\n",
       "<text text-anchor=\"middle\" x=\"709\" y=\"-7.8\" font-family=\"Times,serif\" font-size=\"14.00\">value = 16.562</text>\n",
       "</g>\n",
       "<!-- 13&#45;&gt;14 -->\n",
       "<g id=\"edge14\" class=\"edge\">\n",
       "<title>13&#45;&gt;14</title>\n",
       "<path fill=\"none\" stroke=\"black\" d=\"M710.3,-88.95C710.13,-80.72 709.94,-71.85 709.76,-63.48\"/>\n",
       "<polygon fill=\"black\" stroke=\"black\" points=\"713.26,-63.16 709.54,-53.24 706.26,-63.31 713.26,-63.16\"/>\n",
       "</g>\n",
       "<!-- 15 -->\n",
       "<g id=\"node16\" class=\"node\">\n",
       "<title>15</title>\n",
       "<polygon fill=\"#ffffff\" stroke=\"black\" points=\"875.5,-53 776.5,-53 776.5,0 875.5,0 875.5,-53\"/>\n",
       "<text text-anchor=\"middle\" x=\"826\" y=\"-37.8\" font-family=\"Times,serif\" font-size=\"14.00\">mse = 6.785</text>\n",
       "<text text-anchor=\"middle\" x=\"826\" y=\"-22.8\" font-family=\"Times,serif\" font-size=\"14.00\">samples = 37</text>\n",
       "<text text-anchor=\"middle\" x=\"826\" y=\"-7.8\" font-family=\"Times,serif\" font-size=\"14.00\">value = 10.708</text>\n",
       "</g>\n",
       "<!-- 13&#45;&gt;15 -->\n",
       "<g id=\"edge15\" class=\"edge\">\n",
       "<title>13&#45;&gt;15</title>\n",
       "<path fill=\"none\" stroke=\"black\" d=\"M751.22,-88.95C762.8,-79.43 775.41,-69.07 786.92,-59.62\"/>\n",
       "<polygon fill=\"black\" stroke=\"black\" points=\"789.18,-62.29 794.68,-53.24 784.73,-56.88 789.18,-62.29\"/>\n",
       "</g>\n",
       "<!-- 17 -->\n",
       "<g id=\"node18\" class=\"node\">\n",
       "<title>17</title>\n",
       "<polygon fill=\"#f0b890\" stroke=\"black\" points=\"1143.5,-261 1044.5,-261 1044.5,-193 1143.5,-193 1143.5,-261\"/>\n",
       "<text text-anchor=\"middle\" x=\"1094\" y=\"-245.8\" font-family=\"Times,serif\" font-size=\"14.00\">DIS &lt;= 1.904</text>\n",
       "<text text-anchor=\"middle\" x=\"1094\" y=\"-230.8\" font-family=\"Times,serif\" font-size=\"14.00\">mse = 33.16</text>\n",
       "<text text-anchor=\"middle\" x=\"1094\" y=\"-215.8\" font-family=\"Times,serif\" font-size=\"14.00\">samples = 30</text>\n",
       "<text text-anchor=\"middle\" x=\"1094\" y=\"-200.8\" font-family=\"Times,serif\" font-size=\"14.00\">value = 32.833</text>\n",
       "</g>\n",
       "<!-- 16&#45;&gt;17 -->\n",
       "<g id=\"edge17\" class=\"edge\">\n",
       "<title>16&#45;&gt;17</title>\n",
       "<path fill=\"none\" stroke=\"black\" d=\"M1094,-296.88C1094,-288.78 1094,-279.98 1094,-271.47\"/>\n",
       "<polygon fill=\"black\" stroke=\"black\" points=\"1097.5,-271.3 1094,-261.3 1090.5,-271.3 1097.5,-271.3\"/>\n",
       "</g>\n",
       "<!-- 24 -->\n",
       "<g id=\"node25\" class=\"node\">\n",
       "<title>24</title>\n",
       "<polygon fill=\"#e89152\" stroke=\"black\" points=\"1488,-261 1368,-261 1368,-193 1488,-193 1488,-261\"/>\n",
       "<text text-anchor=\"middle\" x=\"1428\" y=\"-245.8\" font-family=\"Times,serif\" font-size=\"14.00\">PTRATIO &lt;= 18.3</text>\n",
       "<text text-anchor=\"middle\" x=\"1428\" y=\"-230.8\" font-family=\"Times,serif\" font-size=\"14.00\">mse = 44.352</text>\n",
       "<text text-anchor=\"middle\" x=\"1428\" y=\"-215.8\" font-family=\"Times,serif\" font-size=\"14.00\">samples = 20</text>\n",
       "<text text-anchor=\"middle\" x=\"1428\" y=\"-200.8\" font-family=\"Times,serif\" font-size=\"14.00\">value = 44.95</text>\n",
       "</g>\n",
       "<!-- 16&#45;&gt;24 -->\n",
       "<g id=\"edge24\" class=\"edge\">\n",
       "<title>16&#45;&gt;24</title>\n",
       "<path fill=\"none\" stroke=\"black\" d=\"M1140.79,-315.71C1197.32,-298.45 1292.93,-269.25 1358.18,-249.32\"/>\n",
       "<polygon fill=\"black\" stroke=\"black\" points=\"1359.44,-252.6 1367.98,-246.33 1357.39,-245.9 1359.44,-252.6\"/>\n",
       "</g>\n",
       "<!-- 18 -->\n",
       "<g id=\"node19\" class=\"node\">\n",
       "<title>18</title>\n",
       "<polygon fill=\"#e88f4f\" stroke=\"black\" points=\"1083,-157 991,-157 991,-89 1083,-89 1083,-157\"/>\n",
       "<text text-anchor=\"middle\" x=\"1037\" y=\"-141.8\" font-family=\"Times,serif\" font-size=\"14.00\">DIS &lt;= 1.54</text>\n",
       "<text text-anchor=\"middle\" x=\"1037\" y=\"-126.8\" font-family=\"Times,serif\" font-size=\"14.00\">mse = 18.923</text>\n",
       "<text text-anchor=\"middle\" x=\"1037\" y=\"-111.8\" font-family=\"Times,serif\" font-size=\"14.00\">samples = 2</text>\n",
       "<text text-anchor=\"middle\" x=\"1037\" y=\"-96.8\" font-family=\"Times,serif\" font-size=\"14.00\">value = 45.65</text>\n",
       "</g>\n",
       "<!-- 17&#45;&gt;18 -->\n",
       "<g id=\"edge18\" class=\"edge\">\n",
       "<title>17&#45;&gt;18</title>\n",
       "<path fill=\"none\" stroke=\"black\" d=\"M1075.49,-192.88C1070.72,-184.33 1065.51,-175.01 1060.51,-166.07\"/>\n",
       "<polygon fill=\"black\" stroke=\"black\" points=\"1063.54,-164.32 1055.61,-157.3 1057.43,-167.74 1063.54,-164.32\"/>\n",
       "</g>\n",
       "<!-- 21 -->\n",
       "<g id=\"node22\" class=\"node\">\n",
       "<title>21</title>\n",
       "<polygon fill=\"#f1bb94\" stroke=\"black\" points=\"1200.5,-157 1101.5,-157 1101.5,-89 1200.5,-89 1200.5,-157\"/>\n",
       "<text text-anchor=\"middle\" x=\"1151\" y=\"-141.8\" font-family=\"Times,serif\" font-size=\"14.00\">INDUS &lt;= 9.5</text>\n",
       "<text text-anchor=\"middle\" x=\"1151\" y=\"-126.8\" font-family=\"Times,serif\" font-size=\"14.00\">mse = 21.605</text>\n",
       "<text text-anchor=\"middle\" x=\"1151\" y=\"-111.8\" font-family=\"Times,serif\" font-size=\"14.00\">samples = 28</text>\n",
       "<text text-anchor=\"middle\" x=\"1151\" y=\"-96.8\" font-family=\"Times,serif\" font-size=\"14.00\">value = 31.918</text>\n",
       "</g>\n",
       "<!-- 17&#45;&gt;21 -->\n",
       "<g id=\"edge21\" class=\"edge\">\n",
       "<title>17&#45;&gt;21</title>\n",
       "<path fill=\"none\" stroke=\"black\" d=\"M1112.51,-192.88C1117.28,-184.33 1122.49,-175.01 1127.49,-166.07\"/>\n",
       "<polygon fill=\"black\" stroke=\"black\" points=\"1130.57,-167.74 1132.39,-157.3 1124.46,-164.32 1130.57,-167.74\"/>\n",
       "</g>\n",
       "<!-- 19 -->\n",
       "<g id=\"node20\" class=\"node\">\n",
       "<title>19</title>\n",
       "<polygon fill=\"#e58139\" stroke=\"black\" points=\"980,-53 894,-53 894,0 980,0 980,-53\"/>\n",
       "<text text-anchor=\"middle\" x=\"937\" y=\"-37.8\" font-family=\"Times,serif\" font-size=\"14.00\">mse = 0.0</text>\n",
       "<text text-anchor=\"middle\" x=\"937\" y=\"-22.8\" font-family=\"Times,serif\" font-size=\"14.00\">samples = 1</text>\n",
       "<text text-anchor=\"middle\" x=\"937\" y=\"-7.8\" font-family=\"Times,serif\" font-size=\"14.00\">value = 50.0</text>\n",
       "</g>\n",
       "<!-- 18&#45;&gt;19 -->\n",
       "<g id=\"edge19\" class=\"edge\">\n",
       "<title>18&#45;&gt;19</title>\n",
       "<path fill=\"none\" stroke=\"black\" d=\"M1002.02,-88.95C992.15,-79.62 981.41,-69.47 971.57,-60.16\"/>\n",
       "<polygon fill=\"black\" stroke=\"black\" points=\"973.91,-57.56 964.23,-53.24 969.1,-62.65 973.91,-57.56\"/>\n",
       "</g>\n",
       "<!-- 20 -->\n",
       "<g id=\"node21\" class=\"node\">\n",
       "<title>20</title>\n",
       "<polygon fill=\"#eb9d65\" stroke=\"black\" points=\"1084,-53 998,-53 998,0 1084,0 1084,-53\"/>\n",
       "<text text-anchor=\"middle\" x=\"1041\" y=\"-37.8\" font-family=\"Times,serif\" font-size=\"14.00\">mse = &#45;0.0</text>\n",
       "<text text-anchor=\"middle\" x=\"1041\" y=\"-22.8\" font-family=\"Times,serif\" font-size=\"14.00\">samples = 1</text>\n",
       "<text text-anchor=\"middle\" x=\"1041\" y=\"-7.8\" font-family=\"Times,serif\" font-size=\"14.00\">value = 41.3</text>\n",
       "</g>\n",
       "<!-- 18&#45;&gt;20 -->\n",
       "<g id=\"edge20\" class=\"edge\">\n",
       "<title>18&#45;&gt;20</title>\n",
       "<path fill=\"none\" stroke=\"black\" d=\"M1038.4,-88.95C1038.75,-80.72 1039.12,-71.85 1039.48,-63.48\"/>\n",
       "<polygon fill=\"black\" stroke=\"black\" points=\"1042.98,-63.38 1039.91,-53.24 1035.99,-63.08 1042.98,-63.38\"/>\n",
       "</g>\n",
       "<!-- 22 -->\n",
       "<g id=\"node23\" class=\"node\">\n",
       "<title>22</title>\n",
       "<polygon fill=\"#f0b78e\" stroke=\"black\" points=\"1194,-53 1102,-53 1102,0 1194,0 1194,-53\"/>\n",
       "<text text-anchor=\"middle\" x=\"1148\" y=\"-37.8\" font-family=\"Times,serif\" font-size=\"14.00\">mse = 10.389</text>\n",
       "<text text-anchor=\"middle\" x=\"1148\" y=\"-22.8\" font-family=\"Times,serif\" font-size=\"14.00\">samples = 25</text>\n",
       "<text text-anchor=\"middle\" x=\"1148\" y=\"-7.8\" font-family=\"Times,serif\" font-size=\"14.00\">value = 33.08</text>\n",
       "</g>\n",
       "<!-- 21&#45;&gt;22 -->\n",
       "<g id=\"edge22\" class=\"edge\">\n",
       "<title>21&#45;&gt;22</title>\n",
       "<path fill=\"none\" stroke=\"black\" d=\"M1149.95,-88.95C1149.69,-80.72 1149.41,-71.85 1149.14,-63.48\"/>\n",
       "<polygon fill=\"black\" stroke=\"black\" points=\"1152.63,-63.12 1148.82,-53.24 1145.64,-63.34 1152.63,-63.12\"/>\n",
       "</g>\n",
       "<!-- 23 -->\n",
       "<g id=\"node24\" class=\"node\">\n",
       "<title>23</title>\n",
       "<polygon fill=\"#f7dac5\" stroke=\"black\" points=\"1311.5,-53 1212.5,-53 1212.5,0 1311.5,0 1311.5,-53\"/>\n",
       "<text text-anchor=\"middle\" x=\"1262\" y=\"-37.8\" font-family=\"Times,serif\" font-size=\"14.00\">mse = 10.029</text>\n",
       "<text text-anchor=\"middle\" x=\"1262\" y=\"-22.8\" font-family=\"Times,serif\" font-size=\"14.00\">samples = 3</text>\n",
       "<text text-anchor=\"middle\" x=\"1262\" y=\"-7.8\" font-family=\"Times,serif\" font-size=\"14.00\">value = 22.233</text>\n",
       "</g>\n",
       "<!-- 21&#45;&gt;23 -->\n",
       "<g id=\"edge23\" class=\"edge\">\n",
       "<title>21&#45;&gt;23</title>\n",
       "<path fill=\"none\" stroke=\"black\" d=\"M1189.82,-88.95C1200.89,-79.53 1212.93,-69.27 1223.95,-59.89\"/>\n",
       "<polygon fill=\"black\" stroke=\"black\" points=\"1226.42,-62.38 1231.77,-53.24 1221.89,-57.05 1226.42,-62.38\"/>\n",
       "</g>\n",
       "<!-- 25 -->\n",
       "<g id=\"node26\" class=\"node\">\n",
       "<title>25</title>\n",
       "<polygon fill=\"#e78b49\" stroke=\"black\" points=\"1477.5,-157 1378.5,-157 1378.5,-89 1477.5,-89 1477.5,-157\"/>\n",
       "<text text-anchor=\"middle\" x=\"1428\" y=\"-141.8\" font-family=\"Times,serif\" font-size=\"14.00\">B &lt;= 396.21</text>\n",
       "<text text-anchor=\"middle\" x=\"1428\" y=\"-126.8\" font-family=\"Times,serif\" font-size=\"14.00\">mse = 11.162</text>\n",
       "<text text-anchor=\"middle\" x=\"1428\" y=\"-111.8\" font-family=\"Times,serif\" font-size=\"14.00\">samples = 18</text>\n",
       "<text text-anchor=\"middle\" x=\"1428\" y=\"-96.8\" font-family=\"Times,serif\" font-size=\"14.00\">value = 46.772</text>\n",
       "</g>\n",
       "<!-- 24&#45;&gt;25 -->\n",
       "<g id=\"edge25\" class=\"edge\">\n",
       "<title>24&#45;&gt;25</title>\n",
       "<path fill=\"none\" stroke=\"black\" d=\"M1428,-192.88C1428,-184.78 1428,-175.98 1428,-167.47\"/>\n",
       "<polygon fill=\"black\" stroke=\"black\" points=\"1431.5,-167.3 1428,-157.3 1424.5,-167.3 1431.5,-167.3\"/>\n",
       "</g>\n",
       "<!-- 28 -->\n",
       "<g id=\"node29\" class=\"node\">\n",
       "<title>28</title>\n",
       "<polygon fill=\"#f3c6a5\" stroke=\"black\" points=\"1643.5,-157 1544.5,-157 1544.5,-89 1643.5,-89 1643.5,-157\"/>\n",
       "<text text-anchor=\"middle\" x=\"1594\" y=\"-141.8\" font-family=\"Times,serif\" font-size=\"14.00\">AGE &lt;= 67.35</text>\n",
       "<text text-anchor=\"middle\" x=\"1594\" y=\"-126.8\" font-family=\"Times,serif\" font-size=\"14.00\">mse = 44.223</text>\n",
       "<text text-anchor=\"middle\" x=\"1594\" y=\"-111.8\" font-family=\"Times,serif\" font-size=\"14.00\">samples = 2</text>\n",
       "<text text-anchor=\"middle\" x=\"1594\" y=\"-96.8\" font-family=\"Times,serif\" font-size=\"14.00\">value = 28.55</text>\n",
       "</g>\n",
       "<!-- 24&#45;&gt;28 -->\n",
       "<g id=\"edge28\" class=\"edge\">\n",
       "<title>24&#45;&gt;28</title>\n",
       "<path fill=\"none\" stroke=\"black\" d=\"M1481.9,-192.88C1498.99,-182.38 1517.96,-170.72 1535.37,-160.03\"/>\n",
       "<polygon fill=\"black\" stroke=\"black\" points=\"1537.62,-162.75 1544.31,-154.53 1533.96,-156.79 1537.62,-162.75\"/>\n",
       "</g>\n",
       "<!-- 26 -->\n",
       "<g id=\"node27\" class=\"node\">\n",
       "<title>26</title>\n",
       "<polygon fill=\"#e78a47\" stroke=\"black\" points=\"1428.5,-53 1329.5,-53 1329.5,0 1428.5,0 1428.5,-53\"/>\n",
       "<text text-anchor=\"middle\" x=\"1379\" y=\"-37.8\" font-family=\"Times,serif\" font-size=\"14.00\">mse = 7.76</text>\n",
       "<text text-anchor=\"middle\" x=\"1379\" y=\"-22.8\" font-family=\"Times,serif\" font-size=\"14.00\">samples = 17</text>\n",
       "<text text-anchor=\"middle\" x=\"1379\" y=\"-7.8\" font-family=\"Times,serif\" font-size=\"14.00\">value = 47.247</text>\n",
       "</g>\n",
       "<!-- 25&#45;&gt;26 -->\n",
       "<g id=\"edge26\" class=\"edge\">\n",
       "<title>25&#45;&gt;26</title>\n",
       "<path fill=\"none\" stroke=\"black\" d=\"M1410.86,-88.95C1406.4,-80.35 1401.59,-71.06 1397.08,-62.37\"/>\n",
       "<polygon fill=\"black\" stroke=\"black\" points=\"1400.06,-60.5 1392.34,-53.24 1393.84,-63.73 1400.06,-60.5\"/>\n",
       "</g>\n",
       "<!-- 27 -->\n",
       "<g id=\"node28\" class=\"node\">\n",
       "<title>27</title>\n",
       "<polygon fill=\"#eca572\" stroke=\"black\" points=\"1533,-53 1447,-53 1447,0 1533,0 1533,-53\"/>\n",
       "<text text-anchor=\"middle\" x=\"1490\" y=\"-37.8\" font-family=\"Times,serif\" font-size=\"14.00\">mse = &#45;0.0</text>\n",
       "<text text-anchor=\"middle\" x=\"1490\" y=\"-22.8\" font-family=\"Times,serif\" font-size=\"14.00\">samples = 1</text>\n",
       "<text text-anchor=\"middle\" x=\"1490\" y=\"-7.8\" font-family=\"Times,serif\" font-size=\"14.00\">value = 38.7</text>\n",
       "</g>\n",
       "<!-- 25&#45;&gt;27 -->\n",
       "<g id=\"edge27\" class=\"edge\">\n",
       "<title>25&#45;&gt;27</title>\n",
       "<path fill=\"none\" stroke=\"black\" d=\"M1449.68,-88.95C1455.45,-80.17 1461.68,-70.66 1467.49,-61.82\"/>\n",
       "<polygon fill=\"black\" stroke=\"black\" points=\"1470.56,-63.52 1473.11,-53.24 1464.7,-59.68 1470.56,-63.52\"/>\n",
       "</g>\n",
       "<!-- 29 -->\n",
       "<g id=\"node30\" class=\"node\">\n",
       "<title>29</title>\n",
       "<polygon fill=\"#efb084\" stroke=\"black\" points=\"1637,-53 1551,-53 1551,0 1637,0 1637,-53\"/>\n",
       "<text text-anchor=\"middle\" x=\"1594\" y=\"-37.8\" font-family=\"Times,serif\" font-size=\"14.00\">mse = 0.0</text>\n",
       "<text text-anchor=\"middle\" x=\"1594\" y=\"-22.8\" font-family=\"Times,serif\" font-size=\"14.00\">samples = 1</text>\n",
       "<text text-anchor=\"middle\" x=\"1594\" y=\"-7.8\" font-family=\"Times,serif\" font-size=\"14.00\">value = 35.2</text>\n",
       "</g>\n",
       "<!-- 28&#45;&gt;29 -->\n",
       "<g id=\"edge29\" class=\"edge\">\n",
       "<title>28&#45;&gt;29</title>\n",
       "<path fill=\"none\" stroke=\"black\" d=\"M1594,-88.95C1594,-80.72 1594,-71.85 1594,-63.48\"/>\n",
       "<polygon fill=\"black\" stroke=\"black\" points=\"1597.5,-63.24 1594,-53.24 1590.5,-63.24 1597.5,-63.24\"/>\n",
       "</g>\n",
       "<!-- 30 -->\n",
       "<g id=\"node31\" class=\"node\">\n",
       "<title>30</title>\n",
       "<polygon fill=\"#f8dbc7\" stroke=\"black\" points=\"1741,-53 1655,-53 1655,0 1741,0 1741,-53\"/>\n",
       "<text text-anchor=\"middle\" x=\"1698\" y=\"-37.8\" font-family=\"Times,serif\" font-size=\"14.00\">mse = &#45;0.0</text>\n",
       "<text text-anchor=\"middle\" x=\"1698\" y=\"-22.8\" font-family=\"Times,serif\" font-size=\"14.00\">samples = 1</text>\n",
       "<text text-anchor=\"middle\" x=\"1698\" y=\"-7.8\" font-family=\"Times,serif\" font-size=\"14.00\">value = 21.9</text>\n",
       "</g>\n",
       "<!-- 28&#45;&gt;30 -->\n",
       "<g id=\"edge30\" class=\"edge\">\n",
       "<title>28&#45;&gt;30</title>\n",
       "<path fill=\"none\" stroke=\"black\" d=\"M1630.37,-88.95C1640.64,-79.62 1651.81,-69.47 1662.05,-60.16\"/>\n",
       "<polygon fill=\"black\" stroke=\"black\" points=\"1664.63,-62.55 1669.68,-53.24 1659.92,-57.37 1664.63,-62.55\"/>\n",
       "</g>\n",
       "</g>\n",
       "</svg>\n"
      ],
      "text/plain": [
       "<graphviz.files.Source at 0x12f101cd0>"
      ]
     },
     "execution_count": 1,
     "metadata": {},
     "output_type": "execute_result"
    }
   ],
   "source": [
    "tree = graphviz.Source(tree.export_graphviz(model, out_file=None, feature_names=boston.feature_names, filled = True))\n",
    "tree"
   ]
  },
  {
   "cell_type": "code",
   "execution_count": null,
   "id": "aquatic-spencer",
   "metadata": {},
   "outputs": [],
   "source": []
  }
 ],
 "metadata": {
  "kernelspec": {
   "display_name": "Python 3",
   "language": "python",
   "name": "python3"
  },
  "language_info": {
   "codemirror_mode": {
    "name": "ipython",
    "version": 3
   },
   "file_extension": ".py",
   "mimetype": "text/x-python",
   "name": "python",
   "nbconvert_exporter": "python",
   "pygments_lexer": "ipython3",
   "version": "3.8.5"
  }
 },
 "nbformat": 4,
 "nbformat_minor": 5
}
