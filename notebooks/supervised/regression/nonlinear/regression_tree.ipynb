{
 "cells": [
  {
   "cell_type": "markdown",
   "id": "shaped-configuration",
   "metadata": {},
   "source": [
    "## Regression with a decision tree"
   ]
  },
  {
   "cell_type": "code",
   "execution_count": 1,
   "id": "residential-stretch",
   "metadata": {
    "execution": {
     "iopub.execute_input": "2021-03-09T10:11:15.470640Z",
     "iopub.status.busy": "2021-03-09T10:11:15.467844Z",
     "iopub.status.idle": "2021-03-09T10:11:16.555456Z",
     "shell.execute_reply": "2021-03-09T10:11:16.555972Z"
    }
   },
   "outputs": [],
   "source": [
    "%matplotlib inline\n",
    "import matplotlib.pyplot as plt\n",
    "import seaborn as sns\n",
    "import pandas as pd\n",
    "import numpy as np\n",
    "import graphviz \n",
    "\n",
    "from sklearn import tree, datasets, metrics, model_selection"
   ]
  },
  {
   "cell_type": "code",
   "execution_count": 2,
   "id": "quick-rogers",
   "metadata": {
    "execution": {
     "iopub.execute_input": "2021-03-09T10:11:16.559496Z",
     "iopub.status.busy": "2021-03-09T10:11:16.559017Z",
     "iopub.status.idle": "2021-03-09T10:11:16.565184Z",
     "shell.execute_reply": "2021-03-09T10:11:16.564720Z"
    }
   },
   "outputs": [
    {
     "name": "stdout",
     "output_type": "stream",
     "text": [
      ".. _boston_dataset:\n",
      "\n",
      "Boston house prices dataset\n",
      "---------------------------\n",
      "\n",
      "**Data Set Characteristics:**  \n",
      "\n",
      "    :Number of Instances: 506 \n",
      "\n",
      "    :Number of Attributes: 13 numeric/categorical predictive. Median Value (attribute 14) is usually the target.\n",
      "\n",
      "    :Attribute Information (in order):\n",
      "        - CRIM     per capita crime rate by town\n",
      "        - ZN       proportion of residential land zoned for lots over 25,000 sq.ft.\n",
      "        - INDUS    proportion of non-retail business acres per town\n",
      "        - CHAS     Charles River dummy variable (= 1 if tract bounds river; 0 otherwise)\n",
      "        - NOX      nitric oxides concentration (parts per 10 million)\n",
      "        - RM       average number of rooms per dwelling\n",
      "        - AGE      proportion of owner-occupied units built prior to 1940\n",
      "        - DIS      weighted distances to five Boston employment centres\n",
      "        - RAD      index of accessibility to radial highways\n",
      "        - TAX      full-value property-tax rate per $10,000\n",
      "        - PTRATIO  pupil-teacher ratio by town\n",
      "        - B        1000(Bk - 0.63)^2 where Bk is the proportion of blacks by town\n",
      "        - LSTAT    % lower status of the population\n",
      "        - MEDV     Median value of owner-occupied homes in $1000's\n",
      "\n",
      "    :Missing Attribute Values: None\n",
      "\n",
      "    :Creator: Harrison, D. and Rubinfeld, D.L.\n",
      "\n",
      "This is a copy of UCI ML housing dataset.\n",
      "https://archive.ics.uci.edu/ml/machine-learning-databases/housing/\n",
      "\n",
      "\n",
      "This dataset was taken from the StatLib library which is maintained at Carnegie Mellon University.\n",
      "\n",
      "The Boston house-price data of Harrison, D. and Rubinfeld, D.L. 'Hedonic\n",
      "prices and the demand for clean air', J. Environ. Economics & Management,\n",
      "vol.5, 81-102, 1978.   Used in Belsley, Kuh & Welsch, 'Regression diagnostics\n",
      "...', Wiley, 1980.   N.B. Various transformations are used in the table on\n",
      "pages 244-261 of the latter.\n",
      "\n",
      "The Boston house-price data has been used in many machine learning papers that address regression\n",
      "problems.   \n",
      "     \n",
      ".. topic:: References\n",
      "\n",
      "   - Belsley, Kuh & Welsch, 'Regression diagnostics: Identifying Influential Data and Sources of Collinearity', Wiley, 1980. 244-261.\n",
      "   - Quinlan,R. (1993). Combining Instance-Based and Model-Based Learning. In Proceedings on the Tenth International Conference of Machine Learning, 236-243, University of Massachusetts, Amherst. Morgan Kaufmann.\n",
      "\n"
     ]
    }
   ],
   "source": [
    "boston = datasets.load_boston()\n",
    "print(boston.DESCR)"
   ]
  },
  {
   "cell_type": "code",
   "execution_count": 3,
   "id": "unknown-orbit",
   "metadata": {
    "execution": {
     "iopub.execute_input": "2021-03-09T10:11:16.568759Z",
     "iopub.status.busy": "2021-03-09T10:11:16.568260Z",
     "iopub.status.idle": "2021-03-09T10:11:16.570888Z",
     "shell.execute_reply": "2021-03-09T10:11:16.571532Z"
    }
   },
   "outputs": [],
   "source": [
    "X = pd.DataFrame(boston.data, columns=boston.feature_names)\n",
    "y = boston.target"
   ]
  },
  {
   "cell_type": "code",
   "execution_count": 4,
   "id": "substantial-growth",
   "metadata": {
    "execution": {
     "iopub.execute_input": "2021-03-09T10:11:16.577199Z",
     "iopub.status.busy": "2021-03-09T10:11:16.576668Z",
     "iopub.status.idle": "2021-03-09T10:11:16.579557Z",
     "shell.execute_reply": "2021-03-09T10:11:16.579048Z"
    }
   },
   "outputs": [
    {
     "name": "stdout",
     "output_type": "stream",
     "text": [
      "train samples: 354\n",
      "test samples 152\n"
     ]
    }
   ],
   "source": [
    "X_train, X_test, y_train, y_test = model_selection.train_test_split(X, y, train_size=0.7)\n",
    "\n",
    "print('train samples:', len(X_train))\n",
    "print('test samples', len(X_test))"
   ]
  },
  {
   "cell_type": "code",
   "execution_count": 5,
   "id": "defensive-attribute",
   "metadata": {
    "execution": {
     "iopub.execute_input": "2021-03-09T10:11:16.584403Z",
     "iopub.status.busy": "2021-03-09T10:11:16.583831Z",
     "iopub.status.idle": "2021-03-09T10:11:16.590888Z",
     "shell.execute_reply": "2021-03-09T10:11:16.590443Z"
    }
   },
   "outputs": [
    {
     "data": {
      "text/plain": [
       "DecisionTreeRegressor(max_depth=4)"
      ]
     },
     "execution_count": 1,
     "metadata": {},
     "output_type": "execute_result"
    }
   ],
   "source": [
    "model = tree.DecisionTreeRegressor(max_depth=4, criterion='mse')\n",
    "model.fit(X_train, y_train)"
   ]
  },
  {
   "cell_type": "code",
   "execution_count": 6,
   "id": "modified-visibility",
   "metadata": {
    "execution": {
     "iopub.execute_input": "2021-03-09T10:11:16.613329Z",
     "iopub.status.busy": "2021-03-09T10:11:16.595548Z",
     "iopub.status.idle": "2021-03-09T10:11:16.746022Z",
     "shell.execute_reply": "2021-03-09T10:11:16.745595Z"
    }
   },
   "outputs": [
    {
     "data": {
      "image/png": "[encoded data removed]",
      "text/plain": [
       "<Figure size 432x288 with 1 Axes>"
      ]
     },
     "metadata": {
      "needs_background": "light"
     },
     "output_type": "display_data"
    }
   ],
   "source": [
    "predicted = model.predict(X_test)\n",
    "\n",
    "fig, ax = plt.subplots()\n",
    "ax.scatter(y_test, predicted)\n",
    "\n",
    "ax.set_xlabel('True Values')\n",
    "ax.set_ylabel('Predicted')\n",
    "_ = ax.plot([0, y.max()], [0, y.max()], ls='-', color='red')"
   ]
  },
  {
   "cell_type": "code",
   "execution_count": 7,
   "id": "secret-emperor",
   "metadata": {
    "execution": {
     "iopub.execute_input": "2021-03-09T10:11:16.778091Z",
     "iopub.status.busy": "2021-03-09T10:11:16.777614Z",
     "iopub.status.idle": "2021-03-09T10:11:16.862640Z",
     "shell.execute_reply": "2021-03-09T10:11:16.862974Z"
    }
   },
   "outputs": [
    {
     "data": {
      "image/png": "[encoded data removed]",
      "text/plain": [
       "<Figure size 432x288 with 1 Axes>"
      ]
     },
     "metadata": {
      "needs_background": "light"
     },
     "output_type": "display_data"
    }
   ],
   "source": [
    "residual = y_test - predicted\n",
    "\n",
    "fig, ax = plt.subplots()\n",
    "ax.scatter(y_test, residual)\n",
    "ax.set_xlabel('y')\n",
    "ax.set_ylabel('residual')\n",
    "\n",
    "_ = plt.axhline(0, color='red', ls='--')"
   ]
  },
  {
   "cell_type": "code",
   "execution_count": 8,
   "id": "adjustable-dealing",
   "metadata": {
    "execution": {
     "iopub.execute_input": "2021-03-09T10:11:16.891950Z",
     "iopub.status.busy": "2021-03-09T10:11:16.875772Z",
     "iopub.status.idle": "2021-03-09T10:11:17.030458Z",
     "shell.execute_reply": "2021-03-09T10:11:17.030853Z"
    }
   },
   "outputs": [
    {
     "data": {
      "text/plain": [
       "<seaborn.axisgrid.FacetGrid at 0x12d0f5040>"
      ]
     },
     "execution_count": 1,
     "metadata": {},
     "output_type": "execute_result"
    },
    {
     "data": {
      "image/png": "[encoded data removed]",
      "text/plain": [
       "<Figure size 360x360 with 1 Axes>"
      ]
     },
     "metadata": {
      "needs_background": "light"
     },
     "output_type": "display_data"
    }
   ],
   "source": [
    "sns.displot(residual, kind=\"kde\");"
   ]
  },
  {
   "cell_type": "code",
   "execution_count": 9,
   "id": "gothic-emergency",
   "metadata": {
    "execution": {
     "iopub.execute_input": "2021-03-09T10:11:17.036278Z",
     "iopub.status.busy": "2021-03-09T10:11:17.035802Z",
     "iopub.status.idle": "2021-03-09T10:11:17.038419Z",
     "shell.execute_reply": "2021-03-09T10:11:17.038751Z"
    }
   },
   "outputs": [
    {
     "name": "stdout",
     "output_type": "stream",
     "text": [
      "r2 score: 0.6541346538024739\n",
      "mse: 31.853413810571485\n",
      "rmse: 5.643882866482214\n"
     ]
    }
   ],
   "source": [
    "print(\"r2 score: {}\".format(metrics.r2_score(y_test, predicted)))\n",
    "print(\"mse: {}\".format(metrics.mean_squared_error(y_test, predicted)))\n",
    "print(\"rmse: {}\".format(np.sqrt(metrics.mean_squared_error(y_test, predicted))))"
   ]
  },
  {
   "cell_type": "code",
   "execution_count": 10,
   "id": "unusual-jewelry",
   "metadata": {
    "execution": {
     "iopub.execute_input": "2021-03-09T10:11:17.045143Z",
     "iopub.status.busy": "2021-03-09T10:11:17.044612Z",
     "iopub.status.idle": "2021-03-09T10:11:17.524299Z",
     "shell.execute_reply": "2021-03-09T10:11:17.523866Z"
    }
   },
   "outputs": [
    {
     "data": {
      "image/svg+xml": [
       "<?xml version=\"1.0\" encoding=\"UTF-8\" standalone=\"no\"?>\n",
       "<!DOCTYPE svg PUBLIC \"-//W3C//DTD SVG 1.1//EN\"\n",
       " \"http://www.w3.org/Graphics/SVG/1.1/DTD/svg11.dtd\">\n",
       "<!-- Generated by graphviz version 2.46.1 (20210213.1702)\n",
       " -->\n",
       "<!-- Title: Tree Pages: 1 -->\n",
       "<svg width=\"1563pt\" height=\"477pt\"\n",
       " viewBox=\"0.00 0.00 1562.50 477.00\" xmlns=\"http://www.w3.org/2000/svg\" xmlns:xlink=\"http://www.w3.org/1999/xlink\">\n",
       "<g id=\"graph0\" class=\"graph\" transform=\"scale(1 1) rotate(0) translate(4 473)\">\n",
       "<title>Tree</title>\n",
       "<polygon fill=\"white\" stroke=\"transparent\" points=\"-4,4 -4,-473 1558.5,-473 1558.5,4 -4,4\"/>\n",
       "<!-- 0 -->\n",
       "<g id=\"node1\" class=\"node\">\n",
       "<title>0</title>\n",
       "<polygon fill=\"#f7d8c2\" stroke=\"black\" points=\"782,-469 677,-469 677,-401 782,-401 782,-469\"/>\n",
       "<text text-anchor=\"middle\" x=\"729.5\" y=\"-453.8\" font-family=\"Times,serif\" font-size=\"14.00\">LSTAT &lt;= 7.81</text>\n",
       "<text text-anchor=\"middle\" x=\"729.5\" y=\"-438.8\" font-family=\"Times,serif\" font-size=\"14.00\">mse = 81.044</text>\n",
       "<text text-anchor=\"middle\" x=\"729.5\" y=\"-423.8\" font-family=\"Times,serif\" font-size=\"14.00\">samples = 354</text>\n",
       "<text text-anchor=\"middle\" x=\"729.5\" y=\"-408.8\" font-family=\"Times,serif\" font-size=\"14.00\">value = 22.379</text>\n",
       "</g>\n",
       "<!-- 1 -->\n",
       "<g id=\"node2\" class=\"node\">\n",
       "<title>1</title>\n",
       "<polygon fill=\"#f0b68d\" stroke=\"black\" points=\"712,-365 613,-365 613,-297 712,-297 712,-365\"/>\n",
       "<text text-anchor=\"middle\" x=\"662.5\" y=\"-349.8\" font-family=\"Times,serif\" font-size=\"14.00\">RM &lt;= 7.437</text>\n",
       "<text text-anchor=\"middle\" x=\"662.5\" y=\"-334.8\" font-family=\"Times,serif\" font-size=\"14.00\">mse = 71.574</text>\n",
       "<text text-anchor=\"middle\" x=\"662.5\" y=\"-319.8\" font-family=\"Times,serif\" font-size=\"14.00\">samples = 103</text>\n",
       "<text text-anchor=\"middle\" x=\"662.5\" y=\"-304.8\" font-family=\"Times,serif\" font-size=\"14.00\">value = 32.269</text>\n",
       "</g>\n",
       "<!-- 0&#45;&gt;1 -->\n",
       "<g id=\"edge1\" class=\"edge\">\n",
       "<title>0&#45;&gt;1</title>\n",
       "<path fill=\"none\" stroke=\"black\" d=\"M707.75,-400.88C702.07,-392.24 695.88,-382.82 689.95,-373.79\"/>\n",
       "<polygon fill=\"black\" stroke=\"black\" points=\"692.79,-371.74 684.37,-365.3 686.94,-375.58 692.79,-371.74\"/>\n",
       "<text text-anchor=\"middle\" x=\"679.3\" y=\"-386.08\" font-family=\"Times,serif\" font-size=\"14.00\">True</text>\n",
       "</g>\n",
       "<!-- 14 -->\n",
       "<g id=\"node15\" class=\"node\">\n",
       "<title>14</title>\n",
       "<polygon fill=\"#fae6d8\" stroke=\"black\" points=\"899,-365 780,-365 780,-297 899,-297 899,-365\"/>\n",
       "<text text-anchor=\"middle\" x=\"839.5\" y=\"-349.8\" font-family=\"Times,serif\" font-size=\"14.00\">LSTAT &lt;= 14.805</text>\n",
       "<text text-anchor=\"middle\" x=\"839.5\" y=\"-334.8\" font-family=\"Times,serif\" font-size=\"14.00\">mse = 28.327</text>\n",
       "<text text-anchor=\"middle\" x=\"839.5\" y=\"-319.8\" font-family=\"Times,serif\" font-size=\"14.00\">samples = 251</text>\n",
       "<text text-anchor=\"middle\" x=\"839.5\" y=\"-304.8\" font-family=\"Times,serif\" font-size=\"14.00\">value = 18.321</text>\n",
       "</g>\n",
       "<!-- 0&#45;&gt;14 -->\n",
       "<g id=\"edge14\" class=\"edge\">\n",
       "<title>0&#45;&gt;14</title>\n",
       "<path fill=\"none\" stroke=\"black\" d=\"M765.21,-400.88C775.11,-391.71 785.96,-381.65 796.23,-372.12\"/>\n",
       "<polygon fill=\"black\" stroke=\"black\" points=\"798.64,-374.67 803.59,-365.3 793.88,-369.53 798.64,-374.67\"/>\n",
       "<text text-anchor=\"middle\" x=\"802.65\" y=\"-386.58\" font-family=\"Times,serif\" font-size=\"14.00\">False</text>\n",
       "</g>\n",
       "<!-- 2 -->\n",
       "<g id=\"node3\" class=\"node\">\n",
       "<title>2</title>\n",
       "<polygon fill=\"#f2c19d\" stroke=\"black\" points=\"380,-261 281,-261 281,-193 380,-193 380,-261\"/>\n",
       "<text text-anchor=\"middle\" x=\"330.5\" y=\"-245.8\" font-family=\"Times,serif\" font-size=\"14.00\">RM &lt;= 6.681</text>\n",
       "<text text-anchor=\"middle\" x=\"330.5\" y=\"-230.8\" font-family=\"Times,serif\" font-size=\"14.00\">mse = 28.407</text>\n",
       "<text text-anchor=\"middle\" x=\"330.5\" y=\"-215.8\" font-family=\"Times,serif\" font-size=\"14.00\">samples = 84</text>\n",
       "<text text-anchor=\"middle\" x=\"330.5\" y=\"-200.8\" font-family=\"Times,serif\" font-size=\"14.00\">value = 29.237</text>\n",
       "</g>\n",
       "<!-- 1&#45;&gt;2 -->\n",
       "<g id=\"edge2\" class=\"edge\">\n",
       "<title>1&#45;&gt;2</title>\n",
       "<path fill=\"none\" stroke=\"black\" d=\"M612.8,-314.73C553.21,-296.42 453.46,-265.78 389.88,-246.24\"/>\n",
       "<polygon fill=\"black\" stroke=\"black\" points=\"390.59,-242.8 380,-243.21 388.53,-249.49 390.59,-242.8\"/>\n",
       "</g>\n",
       "<!-- 9 -->\n",
       "<g id=\"node10\" class=\"node\">\n",
       "<title>9</title>\n",
       "<polygon fill=\"#e68844\" stroke=\"black\" points=\"716,-261 609,-261 609,-193 716,-193 716,-261\"/>\n",
       "<text text-anchor=\"middle\" x=\"662.5\" y=\"-245.8\" font-family=\"Times,serif\" font-size=\"14.00\">CRIM &lt;= 2.742</text>\n",
       "<text text-anchor=\"middle\" x=\"662.5\" y=\"-230.8\" font-family=\"Times,serif\" font-size=\"14.00\">mse = 42.09</text>\n",
       "<text text-anchor=\"middle\" x=\"662.5\" y=\"-215.8\" font-family=\"Times,serif\" font-size=\"14.00\">samples = 19</text>\n",
       "<text text-anchor=\"middle\" x=\"662.5\" y=\"-200.8\" font-family=\"Times,serif\" font-size=\"14.00\">value = 45.674</text>\n",
       "</g>\n",
       "<!-- 1&#45;&gt;9 -->\n",
       "<g id=\"edge9\" class=\"edge\">\n",
       "<title>1&#45;&gt;9</title>\n",
       "<path fill=\"none\" stroke=\"black\" d=\"M662.5,-296.88C662.5,-288.78 662.5,-279.98 662.5,-271.47\"/>\n",
       "<polygon fill=\"black\" stroke=\"black\" points=\"666,-271.3 662.5,-261.3 659,-271.3 666,-271.3\"/>\n",
       "</g>\n",
       "<!-- 3 -->\n",
       "<g id=\"node4\" class=\"node\">\n",
       "<title>3</title>\n",
       "<polygon fill=\"#f5ceb2\" stroke=\"black\" points=\"210,-157 117,-157 117,-89 210,-89 210,-157\"/>\n",
       "<text text-anchor=\"middle\" x=\"163.5\" y=\"-141.8\" font-family=\"Times,serif\" font-size=\"14.00\">RM &lt;= 6.529</text>\n",
       "<text text-anchor=\"middle\" x=\"163.5\" y=\"-126.8\" font-family=\"Times,serif\" font-size=\"14.00\">mse = 9.256</text>\n",
       "<text text-anchor=\"middle\" x=\"163.5\" y=\"-111.8\" font-family=\"Times,serif\" font-size=\"14.00\">samples = 40</text>\n",
       "<text text-anchor=\"middle\" x=\"163.5\" y=\"-96.8\" font-family=\"Times,serif\" font-size=\"14.00\">value = 25.42</text>\n",
       "</g>\n",
       "<!-- 2&#45;&gt;3 -->\n",
       "<g id=\"edge3\" class=\"edge\">\n",
       "<title>2&#45;&gt;3</title>\n",
       "<path fill=\"none\" stroke=\"black\" d=\"M280.85,-195.67C261.33,-183.75 238.85,-170.02 218.82,-157.79\"/>\n",
       "<polygon fill=\"black\" stroke=\"black\" points=\"220.46,-154.69 210.1,-152.46 216.81,-160.66 220.46,-154.69\"/>\n",
       "</g>\n",
       "<!-- 6 -->\n",
       "<g id=\"node7\" class=\"node\">\n",
       "<title>6</title>\n",
       "<polygon fill=\"#f0b58a\" stroke=\"black\" points=\"380,-157 281,-157 281,-89 380,-89 380,-157\"/>\n",
       "<text text-anchor=\"middle\" x=\"330.5\" y=\"-141.8\" font-family=\"Times,serif\" font-size=\"14.00\">DIS &lt;= 1.886</text>\n",
       "<text text-anchor=\"middle\" x=\"330.5\" y=\"-126.8\" font-family=\"Times,serif\" font-size=\"14.00\">mse = 20.532</text>\n",
       "<text text-anchor=\"middle\" x=\"330.5\" y=\"-111.8\" font-family=\"Times,serif\" font-size=\"14.00\">samples = 44</text>\n",
       "<text text-anchor=\"middle\" x=\"330.5\" y=\"-96.8\" font-family=\"Times,serif\" font-size=\"14.00\">value = 32.707</text>\n",
       "</g>\n",
       "<!-- 2&#45;&gt;6 -->\n",
       "<g id=\"edge6\" class=\"edge\">\n",
       "<title>2&#45;&gt;6</title>\n",
       "<path fill=\"none\" stroke=\"black\" d=\"M330.5,-192.88C330.5,-184.78 330.5,-175.98 330.5,-167.47\"/>\n",
       "<polygon fill=\"black\" stroke=\"black\" points=\"334,-167.3 330.5,-157.3 327,-167.3 334,-167.3\"/>\n",
       "</g>\n",
       "<!-- 4 -->\n",
       "<g id=\"node5\" class=\"node\">\n",
       "<title>4</title>\n",
       "<polygon fill=\"#f6d3ba\" stroke=\"black\" points=\"99,-53 0,-53 0,0 99,0 99,-53\"/>\n",
       "<text text-anchor=\"middle\" x=\"49.5\" y=\"-37.8\" font-family=\"Times,serif\" font-size=\"14.00\">mse = 3.65</text>\n",
       "<text text-anchor=\"middle\" x=\"49.5\" y=\"-22.8\" font-family=\"Times,serif\" font-size=\"14.00\">samples = 25</text>\n",
       "<text text-anchor=\"middle\" x=\"49.5\" y=\"-7.8\" font-family=\"Times,serif\" font-size=\"14.00\">value = 23.956</text>\n",
       "</g>\n",
       "<!-- 3&#45;&gt;4 -->\n",
       "<g id=\"edge4\" class=\"edge\">\n",
       "<title>3&#45;&gt;4</title>\n",
       "<path fill=\"none\" stroke=\"black\" d=\"M123.63,-88.95C112.26,-79.53 99.89,-69.27 88.57,-59.89\"/>\n",
       "<polygon fill=\"black\" stroke=\"black\" points=\"90.48,-56.92 80.55,-53.24 86.01,-62.31 90.48,-56.92\"/>\n",
       "</g>\n",
       "<!-- 5 -->\n",
       "<g id=\"node6\" class=\"node\">\n",
       "<title>5</title>\n",
       "<polygon fill=\"#f3c5a4\" stroke=\"black\" points=\"209.5,-53 117.5,-53 117.5,0 209.5,0 209.5,-53\"/>\n",
       "<text text-anchor=\"middle\" x=\"163.5\" y=\"-37.8\" font-family=\"Times,serif\" font-size=\"14.00\">mse = 9.073</text>\n",
       "<text text-anchor=\"middle\" x=\"163.5\" y=\"-22.8\" font-family=\"Times,serif\" font-size=\"14.00\">samples = 15</text>\n",
       "<text text-anchor=\"middle\" x=\"163.5\" y=\"-7.8\" font-family=\"Times,serif\" font-size=\"14.00\">value = 27.86</text>\n",
       "</g>\n",
       "<!-- 3&#45;&gt;5 -->\n",
       "<g id=\"edge5\" class=\"edge\">\n",
       "<title>3&#45;&gt;5</title>\n",
       "<path fill=\"none\" stroke=\"black\" d=\"M163.5,-88.95C163.5,-80.72 163.5,-71.85 163.5,-63.48\"/>\n",
       "<polygon fill=\"black\" stroke=\"black\" points=\"167,-63.24 163.5,-53.24 160,-63.24 167,-63.24\"/>\n",
       "</g>\n",
       "<!-- 7 -->\n",
       "<g id=\"node8\" class=\"node\">\n",
       "<title>7</title>\n",
       "<polygon fill=\"#e68844\" stroke=\"black\" points=\"319.5,-53 227.5,-53 227.5,0 319.5,0 319.5,-53\"/>\n",
       "<text text-anchor=\"middle\" x=\"273.5\" y=\"-37.8\" font-family=\"Times,serif\" font-size=\"14.00\">mse = 18.923</text>\n",
       "<text text-anchor=\"middle\" x=\"273.5\" y=\"-22.8\" font-family=\"Times,serif\" font-size=\"14.00\">samples = 2</text>\n",
       "<text text-anchor=\"middle\" x=\"273.5\" y=\"-7.8\" font-family=\"Times,serif\" font-size=\"14.00\">value = 45.65</text>\n",
       "</g>\n",
       "<!-- 6&#45;&gt;7 -->\n",
       "<g id=\"edge7\" class=\"edge\">\n",
       "<title>6&#45;&gt;7</title>\n",
       "<path fill=\"none\" stroke=\"black\" d=\"M310.56,-88.95C305.27,-80.17 299.53,-70.66 294.2,-61.82\"/>\n",
       "<polygon fill=\"black\" stroke=\"black\" points=\"297.19,-59.99 289.02,-53.24 291.19,-63.61 297.19,-59.99\"/>\n",
       "</g>\n",
       "<!-- 8 -->\n",
       "<g id=\"node9\" class=\"node\">\n",
       "<title>8</title>\n",
       "<polygon fill=\"#f0b78e\" stroke=\"black\" points=\"429.5,-53 337.5,-53 337.5,0 429.5,0 429.5,-53\"/>\n",
       "<text text-anchor=\"middle\" x=\"383.5\" y=\"-37.8\" font-family=\"Times,serif\" font-size=\"14.00\">mse = 12.251</text>\n",
       "<text text-anchor=\"middle\" x=\"383.5\" y=\"-22.8\" font-family=\"Times,serif\" font-size=\"14.00\">samples = 42</text>\n",
       "<text text-anchor=\"middle\" x=\"383.5\" y=\"-7.8\" font-family=\"Times,serif\" font-size=\"14.00\">value = 32.09</text>\n",
       "</g>\n",
       "<!-- 6&#45;&gt;8 -->\n",
       "<g id=\"edge8\" class=\"edge\">\n",
       "<title>6&#45;&gt;8</title>\n",
       "<path fill=\"none\" stroke=\"black\" d=\"M349.04,-88.95C353.91,-80.26 359.18,-70.86 364.1,-62.09\"/>\n",
       "<polygon fill=\"black\" stroke=\"black\" points=\"367.23,-63.67 369.07,-53.24 361.12,-60.25 367.23,-63.67\"/>\n",
       "</g>\n",
       "<!-- 10 -->\n",
       "<g id=\"node11\" class=\"node\">\n",
       "<title>10</title>\n",
       "<polygon fill=\"#e6843d\" stroke=\"black\" points=\"619,-157 520,-157 520,-89 619,-89 619,-157\"/>\n",
       "<text text-anchor=\"middle\" x=\"569.5\" y=\"-141.8\" font-family=\"Times,serif\" font-size=\"14.00\">B &lt;= 394.805</text>\n",
       "<text text-anchor=\"middle\" x=\"569.5\" y=\"-126.8\" font-family=\"Times,serif\" font-size=\"14.00\">mse = 11.285</text>\n",
       "<text text-anchor=\"middle\" x=\"569.5\" y=\"-111.8\" font-family=\"Times,serif\" font-size=\"14.00\">samples = 18</text>\n",
       "<text text-anchor=\"middle\" x=\"569.5\" y=\"-96.8\" font-family=\"Times,serif\" font-size=\"14.00\">value = 46.994</text>\n",
       "</g>\n",
       "<!-- 9&#45;&gt;10 -->\n",
       "<g id=\"edge10\" class=\"edge\">\n",
       "<title>9&#45;&gt;10</title>\n",
       "<path fill=\"none\" stroke=\"black\" d=\"M632.31,-192.88C624.18,-183.98 615.3,-174.24 606.84,-164.96\"/>\n",
       "<polygon fill=\"black\" stroke=\"black\" points=\"609.19,-162.33 599.86,-157.3 604.01,-167.05 609.19,-162.33\"/>\n",
       "</g>\n",
       "<!-- 13 -->\n",
       "<g id=\"node14\" class=\"node\">\n",
       "<title>13</title>\n",
       "<polygon fill=\"#f7dac5\" stroke=\"black\" points=\"723.5,-149.5 637.5,-149.5 637.5,-96.5 723.5,-96.5 723.5,-149.5\"/>\n",
       "<text text-anchor=\"middle\" x=\"680.5\" y=\"-134.3\" font-family=\"Times,serif\" font-size=\"14.00\">mse = 0.0</text>\n",
       "<text text-anchor=\"middle\" x=\"680.5\" y=\"-119.3\" font-family=\"Times,serif\" font-size=\"14.00\">samples = 1</text>\n",
       "<text text-anchor=\"middle\" x=\"680.5\" y=\"-104.3\" font-family=\"Times,serif\" font-size=\"14.00\">value = 21.9</text>\n",
       "</g>\n",
       "<!-- 9&#45;&gt;13 -->\n",
       "<g id=\"edge13\" class=\"edge\">\n",
       "<title>9&#45;&gt;13</title>\n",
       "<path fill=\"none\" stroke=\"black\" d=\"M668.34,-192.88C670.23,-182.22 672.32,-170.35 674.23,-159.52\"/>\n",
       "<polygon fill=\"black\" stroke=\"black\" points=\"677.71,-159.98 676,-149.52 670.81,-158.76 677.71,-159.98\"/>\n",
       "</g>\n",
       "<!-- 11 -->\n",
       "<g id=\"node12\" class=\"node\">\n",
       "<title>11</title>\n",
       "<polygon fill=\"#e58139\" stroke=\"black\" points=\"547,-53 448,-53 448,0 547,0 547,-53\"/>\n",
       "<text text-anchor=\"middle\" x=\"497.5\" y=\"-37.8\" font-family=\"Times,serif\" font-size=\"14.00\">mse = 7.531</text>\n",
       "<text text-anchor=\"middle\" x=\"497.5\" y=\"-22.8\" font-family=\"Times,serif\" font-size=\"14.00\">samples = 16</text>\n",
       "<text text-anchor=\"middle\" x=\"497.5\" y=\"-7.8\" font-family=\"Times,serif\" font-size=\"14.00\">value = 47.738</text>\n",
       "</g>\n",
       "<!-- 10&#45;&gt;11 -->\n",
       "<g id=\"edge11\" class=\"edge\">\n",
       "<title>10&#45;&gt;11</title>\n",
       "<path fill=\"none\" stroke=\"black\" d=\"M544.32,-88.95C537.49,-79.98 530.08,-70.27 523.22,-61.26\"/>\n",
       "<polygon fill=\"black\" stroke=\"black\" points=\"525.95,-59.07 517.11,-53.24 520.39,-63.31 525.95,-59.07\"/>\n",
       "</g>\n",
       "<!-- 12 -->\n",
       "<g id=\"node13\" class=\"node\">\n",
       "<title>12</title>\n",
       "<polygon fill=\"#ea985d\" stroke=\"black\" points=\"657.5,-53 565.5,-53 565.5,0 657.5,0 657.5,-53\"/>\n",
       "<text text-anchor=\"middle\" x=\"611.5\" y=\"-37.8\" font-family=\"Times,serif\" font-size=\"14.00\">mse = 1.563</text>\n",
       "<text text-anchor=\"middle\" x=\"611.5\" y=\"-22.8\" font-family=\"Times,serif\" font-size=\"14.00\">samples = 2</text>\n",
       "<text text-anchor=\"middle\" x=\"611.5\" y=\"-7.8\" font-family=\"Times,serif\" font-size=\"14.00\">value = 41.05</text>\n",
       "</g>\n",
       "<!-- 10&#45;&gt;12 -->\n",
       "<g id=\"edge12\" class=\"edge\">\n",
       "<title>10&#45;&gt;12</title>\n",
       "<path fill=\"none\" stroke=\"black\" d=\"M584.19,-88.95C587.97,-80.44 592.05,-71.26 595.88,-62.65\"/>\n",
       "<polygon fill=\"black\" stroke=\"black\" points=\"599.2,-63.8 600.06,-53.24 592.8,-60.95 599.2,-63.8\"/>\n",
       "</g>\n",
       "<!-- 15 -->\n",
       "<g id=\"node16\" class=\"node\">\n",
       "<title>15</title>\n",
       "<polygon fill=\"#f8dbc6\" stroke=\"black\" points=\"903,-261 776,-261 776,-193 903,-193 903,-261\"/>\n",
       "<text text-anchor=\"middle\" x=\"839.5\" y=\"-245.8\" font-family=\"Times,serif\" font-size=\"14.00\">PTRATIO &lt;= 13.85</text>\n",
       "<text text-anchor=\"middle\" x=\"839.5\" y=\"-230.8\" font-family=\"Times,serif\" font-size=\"14.00\">mse = 14.783</text>\n",
       "<text text-anchor=\"middle\" x=\"839.5\" y=\"-215.8\" font-family=\"Times,serif\" font-size=\"14.00\">samples = 131</text>\n",
       "<text text-anchor=\"middle\" x=\"839.5\" y=\"-200.8\" font-family=\"Times,serif\" font-size=\"14.00\">value = 21.671</text>\n",
       "</g>\n",
       "<!-- 14&#45;&gt;15 -->\n",
       "<g id=\"edge15\" class=\"edge\">\n",
       "<title>14&#45;&gt;15</title>\n",
       "<path fill=\"none\" stroke=\"black\" d=\"M839.5,-296.88C839.5,-288.78 839.5,-279.98 839.5,-271.47\"/>\n",
       "<polygon fill=\"black\" stroke=\"black\" points=\"843,-271.3 839.5,-261.3 836,-271.3 843,-271.3\"/>\n",
       "</g>\n",
       "<!-- 22 -->\n",
       "<g id=\"node23\" class=\"node\">\n",
       "<title>22</title>\n",
       "<polygon fill=\"#fcf3ec\" stroke=\"black\" points=\"1263,-261 1164,-261 1164,-193 1263,-193 1263,-261\"/>\n",
       "<text text-anchor=\"middle\" x=\"1213.5\" y=\"-245.8\" font-family=\"Times,serif\" font-size=\"14.00\">DIS &lt;= 2.104</text>\n",
       "<text text-anchor=\"middle\" x=\"1213.5\" y=\"-230.8\" font-family=\"Times,serif\" font-size=\"14.00\">mse = 17.488</text>\n",
       "<text text-anchor=\"middle\" x=\"1213.5\" y=\"-215.8\" font-family=\"Times,serif\" font-size=\"14.00\">samples = 120</text>\n",
       "<text text-anchor=\"middle\" x=\"1213.5\" y=\"-200.8\" font-family=\"Times,serif\" font-size=\"14.00\">value = 14.664</text>\n",
       "</g>\n",
       "<!-- 14&#45;&gt;22 -->\n",
       "<g id=\"edge22\" class=\"edge\">\n",
       "<title>14&#45;&gt;22</title>\n",
       "<path fill=\"none\" stroke=\"black\" d=\"M899.17,-313.73C969.05,-294.67 1084.11,-263.29 1153.94,-244.24\"/>\n",
       "<polygon fill=\"black\" stroke=\"black\" points=\"1155.17,-247.54 1163.9,-241.53 1153.33,-240.78 1155.17,-247.54\"/>\n",
       "</g>\n",
       "<!-- 16 -->\n",
       "<g id=\"node17\" class=\"node\">\n",
       "<title>16</title>\n",
       "<polygon fill=\"#f1bb94\" stroke=\"black\" points=\"869,-157 776,-157 776,-89 869,-89 869,-157\"/>\n",
       "<text text-anchor=\"middle\" x=\"822.5\" y=\"-141.8\" font-family=\"Times,serif\" font-size=\"14.00\">RM &lt;= 6.287</text>\n",
       "<text text-anchor=\"middle\" x=\"822.5\" y=\"-126.8\" font-family=\"Times,serif\" font-size=\"14.00\">mse = 17.629</text>\n",
       "<text text-anchor=\"middle\" x=\"822.5\" y=\"-111.8\" font-family=\"Times,serif\" font-size=\"14.00\">samples = 6</text>\n",
       "<text text-anchor=\"middle\" x=\"822.5\" y=\"-96.8\" font-family=\"Times,serif\" font-size=\"14.00\">value = 30.85</text>\n",
       "</g>\n",
       "<!-- 15&#45;&gt;16 -->\n",
       "<g id=\"edge16\" class=\"edge\">\n",
       "<title>15&#45;&gt;16</title>\n",
       "<path fill=\"none\" stroke=\"black\" d=\"M833.98,-192.88C832.61,-184.69 831.13,-175.79 829.7,-167.19\"/>\n",
       "<polygon fill=\"black\" stroke=\"black\" points=\"833.15,-166.59 828.05,-157.3 826.24,-167.74 833.15,-166.59\"/>\n",
       "</g>\n",
       "<!-- 19 -->\n",
       "<g id=\"node20\" class=\"node\">\n",
       "<title>19</title>\n",
       "<polygon fill=\"#f8dcc8\" stroke=\"black\" points=\"986,-157 887,-157 887,-89 986,-89 986,-157\"/>\n",
       "<text text-anchor=\"middle\" x=\"936.5\" y=\"-141.8\" font-family=\"Times,serif\" font-size=\"14.00\">TAX &lt;= 222.5</text>\n",
       "<text text-anchor=\"middle\" x=\"936.5\" y=\"-126.8\" font-family=\"Times,serif\" font-size=\"14.00\">mse = 10.408</text>\n",
       "<text text-anchor=\"middle\" x=\"936.5\" y=\"-111.8\" font-family=\"Times,serif\" font-size=\"14.00\">samples = 125</text>\n",
       "<text text-anchor=\"middle\" x=\"936.5\" y=\"-96.8\" font-family=\"Times,serif\" font-size=\"14.00\">value = 21.23</text>\n",
       "</g>\n",
       "<!-- 15&#45;&gt;19 -->\n",
       "<g id=\"edge19\" class=\"edge\">\n",
       "<title>15&#45;&gt;19</title>\n",
       "<path fill=\"none\" stroke=\"black\" d=\"M870.99,-192.88C879.55,-183.89 888.91,-174.04 897.82,-164.68\"/>\n",
       "<polygon fill=\"black\" stroke=\"black\" points=\"900.48,-166.96 904.83,-157.3 895.41,-162.13 900.48,-166.96\"/>\n",
       "</g>\n",
       "<!-- 17 -->\n",
       "<g id=\"node18\" class=\"node\">\n",
       "<title>17</title>\n",
       "<polygon fill=\"#f7d7c0\" stroke=\"black\" points=\"761.5,-53 675.5,-53 675.5,0 761.5,0 761.5,-53\"/>\n",
       "<text text-anchor=\"middle\" x=\"718.5\" y=\"-37.8\" font-family=\"Times,serif\" font-size=\"14.00\">mse = 0.0</text>\n",
       "<text text-anchor=\"middle\" x=\"718.5\" y=\"-22.8\" font-family=\"Times,serif\" font-size=\"14.00\">samples = 1</text>\n",
       "<text text-anchor=\"middle\" x=\"718.5\" y=\"-7.8\" font-family=\"Times,serif\" font-size=\"14.00\">value = 22.8</text>\n",
       "</g>\n",
       "<!-- 16&#45;&gt;17 -->\n",
       "<g id=\"edge17\" class=\"edge\">\n",
       "<title>16&#45;&gt;17</title>\n",
       "<path fill=\"none\" stroke=\"black\" d=\"M786.13,-88.95C775.86,-79.62 764.69,-69.47 754.45,-60.16\"/>\n",
       "<polygon fill=\"black\" stroke=\"black\" points=\"756.58,-57.37 746.82,-53.24 751.87,-62.55 756.58,-57.37\"/>\n",
       "</g>\n",
       "<!-- 18 -->\n",
       "<g id=\"node19\" class=\"node\">\n",
       "<title>18</title>\n",
       "<polygon fill=\"#f0b68c\" stroke=\"black\" points=\"871.5,-53 779.5,-53 779.5,0 871.5,0 871.5,-53\"/>\n",
       "<text text-anchor=\"middle\" x=\"825.5\" y=\"-37.8\" font-family=\"Times,serif\" font-size=\"14.00\">mse = 5.602</text>\n",
       "<text text-anchor=\"middle\" x=\"825.5\" y=\"-22.8\" font-family=\"Times,serif\" font-size=\"14.00\">samples = 5</text>\n",
       "<text text-anchor=\"middle\" x=\"825.5\" y=\"-7.8\" font-family=\"Times,serif\" font-size=\"14.00\">value = 32.46</text>\n",
       "</g>\n",
       "<!-- 16&#45;&gt;18 -->\n",
       "<g id=\"edge18\" class=\"edge\">\n",
       "<title>16&#45;&gt;18</title>\n",
       "<path fill=\"none\" stroke=\"black\" d=\"M823.55,-88.95C823.81,-80.72 824.09,-71.85 824.36,-63.48\"/>\n",
       "<polygon fill=\"black\" stroke=\"black\" points=\"827.86,-63.34 824.68,-53.24 820.87,-63.12 827.86,-63.34\"/>\n",
       "</g>\n",
       "<!-- 20 -->\n",
       "<g id=\"node21\" class=\"node\">\n",
       "<title>20</title>\n",
       "<polygon fill=\"#f4c7a7\" stroke=\"black\" points=\"975.5,-53 889.5,-53 889.5,0 975.5,0 975.5,-53\"/>\n",
       "<text text-anchor=\"middle\" x=\"932.5\" y=\"-37.8\" font-family=\"Times,serif\" font-size=\"14.00\">mse = 32.56</text>\n",
       "<text text-anchor=\"middle\" x=\"932.5\" y=\"-22.8\" font-family=\"Times,serif\" font-size=\"14.00\">samples = 5</text>\n",
       "<text text-anchor=\"middle\" x=\"932.5\" y=\"-7.8\" font-family=\"Times,serif\" font-size=\"14.00\">value = 27.3</text>\n",
       "</g>\n",
       "<!-- 19&#45;&gt;20 -->\n",
       "<g id=\"edge20\" class=\"edge\">\n",
       "<title>19&#45;&gt;20</title>\n",
       "<path fill=\"none\" stroke=\"black\" d=\"M935.1,-88.95C934.75,-80.72 934.38,-71.85 934.02,-63.48\"/>\n",
       "<polygon fill=\"black\" stroke=\"black\" points=\"937.51,-63.08 933.59,-53.24 930.52,-63.38 937.51,-63.08\"/>\n",
       "</g>\n",
       "<!-- 21 -->\n",
       "<g id=\"node22\" class=\"node\">\n",
       "<title>21</title>\n",
       "<polygon fill=\"#f8ddca\" stroke=\"black\" points=\"1093,-53 994,-53 994,0 1093,0 1093,-53\"/>\n",
       "<text text-anchor=\"middle\" x=\"1043.5\" y=\"-37.8\" font-family=\"Times,serif\" font-size=\"14.00\">mse = 7.886</text>\n",
       "<text text-anchor=\"middle\" x=\"1043.5\" y=\"-22.8\" font-family=\"Times,serif\" font-size=\"14.00\">samples = 120</text>\n",
       "<text text-anchor=\"middle\" x=\"1043.5\" y=\"-7.8\" font-family=\"Times,serif\" font-size=\"14.00\">value = 20.978</text>\n",
       "</g>\n",
       "<!-- 19&#45;&gt;21 -->\n",
       "<g id=\"edge21\" class=\"edge\">\n",
       "<title>19&#45;&gt;21</title>\n",
       "<path fill=\"none\" stroke=\"black\" d=\"M973.92,-88.95C984.59,-79.53 996.2,-69.27 1006.82,-59.89\"/>\n",
       "<polygon fill=\"black\" stroke=\"black\" points=\"1009.18,-62.48 1014.36,-53.24 1004.55,-57.23 1009.18,-62.48\"/>\n",
       "</g>\n",
       "<!-- 23 -->\n",
       "<g id=\"node24\" class=\"node\">\n",
       "<title>23</title>\n",
       "<polygon fill=\"#fefbf9\" stroke=\"black\" points=\"1269.5,-157 1157.5,-157 1157.5,-89 1269.5,-89 1269.5,-157\"/>\n",
       "<text text-anchor=\"middle\" x=\"1213.5\" y=\"-141.8\" font-family=\"Times,serif\" font-size=\"14.00\">LSTAT &lt;= 19.73</text>\n",
       "<text text-anchor=\"middle\" x=\"1213.5\" y=\"-126.8\" font-family=\"Times,serif\" font-size=\"14.00\">mse = 10.907</text>\n",
       "<text text-anchor=\"middle\" x=\"1213.5\" y=\"-111.8\" font-family=\"Times,serif\" font-size=\"14.00\">samples = 63</text>\n",
       "<text text-anchor=\"middle\" x=\"1213.5\" y=\"-96.8\" font-family=\"Times,serif\" font-size=\"14.00\">value = 12.254</text>\n",
       "</g>\n",
       "<!-- 22&#45;&gt;23 -->\n",
       "<g id=\"edge23\" class=\"edge\">\n",
       "<title>22&#45;&gt;23</title>\n",
       "<path fill=\"none\" stroke=\"black\" d=\"M1213.5,-192.88C1213.5,-184.78 1213.5,-175.98 1213.5,-167.47\"/>\n",
       "<polygon fill=\"black\" stroke=\"black\" points=\"1217,-167.3 1213.5,-157.3 1210,-167.3 1217,-167.3\"/>\n",
       "</g>\n",
       "<!-- 26 -->\n",
       "<g id=\"node27\" class=\"node\">\n",
       "<title>26</title>\n",
       "<polygon fill=\"#fbeadd\" stroke=\"black\" points=\"1448,-157 1341,-157 1341,-89 1448,-89 1448,-157\"/>\n",
       "<text text-anchor=\"middle\" x=\"1394.5\" y=\"-141.8\" font-family=\"Times,serif\" font-size=\"14.00\">CRIM &lt;= 0.615</text>\n",
       "<text text-anchor=\"middle\" x=\"1394.5\" y=\"-126.8\" font-family=\"Times,serif\" font-size=\"14.00\">mse = 11.246</text>\n",
       "<text text-anchor=\"middle\" x=\"1394.5\" y=\"-111.8\" font-family=\"Times,serif\" font-size=\"14.00\">samples = 57</text>\n",
       "<text text-anchor=\"middle\" x=\"1394.5\" y=\"-96.8\" font-family=\"Times,serif\" font-size=\"14.00\">value = 17.328</text>\n",
       "</g>\n",
       "<!-- 22&#45;&gt;26 -->\n",
       "<g id=\"edge26\" class=\"edge\">\n",
       "<title>22&#45;&gt;26</title>\n",
       "<path fill=\"none\" stroke=\"black\" d=\"M1263.44,-197.86C1284.68,-185.88 1309.69,-171.79 1332.14,-159.14\"/>\n",
       "<polygon fill=\"black\" stroke=\"black\" points=\"1333.93,-162.15 1340.92,-154.19 1330.49,-156.05 1333.93,-162.15\"/>\n",
       "</g>\n",
       "<!-- 24 -->\n",
       "<g id=\"node25\" class=\"node\">\n",
       "<title>24</title>\n",
       "<polygon fill=\"#fdf4ed\" stroke=\"black\" points=\"1210,-53 1111,-53 1111,0 1210,0 1210,-53\"/>\n",
       "<text text-anchor=\"middle\" x=\"1160.5\" y=\"-37.8\" font-family=\"Times,serif\" font-size=\"14.00\">mse = 4.57</text>\n",
       "<text text-anchor=\"middle\" x=\"1160.5\" y=\"-22.8\" font-family=\"Times,serif\" font-size=\"14.00\">samples = 22</text>\n",
       "<text text-anchor=\"middle\" x=\"1160.5\" y=\"-7.8\" font-family=\"Times,serif\" font-size=\"14.00\">value = 14.395</text>\n",
       "</g>\n",
       "<!-- 23&#45;&gt;24 -->\n",
       "<g id=\"edge24\" class=\"edge\">\n",
       "<title>23&#45;&gt;24</title>\n",
       "<path fill=\"none\" stroke=\"black\" d=\"M1194.96,-88.95C1190.09,-80.26 1184.82,-70.86 1179.9,-62.09\"/>\n",
       "<polygon fill=\"black\" stroke=\"black\" points=\"1182.88,-60.25 1174.93,-53.24 1176.77,-63.67 1182.88,-60.25\"/>\n",
       "</g>\n",
       "<!-- 25 -->\n",
       "<g id=\"node26\" class=\"node\">\n",
       "<title>25</title>\n",
       "<polygon fill=\"#ffffff\" stroke=\"black\" points=\"1327,-53 1228,-53 1228,0 1327,0 1327,-53\"/>\n",
       "<text text-anchor=\"middle\" x=\"1277.5\" y=\"-37.8\" font-family=\"Times,serif\" font-size=\"14.00\">mse = 10.525</text>\n",
       "<text text-anchor=\"middle\" x=\"1277.5\" y=\"-22.8\" font-family=\"Times,serif\" font-size=\"14.00\">samples = 41</text>\n",
       "<text text-anchor=\"middle\" x=\"1277.5\" y=\"-7.8\" font-family=\"Times,serif\" font-size=\"14.00\">value = 11.105</text>\n",
       "</g>\n",
       "<!-- 23&#45;&gt;25 -->\n",
       "<g id=\"edge25\" class=\"edge\">\n",
       "<title>23&#45;&gt;25</title>\n",
       "<path fill=\"none\" stroke=\"black\" d=\"M1235.88,-88.95C1241.89,-80.07 1248.4,-70.46 1254.45,-61.54\"/>\n",
       "<polygon fill=\"black\" stroke=\"black\" points=\"1257.36,-63.48 1260.07,-53.24 1251.56,-59.55 1257.36,-63.48\"/>\n",
       "</g>\n",
       "<!-- 27 -->\n",
       "<g id=\"node28\" class=\"node\">\n",
       "<title>27</title>\n",
       "<polygon fill=\"#f9e2d1\" stroke=\"black\" points=\"1444,-53 1345,-53 1345,0 1444,0 1444,-53\"/>\n",
       "<text text-anchor=\"middle\" x=\"1394.5\" y=\"-37.8\" font-family=\"Times,serif\" font-size=\"14.00\">mse = 6.888</text>\n",
       "<text text-anchor=\"middle\" x=\"1394.5\" y=\"-22.8\" font-family=\"Times,serif\" font-size=\"14.00\">samples = 27</text>\n",
       "<text text-anchor=\"middle\" x=\"1394.5\" y=\"-7.8\" font-family=\"Times,serif\" font-size=\"14.00\">value = 19.559</text>\n",
       "</g>\n",
       "<!-- 26&#45;&gt;27 -->\n",
       "<g id=\"edge27\" class=\"edge\">\n",
       "<title>26&#45;&gt;27</title>\n",
       "<path fill=\"none\" stroke=\"black\" d=\"M1394.5,-88.95C1394.5,-80.72 1394.5,-71.85 1394.5,-63.48\"/>\n",
       "<polygon fill=\"black\" stroke=\"black\" points=\"1398,-63.24 1394.5,-53.24 1391,-63.24 1398,-63.24\"/>\n",
       "</g>\n",
       "<!-- 28 -->\n",
       "<g id=\"node29\" class=\"node\">\n",
       "<title>28</title>\n",
       "<polygon fill=\"#fcf1e8\" stroke=\"black\" points=\"1554.5,-53 1462.5,-53 1462.5,0 1554.5,0 1554.5,-53\"/>\n",
       "<text text-anchor=\"middle\" x=\"1508.5\" y=\"-37.8\" font-family=\"Times,serif\" font-size=\"14.00\">mse = 6.656</text>\n",
       "<text text-anchor=\"middle\" x=\"1508.5\" y=\"-22.8\" font-family=\"Times,serif\" font-size=\"14.00\">samples = 30</text>\n",
       "<text text-anchor=\"middle\" x=\"1508.5\" y=\"-7.8\" font-family=\"Times,serif\" font-size=\"14.00\">value = 15.32</text>\n",
       "</g>\n",
       "<!-- 26&#45;&gt;28 -->\n",
       "<g id=\"edge28\" class=\"edge\">\n",
       "<title>26&#45;&gt;28</title>\n",
       "<path fill=\"none\" stroke=\"black\" d=\"M1434.37,-88.95C1445.74,-79.53 1458.11,-69.27 1469.43,-59.89\"/>\n",
       "<polygon fill=\"black\" stroke=\"black\" points=\"1471.99,-62.31 1477.45,-53.24 1467.52,-56.92 1471.99,-62.31\"/>\n",
       "</g>\n",
       "</g>\n",
       "</svg>\n"
      ],
      "text/plain": [
       "<graphviz.files.Source at 0x12d0f51f0>"
      ]
     },
     "execution_count": 1,
     "metadata": {},
     "output_type": "execute_result"
    }
   ],
   "source": [
    "tree = graphviz.Source(tree.export_graphviz(model, out_file=None, feature_names=boston.feature_names, filled = True))\n",
    "tree"
   ]
  },
  {
   "cell_type": "code",
   "execution_count": null,
   "id": "aquatic-spencer",
   "metadata": {},
   "outputs": [],
   "source": []
  }
 ],
 "metadata": {
  "kernelspec": {
   "display_name": "Python 3",
   "language": "python",
   "name": "python3"
  },
  "language_info": {
   "codemirror_mode": {
    "name": "ipython",
    "version": 3
   },
   "file_extension": ".py",
   "mimetype": "text/x-python",
   "name": "python",
   "nbconvert_exporter": "python",
   "pygments_lexer": "ipython3",
   "version": "3.8.5"
  }
 },
 "nbformat": 4,
 "nbformat_minor": 5
}
