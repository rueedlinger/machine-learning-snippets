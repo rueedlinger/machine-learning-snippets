{
 "cells": [
  {
   "cell_type": "markdown",
   "id": "shaped-configuration",
   "metadata": {},
   "source": [
    "## Regression with a decision tree"
   ]
  },
  {
   "cell_type": "code",
   "execution_count": 1,
   "id": "residential-stretch",
   "metadata": {
    "execution": {
     "iopub.execute_input": "2021-03-09T08:40:27.143702Z",
     "iopub.status.busy": "2021-03-09T08:40:27.141679Z",
     "iopub.status.idle": "2021-03-09T08:40:28.031128Z",
     "shell.execute_reply": "2021-03-09T08:40:28.031430Z"
    }
   },
   "outputs": [],
   "source": [
    "%matplotlib inline\n",
    "import matplotlib.pyplot as plt\n",
    "import seaborn as sns\n",
    "import pandas as pd\n",
    "import numpy as np\n",
    "import graphviz \n",
    "\n",
    "from sklearn import tree, datasets, metrics, model_selection"
   ]
  },
  {
   "cell_type": "code",
   "execution_count": 2,
   "id": "quick-rogers",
   "metadata": {
    "execution": {
     "iopub.execute_input": "2021-03-09T08:40:28.034452Z",
     "iopub.status.busy": "2021-03-09T08:40:28.034057Z",
     "iopub.status.idle": "2021-03-09T08:40:28.040320Z",
     "shell.execute_reply": "2021-03-09T08:40:28.039889Z"
    }
   },
   "outputs": [
    {
     "name": "stdout",
     "output_type": "stream",
     "text": [
      ".. _boston_dataset:\n",
      "\n",
      "Boston house prices dataset\n",
      "---------------------------\n",
      "\n",
      "**Data Set Characteristics:**  \n",
      "\n",
      "    :Number of Instances: 506 \n",
      "\n",
      "    :Number of Attributes: 13 numeric/categorical predictive. Median Value (attribute 14) is usually the target.\n",
      "\n",
      "    :Attribute Information (in order):\n",
      "        - CRIM     per capita crime rate by town\n",
      "        - ZN       proportion of residential land zoned for lots over 25,000 sq.ft.\n",
      "        - INDUS    proportion of non-retail business acres per town\n",
      "        - CHAS     Charles River dummy variable (= 1 if tract bounds river; 0 otherwise)\n",
      "        - NOX      nitric oxides concentration (parts per 10 million)\n",
      "        - RM       average number of rooms per dwelling\n",
      "        - AGE      proportion of owner-occupied units built prior to 1940\n",
      "        - DIS      weighted distances to five Boston employment centres\n",
      "        - RAD      index of accessibility to radial highways\n",
      "        - TAX      full-value property-tax rate per $10,000\n",
      "        - PTRATIO  pupil-teacher ratio by town\n",
      "        - B        1000(Bk - 0.63)^2 where Bk is the proportion of blacks by town\n",
      "        - LSTAT    % lower status of the population\n",
      "        - MEDV     Median value of owner-occupied homes in $1000's\n",
      "\n",
      "    :Missing Attribute Values: None\n",
      "\n",
      "    :Creator: Harrison, D. and Rubinfeld, D.L.\n",
      "\n",
      "This is a copy of UCI ML housing dataset.\n",
      "https://archive.ics.uci.edu/ml/machine-learning-databases/housing/\n",
      "\n",
      "\n",
      "This dataset was taken from the StatLib library which is maintained at Carnegie Mellon University.\n",
      "\n",
      "The Boston house-price data of Harrison, D. and Rubinfeld, D.L. 'Hedonic\n",
      "prices and the demand for clean air', J. Environ. Economics & Management,\n",
      "vol.5, 81-102, 1978.   Used in Belsley, Kuh & Welsch, 'Regression diagnostics\n",
      "...', Wiley, 1980.   N.B. Various transformations are used in the table on\n",
      "pages 244-261 of the latter.\n",
      "\n",
      "The Boston house-price data has been used in many machine learning papers that address regression\n",
      "problems.   \n",
      "     \n",
      ".. topic:: References\n",
      "\n",
      "   - Belsley, Kuh & Welsch, 'Regression diagnostics: Identifying Influential Data and Sources of Collinearity', Wiley, 1980. 244-261.\n",
      "   - Quinlan,R. (1993). Combining Instance-Based and Model-Based Learning. In Proceedings on the Tenth International Conference of Machine Learning, 236-243, University of Massachusetts, Amherst. Morgan Kaufmann.\n",
      "\n"
     ]
    }
   ],
   "source": [
    "boston = datasets.load_boston()\n",
    "print(boston.DESCR)"
   ]
  },
  {
   "cell_type": "code",
   "execution_count": 3,
   "id": "unknown-orbit",
   "metadata": {
    "execution": {
     "iopub.execute_input": "2021-03-09T08:40:28.044027Z",
     "iopub.status.busy": "2021-03-09T08:40:28.043637Z",
     "iopub.status.idle": "2021-03-09T08:40:28.045395Z",
     "shell.execute_reply": "2021-03-09T08:40:28.045684Z"
    }
   },
   "outputs": [],
   "source": [
    "X = pd.DataFrame(boston.data, columns=boston.feature_names)\n",
    "y = boston.target"
   ]
  },
  {
   "cell_type": "code",
   "execution_count": 4,
   "id": "substantial-growth",
   "metadata": {
    "execution": {
     "iopub.execute_input": "2021-03-09T08:40:28.049962Z",
     "iopub.status.busy": "2021-03-09T08:40:28.049554Z",
     "iopub.status.idle": "2021-03-09T08:40:28.052029Z",
     "shell.execute_reply": "2021-03-09T08:40:28.051621Z"
    }
   },
   "outputs": [
    {
     "name": "stdout",
     "output_type": "stream",
     "text": [
      "train samples: 354\n",
      "test samples 152\n"
     ]
    }
   ],
   "source": [
    "X_train, X_test, y_train, y_test = model_selection.train_test_split(X, y, train_size=0.7)\n",
    "\n",
    "print('train samples:', len(X_train))\n",
    "print('test samples', len(X_test))"
   ]
  },
  {
   "cell_type": "code",
   "execution_count": 5,
   "id": "defensive-attribute",
   "metadata": {
    "execution": {
     "iopub.execute_input": "2021-03-09T08:40:28.054789Z",
     "iopub.status.busy": "2021-03-09T08:40:28.054390Z",
     "iopub.status.idle": "2021-03-09T08:40:28.061584Z",
     "shell.execute_reply": "2021-03-09T08:40:28.061168Z"
    }
   },
   "outputs": [
    {
     "data": {
      "text/plain": [
       "DecisionTreeRegressor(max_depth=4)"
      ]
     },
     "execution_count": 1,
     "metadata": {},
     "output_type": "execute_result"
    }
   ],
   "source": [
    "model = tree.DecisionTreeRegressor(max_depth=4, criterion='mse')\n",
    "model.fit(X_train, y_train)"
   ]
  },
  {
   "cell_type": "code",
   "execution_count": 6,
   "id": "modified-visibility",
   "metadata": {
    "execution": {
     "iopub.execute_input": "2021-03-09T08:40:28.066095Z",
     "iopub.status.busy": "2021-03-09T08:40:28.065697Z",
     "iopub.status.idle": "2021-03-09T08:40:28.181277Z",
     "shell.execute_reply": "2021-03-09T08:40:28.180875Z"
    }
   },
   "outputs": [
    {
     "data": {
      "image/png": "[encoded data removed]",
      "text/plain": [
       "<Figure size 432x288 with 1 Axes>"
      ]
     },
     "metadata": {
      "needs_background": "light"
     },
     "output_type": "display_data"
    }
   ],
   "source": [
    "predicted = model.predict(X_test)\n",
    "\n",
    "fig, ax = plt.subplots()\n",
    "ax.scatter(y_test, predicted)\n",
    "\n",
    "ax.set_xlabel('True Values')\n",
    "ax.set_ylabel('Predicted')\n",
    "_ = ax.plot([0, y.max()], [0, y.max()], ls='-', color='red')"
   ]
  },
  {
   "cell_type": "code",
   "execution_count": 7,
   "id": "secret-emperor",
   "metadata": {
    "execution": {
     "iopub.execute_input": "2021-03-09T08:40:28.217002Z",
     "iopub.status.busy": "2021-03-09T08:40:28.216579Z",
     "iopub.status.idle": "2021-03-09T08:40:28.295636Z",
     "shell.execute_reply": "2021-03-09T08:40:28.295289Z"
    }
   },
   "outputs": [
    {
     "data": {
      "image/png": "[encoded data removed]",
      "text/plain": [
       "<Figure size 432x288 with 1 Axes>"
      ]
     },
     "metadata": {
      "needs_background": "light"
     },
     "output_type": "display_data"
    }
   ],
   "source": [
    "residual = y_test - predicted\n",
    "\n",
    "fig, ax = plt.subplots()\n",
    "ax.scatter(y_test, residual)\n",
    "ax.set_xlabel('y')\n",
    "ax.set_ylabel('residual')\n",
    "\n",
    "_ = plt.axhline(0, color='red', ls='--')"
   ]
  },
  {
   "cell_type": "code",
   "execution_count": 8,
   "id": "adjustable-dealing",
   "metadata": {
    "execution": {
     "iopub.execute_input": "2021-03-09T08:40:28.322554Z",
     "iopub.status.busy": "2021-03-09T08:40:28.322122Z",
     "iopub.status.idle": "2021-03-09T08:40:28.446949Z",
     "shell.execute_reply": "2021-03-09T08:40:28.447352Z"
    }
   },
   "outputs": [
    {
     "data": {
      "text/plain": [
       "<seaborn.axisgrid.FacetGrid at 0x12649d0a0>"
      ]
     },
     "execution_count": 1,
     "metadata": {},
     "output_type": "execute_result"
    },
    {
     "data": {
      "image/png": "[encoded data removed]",
      "text/plain": [
       "<Figure size 360x360 with 1 Axes>"
      ]
     },
     "metadata": {
      "needs_background": "light"
     },
     "output_type": "display_data"
    }
   ],
   "source": [
    "sns.displot(residual, kind=\"kde\");"
   ]
  },
  {
   "cell_type": "code",
   "execution_count": 9,
   "id": "gothic-emergency",
   "metadata": {
    "execution": {
     "iopub.execute_input": "2021-03-09T08:40:28.453004Z",
     "iopub.status.busy": "2021-03-09T08:40:28.452531Z",
     "iopub.status.idle": "2021-03-09T08:40:28.455035Z",
     "shell.execute_reply": "2021-03-09T08:40:28.455519Z"
    }
   },
   "outputs": [
    {
     "name": "stdout",
     "output_type": "stream",
     "text": [
      "r2 score: 0.7614282936532103\n",
      "mse: 19.883282940527486\n",
      "rmse: 4.459067496744974\n"
     ]
    }
   ],
   "source": [
    "print(\"r2 score: {}\".format(metrics.r2_score(y_test, predicted)))\n",
    "print(\"mse: {}\".format(metrics.mean_squared_error(y_test, predicted)))\n",
    "print(\"rmse: {}\".format(np.sqrt(metrics.mean_squared_error(y_test, predicted))))"
   ]
  },
  {
   "cell_type": "code",
   "execution_count": 10,
   "id": "unusual-jewelry",
   "metadata": {
    "execution": {
     "iopub.execute_input": "2021-03-09T08:40:28.461600Z",
     "iopub.status.busy": "2021-03-09T08:40:28.461199Z",
     "iopub.status.idle": "2021-03-09T08:40:28.867511Z",
     "shell.execute_reply": "2021-03-09T08:40:28.867093Z"
    }
   },
   "outputs": [
    {
     "data": {
      "image/svg+xml": [
       "<?xml version=\"1.0\" encoding=\"UTF-8\" standalone=\"no\"?>\n",
       "<!DOCTYPE svg PUBLIC \"-//W3C//DTD SVG 1.1//EN\"\n",
       " \"http://www.w3.org/Graphics/SVG/1.1/DTD/svg11.dtd\">\n",
       "<!-- Generated by graphviz version 2.46.1 (20210213.1702)\n",
       " -->\n",
       "<!-- Title: Tree Pages: 1 -->\n",
       "<svg width=\"1380pt\" height=\"477pt\"\n",
       " viewBox=\"0.00 0.00 1380.00 477.00\" xmlns=\"http://www.w3.org/2000/svg\" xmlns:xlink=\"http://www.w3.org/1999/xlink\">\n",
       "<g id=\"graph0\" class=\"graph\" transform=\"scale(1 1) rotate(0) translate(4 473)\">\n",
       "<title>Tree</title>\n",
       "<polygon fill=\"white\" stroke=\"transparent\" points=\"-4,4 -4,-473 1376,-473 1376,4 -4,4\"/>\n",
       "<!-- 0 -->\n",
       "<g id=\"node1\" class=\"node\">\n",
       "<title>0</title>\n",
       "<polygon fill=\"#f7d8c1\" stroke=\"black\" points=\"732,-469 633,-469 633,-401 732,-401 732,-469\"/>\n",
       "<text text-anchor=\"middle\" x=\"682.5\" y=\"-453.8\" font-family=\"Times,serif\" font-size=\"14.00\">RM &lt;= 6.797</text>\n",
       "<text text-anchor=\"middle\" x=\"682.5\" y=\"-438.8\" font-family=\"Times,serif\" font-size=\"14.00\">mse = 84.873</text>\n",
       "<text text-anchor=\"middle\" x=\"682.5\" y=\"-423.8\" font-family=\"Times,serif\" font-size=\"14.00\">samples = 354</text>\n",
       "<text text-anchor=\"middle\" x=\"682.5\" y=\"-408.8\" font-family=\"Times,serif\" font-size=\"14.00\">value = 22.481</text>\n",
       "</g>\n",
       "<!-- 1 -->\n",
       "<g id=\"node2\" class=\"node\">\n",
       "<title>1</title>\n",
       "<polygon fill=\"#f9e1d0\" stroke=\"black\" points=\"507.5,-365 395.5,-365 395.5,-297 507.5,-297 507.5,-365\"/>\n",
       "<text text-anchor=\"middle\" x=\"451.5\" y=\"-349.8\" font-family=\"Times,serif\" font-size=\"14.00\">LSTAT &lt;= 15.04</text>\n",
       "<text text-anchor=\"middle\" x=\"451.5\" y=\"-334.8\" font-family=\"Times,serif\" font-size=\"14.00\">mse = 37.168</text>\n",
       "<text text-anchor=\"middle\" x=\"451.5\" y=\"-319.8\" font-family=\"Times,serif\" font-size=\"14.00\">samples = 291</text>\n",
       "<text text-anchor=\"middle\" x=\"451.5\" y=\"-304.8\" font-family=\"Times,serif\" font-size=\"14.00\">value = 19.476</text>\n",
       "</g>\n",
       "<!-- 0&#45;&gt;1 -->\n",
       "<g id=\"edge1\" class=\"edge\">\n",
       "<title>0&#45;&gt;1</title>\n",
       "<path fill=\"none\" stroke=\"black\" d=\"M632.94,-412.12C599.09,-397.17 553.87,-377.2 517.05,-360.94\"/>\n",
       "<polygon fill=\"black\" stroke=\"black\" points=\"518.44,-357.73 507.88,-356.89 515.61,-364.13 518.44,-357.73\"/>\n",
       "<text text-anchor=\"middle\" x=\"516.91\" y=\"-376.51\" font-family=\"Times,serif\" font-size=\"14.00\">True</text>\n",
       "</g>\n",
       "<!-- 14 -->\n",
       "<g id=\"node15\" class=\"node\">\n",
       "<title>14</title>\n",
       "<polygon fill=\"#eeac7d\" stroke=\"black\" points=\"962,-365 863,-365 863,-297 962,-297 962,-365\"/>\n",
       "<text text-anchor=\"middle\" x=\"912.5\" y=\"-349.8\" font-family=\"Times,serif\" font-size=\"14.00\">RM &lt;= 7.435</text>\n",
       "<text text-anchor=\"middle\" x=\"912.5\" y=\"-334.8\" font-family=\"Times,serif\" font-size=\"14.00\">mse = 70.919</text>\n",
       "<text text-anchor=\"middle\" x=\"912.5\" y=\"-319.8\" font-family=\"Times,serif\" font-size=\"14.00\">samples = 63</text>\n",
       "<text text-anchor=\"middle\" x=\"912.5\" y=\"-304.8\" font-family=\"Times,serif\" font-size=\"14.00\">value = 36.359</text>\n",
       "</g>\n",
       "<!-- 0&#45;&gt;14 -->\n",
       "<g id=\"edge14\" class=\"edge\">\n",
       "<title>0&#45;&gt;14</title>\n",
       "<path fill=\"none\" stroke=\"black\" d=\"M732.12,-411.99C767.79,-396.17 816.03,-374.78 853.65,-358.1\"/>\n",
       "<polygon fill=\"black\" stroke=\"black\" points=\"855.24,-361.22 862.97,-353.97 852.41,-354.82 855.24,-361.22\"/>\n",
       "<text text-anchor=\"middle\" x=\"853.97\" y=\"-373.59\" font-family=\"Times,serif\" font-size=\"14.00\">False</text>\n",
       "</g>\n",
       "<!-- 2 -->\n",
       "<g id=\"node3\" class=\"node\">\n",
       "<title>2</title>\n",
       "<polygon fill=\"#f7d8c1\" stroke=\"black\" points=\"215,-261 118,-261 118,-193 215,-193 215,-261\"/>\n",
       "<text text-anchor=\"middle\" x=\"166.5\" y=\"-245.8\" font-family=\"Times,serif\" font-size=\"14.00\">DIS &lt;= 1.373</text>\n",
       "<text text-anchor=\"middle\" x=\"166.5\" y=\"-230.8\" font-family=\"Times,serif\" font-size=\"14.00\">mse = 22.309</text>\n",
       "<text text-anchor=\"middle\" x=\"166.5\" y=\"-215.8\" font-family=\"Times,serif\" font-size=\"14.00\">samples = 184</text>\n",
       "<text text-anchor=\"middle\" x=\"166.5\" y=\"-200.8\" font-family=\"Times,serif\" font-size=\"14.00\">value = 22.54</text>\n",
       "</g>\n",
       "<!-- 1&#45;&gt;2 -->\n",
       "<g id=\"edge2\" class=\"edge\">\n",
       "<title>1&#45;&gt;2</title>\n",
       "<path fill=\"none\" stroke=\"black\" d=\"M395.19,-309.85C345.92,-292.21 274.62,-266.7 224.77,-248.85\"/>\n",
       "<polygon fill=\"black\" stroke=\"black\" points=\"225.69,-245.47 215.1,-245.39 223.33,-252.06 225.69,-245.47\"/>\n",
       "</g>\n",
       "<!-- 7 -->\n",
       "<g id=\"node8\" class=\"node\">\n",
       "<title>7</title>\n",
       "<polygon fill=\"#fcf2ea\" stroke=\"black\" points=\"505,-261 398,-261 398,-193 505,-193 505,-261\"/>\n",
       "<text text-anchor=\"middle\" x=\"451.5\" y=\"-245.8\" font-family=\"Times,serif\" font-size=\"14.00\">CRIM &lt;= 5.511</text>\n",
       "<text text-anchor=\"middle\" x=\"451.5\" y=\"-230.8\" font-family=\"Times,serif\" font-size=\"14.00\">mse = 18.822</text>\n",
       "<text text-anchor=\"middle\" x=\"451.5\" y=\"-215.8\" font-family=\"Times,serif\" font-size=\"14.00\">samples = 107</text>\n",
       "<text text-anchor=\"middle\" x=\"451.5\" y=\"-200.8\" font-family=\"Times,serif\" font-size=\"14.00\">value = 14.207</text>\n",
       "</g>\n",
       "<!-- 1&#45;&gt;7 -->\n",
       "<g id=\"edge7\" class=\"edge\">\n",
       "<title>1&#45;&gt;7</title>\n",
       "<path fill=\"none\" stroke=\"black\" d=\"M451.5,-296.88C451.5,-288.78 451.5,-279.98 451.5,-271.47\"/>\n",
       "<polygon fill=\"black\" stroke=\"black\" points=\"455,-271.3 451.5,-261.3 448,-271.3 455,-271.3\"/>\n",
       "</g>\n",
       "<!-- 3 -->\n",
       "<g id=\"node4\" class=\"node\">\n",
       "<title>3</title>\n",
       "<polygon fill=\"#e58139\" stroke=\"black\" points=\"98.5,-149.5 12.5,-149.5 12.5,-96.5 98.5,-96.5 98.5,-149.5\"/>\n",
       "<text text-anchor=\"middle\" x=\"55.5\" y=\"-134.3\" font-family=\"Times,serif\" font-size=\"14.00\">mse = 0.0</text>\n",
       "<text text-anchor=\"middle\" x=\"55.5\" y=\"-119.3\" font-family=\"Times,serif\" font-size=\"14.00\">samples = 2</text>\n",
       "<text text-anchor=\"middle\" x=\"55.5\" y=\"-104.3\" font-family=\"Times,serif\" font-size=\"14.00\">value = 50.0</text>\n",
       "</g>\n",
       "<!-- 2&#45;&gt;3 -->\n",
       "<g id=\"edge3\" class=\"edge\">\n",
       "<title>2&#45;&gt;3</title>\n",
       "<path fill=\"none\" stroke=\"black\" d=\"M130.46,-192.88C117.78,-181.23 103.54,-168.14 90.9,-156.53\"/>\n",
       "<polygon fill=\"black\" stroke=\"black\" points=\"93,-153.71 83.27,-149.52 88.27,-158.86 93,-153.71\"/>\n",
       "</g>\n",
       "<!-- 4 -->\n",
       "<g id=\"node5\" class=\"node\">\n",
       "<title>4</title>\n",
       "<polygon fill=\"#f7d9c3\" stroke=\"black\" points=\"216,-157 117,-157 117,-89 216,-89 216,-157\"/>\n",
       "<text text-anchor=\"middle\" x=\"166.5\" y=\"-141.8\" font-family=\"Times,serif\" font-size=\"14.00\">RM &lt;= 6.543</text>\n",
       "<text text-anchor=\"middle\" x=\"166.5\" y=\"-126.8\" font-family=\"Times,serif\" font-size=\"14.00\">mse = 14.177</text>\n",
       "<text text-anchor=\"middle\" x=\"166.5\" y=\"-111.8\" font-family=\"Times,serif\" font-size=\"14.00\">samples = 182</text>\n",
       "<text text-anchor=\"middle\" x=\"166.5\" y=\"-96.8\" font-family=\"Times,serif\" font-size=\"14.00\">value = 22.238</text>\n",
       "</g>\n",
       "<!-- 2&#45;&gt;4 -->\n",
       "<g id=\"edge4\" class=\"edge\">\n",
       "<title>2&#45;&gt;4</title>\n",
       "<path fill=\"none\" stroke=\"black\" d=\"M166.5,-192.88C166.5,-184.78 166.5,-175.98 166.5,-167.47\"/>\n",
       "<polygon fill=\"black\" stroke=\"black\" points=\"170,-167.3 166.5,-157.3 163,-167.3 170,-167.3\"/>\n",
       "</g>\n",
       "<!-- 5 -->\n",
       "<g id=\"node6\" class=\"node\">\n",
       "<title>5</title>\n",
       "<polygon fill=\"#f8dbc7\" stroke=\"black\" points=\"99,-53 0,-53 0,0 99,0 99,-53\"/>\n",
       "<text text-anchor=\"middle\" x=\"49.5\" y=\"-37.8\" font-family=\"Times,serif\" font-size=\"14.00\">mse = 9.431</text>\n",
       "<text text-anchor=\"middle\" x=\"49.5\" y=\"-22.8\" font-family=\"Times,serif\" font-size=\"14.00\">samples = 152</text>\n",
       "<text text-anchor=\"middle\" x=\"49.5\" y=\"-7.8\" font-family=\"Times,serif\" font-size=\"14.00\">value = 21.315</text>\n",
       "</g>\n",
       "<!-- 4&#45;&gt;5 -->\n",
       "<g id=\"edge5\" class=\"edge\">\n",
       "<title>4&#45;&gt;5</title>\n",
       "<path fill=\"none\" stroke=\"black\" d=\"M125.58,-88.95C113.8,-79.43 100.97,-69.07 89.26,-59.62\"/>\n",
       "<polygon fill=\"black\" stroke=\"black\" points=\"91.34,-56.8 81.36,-53.24 86.94,-62.24 91.34,-56.8\"/>\n",
       "</g>\n",
       "<!-- 6 -->\n",
       "<g id=\"node7\" class=\"node\">\n",
       "<title>6</title>\n",
       "<polygon fill=\"#f4caab\" stroke=\"black\" points=\"216,-53 117,-53 117,0 216,0 216,-53\"/>\n",
       "<text text-anchor=\"middle\" x=\"166.5\" y=\"-37.8\" font-family=\"Times,serif\" font-size=\"14.00\">mse = 12.048</text>\n",
       "<text text-anchor=\"middle\" x=\"166.5\" y=\"-22.8\" font-family=\"Times,serif\" font-size=\"14.00\">samples = 30</text>\n",
       "<text text-anchor=\"middle\" x=\"166.5\" y=\"-7.8\" font-family=\"Times,serif\" font-size=\"14.00\">value = 26.913</text>\n",
       "</g>\n",
       "<!-- 4&#45;&gt;6 -->\n",
       "<g id=\"edge6\" class=\"edge\">\n",
       "<title>4&#45;&gt;6</title>\n",
       "<path fill=\"none\" stroke=\"black\" d=\"M166.5,-88.95C166.5,-80.72 166.5,-71.85 166.5,-63.48\"/>\n",
       "<polygon fill=\"black\" stroke=\"black\" points=\"170,-63.24 166.5,-53.24 163,-63.24 170,-63.24\"/>\n",
       "</g>\n",
       "<!-- 8 -->\n",
       "<g id=\"node9\" class=\"node\">\n",
       "<title>8</title>\n",
       "<polygon fill=\"#fae8db\" stroke=\"black\" points=\"438,-157 337,-157 337,-89 438,-89 438,-157\"/>\n",
       "<text text-anchor=\"middle\" x=\"387.5\" y=\"-141.8\" font-family=\"Times,serif\" font-size=\"14.00\">NOX &lt;= 0.531</text>\n",
       "<text text-anchor=\"middle\" x=\"387.5\" y=\"-126.8\" font-family=\"Times,serif\" font-size=\"14.00\">mse = 10.593</text>\n",
       "<text text-anchor=\"middle\" x=\"387.5\" y=\"-111.8\" font-family=\"Times,serif\" font-size=\"14.00\">samples = 49</text>\n",
       "<text text-anchor=\"middle\" x=\"387.5\" y=\"-96.8\" font-family=\"Times,serif\" font-size=\"14.00\">value = 17.343</text>\n",
       "</g>\n",
       "<!-- 7&#45;&gt;8 -->\n",
       "<g id=\"edge8\" class=\"edge\">\n",
       "<title>7&#45;&gt;8</title>\n",
       "<path fill=\"none\" stroke=\"black\" d=\"M430.72,-192.88C425.3,-184.24 419.39,-174.82 413.72,-165.79\"/>\n",
       "<polygon fill=\"black\" stroke=\"black\" points=\"416.67,-163.91 408.39,-157.3 410.74,-167.63 416.67,-163.91\"/>\n",
       "</g>\n",
       "<!-- 11 -->\n",
       "<g id=\"node12\" class=\"node\">\n",
       "<title>11</title>\n",
       "<polygon fill=\"#fefaf8\" stroke=\"black\" points=\"575,-157 456,-157 456,-89 575,-89 575,-157\"/>\n",
       "<text text-anchor=\"middle\" x=\"515.5\" y=\"-141.8\" font-family=\"Times,serif\" font-size=\"14.00\">LSTAT &lt;= 20.315</text>\n",
       "<text text-anchor=\"middle\" x=\"515.5\" y=\"-126.8\" font-family=\"Times,serif\" font-size=\"14.00\">mse = 10.453</text>\n",
       "<text text-anchor=\"middle\" x=\"515.5\" y=\"-111.8\" font-family=\"Times,serif\" font-size=\"14.00\">samples = 58</text>\n",
       "<text text-anchor=\"middle\" x=\"515.5\" y=\"-96.8\" font-family=\"Times,serif\" font-size=\"14.00\">value = 11.559</text>\n",
       "</g>\n",
       "<!-- 7&#45;&gt;11 -->\n",
       "<g id=\"edge11\" class=\"edge\">\n",
       "<title>7&#45;&gt;11</title>\n",
       "<path fill=\"none\" stroke=\"black\" d=\"M472.28,-192.88C477.7,-184.24 483.61,-174.82 489.28,-165.79\"/>\n",
       "<polygon fill=\"black\" stroke=\"black\" points=\"492.26,-167.63 494.61,-157.3 486.33,-163.91 492.26,-167.63\"/>\n",
       "</g>\n",
       "<!-- 9 -->\n",
       "<g id=\"node10\" class=\"node\">\n",
       "<title>9</title>\n",
       "<polygon fill=\"#f9e0ce\" stroke=\"black\" points=\"324.5,-53 234.5,-53 234.5,0 324.5,0 324.5,-53\"/>\n",
       "<text text-anchor=\"middle\" x=\"279.5\" y=\"-37.8\" font-family=\"Times,serif\" font-size=\"14.00\">mse = 9.871</text>\n",
       "<text text-anchor=\"middle\" x=\"279.5\" y=\"-22.8\" font-family=\"Times,serif\" font-size=\"14.00\">samples = 15</text>\n",
       "<text text-anchor=\"middle\" x=\"279.5\" y=\"-7.8\" font-family=\"Times,serif\" font-size=\"14.00\">value = 19.9</text>\n",
       "</g>\n",
       "<!-- 8&#45;&gt;9 -->\n",
       "<g id=\"edge9\" class=\"edge\">\n",
       "<title>8&#45;&gt;9</title>\n",
       "<path fill=\"none\" stroke=\"black\" d=\"M349.73,-88.95C338.96,-79.53 327.24,-69.27 316.52,-59.89\"/>\n",
       "<polygon fill=\"black\" stroke=\"black\" points=\"318.74,-57.19 308.91,-53.24 314.13,-62.46 318.74,-57.19\"/>\n",
       "</g>\n",
       "<!-- 10 -->\n",
       "<g id=\"node11\" class=\"node\">\n",
       "<title>10</title>\n",
       "<polygon fill=\"#fbece0\" stroke=\"black\" points=\"442,-53 343,-53 343,0 442,0 442,-53\"/>\n",
       "<text text-anchor=\"middle\" x=\"392.5\" y=\"-37.8\" font-family=\"Times,serif\" font-size=\"14.00\">mse = 6.754</text>\n",
       "<text text-anchor=\"middle\" x=\"392.5\" y=\"-22.8\" font-family=\"Times,serif\" font-size=\"14.00\">samples = 34</text>\n",
       "<text text-anchor=\"middle\" x=\"392.5\" y=\"-7.8\" font-family=\"Times,serif\" font-size=\"14.00\">value = 16.215</text>\n",
       "</g>\n",
       "<!-- 8&#45;&gt;10 -->\n",
       "<g id=\"edge10\" class=\"edge\">\n",
       "<title>8&#45;&gt;10</title>\n",
       "<path fill=\"none\" stroke=\"black\" d=\"M389.25,-88.95C389.68,-80.72 390.15,-71.85 390.6,-63.48\"/>\n",
       "<polygon fill=\"black\" stroke=\"black\" points=\"394.1,-63.41 391.14,-53.24 387.11,-63.04 394.1,-63.41\"/>\n",
       "</g>\n",
       "<!-- 12 -->\n",
       "<g id=\"node13\" class=\"node\">\n",
       "<title>12</title>\n",
       "<polygon fill=\"#fdf4ed\" stroke=\"black\" points=\"559,-53 460,-53 460,0 559,0 559,-53\"/>\n",
       "<text text-anchor=\"middle\" x=\"509.5\" y=\"-37.8\" font-family=\"Times,serif\" font-size=\"14.00\">mse = 5.956</text>\n",
       "<text text-anchor=\"middle\" x=\"509.5\" y=\"-22.8\" font-family=\"Times,serif\" font-size=\"14.00\">samples = 24</text>\n",
       "<text text-anchor=\"middle\" x=\"509.5\" y=\"-7.8\" font-family=\"Times,serif\" font-size=\"14.00\">value = 13.692</text>\n",
       "</g>\n",
       "<!-- 11&#45;&gt;12 -->\n",
       "<g id=\"edge12\" class=\"edge\">\n",
       "<title>11&#45;&gt;12</title>\n",
       "<path fill=\"none\" stroke=\"black\" d=\"M513.4,-88.95C512.88,-80.72 512.32,-71.85 511.78,-63.48\"/>\n",
       "<polygon fill=\"black\" stroke=\"black\" points=\"515.26,-62.99 511.13,-53.24 508.27,-63.44 515.26,-62.99\"/>\n",
       "</g>\n",
       "<!-- 13 -->\n",
       "<g id=\"node14\" class=\"node\">\n",
       "<title>13</title>\n",
       "<polygon fill=\"#ffffff\" stroke=\"black\" points=\"676,-53 577,-53 577,0 676,0 676,-53\"/>\n",
       "<text text-anchor=\"middle\" x=\"626.5\" y=\"-37.8\" font-family=\"Times,serif\" font-size=\"14.00\">mse = 8.149</text>\n",
       "<text text-anchor=\"middle\" x=\"626.5\" y=\"-22.8\" font-family=\"Times,serif\" font-size=\"14.00\">samples = 34</text>\n",
       "<text text-anchor=\"middle\" x=\"626.5\" y=\"-7.8\" font-family=\"Times,serif\" font-size=\"14.00\">value = 10.053</text>\n",
       "</g>\n",
       "<!-- 11&#45;&gt;13 -->\n",
       "<g id=\"edge13\" class=\"edge\">\n",
       "<title>11&#45;&gt;13</title>\n",
       "<path fill=\"none\" stroke=\"black\" d=\"M554.32,-88.95C565.39,-79.53 577.43,-69.27 588.45,-59.89\"/>\n",
       "<polygon fill=\"black\" stroke=\"black\" points=\"590.92,-62.38 596.27,-53.24 586.39,-57.05 590.92,-62.38\"/>\n",
       "</g>\n",
       "<!-- 15 -->\n",
       "<g id=\"node16\" class=\"node\">\n",
       "<title>15</title>\n",
       "<polygon fill=\"#f1ba92\" stroke=\"black\" points=\"968.5,-261 856.5,-261 856.5,-193 968.5,-193 968.5,-261\"/>\n",
       "<text text-anchor=\"middle\" x=\"912.5\" y=\"-245.8\" font-family=\"Times,serif\" font-size=\"14.00\">LSTAT &lt;= 5.495</text>\n",
       "<text text-anchor=\"middle\" x=\"912.5\" y=\"-230.8\" font-family=\"Times,serif\" font-size=\"14.00\">mse = 29.444</text>\n",
       "<text text-anchor=\"middle\" x=\"912.5\" y=\"-215.8\" font-family=\"Times,serif\" font-size=\"14.00\">samples = 42</text>\n",
       "<text text-anchor=\"middle\" x=\"912.5\" y=\"-200.8\" font-family=\"Times,serif\" font-size=\"14.00\">value = 32.062</text>\n",
       "</g>\n",
       "<!-- 14&#45;&gt;15 -->\n",
       "<g id=\"edge15\" class=\"edge\">\n",
       "<title>14&#45;&gt;15</title>\n",
       "<path fill=\"none\" stroke=\"black\" d=\"M912.5,-296.88C912.5,-288.78 912.5,-279.98 912.5,-271.47\"/>\n",
       "<polygon fill=\"black\" stroke=\"black\" points=\"916,-271.3 912.5,-261.3 909,-271.3 916,-271.3\"/>\n",
       "</g>\n",
       "<!-- 22 -->\n",
       "<g id=\"node23\" class=\"node\">\n",
       "<title>22</title>\n",
       "<polygon fill=\"#e89152\" stroke=\"black\" points=\"1255,-261 1156,-261 1156,-193 1255,-193 1255,-261\"/>\n",
       "<text text-anchor=\"middle\" x=\"1205.5\" y=\"-245.8\" font-family=\"Times,serif\" font-size=\"14.00\">RM &lt;= 8.742</text>\n",
       "<text text-anchor=\"middle\" x=\"1205.5\" y=\"-230.8\" font-family=\"Times,serif\" font-size=\"14.00\">mse = 43.094</text>\n",
       "<text text-anchor=\"middle\" x=\"1205.5\" y=\"-215.8\" font-family=\"Times,serif\" font-size=\"14.00\">samples = 21</text>\n",
       "<text text-anchor=\"middle\" x=\"1205.5\" y=\"-200.8\" font-family=\"Times,serif\" font-size=\"14.00\">value = 44.952</text>\n",
       "</g>\n",
       "<!-- 14&#45;&gt;22 -->\n",
       "<g id=\"edge22\" class=\"edge\">\n",
       "<title>14&#45;&gt;22</title>\n",
       "<path fill=\"none\" stroke=\"black\" d=\"M962.2,-312.7C1013.03,-295 1091.99,-267.51 1146.09,-248.68\"/>\n",
       "<polygon fill=\"black\" stroke=\"black\" points=\"1147.26,-251.98 1155.55,-245.39 1144.96,-245.37 1147.26,-251.98\"/>\n",
       "</g>\n",
       "<!-- 16 -->\n",
       "<g id=\"node17\" class=\"node\">\n",
       "<title>16</title>\n",
       "<polygon fill=\"#efb184\" stroke=\"black\" points=\"904,-157 805,-157 805,-89 904,-89 904,-157\"/>\n",
       "<text text-anchor=\"middle\" x=\"854.5\" y=\"-141.8\" font-family=\"Times,serif\" font-size=\"14.00\">DIS &lt;= 2.289</text>\n",
       "<text text-anchor=\"middle\" x=\"854.5\" y=\"-126.8\" font-family=\"Times,serif\" font-size=\"14.00\">mse = 19.75</text>\n",
       "<text text-anchor=\"middle\" x=\"854.5\" y=\"-111.8\" font-family=\"Times,serif\" font-size=\"14.00\">samples = 23</text>\n",
       "<text text-anchor=\"middle\" x=\"854.5\" y=\"-96.8\" font-family=\"Times,serif\" font-size=\"14.00\">value = 34.783</text>\n",
       "</g>\n",
       "<!-- 15&#45;&gt;16 -->\n",
       "<g id=\"edge16\" class=\"edge\">\n",
       "<title>15&#45;&gt;16</title>\n",
       "<path fill=\"none\" stroke=\"black\" d=\"M893.67,-192.88C888.81,-184.33 883.51,-175.01 878.42,-166.07\"/>\n",
       "<polygon fill=\"black\" stroke=\"black\" points=\"881.42,-164.26 873.43,-157.3 875.34,-167.72 881.42,-164.26\"/>\n",
       "</g>\n",
       "<!-- 19 -->\n",
       "<g id=\"node20\" class=\"node\">\n",
       "<title>19</title>\n",
       "<polygon fill=\"#f3c4a2\" stroke=\"black\" points=\"1021,-157 922,-157 922,-89 1021,-89 1021,-157\"/>\n",
       "<text text-anchor=\"middle\" x=\"971.5\" y=\"-141.8\" font-family=\"Times,serif\" font-size=\"14.00\">RAD &lt;= 5.5</text>\n",
       "<text text-anchor=\"middle\" x=\"971.5\" y=\"-126.8\" font-family=\"Times,serif\" font-size=\"14.00\">mse = 21.371</text>\n",
       "<text text-anchor=\"middle\" x=\"971.5\" y=\"-111.8\" font-family=\"Times,serif\" font-size=\"14.00\">samples = 19</text>\n",
       "<text text-anchor=\"middle\" x=\"971.5\" y=\"-96.8\" font-family=\"Times,serif\" font-size=\"14.00\">value = 28.768</text>\n",
       "</g>\n",
       "<!-- 15&#45;&gt;19 -->\n",
       "<g id=\"edge19\" class=\"edge\">\n",
       "<title>15&#45;&gt;19</title>\n",
       "<path fill=\"none\" stroke=\"black\" d=\"M931.66,-192.88C936.6,-184.33 941.99,-175.01 947.16,-166.07\"/>\n",
       "<polygon fill=\"black\" stroke=\"black\" points=\"950.26,-167.71 952.24,-157.3 944.2,-164.2 950.26,-167.71\"/>\n",
       "</g>\n",
       "<!-- 17 -->\n",
       "<g id=\"node18\" class=\"node\">\n",
       "<title>17</title>\n",
       "<polygon fill=\"#e88f4f\" stroke=\"black\" points=\"786.5,-53 694.5,-53 694.5,0 786.5,0 786.5,-53\"/>\n",
       "<text text-anchor=\"middle\" x=\"740.5\" y=\"-37.8\" font-family=\"Times,serif\" font-size=\"14.00\">mse = 18.923</text>\n",
       "<text text-anchor=\"middle\" x=\"740.5\" y=\"-22.8\" font-family=\"Times,serif\" font-size=\"14.00\">samples = 2</text>\n",
       "<text text-anchor=\"middle\" x=\"740.5\" y=\"-7.8\" font-family=\"Times,serif\" font-size=\"14.00\">value = 45.65</text>\n",
       "</g>\n",
       "<!-- 16&#45;&gt;17 -->\n",
       "<g id=\"edge17\" class=\"edge\">\n",
       "<title>16&#45;&gt;17</title>\n",
       "<path fill=\"none\" stroke=\"black\" d=\"M814.63,-88.95C803.26,-79.53 790.89,-69.27 779.57,-59.89\"/>\n",
       "<polygon fill=\"black\" stroke=\"black\" points=\"781.48,-56.92 771.55,-53.24 777.01,-62.31 781.48,-56.92\"/>\n",
       "</g>\n",
       "<!-- 18 -->\n",
       "<g id=\"node19\" class=\"node\">\n",
       "<title>18</title>\n",
       "<polygon fill=\"#f0b48a\" stroke=\"black\" points=\"904,-53 805,-53 805,0 904,0 904,-53\"/>\n",
       "<text text-anchor=\"middle\" x=\"854.5\" y=\"-37.8\" font-family=\"Times,serif\" font-size=\"14.00\">mse = 7.51</text>\n",
       "<text text-anchor=\"middle\" x=\"854.5\" y=\"-22.8\" font-family=\"Times,serif\" font-size=\"14.00\">samples = 21</text>\n",
       "<text text-anchor=\"middle\" x=\"854.5\" y=\"-7.8\" font-family=\"Times,serif\" font-size=\"14.00\">value = 33.748</text>\n",
       "</g>\n",
       "<!-- 16&#45;&gt;18 -->\n",
       "<g id=\"edge18\" class=\"edge\">\n",
       "<title>16&#45;&gt;18</title>\n",
       "<path fill=\"none\" stroke=\"black\" d=\"M854.5,-88.95C854.5,-80.72 854.5,-71.85 854.5,-63.48\"/>\n",
       "<polygon fill=\"black\" stroke=\"black\" points=\"858,-63.24 854.5,-53.24 851,-63.24 858,-63.24\"/>\n",
       "</g>\n",
       "<!-- 20 -->\n",
       "<g id=\"node21\" class=\"node\">\n",
       "<title>20</title>\n",
       "<polygon fill=\"#f2be99\" stroke=\"black\" points=\"1021,-53 922,-53 922,0 1021,0 1021,-53\"/>\n",
       "<text text-anchor=\"middle\" x=\"971.5\" y=\"-37.8\" font-family=\"Times,serif\" font-size=\"14.00\">mse = 13.901</text>\n",
       "<text text-anchor=\"middle\" x=\"971.5\" y=\"-22.8\" font-family=\"Times,serif\" font-size=\"14.00\">samples = 13</text>\n",
       "<text text-anchor=\"middle\" x=\"971.5\" y=\"-7.8\" font-family=\"Times,serif\" font-size=\"14.00\">value = 30.538</text>\n",
       "</g>\n",
       "<!-- 19&#45;&gt;20 -->\n",
       "<g id=\"edge20\" class=\"edge\">\n",
       "<title>19&#45;&gt;20</title>\n",
       "<path fill=\"none\" stroke=\"black\" d=\"M971.5,-88.95C971.5,-80.72 971.5,-71.85 971.5,-63.48\"/>\n",
       "<polygon fill=\"black\" stroke=\"black\" points=\"975,-63.24 971.5,-53.24 968,-63.24 975,-63.24\"/>\n",
       "</g>\n",
       "<!-- 21 -->\n",
       "<g id=\"node22\" class=\"node\">\n",
       "<title>21</title>\n",
       "<polygon fill=\"#f5d0b5\" stroke=\"black\" points=\"1138,-53 1039,-53 1039,0 1138,0 1138,-53\"/>\n",
       "<text text-anchor=\"middle\" x=\"1088.5\" y=\"-37.8\" font-family=\"Times,serif\" font-size=\"14.00\">mse = 16.059</text>\n",
       "<text text-anchor=\"middle\" x=\"1088.5\" y=\"-22.8\" font-family=\"Times,serif\" font-size=\"14.00\">samples = 6</text>\n",
       "<text text-anchor=\"middle\" x=\"1088.5\" y=\"-7.8\" font-family=\"Times,serif\" font-size=\"14.00\">value = 24.933</text>\n",
       "</g>\n",
       "<!-- 19&#45;&gt;21 -->\n",
       "<g id=\"edge21\" class=\"edge\">\n",
       "<title>19&#45;&gt;21</title>\n",
       "<path fill=\"none\" stroke=\"black\" d=\"M1012.42,-88.95C1024.2,-79.43 1037.03,-69.07 1048.74,-59.62\"/>\n",
       "<polygon fill=\"black\" stroke=\"black\" points=\"1051.06,-62.24 1056.64,-53.24 1046.66,-56.8 1051.06,-62.24\"/>\n",
       "</g>\n",
       "<!-- 23 -->\n",
       "<g id=\"node24\" class=\"node\">\n",
       "<title>23</title>\n",
       "<polygon fill=\"#e88d4c\" stroke=\"black\" points=\"1255,-157 1156,-157 1156,-89 1255,-89 1255,-157\"/>\n",
       "<text text-anchor=\"middle\" x=\"1205.5\" y=\"-141.8\" font-family=\"Times,serif\" font-size=\"14.00\">RM &lt;= 7.783</text>\n",
       "<text text-anchor=\"middle\" x=\"1205.5\" y=\"-126.8\" font-family=\"Times,serif\" font-size=\"14.00\">mse = 17.349</text>\n",
       "<text text-anchor=\"middle\" x=\"1205.5\" y=\"-111.8\" font-family=\"Times,serif\" font-size=\"14.00\">samples = 20</text>\n",
       "<text text-anchor=\"middle\" x=\"1205.5\" y=\"-96.8\" font-family=\"Times,serif\" font-size=\"14.00\">value = 46.105</text>\n",
       "</g>\n",
       "<!-- 22&#45;&gt;23 -->\n",
       "<g id=\"edge23\" class=\"edge\">\n",
       "<title>22&#45;&gt;23</title>\n",
       "<path fill=\"none\" stroke=\"black\" d=\"M1205.5,-192.88C1205.5,-184.78 1205.5,-175.98 1205.5,-167.47\"/>\n",
       "<polygon fill=\"black\" stroke=\"black\" points=\"1209,-167.3 1205.5,-157.3 1202,-167.3 1209,-167.3\"/>\n",
       "</g>\n",
       "<!-- 26 -->\n",
       "<g id=\"node27\" class=\"node\">\n",
       "<title>26</title>\n",
       "<polygon fill=\"#f7dac4\" stroke=\"black\" points=\"1359.5,-149.5 1273.5,-149.5 1273.5,-96.5 1359.5,-96.5 1359.5,-149.5\"/>\n",
       "<text text-anchor=\"middle\" x=\"1316.5\" y=\"-134.3\" font-family=\"Times,serif\" font-size=\"14.00\">mse = 0.0</text>\n",
       "<text text-anchor=\"middle\" x=\"1316.5\" y=\"-119.3\" font-family=\"Times,serif\" font-size=\"14.00\">samples = 1</text>\n",
       "<text text-anchor=\"middle\" x=\"1316.5\" y=\"-104.3\" font-family=\"Times,serif\" font-size=\"14.00\">value = 21.9</text>\n",
       "</g>\n",
       "<!-- 22&#45;&gt;26 -->\n",
       "<g id=\"edge26\" class=\"edge\">\n",
       "<title>22&#45;&gt;26</title>\n",
       "<path fill=\"none\" stroke=\"black\" d=\"M1241.54,-192.88C1254.22,-181.23 1268.46,-168.14 1281.1,-156.53\"/>\n",
       "<polygon fill=\"black\" stroke=\"black\" points=\"1283.73,-158.86 1288.73,-149.52 1279,-153.71 1283.73,-158.86\"/>\n",
       "</g>\n",
       "<!-- 24 -->\n",
       "<g id=\"node25\" class=\"node\">\n",
       "<title>24</title>\n",
       "<polygon fill=\"#ea9a61\" stroke=\"black\" points=\"1255,-53 1156,-53 1156,0 1255,0 1255,-53\"/>\n",
       "<text text-anchor=\"middle\" x=\"1205.5\" y=\"-37.8\" font-family=\"Times,serif\" font-size=\"14.00\">mse = 12.419</text>\n",
       "<text text-anchor=\"middle\" x=\"1205.5\" y=\"-22.8\" font-family=\"Times,serif\" font-size=\"14.00\">samples = 6</text>\n",
       "<text text-anchor=\"middle\" x=\"1205.5\" y=\"-7.8\" font-family=\"Times,serif\" font-size=\"14.00\">value = 41.933</text>\n",
       "</g>\n",
       "<!-- 23&#45;&gt;24 -->\n",
       "<g id=\"edge24\" class=\"edge\">\n",
       "<title>23&#45;&gt;24</title>\n",
       "<path fill=\"none\" stroke=\"black\" d=\"M1205.5,-88.95C1205.5,-80.72 1205.5,-71.85 1205.5,-63.48\"/>\n",
       "<polygon fill=\"black\" stroke=\"black\" points=\"1209,-63.24 1205.5,-53.24 1202,-63.24 1209,-63.24\"/>\n",
       "</g>\n",
       "<!-- 25 -->\n",
       "<g id=\"node26\" class=\"node\">\n",
       "<title>25</title>\n",
       "<polygon fill=\"#e68843\" stroke=\"black\" points=\"1372,-53 1273,-53 1273,0 1372,0 1372,-53\"/>\n",
       "<text text-anchor=\"middle\" x=\"1322.5\" y=\"-37.8\" font-family=\"Times,serif\" font-size=\"14.00\">mse = 8.808</text>\n",
       "<text text-anchor=\"middle\" x=\"1322.5\" y=\"-22.8\" font-family=\"Times,serif\" font-size=\"14.00\">samples = 14</text>\n",
       "<text text-anchor=\"middle\" x=\"1322.5\" y=\"-7.8\" font-family=\"Times,serif\" font-size=\"14.00\">value = 47.893</text>\n",
       "</g>\n",
       "<!-- 23&#45;&gt;25 -->\n",
       "<g id=\"edge25\" class=\"edge\">\n",
       "<title>23&#45;&gt;25</title>\n",
       "<path fill=\"none\" stroke=\"black\" d=\"M1246.42,-88.95C1258.2,-79.43 1271.03,-69.07 1282.74,-59.62\"/>\n",
       "<polygon fill=\"black\" stroke=\"black\" points=\"1285.06,-62.24 1290.64,-53.24 1280.66,-56.8 1285.06,-62.24\"/>\n",
       "</g>\n",
       "</g>\n",
       "</svg>\n"
      ],
      "text/plain": [
       "<graphviz.files.Source at 0x1264ab1f0>"
      ]
     },
     "execution_count": 1,
     "metadata": {},
     "output_type": "execute_result"
    }
   ],
   "source": [
    "tree = graphviz.Source(tree.export_graphviz(model, out_file=None, feature_names=boston.feature_names, filled = True))\n",
    "tree"
   ]
  },
  {
   "cell_type": "code",
   "execution_count": null,
   "id": "aquatic-spencer",
   "metadata": {},
   "outputs": [],
   "source": []
  }
 ],
 "metadata": {
  "kernelspec": {
   "display_name": "Python 3",
   "language": "python",
   "name": "python3"
  },
  "language_info": {
   "codemirror_mode": {
    "name": "ipython",
    "version": 3
   },
   "file_extension": ".py",
   "mimetype": "text/x-python",
   "name": "python",
   "nbconvert_exporter": "python",
   "pygments_lexer": "ipython3",
   "version": "3.8.5"
  }
 },
 "nbformat": 4,
 "nbformat_minor": 5
}
