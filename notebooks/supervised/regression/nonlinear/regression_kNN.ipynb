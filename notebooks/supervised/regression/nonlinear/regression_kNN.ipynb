{
 "cells": [
  {
   "cell_type": "markdown",
   "id": "fourth-sweden",
   "metadata": {},
   "source": [
    "## Regression with k-NN"
   ]
  },
  {
   "cell_type": "code",
   "execution_count": 1,
   "id": "affecting-pharmacy",
   "metadata": {
    "execution": {
     "iopub.execute_input": "2021-03-09T10:11:21.526835Z",
     "iopub.status.busy": "2021-03-09T10:11:21.526182Z",
     "iopub.status.idle": "2021-03-09T10:11:22.494454Z",
     "shell.execute_reply": "2021-03-09T10:11:22.493868Z"
    }
   },
   "outputs": [],
   "source": [
    "%matplotlib inline\n",
    "import matplotlib.pyplot as plt\n",
    "import seaborn as sns\n",
    "import pandas as pd\n",
    "import numpy as np\n",
    "\n",
    "from sklearn import neighbors, datasets, metrics, model_selection"
   ]
  },
  {
   "cell_type": "code",
   "execution_count": 2,
   "id": "governmental-facial",
   "metadata": {
    "execution": {
     "iopub.execute_input": "2021-03-09T10:11:22.497412Z",
     "iopub.status.busy": "2021-03-09T10:11:22.496864Z",
     "iopub.status.idle": "2021-03-09T10:11:22.503439Z",
     "shell.execute_reply": "2021-03-09T10:11:22.502998Z"
    }
   },
   "outputs": [
    {
     "name": "stdout",
     "output_type": "stream",
     "text": [
      ".. _boston_dataset:\n",
      "\n",
      "Boston house prices dataset\n",
      "---------------------------\n",
      "\n",
      "**Data Set Characteristics:**  \n",
      "\n",
      "    :Number of Instances: 506 \n",
      "\n",
      "    :Number of Attributes: 13 numeric/categorical predictive. Median Value (attribute 14) is usually the target.\n",
      "\n",
      "    :Attribute Information (in order):\n",
      "        - CRIM     per capita crime rate by town\n",
      "        - ZN       proportion of residential land zoned for lots over 25,000 sq.ft.\n",
      "        - INDUS    proportion of non-retail business acres per town\n",
      "        - CHAS     Charles River dummy variable (= 1 if tract bounds river; 0 otherwise)\n",
      "        - NOX      nitric oxides concentration (parts per 10 million)\n",
      "        - RM       average number of rooms per dwelling\n",
      "        - AGE      proportion of owner-occupied units built prior to 1940\n",
      "        - DIS      weighted distances to five Boston employment centres\n",
      "        - RAD      index of accessibility to radial highways\n",
      "        - TAX      full-value property-tax rate per $10,000\n",
      "        - PTRATIO  pupil-teacher ratio by town\n",
      "        - B        1000(Bk - 0.63)^2 where Bk is the proportion of blacks by town\n",
      "        - LSTAT    % lower status of the population\n",
      "        - MEDV     Median value of owner-occupied homes in $1000's\n",
      "\n",
      "    :Missing Attribute Values: None\n",
      "\n",
      "    :Creator: Harrison, D. and Rubinfeld, D.L.\n",
      "\n",
      "This is a copy of UCI ML housing dataset.\n",
      "https://archive.ics.uci.edu/ml/machine-learning-databases/housing/\n",
      "\n",
      "\n",
      "This dataset was taken from the StatLib library which is maintained at Carnegie Mellon University.\n",
      "\n",
      "The Boston house-price data of Harrison, D. and Rubinfeld, D.L. 'Hedonic\n",
      "prices and the demand for clean air', J. Environ. Economics & Management,\n",
      "vol.5, 81-102, 1978.   Used in Belsley, Kuh & Welsch, 'Regression diagnostics\n",
      "...', Wiley, 1980.   N.B. Various transformations are used in the table on\n",
      "pages 244-261 of the latter.\n",
      "\n",
      "The Boston house-price data has been used in many machine learning papers that address regression\n",
      "problems.   \n",
      "     \n",
      ".. topic:: References\n",
      "\n",
      "   - Belsley, Kuh & Welsch, 'Regression diagnostics: Identifying Influential Data and Sources of Collinearity', Wiley, 1980. 244-261.\n",
      "   - Quinlan,R. (1993). Combining Instance-Based and Model-Based Learning. In Proceedings on the Tenth International Conference of Machine Learning, 236-243, University of Massachusetts, Amherst. Morgan Kaufmann.\n",
      "\n"
     ]
    }
   ],
   "source": [
    "boston = datasets.load_boston()\n",
    "print(boston.DESCR)"
   ]
  },
  {
   "cell_type": "code",
   "execution_count": 3,
   "id": "adolescent-favorite",
   "metadata": {
    "execution": {
     "iopub.execute_input": "2021-03-09T10:11:22.507020Z",
     "iopub.status.busy": "2021-03-09T10:11:22.506582Z",
     "iopub.status.idle": "2021-03-09T10:11:22.508301Z",
     "shell.execute_reply": "2021-03-09T10:11:22.508631Z"
    }
   },
   "outputs": [],
   "source": [
    "X = pd.DataFrame(boston.data, columns=boston.feature_names)\n",
    "y = boston.target"
   ]
  },
  {
   "cell_type": "code",
   "execution_count": 4,
   "id": "altered-geometry",
   "metadata": {
    "execution": {
     "iopub.execute_input": "2021-03-09T10:11:22.512758Z",
     "iopub.status.busy": "2021-03-09T10:11:22.512300Z",
     "iopub.status.idle": "2021-03-09T10:11:22.514828Z",
     "shell.execute_reply": "2021-03-09T10:11:22.514388Z"
    }
   },
   "outputs": [
    {
     "name": "stdout",
     "output_type": "stream",
     "text": [
      "train samples: 354\n",
      "test samples 152\n"
     ]
    }
   ],
   "source": [
    "X_train, X_test, y_train, y_test = model_selection.train_test_split(X, y, train_size=0.7)\n",
    "\n",
    "print('train samples:', len(X_train))\n",
    "print('test samples', len(X_test))"
   ]
  },
  {
   "cell_type": "code",
   "execution_count": 5,
   "id": "constitutional-cache",
   "metadata": {
    "execution": {
     "iopub.execute_input": "2021-03-09T10:11:22.520592Z",
     "iopub.status.busy": "2021-03-09T10:11:22.520158Z",
     "iopub.status.idle": "2021-03-09T10:11:22.523516Z",
     "shell.execute_reply": "2021-03-09T10:11:22.523851Z"
    }
   },
   "outputs": [
    {
     "data": {
      "text/plain": [
       "KNeighborsRegressor()"
      ]
     },
     "execution_count": 1,
     "metadata": {},
     "output_type": "execute_result"
    }
   ],
   "source": [
    "model = neighbors.KNeighborsRegressor(n_neighbors=5)\n",
    "model.fit(X_train, y_train)"
   ]
  },
  {
   "cell_type": "code",
   "execution_count": 6,
   "id": "generous-rabbit",
   "metadata": {
    "execution": {
     "iopub.execute_input": "2021-03-09T10:11:22.529315Z",
     "iopub.status.busy": "2021-03-09T10:11:22.528885Z",
     "iopub.status.idle": "2021-03-09T10:11:22.662981Z",
     "shell.execute_reply": "2021-03-09T10:11:22.663548Z"
    }
   },
   "outputs": [
    {
     "data": {
      "image/png": "[encoded data removed]",
      "text/plain": [
       "<Figure size 432x288 with 1 Axes>"
      ]
     },
     "metadata": {
      "needs_background": "light"
     },
     "output_type": "display_data"
    }
   ],
   "source": [
    "predicted = model.predict(X_test)\n",
    "\n",
    "fig, ax = plt.subplots()\n",
    "ax.scatter(y_test, predicted)\n",
    "\n",
    "ax.set_xlabel('True Values')\n",
    "ax.set_ylabel('Predicted')\n",
    "_ = ax.plot([0, y.max()], [0, y.max()], ls='-', color='red')"
   ]
  },
  {
   "cell_type": "code",
   "execution_count": 7,
   "id": "thick-silver",
   "metadata": {
    "execution": {
     "iopub.execute_input": "2021-03-09T10:11:22.683105Z",
     "iopub.status.busy": "2021-03-09T10:11:22.682539Z",
     "iopub.status.idle": "2021-03-09T10:11:22.808775Z",
     "shell.execute_reply": "2021-03-09T10:11:22.808295Z"
    }
   },
   "outputs": [
    {
     "data": {
      "image/png": "[encoded data removed]",
      "text/plain": [
       "<Figure size 432x288 with 1 Axes>"
      ]
     },
     "metadata": {
      "needs_background": "light"
     },
     "output_type": "display_data"
    }
   ],
   "source": [
    "residual = y_test - predicted\n",
    "\n",
    "fig, ax = plt.subplots()\n",
    "ax.scatter(y_test, residual)\n",
    "ax.set_xlabel('y')\n",
    "ax.set_ylabel('residual')\n",
    "\n",
    "_ = plt.axhline(0, color='red', ls='--')"
   ]
  },
  {
   "cell_type": "code",
   "execution_count": 8,
   "id": "identical-snapshot",
   "metadata": {
    "execution": {
     "iopub.execute_input": "2021-03-09T10:11:22.843637Z",
     "iopub.status.busy": "2021-03-09T10:11:22.833624Z",
     "iopub.status.idle": "2021-03-09T10:11:23.021708Z",
     "shell.execute_reply": "2021-03-09T10:11:23.021068Z"
    }
   },
   "outputs": [
    {
     "data": {
      "text/plain": [
       "<seaborn.axisgrid.FacetGrid at 0x12a173e80>"
      ]
     },
     "execution_count": 1,
     "metadata": {},
     "output_type": "execute_result"
    },
    {
     "data": {
      "image/png": "[encoded data removed]",
      "text/plain": [
       "<Figure size 360x360 with 1 Axes>"
      ]
     },
     "metadata": {
      "needs_background": "light"
     },
     "output_type": "display_data"
    }
   ],
   "source": [
    "sns.displot(residual, kind=\"kde\");"
   ]
  },
  {
   "cell_type": "code",
   "execution_count": 9,
   "id": "uniform-diversity",
   "metadata": {
    "execution": {
     "iopub.execute_input": "2021-03-09T10:11:23.027275Z",
     "iopub.status.busy": "2021-03-09T10:11:23.026765Z",
     "iopub.status.idle": "2021-03-09T10:11:23.028971Z",
     "shell.execute_reply": "2021-03-09T10:11:23.029282Z"
    }
   },
   "outputs": [
    {
     "name": "stdout",
     "output_type": "stream",
     "text": [
      "r2 score: 0.5147975719349065\n",
      "mse: 47.53207631578947\n",
      "rmse: 6.8943510438466555\n"
     ]
    }
   ],
   "source": [
    "print(\"r2 score: {}\".format(metrics.r2_score(y_test, predicted)))\n",
    "print(\"mse: {}\".format(metrics.mean_squared_error(y_test, predicted)))\n",
    "print(\"rmse: {}\".format(np.sqrt(metrics.mean_squared_error(y_test, predicted))))"
   ]
  }
 ],
 "metadata": {
  "kernelspec": {
   "display_name": "Python 3",
   "language": "python",
   "name": "python3"
  },
  "language_info": {
   "codemirror_mode": {
    "name": "ipython",
    "version": 3
   },
   "file_extension": ".py",
   "mimetype": "text/x-python",
   "name": "python",
   "nbconvert_exporter": "python",
   "pygments_lexer": "ipython3",
   "version": "3.8.5"
  }
 },
 "nbformat": 4,
 "nbformat_minor": 5
}
