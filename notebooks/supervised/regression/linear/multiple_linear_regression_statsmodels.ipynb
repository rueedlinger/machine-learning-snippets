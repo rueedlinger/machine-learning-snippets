{
 "cells": [
  {
   "cell_type": "markdown",
   "metadata": {},
   "source": [
    "## Linear regression with statsmodels (OLS)"
   ]
  },
  {
   "cell_type": "code",
   "execution_count": 1,
   "metadata": {
    "execution": {
     "iopub.execute_input": "2021-03-09T08:39:57.104349Z",
     "iopub.status.busy": "2021-03-09T08:39:57.103397Z",
     "iopub.status.idle": "2021-03-09T08:39:58.100240Z",
     "shell.execute_reply": "2021-03-09T08:39:58.099677Z"
    },
    "tags": []
   },
   "outputs": [],
   "source": [
    "import statsmodels.api as sm\n",
    "import statsmodels.formula.api as smf\n",
    "import statsmodels.tools.eval_measures as eval_measures\n",
    "import scipy.stats as stats\n",
    "import pandas as pd\n",
    "import numpy as np\n",
    "\n",
    "from matplotlib import pyplot as plt\n",
    "from sklearn import datasets, model_selection, metrics"
   ]
  },
  {
   "cell_type": "markdown",
   "metadata": {},
   "source": [
    "We load the boston house-prices dataset and `X` are our features and `y` is the target variable `medv` (Median value of owner-occupied homes in $1000s)."
   ]
  },
  {
   "cell_type": "code",
   "execution_count": 2,
   "metadata": {
    "execution": {
     "iopub.execute_input": "2021-03-09T08:39:58.103395Z",
     "iopub.status.busy": "2021-03-09T08:39:58.103000Z",
     "iopub.status.idle": "2021-03-09T08:39:58.109605Z",
     "shell.execute_reply": "2021-03-09T08:39:58.109159Z"
    },
    "tags": []
   },
   "outputs": [
    {
     "name": "stdout",
     "output_type": "stream",
     "text": [
      ".. _boston_dataset:\n",
      "\n",
      "Boston house prices dataset\n",
      "---------------------------\n",
      "\n",
      "**Data Set Characteristics:**  \n",
      "\n",
      "    :Number of Instances: 506 \n",
      "\n",
      "    :Number of Attributes: 13 numeric/categorical predictive. Median Value (attribute 14) is usually the target.\n",
      "\n",
      "    :Attribute Information (in order):\n",
      "        - CRIM     per capita crime rate by town\n",
      "        - ZN       proportion of residential land zoned for lots over 25,000 sq.ft.\n",
      "        - INDUS    proportion of non-retail business acres per town\n",
      "        - CHAS     Charles River dummy variable (= 1 if tract bounds river; 0 otherwise)\n",
      "        - NOX      nitric oxides concentration (parts per 10 million)\n",
      "        - RM       average number of rooms per dwelling\n",
      "        - AGE      proportion of owner-occupied units built prior to 1940\n",
      "        - DIS      weighted distances to five Boston employment centres\n",
      "        - RAD      index of accessibility to radial highways\n",
      "        - TAX      full-value property-tax rate per $10,000\n",
      "        - PTRATIO  pupil-teacher ratio by town\n",
      "        - B        1000(Bk - 0.63)^2 where Bk is the proportion of blacks by town\n",
      "        - LSTAT    % lower status of the population\n",
      "        - MEDV     Median value of owner-occupied homes in $1000's\n",
      "\n",
      "    :Missing Attribute Values: None\n",
      "\n",
      "    :Creator: Harrison, D. and Rubinfeld, D.L.\n",
      "\n",
      "This is a copy of UCI ML housing dataset.\n",
      "https://archive.ics.uci.edu/ml/machine-learning-databases/housing/\n",
      "\n",
      "\n",
      "This dataset was taken from the StatLib library which is maintained at Carnegie Mellon University.\n",
      "\n",
      "The Boston house-price data of Harrison, D. and Rubinfeld, D.L. 'Hedonic\n",
      "prices and the demand for clean air', J. Environ. Economics & Management,\n",
      "vol.5, 81-102, 1978.   Used in Belsley, Kuh & Welsch, 'Regression diagnostics\n",
      "...', Wiley, 1980.   N.B. Various transformations are used in the table on\n",
      "pages 244-261 of the latter.\n",
      "\n",
      "The Boston house-price data has been used in many machine learning papers that address regression\n",
      "problems.   \n",
      "     \n",
      ".. topic:: References\n",
      "\n",
      "   - Belsley, Kuh & Welsch, 'Regression diagnostics: Identifying Influential Data and Sources of Collinearity', Wiley, 1980. 244-261.\n",
      "   - Quinlan,R. (1993). Combining Instance-Based and Model-Based Learning. In Proceedings on the Tenth International Conference of Machine Learning, 236-243, University of Massachusetts, Amherst. Morgan Kaufmann.\n",
      "\n"
     ]
    }
   ],
   "source": [
    "boston = datasets.load_boston()\n",
    "print(boston.DESCR)"
   ]
  },
  {
   "cell_type": "markdown",
   "metadata": {},
   "source": [
    "Let's split the data in a test and training set."
   ]
  },
  {
   "cell_type": "code",
   "execution_count": 3,
   "metadata": {
    "execution": {
     "iopub.execute_input": "2021-03-09T08:39:58.114270Z",
     "iopub.status.busy": "2021-03-09T08:39:58.113872Z",
     "iopub.status.idle": "2021-03-09T08:39:58.116127Z",
     "shell.execute_reply": "2021-03-09T08:39:58.115711Z"
    },
    "tags": []
   },
   "outputs": [],
   "source": [
    "X = pd.DataFrame(boston.data, columns=boston.feature_names)\n",
    "y = boston.target\n",
    "\n",
    "X_train, X_test, y_train, y_test = model_selection.train_test_split(X, y, train_size=0.7)"
   ]
  },
  {
   "cell_type": "markdown",
   "metadata": {},
   "source": [
    "## Fitting models - the standard way\n",
    "### Full model without an intercept\n"
   ]
  },
  {
   "cell_type": "code",
   "execution_count": 4,
   "metadata": {
    "execution": {
     "iopub.execute_input": "2021-03-09T08:39:58.119481Z",
     "iopub.status.busy": "2021-03-09T08:39:58.118997Z",
     "iopub.status.idle": "2021-03-09T08:39:58.131231Z",
     "shell.execute_reply": "2021-03-09T08:39:58.131562Z"
    },
    "tags": []
   },
   "outputs": [
    {
     "name": "stdout",
     "output_type": "stream",
     "text": [
      "                                 OLS Regression Results                                \n",
      "=======================================================================================\n",
      "Dep. Variable:                      y   R-squared (uncentered):                   0.962\n",
      "Model:                            OLS   Adj. R-squared (uncentered):              0.961\n",
      "Method:                 Least Squares   F-statistic:                              663.4\n",
      "Date:                Tue, 09 Mar 2021   Prob (F-statistic):                   4.94e-233\n",
      "Time:                        09:39:58   Log-Likelihood:                         -1053.6\n",
      "No. Observations:                 354   AIC:                                      2133.\n",
      "Df Residuals:                     341   BIC:                                      2184.\n",
      "Df Model:                          13                                                  \n",
      "Covariance Type:            nonrobust                                                  \n",
      "==============================================================================\n",
      "                 coef    std err          t      P>|t|      [0.025      0.975]\n",
      "------------------------------------------------------------------------------\n",
      "CRIM          -0.1060      0.043     -2.447      0.015      -0.191      -0.021\n",
      "ZN             0.0475      0.017      2.775      0.006       0.014       0.081\n",
      "INDUS         -0.0191      0.082     -0.234      0.815      -0.180       0.142\n",
      "CHAS           1.3425      0.981      1.369      0.172      -0.587       3.272\n",
      "NOX           -2.5311      3.849     -0.658      0.511     -10.103       5.040\n",
      "RM             5.8726      0.346     16.959      0.000       5.191       6.554\n",
      "AGE            0.0046      0.016      0.291      0.771      -0.026       0.035\n",
      "DIS           -0.8810      0.223     -3.952      0.000      -1.319      -0.442\n",
      "RAD            0.2054      0.078      2.620      0.009       0.051       0.360\n",
      "TAX           -0.0099      0.005     -2.107      0.036      -0.019      -0.001\n",
      "PTRATIO       -0.3733      0.127     -2.951      0.003      -0.622      -0.124\n",
      "B              0.0142      0.003      4.673      0.000       0.008       0.020\n",
      "LSTAT         -0.4905      0.060     -8.185      0.000      -0.608      -0.373\n",
      "==============================================================================\n",
      "Omnibus:                      126.079   Durbin-Watson:                   2.085\n",
      "Prob(Omnibus):                  0.000   Jarque-Bera (JB):              795.958\n",
      "Skew:                           1.341   Prob(JB):                    1.44e-173\n",
      "Kurtosis:                       9.839   Cond. No.                     8.41e+03\n",
      "==============================================================================\n",
      "\n",
      "Notes:\n",
      "[1] R² is computed without centering (uncentered) since the model does not contain a constant.\n",
      "[2] Standard Errors assume that the covariance matrix of the errors is correctly specified.\n",
      "[3] The condition number is large, 8.41e+03. This might indicate that there are\n",
      "strong multicollinearity or other numerical problems.\n"
     ]
    }
   ],
   "source": [
    "model = sm.OLS(y_train, X_train)\n",
    "result = model.fit()\n",
    "print(result.summary())"
   ]
  },
  {
   "cell_type": "code",
   "execution_count": 5,
   "metadata": {
    "execution": {
     "iopub.execute_input": "2021-03-09T08:39:58.150840Z",
     "iopub.status.busy": "2021-03-09T08:39:58.135944Z",
     "iopub.status.idle": "2021-03-09T08:39:58.249409Z",
     "shell.execute_reply": "2021-03-09T08:39:58.249031Z"
    },
    "tags": []
   },
   "outputs": [
    {
     "data": {
      "image/png": "[encoded data removed]",
      "text/plain": [
       "<Figure size 432x288 with 1 Axes>"
      ]
     },
     "metadata": {
      "needs_background": "light"
     },
     "output_type": "display_data"
    }
   ],
   "source": [
    "fig = sm.qqplot(result.resid, fit=True, line=\"s\")\n",
    "plt.show()"
   ]
  },
  {
   "cell_type": "code",
   "execution_count": 6,
   "metadata": {
    "execution": {
     "iopub.execute_input": "2021-03-09T08:39:58.252516Z",
     "iopub.status.busy": "2021-03-09T08:39:58.252109Z",
     "iopub.status.idle": "2021-03-09T08:39:58.256472Z",
     "shell.execute_reply": "2021-03-09T08:39:58.256796Z"
    },
    "tags": []
   },
   "outputs": [
    {
     "data": {
      "text/plain": [
       "CRIM        True\n",
       "ZN          True\n",
       "INDUS      False\n",
       "CHAS       False\n",
       "NOX        False\n",
       "RM          True\n",
       "AGE        False\n",
       "DIS         True\n",
       "RAD         True\n",
       "TAX         True\n",
       "PTRATIO     True\n",
       "B           True\n",
       "LSTAT       True\n",
       "dtype: bool"
      ]
     },
     "execution_count": 1,
     "metadata": {},
     "output_type": "execute_result"
    }
   ],
   "source": [
    "result.pvalues < 0.05"
   ]
  },
  {
   "cell_type": "code",
   "execution_count": 7,
   "metadata": {
    "execution": {
     "iopub.execute_input": "2021-03-09T08:39:58.261943Z",
     "iopub.status.busy": "2021-03-09T08:39:58.261478Z",
     "iopub.status.idle": "2021-03-09T08:39:58.264053Z",
     "shell.execute_reply": "2021-03-09T08:39:58.263706Z"
    },
    "tags": []
   },
   "outputs": [
    {
     "name": "stdout",
     "output_type": "stream",
     "text": [
      "r2 score: 0.6323339647752567\n",
      "mse: 29.06293435588113\n",
      "rmse: 5.391004948604771\n",
      "mae: 3.5502772968074825\n"
     ]
    }
   ],
   "source": [
    "predicted = result.predict(X_test)\n",
    "\n",
    "print(\"r2 score: {}\".format(metrics.r2_score(y_test, predicted)))\n",
    "print(\"mse: {}\".format(metrics.mean_squared_error(y_test, predicted)))\n",
    "print(\"rmse: {}\".format(np.sqrt(metrics.mean_squared_error(y_test, predicted))))\n",
    "print(\"mae: {}\".format(metrics.mean_absolute_error(y_test, predicted)))"
   ]
  },
  {
   "cell_type": "markdown",
   "metadata": {},
   "source": [
    "### Full model with an intercept\n"
   ]
  },
  {
   "cell_type": "code",
   "execution_count": 8,
   "metadata": {
    "execution": {
     "iopub.execute_input": "2021-03-09T08:39:58.267092Z",
     "iopub.status.busy": "2021-03-09T08:39:58.266683Z",
     "iopub.status.idle": "2021-03-09T08:39:58.281607Z",
     "shell.execute_reply": "2021-03-09T08:39:58.281190Z"
    },
    "tags": []
   },
   "outputs": [
    {
     "name": "stdout",
     "output_type": "stream",
     "text": [
      "                            OLS Regression Results                            \n",
      "==============================================================================\n",
      "Dep. Variable:                      y   R-squared:                       0.770\n",
      "Model:                            OLS   Adj. R-squared:                  0.761\n",
      "Method:                 Least Squares   F-statistic:                     87.53\n",
      "Date:                Tue, 09 Mar 2021   Prob (F-statistic):          5.54e-100\n",
      "Time:                        09:39:58   Log-Likelihood:                -1032.1\n",
      "No. Observations:                 354   AIC:                             2092.\n",
      "Df Residuals:                     340   BIC:                             2146.\n",
      "Df Model:                          13                                         \n",
      "Covariance Type:            nonrobust                                         \n",
      "==============================================================================\n",
      "                 coef    std err          t      P>|t|      [0.025      0.975]\n",
      "------------------------------------------------------------------------------\n",
      "const         37.4581      5.652      6.627      0.000      26.340      48.576\n",
      "CRIM          -0.1211      0.041     -2.963      0.003      -0.202      -0.041\n",
      "ZN             0.0427      0.016      2.642      0.009       0.011       0.074\n",
      "INDUS          0.0059      0.077      0.076      0.939      -0.146       0.158\n",
      "CHAS           1.3500      0.924      1.460      0.145      -0.468       3.168\n",
      "NOX          -18.0655      4.319     -4.182      0.000     -26.561      -9.569\n",
      "RM             3.7244      0.460      8.097      0.000       2.820       4.629\n",
      "AGE            0.0115      0.015      0.773      0.440      -0.018       0.041\n",
      "DIS           -1.3948      0.224     -6.228      0.000      -1.835      -0.954\n",
      "RAD            0.3444      0.077      4.484      0.000       0.193       0.496\n",
      "TAX           -0.0131      0.004     -2.953      0.003      -0.022      -0.004\n",
      "PTRATIO       -0.9444      0.147     -6.419      0.000      -1.234      -0.655\n",
      "B              0.0087      0.003      2.908      0.004       0.003       0.015\n",
      "LSTAT         -0.6031      0.059    -10.226      0.000      -0.719      -0.487\n",
      "==============================================================================\n",
      "Omnibus:                       94.815   Durbin-Watson:                   2.105\n",
      "Prob(Omnibus):                  0.000   Jarque-Bera (JB):              313.361\n",
      "Skew:                           1.175   Prob(JB):                     9.00e-69\n",
      "Kurtosis:                       6.965   Cond. No.                     1.47e+04\n",
      "==============================================================================\n",
      "\n",
      "Notes:\n",
      "[1] Standard Errors assume that the covariance matrix of the errors is correctly specified.\n",
      "[2] The condition number is large, 1.47e+04. This might indicate that there are\n",
      "strong multicollinearity or other numerical problems.\n"
     ]
    }
   ],
   "source": [
    "model = sm.OLS(y_train, sm.add_constant(X_train))\n",
    "result = model.fit()\n",
    "print(result.summary())"
   ]
  },
  {
   "cell_type": "code",
   "execution_count": 9,
   "metadata": {
    "execution": {
     "iopub.execute_input": "2021-03-09T08:39:58.286256Z",
     "iopub.status.busy": "2021-03-09T08:39:58.285713Z",
     "iopub.status.idle": "2021-03-09T08:39:58.383527Z",
     "shell.execute_reply": "2021-03-09T08:39:58.383846Z"
    },
    "tags": []
   },
   "outputs": [
    {
     "data": {
      "image/png": "[encoded data removed]",
      "text/plain": [
       "<Figure size 432x288 with 1 Axes>"
      ]
     },
     "metadata": {
      "needs_background": "light"
     },
     "output_type": "display_data"
    }
   ],
   "source": [
    "fig = sm.qqplot(result.resid, fit=True, line=\"s\")\n",
    "plt.show()"
   ]
  },
  {
   "cell_type": "code",
   "execution_count": 10,
   "metadata": {
    "execution": {
     "iopub.execute_input": "2021-03-09T08:39:58.391291Z",
     "iopub.status.busy": "2021-03-09T08:39:58.390804Z",
     "iopub.status.idle": "2021-03-09T08:39:58.393600Z",
     "shell.execute_reply": "2021-03-09T08:39:58.393924Z"
    },
    "tags": []
   },
   "outputs": [
    {
     "name": "stdout",
     "output_type": "stream",
     "text": [
      "r2 score: 0.6518162601236774\n",
      "mse: 27.522915380598498\n",
      "rmse: 5.2462286816911154\n",
      "mae: 3.6116720337235417\n"
     ]
    }
   ],
   "source": [
    "predicted = result.predict(sm.add_constant(X_test))\n",
    "\n",
    "print(\"r2 score: {}\".format(metrics.r2_score(y_test, predicted)))\n",
    "print(\"mse: {}\".format(metrics.mean_squared_error(y_test, predicted)))\n",
    "print(\"rmse: {}\".format(np.sqrt(metrics.mean_squared_error(y_test, predicted))))\n",
    "print(\"mae: {}\".format(metrics.mean_absolute_error(y_test, predicted)))"
   ]
  },
  {
   "cell_type": "markdown",
   "metadata": {},
   "source": [
    "## Fitting models using R-style formulas\n",
    "We can also fit a model with the R syntax `y ~ x_1 + x_2` and build some complexer models."
   ]
  },
  {
   "cell_type": "code",
   "execution_count": 11,
   "metadata": {
    "execution": {
     "iopub.execute_input": "2021-03-09T08:39:58.397941Z",
     "iopub.status.busy": "2021-03-09T08:39:58.397530Z",
     "iopub.status.idle": "2021-03-09T08:39:58.412632Z",
     "shell.execute_reply": "2021-03-09T08:39:58.412179Z"
    },
    "tags": []
   },
   "outputs": [
    {
     "data": {
      "text/html": [
       "<div>\n",
       "<style scoped>\n",
       "    .dataframe tbody tr th:only-of-type {\n",
       "        vertical-align: middle;\n",
       "    }\n",
       "\n",
       "    .dataframe tbody tr th {\n",
       "        vertical-align: top;\n",
       "    }\n",
       "\n",
       "    .dataframe thead th {\n",
       "        text-align: right;\n",
       "    }\n",
       "</style>\n",
       "<table border=\"1\" class=\"dataframe\">\n",
       "  <thead>\n",
       "    <tr style=\"text-align: right;\">\n",
       "      <th></th>\n",
       "      <th>CRIM</th>\n",
       "      <th>ZN</th>\n",
       "      <th>INDUS</th>\n",
       "      <th>CHAS</th>\n",
       "      <th>NOX</th>\n",
       "      <th>RM</th>\n",
       "      <th>AGE</th>\n",
       "      <th>DIS</th>\n",
       "      <th>RAD</th>\n",
       "      <th>TAX</th>\n",
       "      <th>PTRATIO</th>\n",
       "      <th>B</th>\n",
       "      <th>LSTAT</th>\n",
       "      <th>MEDV</th>\n",
       "    </tr>\n",
       "  </thead>\n",
       "  <tbody>\n",
       "    <tr>\n",
       "      <th>202</th>\n",
       "      <td>0.02177</td>\n",
       "      <td>82.5</td>\n",
       "      <td>2.03</td>\n",
       "      <td>0.0</td>\n",
       "      <td>0.415</td>\n",
       "      <td>7.610</td>\n",
       "      <td>15.7</td>\n",
       "      <td>6.2700</td>\n",
       "      <td>2.0</td>\n",
       "      <td>348.0</td>\n",
       "      <td>14.7</td>\n",
       "      <td>395.38</td>\n",
       "      <td>3.11</td>\n",
       "      <td>42.3</td>\n",
       "    </tr>\n",
       "    <tr>\n",
       "      <th>489</th>\n",
       "      <td>0.18337</td>\n",
       "      <td>0.0</td>\n",
       "      <td>27.74</td>\n",
       "      <td>0.0</td>\n",
       "      <td>0.609</td>\n",
       "      <td>5.414</td>\n",
       "      <td>98.3</td>\n",
       "      <td>1.7554</td>\n",
       "      <td>4.0</td>\n",
       "      <td>711.0</td>\n",
       "      <td>20.1</td>\n",
       "      <td>344.05</td>\n",
       "      <td>23.97</td>\n",
       "      <td>7.0</td>\n",
       "    </tr>\n",
       "    <tr>\n",
       "      <th>213</th>\n",
       "      <td>0.14052</td>\n",
       "      <td>0.0</td>\n",
       "      <td>10.59</td>\n",
       "      <td>0.0</td>\n",
       "      <td>0.489</td>\n",
       "      <td>6.375</td>\n",
       "      <td>32.3</td>\n",
       "      <td>3.9454</td>\n",
       "      <td>4.0</td>\n",
       "      <td>277.0</td>\n",
       "      <td>18.6</td>\n",
       "      <td>385.81</td>\n",
       "      <td>9.38</td>\n",
       "      <td>28.1</td>\n",
       "    </tr>\n",
       "    <tr>\n",
       "      <th>75</th>\n",
       "      <td>0.09512</td>\n",
       "      <td>0.0</td>\n",
       "      <td>12.83</td>\n",
       "      <td>0.0</td>\n",
       "      <td>0.437</td>\n",
       "      <td>6.286</td>\n",
       "      <td>45.0</td>\n",
       "      <td>4.5026</td>\n",
       "      <td>5.0</td>\n",
       "      <td>398.0</td>\n",
       "      <td>18.7</td>\n",
       "      <td>383.23</td>\n",
       "      <td>8.94</td>\n",
       "      <td>21.4</td>\n",
       "    </tr>\n",
       "    <tr>\n",
       "      <th>338</th>\n",
       "      <td>0.03306</td>\n",
       "      <td>0.0</td>\n",
       "      <td>5.19</td>\n",
       "      <td>0.0</td>\n",
       "      <td>0.515</td>\n",
       "      <td>6.059</td>\n",
       "      <td>37.3</td>\n",
       "      <td>4.8122</td>\n",
       "      <td>5.0</td>\n",
       "      <td>224.0</td>\n",
       "      <td>20.2</td>\n",
       "      <td>396.14</td>\n",
       "      <td>8.51</td>\n",
       "      <td>20.6</td>\n",
       "    </tr>\n",
       "  </tbody>\n",
       "</table>\n",
       "</div>"
      ],
      "text/plain": [
       "        CRIM    ZN  INDUS  CHAS    NOX     RM   AGE     DIS  RAD    TAX  \\\n",
       "202  0.02177  82.5   2.03   0.0  0.415  7.610  15.7  6.2700  2.0  348.0   \n",
       "489  0.18337   0.0  27.74   0.0  0.609  5.414  98.3  1.7554  4.0  711.0   \n",
       "213  0.14052   0.0  10.59   0.0  0.489  6.375  32.3  3.9454  4.0  277.0   \n",
       "75   0.09512   0.0  12.83   0.0  0.437  6.286  45.0  4.5026  5.0  398.0   \n",
       "338  0.03306   0.0   5.19   0.0  0.515  6.059  37.3  4.8122  5.0  224.0   \n",
       "\n",
       "     PTRATIO       B  LSTAT  MEDV  \n",
       "202     14.7  395.38   3.11  42.3  \n",
       "489     20.1  344.05  23.97   7.0  \n",
       "213     18.6  385.81   9.38  28.1  \n",
       "75      18.7  383.23   8.94  21.4  \n",
       "338     20.2  396.14   8.51  20.6  "
      ]
     },
     "execution_count": 1,
     "metadata": {},
     "output_type": "execute_result"
    }
   ],
   "source": [
    "dat = X_train.copy()\n",
    "dat['MEDV'] = y_train\n",
    "dat.head()"
   ]
  },
  {
   "cell_type": "markdown",
   "metadata": {},
   "source": [
    "### Full model with an intercept"
   ]
  },
  {
   "cell_type": "code",
   "execution_count": 12,
   "metadata": {
    "execution": {
     "iopub.execute_input": "2021-03-09T08:39:58.426570Z",
     "iopub.status.busy": "2021-03-09T08:39:58.423971Z",
     "iopub.status.idle": "2021-03-09T08:39:58.440797Z",
     "shell.execute_reply": "2021-03-09T08:39:58.440364Z"
    },
    "tags": []
   },
   "outputs": [
    {
     "name": "stdout",
     "output_type": "stream",
     "text": [
      "                            OLS Regression Results                            \n",
      "==============================================================================\n",
      "Dep. Variable:                   MEDV   R-squared:                       0.699\n",
      "Model:                            OLS   Adj. R-squared:                  0.689\n",
      "Method:                 Least Squares   F-statistic:                     66.05\n",
      "Date:                Tue, 09 Mar 2021   Prob (F-statistic):           2.48e-81\n",
      "Time:                        09:39:58   Log-Likelihood:                -1079.6\n",
      "No. Observations:                 354   AIC:                             2185.\n",
      "Df Residuals:                     341   BIC:                             2235.\n",
      "Df Model:                          12                                         \n",
      "Covariance Type:            nonrobust                                         \n",
      "==============================================================================\n",
      "                 coef    std err          t      P>|t|      [0.025      0.975]\n",
      "------------------------------------------------------------------------------\n",
      "Intercept     20.8055      6.180      3.366      0.001       8.649      32.962\n",
      "CRIM          -0.1819      0.046     -3.938      0.000      -0.273      -0.091\n",
      "ZN             0.0407      0.018      2.207      0.028       0.004       0.077\n",
      "INDUS         -0.0779      0.088     -0.890      0.374      -0.250       0.094\n",
      "CHAS           1.8277      1.054      1.734      0.084      -0.246       3.901\n",
      "NOX          -20.3048      4.926     -4.122      0.000     -29.993     -10.617\n",
      "RM             6.0210      0.458     13.136      0.000       5.119       6.923\n",
      "AGE           -0.0433      0.016     -2.742      0.006      -0.074      -0.012\n",
      "DIS           -1.5986      0.255     -6.277      0.000      -2.100      -1.098\n",
      "RAD            0.3349      0.088      3.819      0.000       0.162       0.507\n",
      "TAX           -0.0144      0.005     -2.841      0.005      -0.024      -0.004\n",
      "PTRATIO       -0.9151      0.168     -5.449      0.000      -1.245      -0.585\n",
      "B              0.0132      0.003      3.914      0.000       0.007       0.020\n",
      "==============================================================================\n",
      "Omnibus:                      189.881   Durbin-Watson:                   1.998\n",
      "Prob(Omnibus):                  0.000   Jarque-Bera (JB):             1742.281\n",
      "Skew:                           2.063   Prob(JB):                         0.00\n",
      "Kurtosis:                      13.055   Cond. No.                     1.44e+04\n",
      "==============================================================================\n",
      "\n",
      "Notes:\n",
      "[1] Standard Errors assume that the covariance matrix of the errors is correctly specified.\n",
      "[2] The condition number is large, 1.44e+04. This might indicate that there are\n",
      "strong multicollinearity or other numerical problems.\n"
     ]
    }
   ],
   "source": [
    "result = smf.ols('MEDV ~ CRIM + ZN + INDUS + CHAS + NOX + RM + AGE + DIS + RAD + TAX + PTRATIO + B', data=dat).fit()\n",
    "print(result.summary())"
   ]
  },
  {
   "cell_type": "code",
   "execution_count": 13,
   "metadata": {
    "execution": {
     "iopub.execute_input": "2021-03-09T08:39:58.445196Z",
     "iopub.status.busy": "2021-03-09T08:39:58.444624Z",
     "iopub.status.idle": "2021-03-09T08:39:58.541072Z",
     "shell.execute_reply": "2021-03-09T08:39:58.541431Z"
    },
    "tags": []
   },
   "outputs": [
    {
     "data": {
      "image/png": "[encoded data removed]",
      "text/plain": [
       "<Figure size 432x288 with 1 Axes>"
      ]
     },
     "metadata": {
      "needs_background": "light"
     },
     "output_type": "display_data"
    }
   ],
   "source": [
    "fig = sm.qqplot(result.resid, fit=True, line=\"s\")\n",
    "\n",
    "plt.show()"
   ]
  },
  {
   "cell_type": "code",
   "execution_count": 14,
   "metadata": {
    "execution": {
     "iopub.execute_input": "2021-03-09T08:39:58.602238Z",
     "iopub.status.busy": "2021-03-09T08:39:58.598289Z",
     "iopub.status.idle": "2021-03-09T08:39:58.606972Z",
     "shell.execute_reply": "2021-03-09T08:39:58.606408Z"
    },
    "tags": []
   },
   "outputs": [
    {
     "name": "stdout",
     "output_type": "stream",
     "text": [
      "r2 score: 0.6335989682884833\n",
      "mse: 28.96293949494057\n",
      "rmse: 5.381722725572228\n",
      "mae: 3.485515509934475\n"
     ]
    }
   ],
   "source": [
    "predicted = result.predict(X_test)\n",
    "\n",
    "print(\"r2 score: {}\".format(metrics.r2_score(y_test, predicted)))\n",
    "print(\"mse: {}\".format(metrics.mean_squared_error(y_test, predicted)))\n",
    "print(\"rmse: {}\".format(np.sqrt(metrics.mean_squared_error(y_test, predicted))))\n",
    "print(\"mae: {}\".format(metrics.mean_absolute_error(y_test, predicted)))"
   ]
  },
  {
   "cell_type": "markdown",
   "metadata": {},
   "source": [
    "### Model with a polynomial and the target variable log transformed"
   ]
  },
  {
   "cell_type": "code",
   "execution_count": 15,
   "metadata": {
    "execution": {
     "iopub.execute_input": "2021-03-09T08:39:58.624460Z",
     "iopub.status.busy": "2021-03-09T08:39:58.623979Z",
     "iopub.status.idle": "2021-03-09T08:39:58.635990Z",
     "shell.execute_reply": "2021-03-09T08:39:58.636317Z"
    },
    "tags": []
   },
   "outputs": [
    {
     "name": "stdout",
     "output_type": "stream",
     "text": [
      "                            OLS Regression Results                            \n",
      "==============================================================================\n",
      "Dep. Variable:           np.log(MEDV)   R-squared:                       0.698\n",
      "Model:                            OLS   Adj. R-squared:                  0.689\n",
      "Method:                 Least Squares   F-statistic:                     79.15\n",
      "Date:                Tue, 09 Mar 2021   Prob (F-statistic):           7.32e-83\n",
      "Time:                        09:39:58   Log-Likelihood:                 20.712\n",
      "No. Observations:                 354   AIC:                            -19.42\n",
      "Df Residuals:                     343   BIC:                             23.14\n",
      "Df Model:                          10                                         \n",
      "Covariance Type:            nonrobust                                         \n",
      "===============================================================================\n",
      "                  coef    std err          t      P>|t|      [0.025      0.975]\n",
      "-------------------------------------------------------------------------------\n",
      "Intercept       3.1962      0.275     11.616      0.000       2.655       3.737\n",
      "CRIM           -0.0123      0.002     -6.020      0.000      -0.016      -0.008\n",
      "CHAS            0.0928      0.047      1.989      0.047       0.001       0.184\n",
      "NOX            -1.0002      0.213     -4.702      0.000      -1.419      -0.582\n",
      "RM              0.2226      0.020     11.367      0.000       0.184       0.261\n",
      "DIS            -0.0467      0.010     -4.750      0.000      -0.066      -0.027\n",
      "RAD             0.0153      0.004      4.112      0.000       0.008       0.023\n",
      "TAX            -0.0007      0.000     -3.739      0.000      -0.001      -0.000\n",
      "PTRATIO        -0.0409      0.007     -5.923      0.000      -0.054      -0.027\n",
      "B               0.0006      0.000      4.028      0.000       0.000       0.001\n",
      "pow(AGE, 2) -1.863e-05   5.84e-06     -3.190      0.002   -3.01e-05   -7.14e-06\n",
      "==============================================================================\n",
      "Omnibus:                       87.792   Durbin-Watson:                   1.880\n",
      "Prob(Omnibus):                  0.000   Jarque-Bera (JB):              587.751\n",
      "Skew:                           0.841   Prob(JB):                    2.35e-128\n",
      "Kurtosis:                       9.084   Cond. No.                     1.67e+05\n",
      "==============================================================================\n",
      "\n",
      "Notes:\n",
      "[1] Standard Errors assume that the covariance matrix of the errors is correctly specified.\n",
      "[2] The condition number is large, 1.67e+05. This might indicate that there are\n",
      "strong multicollinearity or other numerical problems.\n"
     ]
    }
   ],
   "source": [
    "result = smf.ols('np.log(MEDV) ~ CRIM + CHAS + NOX + RM + DIS + RAD + TAX + PTRATIO + B + pow(AGE, 2)', data=dat).fit()\n",
    "print(result.summary())"
   ]
  },
  {
   "cell_type": "markdown",
   "metadata": {},
   "source": [
    "Let's plot the QQ-Plot for the residuals"
   ]
  },
  {
   "cell_type": "code",
   "execution_count": 16,
   "metadata": {
    "execution": {
     "iopub.execute_input": "2021-03-09T08:39:58.640867Z",
     "iopub.status.busy": "2021-03-09T08:39:58.640265Z",
     "iopub.status.idle": "2021-03-09T08:39:58.643052Z",
     "shell.execute_reply": "2021-03-09T08:39:58.643375Z"
    },
    "tags": []
   },
   "outputs": [
    {
     "data": {
      "text/plain": [
       "Intercept      True\n",
       "CRIM           True\n",
       "CHAS           True\n",
       "NOX            True\n",
       "RM             True\n",
       "DIS            True\n",
       "RAD            True\n",
       "TAX            True\n",
       "PTRATIO        True\n",
       "B              True\n",
       "pow(AGE, 2)    True\n",
       "dtype: bool"
      ]
     },
     "execution_count": 1,
     "metadata": {},
     "output_type": "execute_result"
    }
   ],
   "source": [
    "result.pvalues < 0.05"
   ]
  },
  {
   "cell_type": "code",
   "execution_count": 17,
   "metadata": {
    "execution": {
     "iopub.execute_input": "2021-03-09T08:39:58.647224Z",
     "iopub.status.busy": "2021-03-09T08:39:58.646748Z",
     "iopub.status.idle": "2021-03-09T08:39:58.659704Z",
     "shell.execute_reply": "2021-03-09T08:39:58.660041Z"
    },
    "tags": []
   },
   "outputs": [
    {
     "name": "stdout",
     "output_type": "stream",
     "text": [
      "r2 score: 0.6532316568787859\n",
      "mse: 27.41103236982187\n",
      "rmse: 5.235554638223334\n",
      "mae: 3.0177991824546915\n"
     ]
    }
   ],
   "source": [
    "predicted = np.exp(result.predict(X_test))\n",
    "\n",
    "print(\"r2 score: {}\".format(metrics.r2_score(y_test, predicted)))\n",
    "print(\"mse: {}\".format(metrics.mean_squared_error(y_test, predicted)))\n",
    "print(\"rmse: {}\".format(np.sqrt(metrics.mean_squared_error(y_test, predicted))))\n",
    "print(\"mae: {}\".format(metrics.mean_absolute_error(y_test, predicted)))"
   ]
  },
  {
   "cell_type": "code",
   "execution_count": 18,
   "metadata": {
    "execution": {
     "iopub.execute_input": "2021-03-09T08:39:58.691140Z",
     "iopub.status.busy": "2021-03-09T08:39:58.663493Z",
     "iopub.status.idle": "2021-03-09T08:39:58.764393Z",
     "shell.execute_reply": "2021-03-09T08:39:58.763981Z"
    },
    "tags": []
   },
   "outputs": [
    {
     "data": {
      "image/png": "[encoded data removed]",
      "text/plain": [
       "<Figure size 432x288 with 1 Axes>"
      ]
     },
     "metadata": {
      "needs_background": "light"
     },
     "output_type": "display_data"
    }
   ],
   "source": [
    "fig = sm.qqplot(result.resid, fit=True, line=\"q\")\n",
    "plt.show()"
   ]
  }
 ],
 "metadata": {
  "kernelspec": {
   "display_name": "Python 3",
   "language": "python",
   "name": "python3"
  },
  "language_info": {
   "codemirror_mode": {
    "name": "ipython",
    "version": 3
   },
   "file_extension": ".py",
   "mimetype": "text/x-python",
   "name": "python",
   "nbconvert_exporter": "python",
   "pygments_lexer": "ipython3",
   "version": "3.8.5"
  }
 },
 "nbformat": 4,
 "nbformat_minor": 4
}
