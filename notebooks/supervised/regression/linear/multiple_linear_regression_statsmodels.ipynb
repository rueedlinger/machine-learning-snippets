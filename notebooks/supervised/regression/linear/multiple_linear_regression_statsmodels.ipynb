{
 "cells": [
  {
   "cell_type": "markdown",
   "metadata": {},
   "source": [
    "## Linear regression with statsmodels (OLS)"
   ]
  },
  {
   "cell_type": "code",
   "execution_count": 1,
   "metadata": {
    "tags": []
   },
   "outputs": [],
   "source": [
    "import statsmodels.api as sm\n",
    "import statsmodels.formula.api as smf\n",
    "import statsmodels.tools.eval_measures as eval_measures\n",
    "import seaborn as sns\n",
    "import scipy.stats as stats\n",
    "import pandas as pd\n",
    "import numpy as np\n",
    "\n",
    "from matplotlib import pyplot as plt\n",
    "from sklearn import datasets, model_selection, metrics"
   ]
  },
  {
   "cell_type": "markdown",
   "metadata": {},
   "source": [
    "We load the boston house-prices dataset and `X` are our features and `y` is the target variable `medv` (Median value of owner-occupied homes in $1000s)."
   ]
  },
  {
   "cell_type": "code",
   "execution_count": 2,
   "metadata": {
    "tags": []
   },
   "outputs": [
    {
     "name": "stdout",
     "output_type": "stream",
     "text": [
      ".. _boston_dataset:\n",
      "\n",
      "Boston house prices dataset\n",
      "---------------------------\n",
      "\n",
      "**Data Set Characteristics:**  \n",
      "\n",
      "    :Number of Instances: 506 \n",
      "\n",
      "    :Number of Attributes: 13 numeric/categorical predictive. Median Value (attribute 14) is usually the target.\n",
      "\n",
      "    :Attribute Information (in order):\n",
      "        - CRIM     per capita crime rate by town\n",
      "        - ZN       proportion of residential land zoned for lots over 25,000 sq.ft.\n",
      "        - INDUS    proportion of non-retail business acres per town\n",
      "        - CHAS     Charles River dummy variable (= 1 if tract bounds river; 0 otherwise)\n",
      "        - NOX      nitric oxides concentration (parts per 10 million)\n",
      "        - RM       average number of rooms per dwelling\n",
      "        - AGE      proportion of owner-occupied units built prior to 1940\n",
      "        - DIS      weighted distances to five Boston employment centres\n",
      "        - RAD      index of accessibility to radial highways\n",
      "        - TAX      full-value property-tax rate per $10,000\n",
      "        - PTRATIO  pupil-teacher ratio by town\n",
      "        - B        1000(Bk - 0.63)^2 where Bk is the proportion of blacks by town\n",
      "        - LSTAT    % lower status of the population\n",
      "        - MEDV     Median value of owner-occupied homes in $1000's\n",
      "\n",
      "    :Missing Attribute Values: None\n",
      "\n",
      "    :Creator: Harrison, D. and Rubinfeld, D.L.\n",
      "\n",
      "This is a copy of UCI ML housing dataset.\n",
      "https://archive.ics.uci.edu/ml/machine-learning-databases/housing/\n",
      "\n",
      "\n",
      "This dataset was taken from the StatLib library which is maintained at Carnegie Mellon University.\n",
      "\n",
      "The Boston house-price data of Harrison, D. and Rubinfeld, D.L. 'Hedonic\n",
      "prices and the demand for clean air', J. Environ. Economics & Management,\n",
      "vol.5, 81-102, 1978.   Used in Belsley, Kuh & Welsch, 'Regression diagnostics\n",
      "...', Wiley, 1980.   N.B. Various transformations are used in the table on\n",
      "pages 244-261 of the latter.\n",
      "\n",
      "The Boston house-price data has been used in many machine learning papers that address regression\n",
      "problems.   \n",
      "     \n",
      ".. topic:: References\n",
      "\n",
      "   - Belsley, Kuh & Welsch, 'Regression diagnostics: Identifying Influential Data and Sources of Collinearity', Wiley, 1980. 244-261.\n",
      "   - Quinlan,R. (1993). Combining Instance-Based and Model-Based Learning. In Proceedings on the Tenth International Conference of Machine Learning, 236-243, University of Massachusetts, Amherst. Morgan Kaufmann.\n",
      "\n"
     ]
    }
   ],
   "source": [
    "boston = datasets.load_boston()\n",
    "print(boston.DESCR)"
   ]
  },
  {
   "cell_type": "markdown",
   "metadata": {},
   "source": [
    "Let's split the data in a test and training set."
   ]
  },
  {
   "cell_type": "code",
   "execution_count": 3,
   "metadata": {
    "tags": []
   },
   "outputs": [],
   "source": [
    "X = pd.DataFrame(boston.data, columns=boston.feature_names)\n",
    "y = boston.target\n",
    "\n",
    "X_train, X_test, y_train, y_test = model_selection.train_test_split(X, y, train_size=0.7)"
   ]
  },
  {
   "cell_type": "code",
   "execution_count": 4,
   "metadata": {},
   "outputs": [
    {
     "data": {
      "image/png": "[encoded data removed]",
      "text/plain": [
       "<Figure size 419.375x360 with 1 Axes>"
      ]
     },
     "metadata": {
      "needs_background": "light"
     },
     "output_type": "display_data"
    }
   ],
   "source": [
    "df_train = pd.DataFrame(y_train, columns=['target'])\n",
    "df_train['type'] = 'train'\n",
    "\n",
    "df_test = pd.DataFrame(y_test, columns=['target'])\n",
    "df_test['type'] = 'test'\n",
    "\n",
    "df_set = df_train.append(df_test)\n",
    "\n",
    "_ = sns.displot(df_set, x=\"target\" ,hue=\"type\", kind=\"kde\", log_scale=False)"
   ]
  },
  {
   "cell_type": "markdown",
   "metadata": {},
   "source": [
    "## Fitting models - the standard way\n",
    "### Full model without an intercept\n"
   ]
  },
  {
   "cell_type": "code",
   "execution_count": 5,
   "metadata": {
    "tags": []
   },
   "outputs": [
    {
     "name": "stdout",
     "output_type": "stream",
     "text": [
      "                                 OLS Regression Results                                \n",
      "=======================================================================================\n",
      "Dep. Variable:                      y   R-squared (uncentered):                   0.960\n",
      "Model:                            OLS   Adj. R-squared (uncentered):              0.958\n",
      "Method:                 Least Squares   F-statistic:                              629.7\n",
      "Date:                Wed, 10 Mar 2021   Prob (F-statistic):                   2.49e-229\n",
      "Time:                        19:12:51   Log-Likelihood:                         -1065.6\n",
      "No. Observations:                 354   AIC:                                      2157.\n",
      "Df Residuals:                     341   BIC:                                      2208.\n",
      "Df Model:                          13                                                  \n",
      "Covariance Type:            nonrobust                                                  \n",
      "==============================================================================\n",
      "                 coef    std err          t      P>|t|      [0.025      0.975]\n",
      "------------------------------------------------------------------------------\n",
      "CRIM          -0.1367      0.042     -3.285      0.001      -0.219      -0.055\n",
      "ZN             0.0459      0.017      2.744      0.006       0.013       0.079\n",
      "INDUS         -0.0219      0.082     -0.265      0.791      -0.184       0.140\n",
      "CHAS           2.9474      1.050      2.806      0.005       0.881       5.014\n",
      "NOX           -2.3817      4.011     -0.594      0.553     -10.270       5.507\n",
      "RM             5.7432      0.385     14.901      0.000       4.985       6.501\n",
      "AGE           -0.0169      0.016     -1.028      0.305      -0.049       0.015\n",
      "DIS           -1.0372      0.234     -4.426      0.000      -1.498      -0.576\n",
      "RAD            0.1839      0.082      2.237      0.026       0.022       0.346\n",
      "TAX           -0.0079      0.005     -1.635      0.103      -0.017       0.002\n",
      "PTRATIO       -0.4299      0.138     -3.110      0.002      -0.702      -0.158\n",
      "B              0.0198      0.003      5.780      0.000       0.013       0.026\n",
      "LSTAT         -0.3990      0.062     -6.466      0.000      -0.520      -0.278\n",
      "==============================================================================\n",
      "Omnibus:                      140.104   Durbin-Watson:                   2.035\n",
      "Prob(Omnibus):                  0.000   Jarque-Bera (JB):              938.330\n",
      "Skew:                           1.501   Prob(JB):                    1.75e-204\n",
      "Kurtosis:                      10.389   Cond. No.                     8.48e+03\n",
      "==============================================================================\n",
      "\n",
      "Notes:\n",
      "[1] R² is computed without centering (uncentered) since the model does not contain a constant.\n",
      "[2] Standard Errors assume that the covariance matrix of the errors is correctly specified.\n",
      "[3] The condition number is large, 8.48e+03. This might indicate that there are\n",
      "strong multicollinearity or other numerical problems.\n"
     ]
    }
   ],
   "source": [
    "model = sm.OLS(y_train, X_train)\n",
    "result = model.fit()\n",
    "print(result.summary())"
   ]
  },
  {
   "cell_type": "code",
   "execution_count": 6,
   "metadata": {
    "tags": []
   },
   "outputs": [
    {
     "data": {
      "image/png": "[encoded data removed]",
      "text/plain": [
       "<Figure size 432x288 with 1 Axes>"
      ]
     },
     "metadata": {
      "needs_background": "light"
     },
     "output_type": "display_data"
    }
   ],
   "source": [
    "fig = sm.qqplot(result.resid, fit=True, line=\"s\")\n",
    "plt.show()"
   ]
  },
  {
   "cell_type": "code",
   "execution_count": 7,
   "metadata": {
    "tags": []
   },
   "outputs": [
    {
     "data": {
      "text/plain": [
       "CRIM        True\n",
       "ZN          True\n",
       "INDUS      False\n",
       "CHAS        True\n",
       "NOX        False\n",
       "RM          True\n",
       "AGE        False\n",
       "DIS         True\n",
       "RAD         True\n",
       "TAX        False\n",
       "PTRATIO     True\n",
       "B           True\n",
       "LSTAT       True\n",
       "dtype: bool"
      ]
     },
     "execution_count": 7,
     "metadata": {},
     "output_type": "execute_result"
    }
   ],
   "source": [
    "result.pvalues < 0.05"
   ]
  },
  {
   "cell_type": "code",
   "execution_count": 8,
   "metadata": {
    "tags": []
   },
   "outputs": [
    {
     "name": "stdout",
     "output_type": "stream",
     "text": [
      "r2 score: 0.679617133781487\n",
      "mse: 25.47415588090963\n",
      "rmse: 5.047192871380053\n",
      "mae: 3.2877976687052963\n"
     ]
    }
   ],
   "source": [
    "predicted = result.predict(X_test)\n",
    "\n",
    "print(\"r2 score: {}\".format(metrics.r2_score(y_test, predicted)))\n",
    "print(\"mse: {}\".format(metrics.mean_squared_error(y_test, predicted)))\n",
    "print(\"rmse: {}\".format(np.sqrt(metrics.mean_squared_error(y_test, predicted))))\n",
    "print(\"mae: {}\".format(metrics.mean_absolute_error(y_test, predicted)))"
   ]
  },
  {
   "cell_type": "markdown",
   "metadata": {},
   "source": [
    "### Full model with an intercept\n"
   ]
  },
  {
   "cell_type": "code",
   "execution_count": 9,
   "metadata": {
    "tags": []
   },
   "outputs": [
    {
     "name": "stdout",
     "output_type": "stream",
     "text": [
      "                            OLS Regression Results                            \n",
      "==============================================================================\n",
      "Dep. Variable:                      y   R-squared:                       0.744\n",
      "Model:                            OLS   Adj. R-squared:                  0.734\n",
      "Method:                 Least Squares   F-statistic:                     75.92\n",
      "Date:                Wed, 10 Mar 2021   Prob (F-statistic):           4.10e-92\n",
      "Time:                        19:12:51   Log-Likelihood:                -1050.5\n",
      "No. Observations:                 354   AIC:                             2129.\n",
      "Df Residuals:                     340   BIC:                             2183.\n",
      "Df Model:                          13                                         \n",
      "Covariance Type:            nonrobust                                         \n",
      "==============================================================================\n",
      "                 coef    std err          t      P>|t|      [0.025      0.975]\n",
      "------------------------------------------------------------------------------\n",
      "const         36.2064      6.572      5.509      0.000      23.280      49.133\n",
      "CRIM          -0.1357      0.040     -3.398      0.001      -0.214      -0.057\n",
      "ZN             0.0410      0.016      2.550      0.011       0.009       0.073\n",
      "INDUS          0.0095      0.079      0.120      0.905      -0.147       0.166\n",
      "CHAS           3.0907      1.008      3.065      0.002       1.107       5.074\n",
      "NOX          -17.2343      4.699     -3.668      0.000     -26.477      -7.992\n",
      "RM             3.6964      0.524      7.051      0.000       2.665       4.728\n",
      "AGE           -0.0100      0.016     -0.630      0.529      -0.041       0.021\n",
      "DIS           -1.5089      0.241     -6.270      0.000      -1.982      -1.036\n",
      "RAD            0.3182      0.083      3.854      0.000       0.156       0.481\n",
      "TAX           -0.0110      0.005     -2.361      0.019      -0.020      -0.002\n",
      "PTRATIO       -0.9836      0.166     -5.910      0.000      -1.311      -0.656\n",
      "B              0.0130      0.003      3.730      0.000       0.006       0.020\n",
      "LSTAT         -0.5087      0.062     -8.144      0.000      -0.632      -0.386\n",
      "==============================================================================\n",
      "Omnibus:                      118.126   Durbin-Watson:                   2.084\n",
      "Prob(Omnibus):                  0.000   Jarque-Bera (JB):              463.711\n",
      "Skew:                           1.415   Prob(JB):                    2.03e-101\n",
      "Kurtosis:                       7.840   Cond. No.                     1.61e+04\n",
      "==============================================================================\n",
      "\n",
      "Notes:\n",
      "[1] Standard Errors assume that the covariance matrix of the errors is correctly specified.\n",
      "[2] The condition number is large, 1.61e+04. This might indicate that there are\n",
      "strong multicollinearity or other numerical problems.\n"
     ]
    }
   ],
   "source": [
    "model = sm.OLS(y_train, sm.add_constant(X_train))\n",
    "result = model.fit()\n",
    "print(result.summary())"
   ]
  },
  {
   "cell_type": "code",
   "execution_count": 10,
   "metadata": {
    "tags": []
   },
   "outputs": [
    {
     "data": {
      "image/png": "[encoded data removed]",
      "text/plain": [
       "<Figure size 432x288 with 1 Axes>"
      ]
     },
     "metadata": {
      "needs_background": "light"
     },
     "output_type": "display_data"
    }
   ],
   "source": [
    "fig = sm.qqplot(result.resid, fit=True, line=\"s\")\n",
    "plt.show()"
   ]
  },
  {
   "cell_type": "code",
   "execution_count": 11,
   "metadata": {
    "tags": []
   },
   "outputs": [
    {
     "name": "stdout",
     "output_type": "stream",
     "text": [
      "r2 score: 0.7227311642495549\n",
      "mse: 22.046090123957548\n",
      "rmse: 4.6953264129299415\n",
      "mae: 3.2171151647291953\n"
     ]
    }
   ],
   "source": [
    "predicted = result.predict(sm.add_constant(X_test))\n",
    "\n",
    "print(\"r2 score: {}\".format(metrics.r2_score(y_test, predicted)))\n",
    "print(\"mse: {}\".format(metrics.mean_squared_error(y_test, predicted)))\n",
    "print(\"rmse: {}\".format(np.sqrt(metrics.mean_squared_error(y_test, predicted))))\n",
    "print(\"mae: {}\".format(metrics.mean_absolute_error(y_test, predicted)))"
   ]
  },
  {
   "cell_type": "markdown",
   "metadata": {},
   "source": [
    "## Fitting models using R-style formulas\n",
    "We can also fit a model with the R syntax `y ~ x_1 + x_2` and build some complexer models."
   ]
  },
  {
   "cell_type": "code",
   "execution_count": 12,
   "metadata": {
    "tags": []
   },
   "outputs": [
    {
     "data": {
      "text/html": [
       "<div>\n",
       "<style scoped>\n",
       "    .dataframe tbody tr th:only-of-type {\n",
       "        vertical-align: middle;\n",
       "    }\n",
       "\n",
       "    .dataframe tbody tr th {\n",
       "        vertical-align: top;\n",
       "    }\n",
       "\n",
       "    .dataframe thead th {\n",
       "        text-align: right;\n",
       "    }\n",
       "</style>\n",
       "<table border=\"1\" class=\"dataframe\">\n",
       "  <thead>\n",
       "    <tr style=\"text-align: right;\">\n",
       "      <th></th>\n",
       "      <th>CRIM</th>\n",
       "      <th>ZN</th>\n",
       "      <th>INDUS</th>\n",
       "      <th>CHAS</th>\n",
       "      <th>NOX</th>\n",
       "      <th>RM</th>\n",
       "      <th>AGE</th>\n",
       "      <th>DIS</th>\n",
       "      <th>RAD</th>\n",
       "      <th>TAX</th>\n",
       "      <th>PTRATIO</th>\n",
       "      <th>B</th>\n",
       "      <th>LSTAT</th>\n",
       "      <th>MEDV</th>\n",
       "    </tr>\n",
       "  </thead>\n",
       "  <tbody>\n",
       "    <tr>\n",
       "      <th>55</th>\n",
       "      <td>0.01311</td>\n",
       "      <td>90.0</td>\n",
       "      <td>1.22</td>\n",
       "      <td>0.0</td>\n",
       "      <td>0.403</td>\n",
       "      <td>7.249</td>\n",
       "      <td>21.9</td>\n",
       "      <td>8.6966</td>\n",
       "      <td>5.0</td>\n",
       "      <td>226.0</td>\n",
       "      <td>17.9</td>\n",
       "      <td>395.93</td>\n",
       "      <td>4.81</td>\n",
       "      <td>35.4</td>\n",
       "    </tr>\n",
       "    <tr>\n",
       "      <th>365</th>\n",
       "      <td>4.55587</td>\n",
       "      <td>0.0</td>\n",
       "      <td>18.10</td>\n",
       "      <td>0.0</td>\n",
       "      <td>0.718</td>\n",
       "      <td>3.561</td>\n",
       "      <td>87.9</td>\n",
       "      <td>1.6132</td>\n",
       "      <td>24.0</td>\n",
       "      <td>666.0</td>\n",
       "      <td>20.2</td>\n",
       "      <td>354.70</td>\n",
       "      <td>7.12</td>\n",
       "      <td>27.5</td>\n",
       "    </tr>\n",
       "    <tr>\n",
       "      <th>357</th>\n",
       "      <td>3.84970</td>\n",
       "      <td>0.0</td>\n",
       "      <td>18.10</td>\n",
       "      <td>1.0</td>\n",
       "      <td>0.770</td>\n",
       "      <td>6.395</td>\n",
       "      <td>91.0</td>\n",
       "      <td>2.5052</td>\n",
       "      <td>24.0</td>\n",
       "      <td>666.0</td>\n",
       "      <td>20.2</td>\n",
       "      <td>391.34</td>\n",
       "      <td>13.27</td>\n",
       "      <td>21.7</td>\n",
       "    </tr>\n",
       "    <tr>\n",
       "      <th>57</th>\n",
       "      <td>0.01432</td>\n",
       "      <td>100.0</td>\n",
       "      <td>1.32</td>\n",
       "      <td>0.0</td>\n",
       "      <td>0.411</td>\n",
       "      <td>6.816</td>\n",
       "      <td>40.5</td>\n",
       "      <td>8.3248</td>\n",
       "      <td>5.0</td>\n",
       "      <td>256.0</td>\n",
       "      <td>15.1</td>\n",
       "      <td>392.90</td>\n",
       "      <td>3.95</td>\n",
       "      <td>31.6</td>\n",
       "    </tr>\n",
       "    <tr>\n",
       "      <th>236</th>\n",
       "      <td>0.52058</td>\n",
       "      <td>0.0</td>\n",
       "      <td>6.20</td>\n",
       "      <td>1.0</td>\n",
       "      <td>0.507</td>\n",
       "      <td>6.631</td>\n",
       "      <td>76.5</td>\n",
       "      <td>4.1480</td>\n",
       "      <td>8.0</td>\n",
       "      <td>307.0</td>\n",
       "      <td>17.4</td>\n",
       "      <td>388.45</td>\n",
       "      <td>9.54</td>\n",
       "      <td>25.1</td>\n",
       "    </tr>\n",
       "  </tbody>\n",
       "</table>\n",
       "</div>"
      ],
      "text/plain": [
       "        CRIM     ZN  INDUS  CHAS    NOX     RM   AGE     DIS   RAD    TAX  \\\n",
       "55   0.01311   90.0   1.22   0.0  0.403  7.249  21.9  8.6966   5.0  226.0   \n",
       "365  4.55587    0.0  18.10   0.0  0.718  3.561  87.9  1.6132  24.0  666.0   \n",
       "357  3.84970    0.0  18.10   1.0  0.770  6.395  91.0  2.5052  24.0  666.0   \n",
       "57   0.01432  100.0   1.32   0.0  0.411  6.816  40.5  8.3248   5.0  256.0   \n",
       "236  0.52058    0.0   6.20   1.0  0.507  6.631  76.5  4.1480   8.0  307.0   \n",
       "\n",
       "     PTRATIO       B  LSTAT  MEDV  \n",
       "55      17.9  395.93   4.81  35.4  \n",
       "365     20.2  354.70   7.12  27.5  \n",
       "357     20.2  391.34  13.27  21.7  \n",
       "57      15.1  392.90   3.95  31.6  \n",
       "236     17.4  388.45   9.54  25.1  "
      ]
     },
     "execution_count": 12,
     "metadata": {},
     "output_type": "execute_result"
    }
   ],
   "source": [
    "dat = X_train.copy()\n",
    "dat['MEDV'] = y_train\n",
    "dat.head()"
   ]
  },
  {
   "cell_type": "markdown",
   "metadata": {},
   "source": [
    "### Full model with an intercept"
   ]
  },
  {
   "cell_type": "code",
   "execution_count": 13,
   "metadata": {
    "tags": []
   },
   "outputs": [
    {
     "name": "stdout",
     "output_type": "stream",
     "text": [
      "                            OLS Regression Results                            \n",
      "==============================================================================\n",
      "Dep. Variable:                   MEDV   R-squared:                       0.694\n",
      "Model:                            OLS   Adj. R-squared:                  0.683\n",
      "Method:                 Least Squares   F-statistic:                     64.39\n",
      "Date:                Wed, 10 Mar 2021   Prob (F-statistic):           4.90e-80\n",
      "Time:                        19:12:52   Log-Likelihood:                -1082.1\n",
      "No. Observations:                 354   AIC:                             2190.\n",
      "Df Residuals:                     341   BIC:                             2240.\n",
      "Df Model:                          12                                         \n",
      "Covariance Type:            nonrobust                                         \n",
      "==============================================================================\n",
      "                 coef    std err          t      P>|t|      [0.025      0.975]\n",
      "------------------------------------------------------------------------------\n",
      "Intercept     19.1460      6.800      2.816      0.005       5.772      32.520\n",
      "CRIM          -0.2091      0.042     -4.925      0.000      -0.293      -0.126\n",
      "ZN             0.0336      0.018      1.920      0.056      -0.001       0.068\n",
      "INDUS         -0.0277      0.086     -0.321      0.749      -0.198       0.142\n",
      "CHAS           3.8123      1.096      3.477      0.001       1.656       5.969\n",
      "NOX          -19.7269      5.118     -3.854      0.000     -29.794      -9.660\n",
      "RM             6.0289      0.479     12.579      0.000       5.086       6.972\n",
      "AGE           -0.0491      0.016     -2.985      0.003      -0.082      -0.017\n",
      "DIS           -1.5446      0.263     -5.881      0.000      -2.061      -1.028\n",
      "RAD            0.3222      0.090      3.575      0.000       0.145       0.499\n",
      "TAX           -0.0118      0.005     -2.327      0.021      -0.022      -0.002\n",
      "PTRATIO       -1.0495      0.181     -5.784      0.000      -1.406      -0.693\n",
      "B              0.0196      0.004      5.289      0.000       0.012       0.027\n",
      "==============================================================================\n",
      "Omnibus:                      194.213   Durbin-Watson:                   2.025\n",
      "Prob(Omnibus):                  0.000   Jarque-Bera (JB):             1947.191\n",
      "Skew:                           2.089   Prob(JB):                         0.00\n",
      "Kurtosis:                      13.703   Cond. No.                     1.57e+04\n",
      "==============================================================================\n",
      "\n",
      "Notes:\n",
      "[1] Standard Errors assume that the covariance matrix of the errors is correctly specified.\n",
      "[2] The condition number is large, 1.57e+04. This might indicate that there are\n",
      "strong multicollinearity or other numerical problems.\n"
     ]
    }
   ],
   "source": [
    "result = smf.ols('MEDV ~ CRIM + ZN + INDUS + CHAS + NOX + RM + AGE + DIS + RAD + TAX + PTRATIO + B', data=dat).fit()\n",
    "print(result.summary())"
   ]
  },
  {
   "cell_type": "code",
   "execution_count": 14,
   "metadata": {
    "tags": []
   },
   "outputs": [
    {
     "data": {
      "image/png": "[encoded data removed]",
      "text/plain": [
       "<Figure size 432x288 with 1 Axes>"
      ]
     },
     "metadata": {
      "needs_background": "light"
     },
     "output_type": "display_data"
    }
   ],
   "source": [
    "fig = sm.qqplot(result.resid, fit=True, line=\"s\")\n",
    "\n",
    "plt.show()"
   ]
  },
  {
   "cell_type": "code",
   "execution_count": 15,
   "metadata": {
    "tags": []
   },
   "outputs": [
    {
     "name": "stdout",
     "output_type": "stream",
     "text": [
      "r2 score: 0.6375304422258596\n",
      "mse: 28.820536272140004\n",
      "rmse: 5.368476159222467\n",
      "mae: 3.609560071529999\n"
     ]
    }
   ],
   "source": [
    "predicted = result.predict(X_test)\n",
    "\n",
    "print(\"r2 score: {}\".format(metrics.r2_score(y_test, predicted)))\n",
    "print(\"mse: {}\".format(metrics.mean_squared_error(y_test, predicted)))\n",
    "print(\"rmse: {}\".format(np.sqrt(metrics.mean_squared_error(y_test, predicted))))\n",
    "print(\"mae: {}\".format(metrics.mean_absolute_error(y_test, predicted)))"
   ]
  },
  {
   "cell_type": "markdown",
   "metadata": {},
   "source": [
    "### Model with a polynomial and the target variable log transformed"
   ]
  },
  {
   "cell_type": "code",
   "execution_count": 16,
   "metadata": {
    "tags": []
   },
   "outputs": [
    {
     "name": "stdout",
     "output_type": "stream",
     "text": [
      "                            OLS Regression Results                            \n",
      "==============================================================================\n",
      "Dep. Variable:           np.log(MEDV)   R-squared:                       0.731\n",
      "Model:                            OLS   Adj. R-squared:                  0.723\n",
      "Method:                 Least Squares   F-statistic:                     93.33\n",
      "Date:                Wed, 10 Mar 2021   Prob (F-statistic):           1.49e-91\n",
      "Time:                        19:12:52   Log-Likelihood:                 34.498\n",
      "No. Observations:                 354   AIC:                            -47.00\n",
      "Df Residuals:                     343   BIC:                            -4.433\n",
      "Df Model:                          10                                         \n",
      "Covariance Type:            nonrobust                                         \n",
      "===============================================================================\n",
      "                  coef    std err          t      P>|t|      [0.025      0.975]\n",
      "-------------------------------------------------------------------------------\n",
      "Intercept       2.9052      0.289     10.062      0.000       2.337       3.473\n",
      "CRIM           -0.0160      0.002     -8.902      0.000      -0.020      -0.012\n",
      "CHAS            0.1430      0.046      3.089      0.002       0.052       0.234\n",
      "NOX            -0.7605      0.211     -3.599      0.000      -1.176      -0.345\n",
      "RM              0.2267      0.020     11.461      0.000       0.188       0.266\n",
      "DIS            -0.0472      0.010     -4.725      0.000      -0.067      -0.028\n",
      "RAD             0.0141      0.004      3.823      0.000       0.007       0.021\n",
      "TAX            -0.0006      0.000     -2.998      0.003      -0.001      -0.000\n",
      "PTRATIO        -0.0438      0.007     -6.215      0.000      -0.058      -0.030\n",
      "B               0.0010      0.000      6.605      0.000       0.001       0.001\n",
      "pow(AGE, 2) -2.282e-05   5.99e-06     -3.811      0.000   -3.46e-05    -1.1e-05\n",
      "==============================================================================\n",
      "Omnibus:                       87.712   Durbin-Watson:                   1.941\n",
      "Prob(Omnibus):                  0.000   Jarque-Bera (JB):              754.573\n",
      "Skew:                           0.754   Prob(JB):                    1.40e-164\n",
      "Kurtosis:                       9.992   Cond. No.                     1.77e+05\n",
      "==============================================================================\n",
      "\n",
      "Notes:\n",
      "[1] Standard Errors assume that the covariance matrix of the errors is correctly specified.\n",
      "[2] The condition number is large, 1.77e+05. This might indicate that there are\n",
      "strong multicollinearity or other numerical problems.\n"
     ]
    }
   ],
   "source": [
    "result = smf.ols('np.log(MEDV) ~ CRIM + CHAS + NOX + RM + DIS + RAD + TAX + PTRATIO + B + pow(AGE, 2)', data=dat).fit()\n",
    "print(result.summary())"
   ]
  },
  {
   "cell_type": "markdown",
   "metadata": {},
   "source": [
    "Let's plot the QQ-Plot for the residuals"
   ]
  },
  {
   "cell_type": "code",
   "execution_count": 17,
   "metadata": {
    "tags": []
   },
   "outputs": [
    {
     "data": {
      "text/plain": [
       "Intercept      True\n",
       "CRIM           True\n",
       "CHAS           True\n",
       "NOX            True\n",
       "RM             True\n",
       "DIS            True\n",
       "RAD            True\n",
       "TAX            True\n",
       "PTRATIO        True\n",
       "B              True\n",
       "pow(AGE, 2)    True\n",
       "dtype: bool"
      ]
     },
     "execution_count": 17,
     "metadata": {},
     "output_type": "execute_result"
    }
   ],
   "source": [
    "result.pvalues < 0.05"
   ]
  },
  {
   "cell_type": "code",
   "execution_count": 18,
   "metadata": {
    "tags": []
   },
   "outputs": [
    {
     "name": "stdout",
     "output_type": "stream",
     "text": [
      "r2 score: 0.703179479837343\n",
      "mse: 23.600675930401202\n",
      "rmse: 4.858052689133909\n",
      "mae: 3.1479017985320303\n"
     ]
    }
   ],
   "source": [
    "predicted = np.exp(result.predict(X_test))\n",
    "\n",
    "print(\"r2 score: {}\".format(metrics.r2_score(y_test, predicted)))\n",
    "print(\"mse: {}\".format(metrics.mean_squared_error(y_test, predicted)))\n",
    "print(\"rmse: {}\".format(np.sqrt(metrics.mean_squared_error(y_test, predicted))))\n",
    "print(\"mae: {}\".format(metrics.mean_absolute_error(y_test, predicted)))"
   ]
  },
  {
   "cell_type": "code",
   "execution_count": 19,
   "metadata": {
    "tags": []
   },
   "outputs": [
    {
     "data": {
      "image/png": "[encoded data removed]",
      "text/plain": [
       "<Figure size 432x288 with 1 Axes>"
      ]
     },
     "metadata": {
      "needs_background": "light"
     },
     "output_type": "display_data"
    }
   ],
   "source": [
    "fig = sm.qqplot(result.resid, fit=True, line=\"q\")\n",
    "plt.show()"
   ]
  }
 ],
 "metadata": {
  "kernelspec": {
   "display_name": "Python 3",
   "language": "python",
   "name": "python3"
  },
  "language_info": {
   "codemirror_mode": {
    "name": "ipython",
    "version": 3
   },
   "file_extension": ".py",
   "mimetype": "text/x-python",
   "name": "python",
   "nbconvert_exporter": "python",
   "pygments_lexer": "ipython3",
   "version": "3.8.5"
  }
 },
 "nbformat": 4,
 "nbformat_minor": 4
}
