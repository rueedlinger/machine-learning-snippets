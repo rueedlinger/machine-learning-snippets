{
 "cells": [
  {
   "cell_type": "markdown",
   "metadata": {},
   "source": [
    "## Linear regression with statsmodels (OLS)"
   ]
  },
  {
   "cell_type": "code",
   "execution_count": 1,
   "metadata": {
    "execution": {
     "iopub.execute_input": "2021-03-09T16:23:29.964961Z",
     "iopub.status.busy": "2021-03-09T16:23:29.964295Z",
     "iopub.status.idle": "2021-03-09T16:23:31.334553Z",
     "shell.execute_reply": "2021-03-09T16:23:31.335007Z"
    },
    "tags": []
   },
   "outputs": [],
   "source": [
    "import statsmodels.api as sm\n",
    "import statsmodels.formula.api as smf\n",
    "import statsmodels.tools.eval_measures as eval_measures\n",
    "import scipy.stats as stats\n",
    "import pandas as pd\n",
    "import numpy as np\n",
    "\n",
    "from matplotlib import pyplot as plt\n",
    "from sklearn import datasets, model_selection, metrics"
   ]
  },
  {
   "cell_type": "markdown",
   "metadata": {},
   "source": [
    "We load the boston house-prices dataset and `X` are our features and `y` is the target variable `medv` (Median value of owner-occupied homes in $1000s)."
   ]
  },
  {
   "cell_type": "code",
   "execution_count": 2,
   "metadata": {
    "execution": {
     "iopub.execute_input": "2021-03-09T16:23:31.338479Z",
     "iopub.status.busy": "2021-03-09T16:23:31.337879Z",
     "iopub.status.idle": "2021-03-09T16:23:31.343621Z",
     "shell.execute_reply": "2021-03-09T16:23:31.343979Z"
    },
    "tags": []
   },
   "outputs": [
    {
     "name": "stdout",
     "output_type": "stream",
     "text": [
      ".. _boston_dataset:\n",
      "\n",
      "Boston house prices dataset\n",
      "---------------------------\n",
      "\n",
      "**Data Set Characteristics:**  \n",
      "\n",
      "    :Number of Instances: 506 \n",
      "\n",
      "    :Number of Attributes: 13 numeric/categorical predictive. Median Value (attribute 14) is usually the target.\n",
      "\n",
      "    :Attribute Information (in order):\n",
      "        - CRIM     per capita crime rate by town\n",
      "        - ZN       proportion of residential land zoned for lots over 25,000 sq.ft.\n",
      "        - INDUS    proportion of non-retail business acres per town\n",
      "        - CHAS     Charles River dummy variable (= 1 if tract bounds river; 0 otherwise)\n",
      "        - NOX      nitric oxides concentration (parts per 10 million)\n",
      "        - RM       average number of rooms per dwelling\n",
      "        - AGE      proportion of owner-occupied units built prior to 1940\n",
      "        - DIS      weighted distances to five Boston employment centres\n",
      "        - RAD      index of accessibility to radial highways\n",
      "        - TAX      full-value property-tax rate per $10,000\n",
      "        - PTRATIO  pupil-teacher ratio by town\n",
      "        - B        1000(Bk - 0.63)^2 where Bk is the proportion of blacks by town\n",
      "        - LSTAT    % lower status of the population\n",
      "        - MEDV     Median value of owner-occupied homes in $1000's\n",
      "\n",
      "    :Missing Attribute Values: None\n",
      "\n",
      "    :Creator: Harrison, D. and Rubinfeld, D.L.\n",
      "\n",
      "This is a copy of UCI ML housing dataset.\n",
      "https://archive.ics.uci.edu/ml/machine-learning-databases/housing/\n",
      "\n",
      "\n",
      "This dataset was taken from the StatLib library which is maintained at Carnegie Mellon University.\n",
      "\n",
      "The Boston house-price data of Harrison, D. and Rubinfeld, D.L. 'Hedonic\n",
      "prices and the demand for clean air', J. Environ. Economics & Management,\n",
      "vol.5, 81-102, 1978.   Used in Belsley, Kuh & Welsch, 'Regression diagnostics\n",
      "...', Wiley, 1980.   N.B. Various transformations are used in the table on\n",
      "pages 244-261 of the latter.\n",
      "\n",
      "The Boston house-price data has been used in many machine learning papers that address regression\n",
      "problems.   \n",
      "     \n",
      ".. topic:: References\n",
      "\n",
      "   - Belsley, Kuh & Welsch, 'Regression diagnostics: Identifying Influential Data and Sources of Collinearity', Wiley, 1980. 244-261.\n",
      "   - Quinlan,R. (1993). Combining Instance-Based and Model-Based Learning. In Proceedings on the Tenth International Conference of Machine Learning, 236-243, University of Massachusetts, Amherst. Morgan Kaufmann.\n",
      "\n"
     ]
    }
   ],
   "source": [
    "boston = datasets.load_boston()\n",
    "print(boston.DESCR)"
   ]
  },
  {
   "cell_type": "markdown",
   "metadata": {},
   "source": [
    "Let's split the data in a test and training set."
   ]
  },
  {
   "cell_type": "code",
   "execution_count": 3,
   "metadata": {
    "execution": {
     "iopub.execute_input": "2021-03-09T16:23:31.348637Z",
     "iopub.status.busy": "2021-03-09T16:23:31.348117Z",
     "iopub.status.idle": "2021-03-09T16:23:31.349935Z",
     "shell.execute_reply": "2021-03-09T16:23:31.350272Z"
    },
    "tags": []
   },
   "outputs": [],
   "source": [
    "X = pd.DataFrame(boston.data, columns=boston.feature_names)\n",
    "y = boston.target\n",
    "\n",
    "X_train, X_test, y_train, y_test = model_selection.train_test_split(X, y, train_size=0.7)"
   ]
  },
  {
   "cell_type": "markdown",
   "metadata": {},
   "source": [
    "## Fitting models - the standard way\n",
    "### Full model without an intercept\n"
   ]
  },
  {
   "cell_type": "code",
   "execution_count": 4,
   "metadata": {
    "execution": {
     "iopub.execute_input": "2021-03-09T16:23:31.353172Z",
     "iopub.status.busy": "2021-03-09T16:23:31.352743Z",
     "iopub.status.idle": "2021-03-09T16:23:31.369721Z",
     "shell.execute_reply": "2021-03-09T16:23:31.369285Z"
    },
    "tags": []
   },
   "outputs": [
    {
     "name": "stdout",
     "output_type": "stream",
     "text": [
      "                                 OLS Regression Results                                \n",
      "=======================================================================================\n",
      "Dep. Variable:                      y   R-squared (uncentered):                   0.961\n",
      "Model:                            OLS   Adj. R-squared (uncentered):              0.960\n",
      "Method:                 Least Squares   F-statistic:                              648.7\n",
      "Date:                Tue, 09 Mar 2021   Prob (F-statistic):                   1.90e-231\n",
      "Time:                        17:23:31   Log-Likelihood:                         -1057.9\n",
      "No. Observations:                 354   AIC:                                      2142.\n",
      "Df Residuals:                     341   BIC:                                      2192.\n",
      "Df Model:                          13                                                  \n",
      "Covariance Type:            nonrobust                                                  \n",
      "==============================================================================\n",
      "                 coef    std err          t      P>|t|      [0.025      0.975]\n",
      "------------------------------------------------------------------------------\n",
      "CRIM          -0.1282      0.038     -3.378      0.001      -0.203      -0.054\n",
      "ZN             0.0392      0.018      2.230      0.026       0.005       0.074\n",
      "INDUS          0.0005      0.076      0.007      0.995      -0.150       0.151\n",
      "CHAS           1.7214      1.085      1.587      0.114      -0.413       3.856\n",
      "NOX           -5.3027      3.842     -1.380      0.168     -12.860       2.254\n",
      "RM             6.1919      0.350     17.669      0.000       5.503       6.881\n",
      "AGE            0.0066      0.017      0.392      0.695      -0.027       0.040\n",
      "DIS           -0.8183      0.227     -3.605      0.000      -1.265      -0.372\n",
      "RAD            0.1304      0.080      1.620      0.106      -0.028       0.289\n",
      "TAX           -0.0072      0.005     -1.499      0.135      -0.017       0.002\n",
      "PTRATIO       -0.5501      0.129     -4.280      0.000      -0.803      -0.297\n",
      "B              0.0154      0.003      4.887      0.000       0.009       0.022\n",
      "LSTAT         -0.3636      0.059     -6.137      0.000      -0.480      -0.247\n",
      "==============================================================================\n",
      "Omnibus:                      110.100   Durbin-Watson:                   2.020\n",
      "Prob(Omnibus):                  0.000   Jarque-Bera (JB):              540.710\n",
      "Skew:                           1.226   Prob(JB):                    3.86e-118\n",
      "Kurtosis:                       8.535   Cond. No.                     8.30e+03\n",
      "==============================================================================\n",
      "\n",
      "Notes:\n",
      "[1] R² is computed without centering (uncentered) since the model does not contain a constant.\n",
      "[2] Standard Errors assume that the covariance matrix of the errors is correctly specified.\n",
      "[3] The condition number is large, 8.3e+03. This might indicate that there are\n",
      "strong multicollinearity or other numerical problems.\n"
     ]
    }
   ],
   "source": [
    "model = sm.OLS(y_train, X_train)\n",
    "result = model.fit()\n",
    "print(result.summary())"
   ]
  },
  {
   "cell_type": "code",
   "execution_count": 5,
   "metadata": {
    "execution": {
     "iopub.execute_input": "2021-03-09T16:23:31.391069Z",
     "iopub.status.busy": "2021-03-09T16:23:31.374913Z",
     "iopub.status.idle": "2021-03-09T16:23:31.496130Z",
     "shell.execute_reply": "2021-03-09T16:23:31.495689Z"
    },
    "tags": []
   },
   "outputs": [
    {
     "data": {
      "image/png": "[encoded data removed]",
      "text/plain": [
       "<Figure size 432x288 with 1 Axes>"
      ]
     },
     "metadata": {
      "needs_background": "light"
     },
     "output_type": "display_data"
    }
   ],
   "source": [
    "fig = sm.qqplot(result.resid, fit=True, line=\"s\")\n",
    "plt.show()"
   ]
  },
  {
   "cell_type": "code",
   "execution_count": 6,
   "metadata": {
    "execution": {
     "iopub.execute_input": "2021-03-09T16:23:31.499478Z",
     "iopub.status.busy": "2021-03-09T16:23:31.499062Z",
     "iopub.status.idle": "2021-03-09T16:23:31.503867Z",
     "shell.execute_reply": "2021-03-09T16:23:31.503418Z"
    },
    "tags": []
   },
   "outputs": [
    {
     "data": {
      "text/plain": [
       "CRIM        True\n",
       "ZN          True\n",
       "INDUS      False\n",
       "CHAS       False\n",
       "NOX        False\n",
       "RM          True\n",
       "AGE        False\n",
       "DIS         True\n",
       "RAD        False\n",
       "TAX        False\n",
       "PTRATIO     True\n",
       "B           True\n",
       "LSTAT       True\n",
       "dtype: bool"
      ]
     },
     "execution_count": 1,
     "metadata": {},
     "output_type": "execute_result"
    }
   ],
   "source": [
    "result.pvalues < 0.05"
   ]
  },
  {
   "cell_type": "code",
   "execution_count": 7,
   "metadata": {
    "execution": {
     "iopub.execute_input": "2021-03-09T16:23:31.509368Z",
     "iopub.status.busy": "2021-03-09T16:23:31.508822Z",
     "iopub.status.idle": "2021-03-09T16:23:31.511126Z",
     "shell.execute_reply": "2021-03-09T16:23:31.511464Z"
    },
    "tags": []
   },
   "outputs": [
    {
     "name": "stdout",
     "output_type": "stream",
     "text": [
      "r2 score: 0.6337599394847873\n",
      "mse: 28.105692778911614\n",
      "rmse: 5.301480244131031\n",
      "mae: 3.1155010634486016\n"
     ]
    }
   ],
   "source": [
    "predicted = result.predict(X_test)\n",
    "\n",
    "print(\"r2 score: {}\".format(metrics.r2_score(y_test, predicted)))\n",
    "print(\"mse: {}\".format(metrics.mean_squared_error(y_test, predicted)))\n",
    "print(\"rmse: {}\".format(np.sqrt(metrics.mean_squared_error(y_test, predicted))))\n",
    "print(\"mae: {}\".format(metrics.mean_absolute_error(y_test, predicted)))"
   ]
  },
  {
   "cell_type": "markdown",
   "metadata": {},
   "source": [
    "### Full model with an intercept\n"
   ]
  },
  {
   "cell_type": "code",
   "execution_count": 8,
   "metadata": {
    "execution": {
     "iopub.execute_input": "2021-03-09T16:23:31.514495Z",
     "iopub.status.busy": "2021-03-09T16:23:31.514075Z",
     "iopub.status.idle": "2021-03-09T16:23:31.531625Z",
     "shell.execute_reply": "2021-03-09T16:23:31.531953Z"
    },
    "tags": []
   },
   "outputs": [
    {
     "name": "stdout",
     "output_type": "stream",
     "text": [
      "                            OLS Regression Results                            \n",
      "==============================================================================\n",
      "Dep. Variable:                      y   R-squared:                       0.766\n",
      "Model:                            OLS   Adj. R-squared:                  0.757\n",
      "Method:                 Least Squares   F-statistic:                     85.70\n",
      "Date:                Tue, 09 Mar 2021   Prob (F-statistic):           8.56e-99\n",
      "Time:                        17:23:31   Log-Likelihood:                -1037.0\n",
      "No. Observations:                 354   AIC:                             2102.\n",
      "Df Residuals:                     340   BIC:                             2156.\n",
      "Df Model:                          13                                         \n",
      "Covariance Type:            nonrobust                                         \n",
      "==============================================================================\n",
      "                 coef    std err          t      P>|t|      [0.025      0.975]\n",
      "------------------------------------------------------------------------------\n",
      "const         38.4004      5.882      6.529      0.000      26.831      49.970\n",
      "CRIM          -0.1289      0.036     -3.597      0.000      -0.199      -0.058\n",
      "ZN             0.0366      0.017      2.206      0.028       0.004       0.069\n",
      "INDUS          0.0142      0.072      0.197      0.844      -0.128       0.156\n",
      "CHAS           1.8188      1.024      1.775      0.077      -0.196       3.834\n",
      "NOX          -20.8650      4.340     -4.807      0.000     -29.402     -12.328\n",
      "RM             3.9492      0.477      8.281      0.000       3.011       4.887\n",
      "AGE            0.0150      0.016      0.937      0.349      -0.017       0.047\n",
      "DIS           -1.3750      0.231     -5.962      0.000      -1.829      -0.921\n",
      "RAD            0.2625      0.079      3.338      0.001       0.108       0.417\n",
      "TAX           -0.0098      0.005     -2.146      0.033      -0.019      -0.001\n",
      "PTRATIO       -1.1449      0.152     -7.545      0.000      -1.443      -0.846\n",
      "B              0.0100      0.003      3.224      0.001       0.004       0.016\n",
      "LSTAT         -0.4776      0.059     -8.150      0.000      -0.593      -0.362\n",
      "==============================================================================\n",
      "Omnibus:                       84.696   Durbin-Watson:                   2.047\n",
      "Prob(Omnibus):                  0.000   Jarque-Bera (JB):              248.145\n",
      "Skew:                           1.088   Prob(JB):                     1.31e-54\n",
      "Kurtosis:                       6.476   Cond. No.                     1.50e+04\n",
      "==============================================================================\n",
      "\n",
      "Notes:\n",
      "[1] Standard Errors assume that the covariance matrix of the errors is correctly specified.\n",
      "[2] The condition number is large, 1.5e+04. This might indicate that there are\n",
      "strong multicollinearity or other numerical problems.\n"
     ]
    }
   ],
   "source": [
    "model = sm.OLS(y_train, sm.add_constant(X_train))\n",
    "result = model.fit()\n",
    "print(result.summary())"
   ]
  },
  {
   "cell_type": "code",
   "execution_count": 9,
   "metadata": {
    "execution": {
     "iopub.execute_input": "2021-03-09T16:23:31.546492Z",
     "iopub.status.busy": "2021-03-09T16:23:31.540410Z",
     "iopub.status.idle": "2021-03-09T16:23:31.643591Z",
     "shell.execute_reply": "2021-03-09T16:23:31.644044Z"
    },
    "tags": []
   },
   "outputs": [
    {
     "data": {
      "image/png": "[encoded data removed]",
      "text/plain": [
       "<Figure size 432x288 with 1 Axes>"
      ]
     },
     "metadata": {
      "needs_background": "light"
     },
     "output_type": "display_data"
    }
   ],
   "source": [
    "fig = sm.qqplot(result.resid, fit=True, line=\"s\")\n",
    "plt.show()"
   ]
  },
  {
   "cell_type": "code",
   "execution_count": 10,
   "metadata": {
    "execution": {
     "iopub.execute_input": "2021-03-09T16:23:31.650423Z",
     "iopub.status.busy": "2021-03-09T16:23:31.647423Z",
     "iopub.status.idle": "2021-03-09T16:23:31.655011Z",
     "shell.execute_reply": "2021-03-09T16:23:31.655345Z"
    },
    "tags": []
   },
   "outputs": [
    {
     "name": "stdout",
     "output_type": "stream",
     "text": [
      "r2 score: 0.6568645404631999\n",
      "mse: 26.332618539121746\n",
      "rmse: 5.131531792664033\n",
      "mae: 3.206612353992374\n"
     ]
    }
   ],
   "source": [
    "predicted = result.predict(sm.add_constant(X_test))\n",
    "\n",
    "print(\"r2 score: {}\".format(metrics.r2_score(y_test, predicted)))\n",
    "print(\"mse: {}\".format(metrics.mean_squared_error(y_test, predicted)))\n",
    "print(\"rmse: {}\".format(np.sqrt(metrics.mean_squared_error(y_test, predicted))))\n",
    "print(\"mae: {}\".format(metrics.mean_absolute_error(y_test, predicted)))"
   ]
  },
  {
   "cell_type": "markdown",
   "metadata": {},
   "source": [
    "## Fitting models using R-style formulas\n",
    "We can also fit a model with the R syntax `y ~ x_1 + x_2` and build some complexer models."
   ]
  },
  {
   "cell_type": "code",
   "execution_count": 11,
   "metadata": {
    "execution": {
     "iopub.execute_input": "2021-03-09T16:23:31.659372Z",
     "iopub.status.busy": "2021-03-09T16:23:31.658915Z",
     "iopub.status.idle": "2021-03-09T16:23:31.674917Z",
     "shell.execute_reply": "2021-03-09T16:23:31.674488Z"
    },
    "tags": []
   },
   "outputs": [
    {
     "data": {
      "text/html": [
       "<div>\n",
       "<style scoped>\n",
       "    .dataframe tbody tr th:only-of-type {\n",
       "        vertical-align: middle;\n",
       "    }\n",
       "\n",
       "    .dataframe tbody tr th {\n",
       "        vertical-align: top;\n",
       "    }\n",
       "\n",
       "    .dataframe thead th {\n",
       "        text-align: right;\n",
       "    }\n",
       "</style>\n",
       "<table border=\"1\" class=\"dataframe\">\n",
       "  <thead>\n",
       "    <tr style=\"text-align: right;\">\n",
       "      <th></th>\n",
       "      <th>CRIM</th>\n",
       "      <th>ZN</th>\n",
       "      <th>INDUS</th>\n",
       "      <th>CHAS</th>\n",
       "      <th>NOX</th>\n",
       "      <th>RM</th>\n",
       "      <th>AGE</th>\n",
       "      <th>DIS</th>\n",
       "      <th>RAD</th>\n",
       "      <th>TAX</th>\n",
       "      <th>PTRATIO</th>\n",
       "      <th>B</th>\n",
       "      <th>LSTAT</th>\n",
       "      <th>MEDV</th>\n",
       "    </tr>\n",
       "  </thead>\n",
       "  <tbody>\n",
       "    <tr>\n",
       "      <th>486</th>\n",
       "      <td>5.69175</td>\n",
       "      <td>0.0</td>\n",
       "      <td>18.10</td>\n",
       "      <td>0.0</td>\n",
       "      <td>0.583</td>\n",
       "      <td>6.114</td>\n",
       "      <td>79.8</td>\n",
       "      <td>3.5459</td>\n",
       "      <td>24.0</td>\n",
       "      <td>666.0</td>\n",
       "      <td>20.2</td>\n",
       "      <td>392.68</td>\n",
       "      <td>14.98</td>\n",
       "      <td>19.1</td>\n",
       "    </tr>\n",
       "    <tr>\n",
       "      <th>424</th>\n",
       "      <td>8.79212</td>\n",
       "      <td>0.0</td>\n",
       "      <td>18.10</td>\n",
       "      <td>0.0</td>\n",
       "      <td>0.584</td>\n",
       "      <td>5.565</td>\n",
       "      <td>70.6</td>\n",
       "      <td>2.0635</td>\n",
       "      <td>24.0</td>\n",
       "      <td>666.0</td>\n",
       "      <td>20.2</td>\n",
       "      <td>3.65</td>\n",
       "      <td>17.16</td>\n",
       "      <td>11.7</td>\n",
       "    </tr>\n",
       "    <tr>\n",
       "      <th>385</th>\n",
       "      <td>16.81180</td>\n",
       "      <td>0.0</td>\n",
       "      <td>18.10</td>\n",
       "      <td>0.0</td>\n",
       "      <td>0.700</td>\n",
       "      <td>5.277</td>\n",
       "      <td>98.1</td>\n",
       "      <td>1.4261</td>\n",
       "      <td>24.0</td>\n",
       "      <td>666.0</td>\n",
       "      <td>20.2</td>\n",
       "      <td>396.90</td>\n",
       "      <td>30.81</td>\n",
       "      <td>7.2</td>\n",
       "    </tr>\n",
       "    <tr>\n",
       "      <th>275</th>\n",
       "      <td>0.09604</td>\n",
       "      <td>40.0</td>\n",
       "      <td>6.41</td>\n",
       "      <td>0.0</td>\n",
       "      <td>0.447</td>\n",
       "      <td>6.854</td>\n",
       "      <td>42.8</td>\n",
       "      <td>4.2673</td>\n",
       "      <td>4.0</td>\n",
       "      <td>254.0</td>\n",
       "      <td>17.6</td>\n",
       "      <td>396.90</td>\n",
       "      <td>2.98</td>\n",
       "      <td>32.0</td>\n",
       "    </tr>\n",
       "    <tr>\n",
       "      <th>477</th>\n",
       "      <td>15.02340</td>\n",
       "      <td>0.0</td>\n",
       "      <td>18.10</td>\n",
       "      <td>0.0</td>\n",
       "      <td>0.614</td>\n",
       "      <td>5.304</td>\n",
       "      <td>97.3</td>\n",
       "      <td>2.1007</td>\n",
       "      <td>24.0</td>\n",
       "      <td>666.0</td>\n",
       "      <td>20.2</td>\n",
       "      <td>349.48</td>\n",
       "      <td>24.91</td>\n",
       "      <td>12.0</td>\n",
       "    </tr>\n",
       "  </tbody>\n",
       "</table>\n",
       "</div>"
      ],
      "text/plain": [
       "         CRIM    ZN  INDUS  CHAS    NOX     RM   AGE     DIS   RAD    TAX  \\\n",
       "486   5.69175   0.0  18.10   0.0  0.583  6.114  79.8  3.5459  24.0  666.0   \n",
       "424   8.79212   0.0  18.10   0.0  0.584  5.565  70.6  2.0635  24.0  666.0   \n",
       "385  16.81180   0.0  18.10   0.0  0.700  5.277  98.1  1.4261  24.0  666.0   \n",
       "275   0.09604  40.0   6.41   0.0  0.447  6.854  42.8  4.2673   4.0  254.0   \n",
       "477  15.02340   0.0  18.10   0.0  0.614  5.304  97.3  2.1007  24.0  666.0   \n",
       "\n",
       "     PTRATIO       B  LSTAT  MEDV  \n",
       "486     20.2  392.68  14.98  19.1  \n",
       "424     20.2    3.65  17.16  11.7  \n",
       "385     20.2  396.90  30.81   7.2  \n",
       "275     17.6  396.90   2.98  32.0  \n",
       "477     20.2  349.48  24.91  12.0  "
      ]
     },
     "execution_count": 1,
     "metadata": {},
     "output_type": "execute_result"
    }
   ],
   "source": [
    "dat = X_train.copy()\n",
    "dat['MEDV'] = y_train\n",
    "dat.head()"
   ]
  },
  {
   "cell_type": "markdown",
   "metadata": {},
   "source": [
    "### Full model with an intercept"
   ]
  },
  {
   "cell_type": "code",
   "execution_count": 12,
   "metadata": {
    "execution": {
     "iopub.execute_input": "2021-03-09T16:23:31.692898Z",
     "iopub.status.busy": "2021-03-09T16:23:31.692467Z",
     "iopub.status.idle": "2021-03-09T16:23:31.704931Z",
     "shell.execute_reply": "2021-03-09T16:23:31.705291Z"
    },
    "tags": []
   },
   "outputs": [
    {
     "name": "stdout",
     "output_type": "stream",
     "text": [
      "                            OLS Regression Results                            \n",
      "==============================================================================\n",
      "Dep. Variable:                   MEDV   R-squared:                       0.720\n",
      "Model:                            OLS   Adj. R-squared:                  0.711\n",
      "Method:                 Least Squares   F-statistic:                     73.25\n",
      "Date:                Tue, 09 Mar 2021   Prob (F-statistic):           1.05e-86\n",
      "Time:                        17:23:31   Log-Likelihood:                -1068.6\n",
      "No. Observations:                 354   AIC:                             2163.\n",
      "Df Residuals:                     341   BIC:                             2213.\n",
      "Df Model:                          12                                         \n",
      "Covariance Type:            nonrobust                                         \n",
      "==============================================================================\n",
      "                 coef    std err          t      P>|t|      [0.025      0.975]\n",
      "------------------------------------------------------------------------------\n",
      "Intercept     24.1179      6.130      3.935      0.000      12.061      36.175\n",
      "CRIM          -0.1690      0.039     -4.362      0.000      -0.245      -0.093\n",
      "ZN             0.0265      0.018      1.468      0.143      -0.009       0.062\n",
      "INDUS          0.0005      0.079      0.007      0.995      -0.154       0.155\n",
      "CHAS           2.1183      1.118      1.895      0.059      -0.080       4.317\n",
      "NOX          -22.5456      4.733     -4.764      0.000     -31.855     -13.236\n",
      "RM             6.0927      0.434     14.028      0.000       5.238       6.947\n",
      "AGE           -0.0365      0.016     -2.265      0.024      -0.068      -0.005\n",
      "DIS           -1.4219      0.252     -5.650      0.000      -1.917      -0.927\n",
      "RAD            0.2348      0.086      2.737      0.007       0.066       0.403\n",
      "TAX           -0.0097      0.005     -1.949      0.052      -0.020    9.09e-05\n",
      "PTRATIO       -1.2391      0.165     -7.502      0.000      -1.564      -0.914\n",
      "B              0.0148      0.003      4.470      0.000       0.008       0.021\n",
      "==============================================================================\n",
      "Omnibus:                      141.810   Durbin-Watson:                   2.111\n",
      "Prob(Omnibus):                  0.000   Jarque-Bera (JB):              789.396\n",
      "Skew:                           1.594   Prob(JB):                    3.85e-172\n",
      "Kurtosis:                       9.584   Cond. No.                     1.46e+04\n",
      "==============================================================================\n",
      "\n",
      "Notes:\n",
      "[1] Standard Errors assume that the covariance matrix of the errors is correctly specified.\n",
      "[2] The condition number is large, 1.46e+04. This might indicate that there are\n",
      "strong multicollinearity or other numerical problems.\n"
     ]
    }
   ],
   "source": [
    "result = smf.ols('MEDV ~ CRIM + ZN + INDUS + CHAS + NOX + RM + AGE + DIS + RAD + TAX + PTRATIO + B', data=dat).fit()\n",
    "print(result.summary())"
   ]
  },
  {
   "cell_type": "code",
   "execution_count": 13,
   "metadata": {
    "execution": {
     "iopub.execute_input": "2021-03-09T16:23:31.716990Z",
     "iopub.status.busy": "2021-03-09T16:23:31.710390Z",
     "iopub.status.idle": "2021-03-09T16:23:31.823343Z",
     "shell.execute_reply": "2021-03-09T16:23:31.822920Z"
    },
    "tags": []
   },
   "outputs": [
    {
     "data": {
      "image/png": "[encoded data removed]",
      "text/plain": [
       "<Figure size 432x288 with 1 Axes>"
      ]
     },
     "metadata": {
      "needs_background": "light"
     },
     "output_type": "display_data"
    }
   ],
   "source": [
    "fig = sm.qqplot(result.resid, fit=True, line=\"s\")\n",
    "\n",
    "plt.show()"
   ]
  },
  {
   "cell_type": "code",
   "execution_count": 14,
   "metadata": {
    "execution": {
     "iopub.execute_input": "2021-03-09T16:23:31.885815Z",
     "iopub.status.busy": "2021-03-09T16:23:31.885232Z",
     "iopub.status.idle": "2021-03-09T16:23:31.887677Z",
     "shell.execute_reply": "2021-03-09T16:23:31.888078Z"
    },
    "tags": []
   },
   "outputs": [
    {
     "name": "stdout",
     "output_type": "stream",
     "text": [
      "r2 score: 0.5708561640026126\n",
      "mse: 32.933002456199624\n",
      "rmse: 5.738728296077418\n",
      "mae: 3.4205356769560398\n"
     ]
    }
   ],
   "source": [
    "predicted = result.predict(X_test)\n",
    "\n",
    "print(\"r2 score: {}\".format(metrics.r2_score(y_test, predicted)))\n",
    "print(\"mse: {}\".format(metrics.mean_squared_error(y_test, predicted)))\n",
    "print(\"rmse: {}\".format(np.sqrt(metrics.mean_squared_error(y_test, predicted))))\n",
    "print(\"mae: {}\".format(metrics.mean_absolute_error(y_test, predicted)))"
   ]
  },
  {
   "cell_type": "markdown",
   "metadata": {},
   "source": [
    "### Model with a polynomial and the target variable log transformed"
   ]
  },
  {
   "cell_type": "code",
   "execution_count": 15,
   "metadata": {
    "execution": {
     "iopub.execute_input": "2021-03-09T16:23:31.906177Z",
     "iopub.status.busy": "2021-03-09T16:23:31.905683Z",
     "iopub.status.idle": "2021-03-09T16:23:31.916455Z",
     "shell.execute_reply": "2021-03-09T16:23:31.916881Z"
    },
    "tags": []
   },
   "outputs": [
    {
     "name": "stdout",
     "output_type": "stream",
     "text": [
      "                            OLS Regression Results                            \n",
      "==============================================================================\n",
      "Dep. Variable:           np.log(MEDV)   R-squared:                       0.718\n",
      "Model:                            OLS   Adj. R-squared:                  0.710\n",
      "Method:                 Least Squares   F-statistic:                     87.29\n",
      "Date:                Tue, 09 Mar 2021   Prob (F-statistic):           5.67e-88\n",
      "Time:                        17:23:31   Log-Likelihood:                 34.186\n",
      "No. Observations:                 354   AIC:                            -46.37\n",
      "Df Residuals:                     343   BIC:                            -3.810\n",
      "Df Model:                          10                                         \n",
      "Covariance Type:            nonrobust                                         \n",
      "===============================================================================\n",
      "                  coef    std err          t      P>|t|      [0.025      0.975]\n",
      "-------------------------------------------------------------------------------\n",
      "Intercept       3.3239      0.271     12.275      0.000       2.791       3.857\n",
      "CRIM           -0.0125      0.002     -7.325      0.000      -0.016      -0.009\n",
      "CHAS            0.0926      0.049      1.883      0.061      -0.004       0.189\n",
      "NOX            -0.9764      0.202     -4.829      0.000      -1.374      -0.579\n",
      "RM              0.2091      0.019     11.159      0.000       0.172       0.246\n",
      "DIS            -0.0487      0.010     -5.115      0.000      -0.067      -0.030\n",
      "RAD             0.0092      0.004      2.543      0.011       0.002       0.016\n",
      "TAX            -0.0003      0.000     -1.829      0.068      -0.001    2.62e-05\n",
      "PTRATIO        -0.0520      0.007     -7.614      0.000      -0.065      -0.039\n",
      "B               0.0008      0.000      5.483      0.000       0.001       0.001\n",
      "pow(AGE, 2) -1.984e-05   5.78e-06     -3.433      0.001   -3.12e-05   -8.47e-06\n",
      "==============================================================================\n",
      "Omnibus:                       66.336   Durbin-Watson:                   2.121\n",
      "Prob(Omnibus):                  0.000   Jarque-Bera (JB):              459.083\n",
      "Skew:                           0.549   Prob(JB):                    2.05e-100\n",
      "Kurtosis:                       8.470   Cond. No.                     1.74e+05\n",
      "==============================================================================\n",
      "\n",
      "Notes:\n",
      "[1] Standard Errors assume that the covariance matrix of the errors is correctly specified.\n",
      "[2] The condition number is large, 1.74e+05. This might indicate that there are\n",
      "strong multicollinearity or other numerical problems.\n"
     ]
    }
   ],
   "source": [
    "result = smf.ols('np.log(MEDV) ~ CRIM + CHAS + NOX + RM + DIS + RAD + TAX + PTRATIO + B + pow(AGE, 2)', data=dat).fit()\n",
    "print(result.summary())"
   ]
  },
  {
   "cell_type": "markdown",
   "metadata": {},
   "source": [
    "Let's plot the QQ-Plot for the residuals"
   ]
  },
  {
   "cell_type": "code",
   "execution_count": 16,
   "metadata": {
    "execution": {
     "iopub.execute_input": "2021-03-09T16:23:31.921041Z",
     "iopub.status.busy": "2021-03-09T16:23:31.920612Z",
     "iopub.status.idle": "2021-03-09T16:23:31.923000Z",
     "shell.execute_reply": "2021-03-09T16:23:31.923330Z"
    },
    "tags": []
   },
   "outputs": [
    {
     "data": {
      "text/plain": [
       "Intercept       True\n",
       "CRIM            True\n",
       "CHAS           False\n",
       "NOX             True\n",
       "RM              True\n",
       "DIS             True\n",
       "RAD             True\n",
       "TAX            False\n",
       "PTRATIO         True\n",
       "B               True\n",
       "pow(AGE, 2)     True\n",
       "dtype: bool"
      ]
     },
     "execution_count": 1,
     "metadata": {},
     "output_type": "execute_result"
    }
   ],
   "source": [
    "result.pvalues < 0.05"
   ]
  },
  {
   "cell_type": "code",
   "execution_count": 17,
   "metadata": {
    "execution": {
     "iopub.execute_input": "2021-03-09T16:23:31.937033Z",
     "iopub.status.busy": "2021-03-09T16:23:31.936252Z",
     "iopub.status.idle": "2021-03-09T16:23:31.939554Z",
     "shell.execute_reply": "2021-03-09T16:23:31.939893Z"
    },
    "tags": []
   },
   "outputs": [
    {
     "name": "stdout",
     "output_type": "stream",
     "text": [
      "r2 score: 0.5862693864295501\n",
      "mse: 31.750173648080914\n",
      "rmse: 5.634729243546748\n",
      "mae: 3.1933777530681473\n"
     ]
    }
   ],
   "source": [
    "predicted = np.exp(result.predict(X_test))\n",
    "\n",
    "print(\"r2 score: {}\".format(metrics.r2_score(y_test, predicted)))\n",
    "print(\"mse: {}\".format(metrics.mean_squared_error(y_test, predicted)))\n",
    "print(\"rmse: {}\".format(np.sqrt(metrics.mean_squared_error(y_test, predicted))))\n",
    "print(\"mae: {}\".format(metrics.mean_absolute_error(y_test, predicted)))"
   ]
  },
  {
   "cell_type": "code",
   "execution_count": 18,
   "metadata": {
    "execution": {
     "iopub.execute_input": "2021-03-09T16:23:31.970531Z",
     "iopub.status.busy": "2021-03-09T16:23:31.952592Z",
     "iopub.status.idle": "2021-03-09T16:23:32.049691Z",
     "shell.execute_reply": "2021-03-09T16:23:32.049189Z"
    },
    "tags": []
   },
   "outputs": [
    {
     "data": {
      "image/png": "[encoded data removed]",
      "text/plain": [
       "<Figure size 432x288 with 1 Axes>"
      ]
     },
     "metadata": {
      "needs_background": "light"
     },
     "output_type": "display_data"
    }
   ],
   "source": [
    "fig = sm.qqplot(result.resid, fit=True, line=\"q\")\n",
    "plt.show()"
   ]
  }
 ],
 "metadata": {
  "kernelspec": {
   "display_name": "Python 3",
   "language": "python",
   "name": "python3"
  },
  "language_info": {
   "codemirror_mode": {
    "name": "ipython",
    "version": 3
   },
   "file_extension": ".py",
   "mimetype": "text/x-python",
   "name": "python",
   "nbconvert_exporter": "python",
   "pygments_lexer": "ipython3",
   "version": "3.8.5"
  }
 },
 "nbformat": 4,
 "nbformat_minor": 4
}
