{
 "cells": [
  {
   "cell_type": "markdown",
   "metadata": {},
   "source": [
    "## Linear regression with statsmodels (OLS)"
   ]
  },
  {
   "cell_type": "code",
   "execution_count": 1,
   "metadata": {
    "execution": {
     "iopub.execute_input": "2021-03-09T10:10:30.297658Z",
     "iopub.status.busy": "2021-03-09T10:10:30.296962Z",
     "iopub.status.idle": "2021-03-09T10:10:31.544277Z",
     "shell.execute_reply": "2021-03-09T10:10:31.543841Z"
    },
    "tags": []
   },
   "outputs": [],
   "source": [
    "import statsmodels.api as sm\n",
    "import statsmodels.formula.api as smf\n",
    "import statsmodels.tools.eval_measures as eval_measures\n",
    "import scipy.stats as stats\n",
    "import pandas as pd\n",
    "import numpy as np\n",
    "\n",
    "from matplotlib import pyplot as plt\n",
    "from sklearn import datasets, model_selection, metrics"
   ]
  },
  {
   "cell_type": "markdown",
   "metadata": {},
   "source": [
    "We load the boston house-prices dataset and `X` are our features and `y` is the target variable `medv` (Median value of owner-occupied homes in $1000s)."
   ]
  },
  {
   "cell_type": "code",
   "execution_count": 2,
   "metadata": {
    "execution": {
     "iopub.execute_input": "2021-03-09T10:10:31.547088Z",
     "iopub.status.busy": "2021-03-09T10:10:31.546663Z",
     "iopub.status.idle": "2021-03-09T10:10:31.554102Z",
     "shell.execute_reply": "2021-03-09T10:10:31.553721Z"
    },
    "tags": []
   },
   "outputs": [
    {
     "name": "stdout",
     "output_type": "stream",
     "text": [
      ".. _boston_dataset:\n",
      "\n",
      "Boston house prices dataset\n",
      "---------------------------\n",
      "\n",
      "**Data Set Characteristics:**  \n",
      "\n",
      "    :Number of Instances: 506 \n",
      "\n",
      "    :Number of Attributes: 13 numeric/categorical predictive. Median Value (attribute 14) is usually the target.\n",
      "\n",
      "    :Attribute Information (in order):\n",
      "        - CRIM     per capita crime rate by town\n",
      "        - ZN       proportion of residential land zoned for lots over 25,000 sq.ft.\n",
      "        - INDUS    proportion of non-retail business acres per town\n",
      "        - CHAS     Charles River dummy variable (= 1 if tract bounds river; 0 otherwise)\n",
      "        - NOX      nitric oxides concentration (parts per 10 million)\n",
      "        - RM       average number of rooms per dwelling\n",
      "        - AGE      proportion of owner-occupied units built prior to 1940\n",
      "        - DIS      weighted distances to five Boston employment centres\n",
      "        - RAD      index of accessibility to radial highways\n",
      "        - TAX      full-value property-tax rate per $10,000\n",
      "        - PTRATIO  pupil-teacher ratio by town\n",
      "        - B        1000(Bk - 0.63)^2 where Bk is the proportion of blacks by town\n",
      "        - LSTAT    % lower status of the population\n",
      "        - MEDV     Median value of owner-occupied homes in $1000's\n",
      "\n",
      "    :Missing Attribute Values: None\n",
      "\n",
      "    :Creator: Harrison, D. and Rubinfeld, D.L.\n",
      "\n",
      "This is a copy of UCI ML housing dataset.\n",
      "https://archive.ics.uci.edu/ml/machine-learning-databases/housing/\n",
      "\n",
      "\n",
      "This dataset was taken from the StatLib library which is maintained at Carnegie Mellon University.\n",
      "\n",
      "The Boston house-price data of Harrison, D. and Rubinfeld, D.L. 'Hedonic\n",
      "prices and the demand for clean air', J. Environ. Economics & Management,\n",
      "vol.5, 81-102, 1978.   Used in Belsley, Kuh & Welsch, 'Regression diagnostics\n",
      "...', Wiley, 1980.   N.B. Various transformations are used in the table on\n",
      "pages 244-261 of the latter.\n",
      "\n",
      "The Boston house-price data has been used in many machine learning papers that address regression\n",
      "problems.   \n",
      "     \n",
      ".. topic:: References\n",
      "\n",
      "   - Belsley, Kuh & Welsch, 'Regression diagnostics: Identifying Influential Data and Sources of Collinearity', Wiley, 1980. 244-261.\n",
      "   - Quinlan,R. (1993). Combining Instance-Based and Model-Based Learning. In Proceedings on the Tenth International Conference of Machine Learning, 236-243, University of Massachusetts, Amherst. Morgan Kaufmann.\n",
      "\n"
     ]
    }
   ],
   "source": [
    "boston = datasets.load_boston()\n",
    "print(boston.DESCR)"
   ]
  },
  {
   "cell_type": "markdown",
   "metadata": {},
   "source": [
    "Let's split the data in a test and training set."
   ]
  },
  {
   "cell_type": "code",
   "execution_count": 3,
   "metadata": {
    "execution": {
     "iopub.execute_input": "2021-03-09T10:10:31.558966Z",
     "iopub.status.busy": "2021-03-09T10:10:31.558525Z",
     "iopub.status.idle": "2021-03-09T10:10:31.560692Z",
     "shell.execute_reply": "2021-03-09T10:10:31.560176Z"
    },
    "tags": []
   },
   "outputs": [],
   "source": [
    "X = pd.DataFrame(boston.data, columns=boston.feature_names)\n",
    "y = boston.target\n",
    "\n",
    "X_train, X_test, y_train, y_test = model_selection.train_test_split(X, y, train_size=0.7)"
   ]
  },
  {
   "cell_type": "markdown",
   "metadata": {},
   "source": [
    "## Fitting models - the standard way\n",
    "### Full model without an intercept\n"
   ]
  },
  {
   "cell_type": "code",
   "execution_count": 4,
   "metadata": {
    "execution": {
     "iopub.execute_input": "2021-03-09T10:10:31.563631Z",
     "iopub.status.busy": "2021-03-09T10:10:31.563207Z",
     "iopub.status.idle": "2021-03-09T10:10:31.578139Z",
     "shell.execute_reply": "2021-03-09T10:10:31.578483Z"
    },
    "tags": []
   },
   "outputs": [
    {
     "name": "stdout",
     "output_type": "stream",
     "text": [
      "                                 OLS Regression Results                                \n",
      "=======================================================================================\n",
      "Dep. Variable:                      y   R-squared (uncentered):                   0.956\n",
      "Model:                            OLS   Adj. R-squared (uncentered):              0.955\n",
      "Method:                 Least Squares   F-statistic:                              576.5\n",
      "Date:                Tue, 09 Mar 2021   Prob (F-statistic):                   4.44e-223\n",
      "Time:                        11:10:31   Log-Likelihood:                         -1078.6\n",
      "No. Observations:                 354   AIC:                                      2183.\n",
      "Df Residuals:                     341   BIC:                                      2234.\n",
      "Df Model:                          13                                                  \n",
      "Covariance Type:            nonrobust                                                  \n",
      "==============================================================================\n",
      "                 coef    std err          t      P>|t|      [0.025      0.975]\n",
      "------------------------------------------------------------------------------\n",
      "CRIM          -0.0986      0.043     -2.304      0.022      -0.183      -0.014\n",
      "ZN             0.0516      0.018      2.802      0.005       0.015       0.088\n",
      "INDUS          0.0337      0.082      0.411      0.681      -0.128       0.195\n",
      "CHAS           2.2670      1.102      2.057      0.040       0.099       4.435\n",
      "NOX           -0.9436      4.265     -0.221      0.825      -9.333       7.446\n",
      "RM             5.6282      0.380     14.827      0.000       4.882       6.375\n",
      "AGE            0.0102      0.017      0.609      0.543      -0.023       0.043\n",
      "DIS           -0.8659      0.241     -3.600      0.000      -1.339      -0.393\n",
      "RAD            0.2492      0.083      2.993      0.003       0.085       0.413\n",
      "TAX           -0.0128      0.005     -2.530      0.012      -0.023      -0.003\n",
      "PTRATIO       -0.4113      0.135     -3.057      0.002      -0.676      -0.147\n",
      "B              0.0182      0.004      5.027      0.000       0.011       0.025\n",
      "LSTAT         -0.5186      0.062     -8.384      0.000      -0.640      -0.397\n",
      "==============================================================================\n",
      "Omnibus:                      133.616   Durbin-Watson:                   2.073\n",
      "Prob(Omnibus):                  0.000   Jarque-Bera (JB):              771.739\n",
      "Skew:                           1.471   Prob(JB):                    2.62e-168\n",
      "Kurtosis:                       9.608   Cond. No.                     8.73e+03\n",
      "==============================================================================\n",
      "\n",
      "Notes:\n",
      "[1] R² is computed without centering (uncentered) since the model does not contain a constant.\n",
      "[2] Standard Errors assume that the covariance matrix of the errors is correctly specified.\n",
      "[3] The condition number is large, 8.73e+03. This might indicate that there are\n",
      "strong multicollinearity or other numerical problems.\n"
     ]
    }
   ],
   "source": [
    "model = sm.OLS(y_train, X_train)\n",
    "result = model.fit()\n",
    "print(result.summary())"
   ]
  },
  {
   "cell_type": "code",
   "execution_count": 5,
   "metadata": {
    "execution": {
     "iopub.execute_input": "2021-03-09T10:10:31.584104Z",
     "iopub.status.busy": "2021-03-09T10:10:31.583320Z",
     "iopub.status.idle": "2021-03-09T10:10:31.713955Z",
     "shell.execute_reply": "2021-03-09T10:10:31.714301Z"
    },
    "tags": []
   },
   "outputs": [
    {
     "data": {
      "image/png": "[encoded data removed]",
      "text/plain": [
       "<Figure size 432x288 with 1 Axes>"
      ]
     },
     "metadata": {
      "needs_background": "light"
     },
     "output_type": "display_data"
    }
   ],
   "source": [
    "fig = sm.qqplot(result.resid, fit=True, line=\"s\")\n",
    "plt.show()"
   ]
  },
  {
   "cell_type": "code",
   "execution_count": 6,
   "metadata": {
    "execution": {
     "iopub.execute_input": "2021-03-09T10:10:31.718149Z",
     "iopub.status.busy": "2021-03-09T10:10:31.717709Z",
     "iopub.status.idle": "2021-03-09T10:10:31.722553Z",
     "shell.execute_reply": "2021-03-09T10:10:31.722036Z"
    },
    "tags": []
   },
   "outputs": [
    {
     "data": {
      "text/plain": [
       "CRIM        True\n",
       "ZN          True\n",
       "INDUS      False\n",
       "CHAS        True\n",
       "NOX        False\n",
       "RM          True\n",
       "AGE        False\n",
       "DIS         True\n",
       "RAD         True\n",
       "TAX         True\n",
       "PTRATIO     True\n",
       "B           True\n",
       "LSTAT       True\n",
       "dtype: bool"
      ]
     },
     "execution_count": 1,
     "metadata": {},
     "output_type": "execute_result"
    }
   ],
   "source": [
    "result.pvalues < 0.05"
   ]
  },
  {
   "cell_type": "code",
   "execution_count": 7,
   "metadata": {
    "execution": {
     "iopub.execute_input": "2021-03-09T10:10:31.726943Z",
     "iopub.status.busy": "2021-03-09T10:10:31.726307Z",
     "iopub.status.idle": "2021-03-09T10:10:31.729924Z",
     "shell.execute_reply": "2021-03-09T10:10:31.730268Z"
    },
    "tags": []
   },
   "outputs": [
    {
     "name": "stdout",
     "output_type": "stream",
     "text": [
      "r2 score: 0.7703149625381717\n",
      "mse: 21.349246500709384\n",
      "rmse: 4.620524483292929\n",
      "mae: 3.3364825756054635\n"
     ]
    }
   ],
   "source": [
    "predicted = result.predict(X_test)\n",
    "\n",
    "print(\"r2 score: {}\".format(metrics.r2_score(y_test, predicted)))\n",
    "print(\"mse: {}\".format(metrics.mean_squared_error(y_test, predicted)))\n",
    "print(\"rmse: {}\".format(np.sqrt(metrics.mean_squared_error(y_test, predicted))))\n",
    "print(\"mae: {}\".format(metrics.mean_absolute_error(y_test, predicted)))"
   ]
  },
  {
   "cell_type": "markdown",
   "metadata": {},
   "source": [
    "### Full model with an intercept\n"
   ]
  },
  {
   "cell_type": "code",
   "execution_count": 8,
   "metadata": {
    "execution": {
     "iopub.execute_input": "2021-03-09T10:10:31.733487Z",
     "iopub.status.busy": "2021-03-09T10:10:31.733041Z",
     "iopub.status.idle": "2021-03-09T10:10:31.750386Z",
     "shell.execute_reply": "2021-03-09T10:10:31.750012Z"
    },
    "tags": []
   },
   "outputs": [
    {
     "name": "stdout",
     "output_type": "stream",
     "text": [
      "                            OLS Regression Results                            \n",
      "==============================================================================\n",
      "Dep. Variable:                      y   R-squared:                       0.719\n",
      "Model:                            OLS   Adj. R-squared:                  0.709\n",
      "Method:                 Least Squares   F-statistic:                     67.00\n",
      "Date:                Tue, 09 Mar 2021   Prob (F-statistic):           1.94e-85\n",
      "Time:                        11:10:31   Log-Likelihood:                -1054.5\n",
      "No. Observations:                 354   AIC:                             2137.\n",
      "Df Residuals:                     340   BIC:                             2191.\n",
      "Df Model:                          13                                         \n",
      "Covariance Type:            nonrobust                                         \n",
      "==============================================================================\n",
      "                 coef    std err          t      P>|t|      [0.025      0.975]\n",
      "------------------------------------------------------------------------------\n",
      "const         45.3151      6.434      7.043      0.000      32.660      57.970\n",
      "CRIM          -0.1161      0.040     -2.894      0.004      -0.195      -0.037\n",
      "ZN             0.0573      0.017      3.318      0.001       0.023       0.091\n",
      "INDUS          0.0397      0.077      0.516      0.606      -0.111       0.191\n",
      "CHAS           2.0914      1.031      2.028      0.043       0.063       4.120\n",
      "NOX          -18.5301      4.707     -3.936      0.000     -27.789      -9.271\n",
      "RM             2.9670      0.519      5.722      0.000       1.947       3.987\n",
      "AGE            0.0192      0.016      1.221      0.223      -0.012       0.050\n",
      "DIS           -1.5375      0.244     -6.291      0.000      -2.018      -1.057\n",
      "RAD            0.4024      0.081      4.977      0.000       0.243       0.561\n",
      "TAX           -0.0158      0.005     -3.319      0.001      -0.025      -0.006\n",
      "PTRATIO       -1.1205      0.161     -6.951      0.000      -1.438      -0.803\n",
      "B              0.0112      0.004      3.164      0.002       0.004       0.018\n",
      "LSTAT         -0.6361      0.060    -10.562      0.000      -0.755      -0.518\n",
      "==============================================================================\n",
      "Omnibus:                      116.719   Durbin-Watson:                   2.013\n",
      "Prob(Omnibus):                  0.000   Jarque-Bera (JB):              433.396\n",
      "Skew:                           1.419   Prob(JB):                     7.75e-95\n",
      "Kurtosis:                       7.618   Cond. No.                     1.56e+04\n",
      "==============================================================================\n",
      "\n",
      "Notes:\n",
      "[1] Standard Errors assume that the covariance matrix of the errors is correctly specified.\n",
      "[2] The condition number is large, 1.56e+04. This might indicate that there are\n",
      "strong multicollinearity or other numerical problems.\n"
     ]
    }
   ],
   "source": [
    "model = sm.OLS(y_train, sm.add_constant(X_train))\n",
    "result = model.fit()\n",
    "print(result.summary())"
   ]
  },
  {
   "cell_type": "code",
   "execution_count": 9,
   "metadata": {
    "execution": {
     "iopub.execute_input": "2021-03-09T10:10:31.787078Z",
     "iopub.status.busy": "2021-03-09T10:10:31.769263Z",
     "iopub.status.idle": "2021-03-09T10:10:31.878767Z",
     "shell.execute_reply": "2021-03-09T10:10:31.878316Z"
    },
    "tags": []
   },
   "outputs": [
    {
     "data": {
      "image/png": "[encoded data removed]",
      "text/plain": [
       "<Figure size 432x288 with 1 Axes>"
      ]
     },
     "metadata": {
      "needs_background": "light"
     },
     "output_type": "display_data"
    }
   ],
   "source": [
    "fig = sm.qqplot(result.resid, fit=True, line=\"s\")\n",
    "plt.show()"
   ]
  },
  {
   "cell_type": "code",
   "execution_count": 10,
   "metadata": {
    "execution": {
     "iopub.execute_input": "2021-03-09T10:10:31.884843Z",
     "iopub.status.busy": "2021-03-09T10:10:31.882045Z",
     "iopub.status.idle": "2021-03-09T10:10:31.888861Z",
     "shell.execute_reply": "2021-03-09T10:10:31.889237Z"
    },
    "tags": []
   },
   "outputs": [
    {
     "name": "stdout",
     "output_type": "stream",
     "text": [
      "r2 score: 0.7656376748264769\n",
      "mse: 21.78400084698805\n",
      "rmse: 4.6673333764568445\n",
      "mae: 3.4715502697310314\n"
     ]
    }
   ],
   "source": [
    "predicted = result.predict(sm.add_constant(X_test))\n",
    "\n",
    "print(\"r2 score: {}\".format(metrics.r2_score(y_test, predicted)))\n",
    "print(\"mse: {}\".format(metrics.mean_squared_error(y_test, predicted)))\n",
    "print(\"rmse: {}\".format(np.sqrt(metrics.mean_squared_error(y_test, predicted))))\n",
    "print(\"mae: {}\".format(metrics.mean_absolute_error(y_test, predicted)))"
   ]
  },
  {
   "cell_type": "markdown",
   "metadata": {},
   "source": [
    "## Fitting models using R-style formulas\n",
    "We can also fit a model with the R syntax `y ~ x_1 + x_2` and build some complexer models."
   ]
  },
  {
   "cell_type": "code",
   "execution_count": 11,
   "metadata": {
    "execution": {
     "iopub.execute_input": "2021-03-09T10:10:31.892751Z",
     "iopub.status.busy": "2021-03-09T10:10:31.891705Z",
     "iopub.status.idle": "2021-03-09T10:10:31.909683Z",
     "shell.execute_reply": "2021-03-09T10:10:31.910022Z"
    },
    "tags": []
   },
   "outputs": [
    {
     "data": {
      "text/html": [
       "<div>\n",
       "<style scoped>\n",
       "    .dataframe tbody tr th:only-of-type {\n",
       "        vertical-align: middle;\n",
       "    }\n",
       "\n",
       "    .dataframe tbody tr th {\n",
       "        vertical-align: top;\n",
       "    }\n",
       "\n",
       "    .dataframe thead th {\n",
       "        text-align: right;\n",
       "    }\n",
       "</style>\n",
       "<table border=\"1\" class=\"dataframe\">\n",
       "  <thead>\n",
       "    <tr style=\"text-align: right;\">\n",
       "      <th></th>\n",
       "      <th>CRIM</th>\n",
       "      <th>ZN</th>\n",
       "      <th>INDUS</th>\n",
       "      <th>CHAS</th>\n",
       "      <th>NOX</th>\n",
       "      <th>RM</th>\n",
       "      <th>AGE</th>\n",
       "      <th>DIS</th>\n",
       "      <th>RAD</th>\n",
       "      <th>TAX</th>\n",
       "      <th>PTRATIO</th>\n",
       "      <th>B</th>\n",
       "      <th>LSTAT</th>\n",
       "      <th>MEDV</th>\n",
       "    </tr>\n",
       "  </thead>\n",
       "  <tbody>\n",
       "    <tr>\n",
       "      <th>211</th>\n",
       "      <td>0.37578</td>\n",
       "      <td>0.0</td>\n",
       "      <td>10.59</td>\n",
       "      <td>1.0</td>\n",
       "      <td>0.489</td>\n",
       "      <td>5.404</td>\n",
       "      <td>88.6</td>\n",
       "      <td>3.6650</td>\n",
       "      <td>4.0</td>\n",
       "      <td>277.0</td>\n",
       "      <td>18.6</td>\n",
       "      <td>395.24</td>\n",
       "      <td>23.98</td>\n",
       "      <td>19.3</td>\n",
       "    </tr>\n",
       "    <tr>\n",
       "      <th>318</th>\n",
       "      <td>0.40202</td>\n",
       "      <td>0.0</td>\n",
       "      <td>9.90</td>\n",
       "      <td>0.0</td>\n",
       "      <td>0.544</td>\n",
       "      <td>6.382</td>\n",
       "      <td>67.2</td>\n",
       "      <td>3.5325</td>\n",
       "      <td>4.0</td>\n",
       "      <td>304.0</td>\n",
       "      <td>18.4</td>\n",
       "      <td>395.21</td>\n",
       "      <td>10.36</td>\n",
       "      <td>23.1</td>\n",
       "    </tr>\n",
       "    <tr>\n",
       "      <th>75</th>\n",
       "      <td>0.09512</td>\n",
       "      <td>0.0</td>\n",
       "      <td>12.83</td>\n",
       "      <td>0.0</td>\n",
       "      <td>0.437</td>\n",
       "      <td>6.286</td>\n",
       "      <td>45.0</td>\n",
       "      <td>4.5026</td>\n",
       "      <td>5.0</td>\n",
       "      <td>398.0</td>\n",
       "      <td>18.7</td>\n",
       "      <td>383.23</td>\n",
       "      <td>8.94</td>\n",
       "      <td>21.4</td>\n",
       "    </tr>\n",
       "    <tr>\n",
       "      <th>235</th>\n",
       "      <td>0.33045</td>\n",
       "      <td>0.0</td>\n",
       "      <td>6.20</td>\n",
       "      <td>0.0</td>\n",
       "      <td>0.507</td>\n",
       "      <td>6.086</td>\n",
       "      <td>61.5</td>\n",
       "      <td>3.6519</td>\n",
       "      <td>8.0</td>\n",
       "      <td>307.0</td>\n",
       "      <td>17.4</td>\n",
       "      <td>376.75</td>\n",
       "      <td>10.88</td>\n",
       "      <td>24.0</td>\n",
       "    </tr>\n",
       "    <tr>\n",
       "      <th>200</th>\n",
       "      <td>0.01778</td>\n",
       "      <td>95.0</td>\n",
       "      <td>1.47</td>\n",
       "      <td>0.0</td>\n",
       "      <td>0.403</td>\n",
       "      <td>7.135</td>\n",
       "      <td>13.9</td>\n",
       "      <td>7.6534</td>\n",
       "      <td>3.0</td>\n",
       "      <td>402.0</td>\n",
       "      <td>17.0</td>\n",
       "      <td>384.30</td>\n",
       "      <td>4.45</td>\n",
       "      <td>32.9</td>\n",
       "    </tr>\n",
       "  </tbody>\n",
       "</table>\n",
       "</div>"
      ],
      "text/plain": [
       "        CRIM    ZN  INDUS  CHAS    NOX     RM   AGE     DIS  RAD    TAX  \\\n",
       "211  0.37578   0.0  10.59   1.0  0.489  5.404  88.6  3.6650  4.0  277.0   \n",
       "318  0.40202   0.0   9.90   0.0  0.544  6.382  67.2  3.5325  4.0  304.0   \n",
       "75   0.09512   0.0  12.83   0.0  0.437  6.286  45.0  4.5026  5.0  398.0   \n",
       "235  0.33045   0.0   6.20   0.0  0.507  6.086  61.5  3.6519  8.0  307.0   \n",
       "200  0.01778  95.0   1.47   0.0  0.403  7.135  13.9  7.6534  3.0  402.0   \n",
       "\n",
       "     PTRATIO       B  LSTAT  MEDV  \n",
       "211     18.6  395.24  23.98  19.3  \n",
       "318     18.4  395.21  10.36  23.1  \n",
       "75      18.7  383.23   8.94  21.4  \n",
       "235     17.4  376.75  10.88  24.0  \n",
       "200     17.0  384.30   4.45  32.9  "
      ]
     },
     "execution_count": 1,
     "metadata": {},
     "output_type": "execute_result"
    }
   ],
   "source": [
    "dat = X_train.copy()\n",
    "dat['MEDV'] = y_train\n",
    "dat.head()"
   ]
  },
  {
   "cell_type": "markdown",
   "metadata": {},
   "source": [
    "### Full model with an intercept"
   ]
  },
  {
   "cell_type": "code",
   "execution_count": 12,
   "metadata": {
    "execution": {
     "iopub.execute_input": "2021-03-09T10:10:31.922631Z",
     "iopub.status.busy": "2021-03-09T10:10:31.922040Z",
     "iopub.status.idle": "2021-03-09T10:10:31.940040Z",
     "shell.execute_reply": "2021-03-09T10:10:31.940485Z"
    },
    "tags": []
   },
   "outputs": [
    {
     "name": "stdout",
     "output_type": "stream",
     "text": [
      "                            OLS Regression Results                            \n",
      "==============================================================================\n",
      "Dep. Variable:                   MEDV   R-squared:                       0.627\n",
      "Model:                            OLS   Adj. R-squared:                  0.614\n",
      "Method:                 Least Squares   F-statistic:                     47.79\n",
      "Date:                Tue, 09 Mar 2021   Prob (F-statistic):           1.16e-65\n",
      "Time:                        11:10:31   Log-Likelihood:                -1104.8\n",
      "No. Observations:                 354   AIC:                             2236.\n",
      "Df Residuals:                     341   BIC:                             2286.\n",
      "Df Model:                          12                                         \n",
      "Covariance Type:            nonrobust                                         \n",
      "==============================================================================\n",
      "                 coef    std err          t      P>|t|      [0.025      0.975]\n",
      "------------------------------------------------------------------------------\n",
      "Intercept     26.4838      7.114      3.723      0.000      12.491      40.476\n",
      "CRIM          -0.1681      0.046     -3.668      0.000      -0.258      -0.078\n",
      "ZN             0.0533      0.020      2.686      0.008       0.014       0.092\n",
      "INDUS         -0.0152      0.088     -0.172      0.864      -0.189       0.158\n",
      "CHAS           2.5622      1.186      2.161      0.031       0.230       4.894\n",
      "NOX          -22.7196      5.398     -4.209      0.000     -33.336     -12.103\n",
      "RM             5.7478      0.514     11.181      0.000       4.737       6.759\n",
      "AGE           -0.0353      0.017     -2.066      0.040      -0.069      -0.002\n",
      "DIS           -1.6616      0.281     -5.915      0.000      -2.214      -1.109\n",
      "RAD            0.3567      0.093      3.839      0.000       0.174       0.539\n",
      "TAX           -0.0148      0.005     -2.716      0.007      -0.026      -0.004\n",
      "PTRATIO       -1.1135      0.186     -6.002      0.000      -1.478      -0.749\n",
      "B              0.0131      0.004      3.233      0.001       0.005       0.021\n",
      "==============================================================================\n",
      "Omnibus:                      192.617   Durbin-Watson:                   1.969\n",
      "Prob(Omnibus):                  0.000   Jarque-Bera (JB):             1608.356\n",
      "Skew:                           2.142   Prob(JB):                         0.00\n",
      "Kurtosis:                      12.523   Cond. No.                     1.53e+04\n",
      "==============================================================================\n",
      "\n",
      "Notes:\n",
      "[1] Standard Errors assume that the covariance matrix of the errors is correctly specified.\n",
      "[2] The condition number is large, 1.53e+04. This might indicate that there are\n",
      "strong multicollinearity or other numerical problems.\n"
     ]
    }
   ],
   "source": [
    "result = smf.ols('MEDV ~ CRIM + ZN + INDUS + CHAS + NOX + RM + AGE + DIS + RAD + TAX + PTRATIO + B', data=dat).fit()\n",
    "print(result.summary())"
   ]
  },
  {
   "cell_type": "code",
   "execution_count": 13,
   "metadata": {
    "execution": {
     "iopub.execute_input": "2021-03-09T10:10:31.974025Z",
     "iopub.status.busy": "2021-03-09T10:10:31.944067Z",
     "iopub.status.idle": "2021-03-09T10:10:32.054343Z",
     "shell.execute_reply": "2021-03-09T10:10:32.053909Z"
    },
    "tags": []
   },
   "outputs": [
    {
     "data": {
      "image/png": "[encoded data removed]",
      "text/plain": [
       "<Figure size 432x288 with 1 Axes>"
      ]
     },
     "metadata": {
      "needs_background": "light"
     },
     "output_type": "display_data"
    }
   ],
   "source": [
    "fig = sm.qqplot(result.resid, fit=True, line=\"s\")\n",
    "\n",
    "plt.show()"
   ]
  },
  {
   "cell_type": "code",
   "execution_count": 14,
   "metadata": {
    "execution": {
     "iopub.execute_input": "2021-03-09T10:10:32.114918Z",
     "iopub.status.busy": "2021-03-09T10:10:32.113645Z",
     "iopub.status.idle": "2021-03-09T10:10:32.117660Z",
     "shell.execute_reply": "2021-03-09T10:10:32.118060Z"
    },
    "tags": []
   },
   "outputs": [
    {
     "name": "stdout",
     "output_type": "stream",
     "text": [
      "r2 score: 0.7897495353844631\n",
      "mse: 19.542801070408228\n",
      "rmse: 4.420724043684273\n",
      "mae: 3.3748884978038487\n"
     ]
    }
   ],
   "source": [
    "predicted = result.predict(X_test)\n",
    "\n",
    "print(\"r2 score: {}\".format(metrics.r2_score(y_test, predicted)))\n",
    "print(\"mse: {}\".format(metrics.mean_squared_error(y_test, predicted)))\n",
    "print(\"rmse: {}\".format(np.sqrt(metrics.mean_squared_error(y_test, predicted))))\n",
    "print(\"mae: {}\".format(metrics.mean_absolute_error(y_test, predicted)))"
   ]
  },
  {
   "cell_type": "markdown",
   "metadata": {},
   "source": [
    "### Model with a polynomial and the target variable log transformed"
   ]
  },
  {
   "cell_type": "code",
   "execution_count": 15,
   "metadata": {
    "execution": {
     "iopub.execute_input": "2021-03-09T10:10:32.136869Z",
     "iopub.status.busy": "2021-03-09T10:10:32.136402Z",
     "iopub.status.idle": "2021-03-09T10:10:32.147536Z",
     "shell.execute_reply": "2021-03-09T10:10:32.147965Z"
    },
    "tags": []
   },
   "outputs": [
    {
     "name": "stdout",
     "output_type": "stream",
     "text": [
      "                            OLS Regression Results                            \n",
      "==============================================================================\n",
      "Dep. Variable:           np.log(MEDV)   R-squared:                       0.629\n",
      "Model:                            OLS   Adj. R-squared:                  0.619\n",
      "Method:                 Least Squares   F-statistic:                     58.26\n",
      "Date:                Tue, 09 Mar 2021   Prob (F-statistic):           7.00e-68\n",
      "Time:                        11:10:32   Log-Likelihood:                 7.9891\n",
      "No. Observations:                 354   AIC:                             6.022\n",
      "Df Residuals:                     343   BIC:                             48.58\n",
      "Df Model:                          10                                         \n",
      "Covariance Type:            nonrobust                                         \n",
      "===============================================================================\n",
      "                  coef    std err          t      P>|t|      [0.025      0.975]\n",
      "-------------------------------------------------------------------------------\n",
      "Intercept       3.3697      0.306     11.011      0.000       2.768       3.972\n",
      "CRIM           -0.0106      0.002     -5.385      0.000      -0.014      -0.007\n",
      "CHAS            0.1061      0.051      2.091      0.037       0.006       0.206\n",
      "NOX            -1.0134      0.226     -4.483      0.000      -1.458      -0.569\n",
      "RM              0.2092      0.021      9.758      0.000       0.167       0.251\n",
      "DIS            -0.0452      0.010     -4.442      0.000      -0.065      -0.025\n",
      "RAD             0.0135      0.004      3.523      0.000       0.006       0.021\n",
      "TAX            -0.0006      0.000     -2.890      0.004      -0.001      -0.000\n",
      "PTRATIO        -0.0473      0.008     -6.151      0.000      -0.062      -0.032\n",
      "B               0.0006      0.000      3.263      0.001       0.000       0.001\n",
      "pow(AGE, 2) -1.615e-05   6.26e-06     -2.579      0.010   -2.85e-05   -3.84e-06\n",
      "==============================================================================\n",
      "Omnibus:                       79.890   Durbin-Watson:                   2.038\n",
      "Prob(Omnibus):                  0.000   Jarque-Bera (JB):              576.955\n",
      "Skew:                           0.715   Prob(JB):                    5.20e-126\n",
      "Kurtosis:                       9.089   Cond. No.                     1.77e+05\n",
      "==============================================================================\n",
      "\n",
      "Notes:\n",
      "[1] Standard Errors assume that the covariance matrix of the errors is correctly specified.\n",
      "[2] The condition number is large, 1.77e+05. This might indicate that there are\n",
      "strong multicollinearity or other numerical problems.\n"
     ]
    }
   ],
   "source": [
    "result = smf.ols('np.log(MEDV) ~ CRIM + CHAS + NOX + RM + DIS + RAD + TAX + PTRATIO + B + pow(AGE, 2)', data=dat).fit()\n",
    "print(result.summary())"
   ]
  },
  {
   "cell_type": "markdown",
   "metadata": {},
   "source": [
    "Let's plot the QQ-Plot for the residuals"
   ]
  },
  {
   "cell_type": "code",
   "execution_count": 16,
   "metadata": {
    "execution": {
     "iopub.execute_input": "2021-03-09T10:10:32.152527Z",
     "iopub.status.busy": "2021-03-09T10:10:32.152107Z",
     "iopub.status.idle": "2021-03-09T10:10:32.154454Z",
     "shell.execute_reply": "2021-03-09T10:10:32.154787Z"
    },
    "tags": []
   },
   "outputs": [
    {
     "data": {
      "text/plain": [
       "Intercept      True\n",
       "CRIM           True\n",
       "CHAS           True\n",
       "NOX            True\n",
       "RM             True\n",
       "DIS            True\n",
       "RAD            True\n",
       "TAX            True\n",
       "PTRATIO        True\n",
       "B              True\n",
       "pow(AGE, 2)    True\n",
       "dtype: bool"
      ]
     },
     "execution_count": 1,
     "metadata": {},
     "output_type": "execute_result"
    }
   ],
   "source": [
    "result.pvalues < 0.05"
   ]
  },
  {
   "cell_type": "code",
   "execution_count": 17,
   "metadata": {
    "execution": {
     "iopub.execute_input": "2021-03-09T10:10:32.168987Z",
     "iopub.status.busy": "2021-03-09T10:10:32.168475Z",
     "iopub.status.idle": "2021-03-09T10:10:32.172351Z",
     "shell.execute_reply": "2021-03-09T10:10:32.172760Z"
    },
    "tags": []
   },
   "outputs": [
    {
     "name": "stdout",
     "output_type": "stream",
     "text": [
      "r2 score: 0.8350907526996756\n",
      "mse: 15.32833052499633\n",
      "rmse: 3.9151411883859732\n",
      "mae: 2.7878783583226427\n"
     ]
    }
   ],
   "source": [
    "predicted = np.exp(result.predict(X_test))\n",
    "\n",
    "print(\"r2 score: {}\".format(metrics.r2_score(y_test, predicted)))\n",
    "print(\"mse: {}\".format(metrics.mean_squared_error(y_test, predicted)))\n",
    "print(\"rmse: {}\".format(np.sqrt(metrics.mean_squared_error(y_test, predicted))))\n",
    "print(\"mae: {}\".format(metrics.mean_absolute_error(y_test, predicted)))"
   ]
  },
  {
   "cell_type": "code",
   "execution_count": 18,
   "metadata": {
    "execution": {
     "iopub.execute_input": "2021-03-09T10:10:32.176767Z",
     "iopub.status.busy": "2021-03-09T10:10:32.176348Z",
     "iopub.status.idle": "2021-03-09T10:10:32.289719Z",
     "shell.execute_reply": "2021-03-09T10:10:32.290119Z"
    },
    "tags": []
   },
   "outputs": [
    {
     "data": {
      "image/png": "[encoded data removed]",
      "text/plain": [
       "<Figure size 432x288 with 1 Axes>"
      ]
     },
     "metadata": {
      "needs_background": "light"
     },
     "output_type": "display_data"
    }
   ],
   "source": [
    "fig = sm.qqplot(result.resid, fit=True, line=\"q\")\n",
    "plt.show()"
   ]
  }
 ],
 "metadata": {
  "kernelspec": {
   "display_name": "Python 3",
   "language": "python",
   "name": "python3"
  },
  "language_info": {
   "codemirror_mode": {
    "name": "ipython",
    "version": 3
   },
   "file_extension": ".py",
   "mimetype": "text/x-python",
   "name": "python",
   "nbconvert_exporter": "python",
   "pygments_lexer": "ipython3",
   "version": "3.8.5"
  }
 },
 "nbformat": 4,
 "nbformat_minor": 4
}
