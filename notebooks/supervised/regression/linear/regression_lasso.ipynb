{
 "cells": [
  {
   "cell_type": "markdown",
   "id": "lasting-joyce",
   "metadata": {},
   "source": [
    "## Lasso Regression (regularized linear regression model)"
   ]
  },
  {
   "cell_type": "code",
   "execution_count": 1,
   "id": "subsequent-telephone",
   "metadata": {
    "execution": {
     "iopub.execute_input": "2021-03-09T16:23:20.733977Z",
     "iopub.status.busy": "2021-03-09T16:23:20.733410Z",
     "iopub.status.idle": "2021-03-09T16:23:21.721162Z",
     "shell.execute_reply": "2021-03-09T16:23:21.720532Z"
    },
    "tags": []
   },
   "outputs": [],
   "source": [
    "%matplotlib inline\n",
    "import matplotlib.pyplot as plt\n",
    "import seaborn as sns\n",
    "import pandas as pd\n",
    "import numpy as np\n",
    "\n",
    "from sklearn import linear_model, datasets, metrics, model_selection, preprocessing, pipeline"
   ]
  },
  {
   "cell_type": "markdown",
   "id": "intimate-tracker",
   "metadata": {},
   "source": [
    "Load the data set"
   ]
  },
  {
   "cell_type": "code",
   "execution_count": 2,
   "id": "animated-carrier",
   "metadata": {
    "execution": {
     "iopub.execute_input": "2021-03-09T16:23:21.724141Z",
     "iopub.status.busy": "2021-03-09T16:23:21.723592Z",
     "iopub.status.idle": "2021-03-09T16:23:21.729374Z",
     "shell.execute_reply": "2021-03-09T16:23:21.729707Z"
    },
    "tags": []
   },
   "outputs": [
    {
     "name": "stdout",
     "output_type": "stream",
     "text": [
      ".. _boston_dataset:\n",
      "\n",
      "Boston house prices dataset\n",
      "---------------------------\n",
      "\n",
      "**Data Set Characteristics:**  \n",
      "\n",
      "    :Number of Instances: 506 \n",
      "\n",
      "    :Number of Attributes: 13 numeric/categorical predictive. Median Value (attribute 14) is usually the target.\n",
      "\n",
      "    :Attribute Information (in order):\n",
      "        - CRIM     per capita crime rate by town\n",
      "        - ZN       proportion of residential land zoned for lots over 25,000 sq.ft.\n",
      "        - INDUS    proportion of non-retail business acres per town\n",
      "        - CHAS     Charles River dummy variable (= 1 if tract bounds river; 0 otherwise)\n",
      "        - NOX      nitric oxides concentration (parts per 10 million)\n",
      "        - RM       average number of rooms per dwelling\n",
      "        - AGE      proportion of owner-occupied units built prior to 1940\n",
      "        - DIS      weighted distances to five Boston employment centres\n",
      "        - RAD      index of accessibility to radial highways\n",
      "        - TAX      full-value property-tax rate per $10,000\n",
      "        - PTRATIO  pupil-teacher ratio by town\n",
      "        - B        1000(Bk - 0.63)^2 where Bk is the proportion of blacks by town\n",
      "        - LSTAT    % lower status of the population\n",
      "        - MEDV     Median value of owner-occupied homes in $1000's\n",
      "\n",
      "    :Missing Attribute Values: None\n",
      "\n",
      "    :Creator: Harrison, D. and Rubinfeld, D.L.\n",
      "\n",
      "This is a copy of UCI ML housing dataset.\n",
      "https://archive.ics.uci.edu/ml/machine-learning-databases/housing/\n",
      "\n",
      "\n",
      "This dataset was taken from the StatLib library which is maintained at Carnegie Mellon University.\n",
      "\n",
      "The Boston house-price data of Harrison, D. and Rubinfeld, D.L. 'Hedonic\n",
      "prices and the demand for clean air', J. Environ. Economics & Management,\n",
      "vol.5, 81-102, 1978.   Used in Belsley, Kuh & Welsch, 'Regression diagnostics\n",
      "...', Wiley, 1980.   N.B. Various transformations are used in the table on\n",
      "pages 244-261 of the latter.\n",
      "\n",
      "The Boston house-price data has been used in many machine learning papers that address regression\n",
      "problems.   \n",
      "     \n",
      ".. topic:: References\n",
      "\n",
      "   - Belsley, Kuh & Welsch, 'Regression diagnostics: Identifying Influential Data and Sources of Collinearity', Wiley, 1980. 244-261.\n",
      "   - Quinlan,R. (1993). Combining Instance-Based and Model-Based Learning. In Proceedings on the Tenth International Conference of Machine Learning, 236-243, University of Massachusetts, Amherst. Morgan Kaufmann.\n",
      "\n"
     ]
    }
   ],
   "source": [
    "boston = datasets.load_boston()\n",
    "print(boston.DESCR)"
   ]
  },
  {
   "cell_type": "code",
   "execution_count": 3,
   "id": "quantitative-culture",
   "metadata": {
    "execution": {
     "iopub.execute_input": "2021-03-09T16:23:21.732819Z",
     "iopub.status.busy": "2021-03-09T16:23:21.732399Z",
     "iopub.status.idle": "2021-03-09T16:23:21.734602Z",
     "shell.execute_reply": "2021-03-09T16:23:21.734014Z"
    },
    "tags": []
   },
   "outputs": [],
   "source": [
    "X = pd.DataFrame(boston.data, columns=boston.feature_names)\n",
    "y = boston.target"
   ]
  },
  {
   "cell_type": "code",
   "execution_count": 4,
   "id": "casual-ethernet",
   "metadata": {
    "execution": {
     "iopub.execute_input": "2021-03-09T16:23:21.739670Z",
     "iopub.status.busy": "2021-03-09T16:23:21.739225Z",
     "iopub.status.idle": "2021-03-09T16:23:21.742345Z",
     "shell.execute_reply": "2021-03-09T16:23:21.741807Z"
    },
    "tags": []
   },
   "outputs": [
    {
     "name": "stdout",
     "output_type": "stream",
     "text": [
      "train samples: 354\n",
      "test samples 152\n"
     ]
    }
   ],
   "source": [
    "X_train, X_test, y_train, y_test = model_selection.train_test_split(X, y, train_size=0.7)\n",
    "\n",
    "print('train samples:', len(X_train))\n",
    "print('test samples', len(X_test))"
   ]
  },
  {
   "cell_type": "code",
   "execution_count": 5,
   "id": "interested-convertible",
   "metadata": {
    "execution": {
     "iopub.execute_input": "2021-03-09T16:23:21.747983Z",
     "iopub.status.busy": "2021-03-09T16:23:21.746460Z",
     "iopub.status.idle": "2021-03-09T16:23:21.752986Z",
     "shell.execute_reply": "2021-03-09T16:23:21.752622Z"
    },
    "tags": []
   },
   "outputs": [
    {
     "data": {
      "text/plain": [
       "Lasso(alpha=0.1)"
      ]
     },
     "execution_count": 1,
     "metadata": {},
     "output_type": "execute_result"
    }
   ],
   "source": [
    "model = linear_model.Lasso(alpha=.1)\n",
    "model.fit(X_train, y_train)"
   ]
  },
  {
   "cell_type": "code",
   "execution_count": 6,
   "id": "nervous-baseball",
   "metadata": {
    "execution": {
     "iopub.execute_input": "2021-03-09T16:23:21.770480Z",
     "iopub.status.busy": "2021-03-09T16:23:21.766306Z",
     "iopub.status.idle": "2021-03-09T16:23:21.889768Z",
     "shell.execute_reply": "2021-03-09T16:23:21.889334Z"
    },
    "tags": []
   },
   "outputs": [
    {
     "data": {
      "image/png": "[encoded data removed]",
      "text/plain": [
       "<Figure size 432x288 with 1 Axes>"
      ]
     },
     "metadata": {
      "needs_background": "light"
     },
     "output_type": "display_data"
    }
   ],
   "source": [
    "predicted = model.predict(X_test)\n",
    "\n",
    "fig, ax = plt.subplots()\n",
    "ax.scatter(y_test, predicted)\n",
    "\n",
    "ax.set_xlabel('True Values')\n",
    "ax.set_ylabel('Predicted')\n",
    "_ = ax.plot([0, y.max()], [0, y.max()], ls='-', color='red')"
   ]
  },
  {
   "cell_type": "code",
   "execution_count": 7,
   "id": "working-portland",
   "metadata": {
    "execution": {
     "iopub.execute_input": "2021-03-09T16:23:21.930157Z",
     "iopub.status.busy": "2021-03-09T16:23:21.927097Z",
     "iopub.status.idle": "2021-03-09T16:23:22.022408Z",
     "shell.execute_reply": "2021-03-09T16:23:22.022047Z"
    },
    "tags": []
   },
   "outputs": [
    {
     "data": {
      "image/png": "[encoded data removed]",
      "text/plain": [
       "<Figure size 432x288 with 1 Axes>"
      ]
     },
     "metadata": {
      "needs_background": "light"
     },
     "output_type": "display_data"
    }
   ],
   "source": [
    "residual = y_test - predicted\n",
    "\n",
    "fig, ax = plt.subplots()\n",
    "ax.scatter(y_test, residual)\n",
    "ax.set_xlabel('y')\n",
    "ax.set_ylabel('residual')\n",
    "\n",
    "_ = plt.axhline(0, color='red', ls='--')"
   ]
  },
  {
   "cell_type": "code",
   "execution_count": 8,
   "id": "treated-electric",
   "metadata": {
    "execution": {
     "iopub.execute_input": "2021-03-09T16:23:22.050401Z",
     "iopub.status.busy": "2021-03-09T16:23:22.049976Z",
     "iopub.status.idle": "2021-03-09T16:23:22.189286Z",
     "shell.execute_reply": "2021-03-09T16:23:22.188876Z"
    },
    "tags": []
   },
   "outputs": [
    {
     "data": {
      "text/plain": [
       "<seaborn.axisgrid.FacetGrid at 0x127063520>"
      ]
     },
     "execution_count": 1,
     "metadata": {},
     "output_type": "execute_result"
    },
    {
     "data": {
      "image/png": "[encoded data removed]",
      "text/plain": [
       "<Figure size 360x360 with 1 Axes>"
      ]
     },
     "metadata": {
      "needs_background": "light"
     },
     "output_type": "display_data"
    }
   ],
   "source": [
    "sns.displot(residual, kind=\"kde\");"
   ]
  },
  {
   "cell_type": "code",
   "execution_count": 9,
   "id": "practical-address",
   "metadata": {
    "execution": {
     "iopub.execute_input": "2021-03-09T16:23:22.194891Z",
     "iopub.status.busy": "2021-03-09T16:23:22.194468Z",
     "iopub.status.idle": "2021-03-09T16:23:22.196848Z",
     "shell.execute_reply": "2021-03-09T16:23:22.197202Z"
    },
    "tags": []
   },
   "outputs": [
    {
     "name": "stdout",
     "output_type": "stream",
     "text": [
      "r2 score: 0.678669472964432\n",
      "mse: 35.40517826122896\n",
      "rmse: 5.95022505971236\n",
      "mae: 3.9162068652276547\n"
     ]
    }
   ],
   "source": [
    "print(\"r2 score: {}\".format(metrics.r2_score(y_test, predicted)))\n",
    "print(\"mse: {}\".format(metrics.mean_squared_error(y_test, predicted)))\n",
    "print(\"rmse: {}\".format(np.sqrt(metrics.mean_squared_error(y_test, predicted))))\n",
    "print(\"mae: {}\".format(metrics.mean_absolute_error(y_test, predicted)))"
   ]
  }
 ],
 "metadata": {
  "kernelspec": {
   "display_name": "Python 3",
   "language": "python",
   "name": "python3"
  },
  "language_info": {
   "codemirror_mode": {
    "name": "ipython",
    "version": 3
   },
   "file_extension": ".py",
   "mimetype": "text/x-python",
   "name": "python",
   "nbconvert_exporter": "python",
   "pygments_lexer": "ipython3",
   "version": "3.8.5"
  }
 },
 "nbformat": 4,
 "nbformat_minor": 5
}
