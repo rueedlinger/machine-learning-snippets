{
 "cells": [
  {
   "cell_type": "markdown",
   "metadata": {},
   "source": [
    "## Linear regression with statsmodels (OLS)"
   ]
  },
  {
   "cell_type": "code",
   "execution_count": 1,
   "metadata": {},
   "outputs": [],
   "source": [
    "import statsmodels.api as sm\n",
    "import statsmodels.formula.api as smf\n",
    "import statsmodels.tools.eval_measures as eval_measures\n",
    "import scipy.stats as stats\n",
    "import pandas as pd\n",
    "import numpy as np\n",
    "\n",
    "from matplotlib import pyplot as plt\n",
    "from sklearn import datasets, model_selection"
   ]
  },
  {
   "cell_type": "markdown",
   "metadata": {},
   "source": [
    "We load the boston house-prices dataset and `X` are our features and `y` is the target variable `medv` (Median value of owner-occupied homes in $1000s)."
   ]
  },
  {
   "cell_type": "code",
   "execution_count": 2,
   "metadata": {},
   "outputs": [
    {
     "name": "stdout",
     "output_type": "stream",
     "text": [
      ".. _boston_dataset:\n",
      "\n",
      "Boston house prices dataset\n",
      "---------------------------\n",
      "\n",
      "**Data Set Characteristics:**  \n",
      "\n",
      "    :Number of Instances: 506 \n",
      "\n",
      "    :Number of Attributes: 13 numeric/categorical predictive. Median Value (attribute 14) is usually the target.\n",
      "\n",
      "    :Attribute Information (in order):\n",
      "        - CRIM     per capita crime rate by town\n",
      "        - ZN       proportion of residential land zoned for lots over 25,000 sq.ft.\n",
      "        - INDUS    proportion of non-retail business acres per town\n",
      "        - CHAS     Charles River dummy variable (= 1 if tract bounds river; 0 otherwise)\n",
      "        - NOX      nitric oxides concentration (parts per 10 million)\n",
      "        - RM       average number of rooms per dwelling\n",
      "        - AGE      proportion of owner-occupied units built prior to 1940\n",
      "        - DIS      weighted distances to five Boston employment centres\n",
      "        - RAD      index of accessibility to radial highways\n",
      "        - TAX      full-value property-tax rate per $10,000\n",
      "        - PTRATIO  pupil-teacher ratio by town\n",
      "        - B        1000(Bk - 0.63)^2 where Bk is the proportion of blacks by town\n",
      "        - LSTAT    % lower status of the population\n",
      "        - MEDV     Median value of owner-occupied homes in $1000's\n",
      "\n",
      "    :Missing Attribute Values: None\n",
      "\n",
      "    :Creator: Harrison, D. and Rubinfeld, D.L.\n",
      "\n",
      "This is a copy of UCI ML housing dataset.\n",
      "https://archive.ics.uci.edu/ml/machine-learning-databases/housing/\n",
      "\n",
      "\n",
      "This dataset was taken from the StatLib library which is maintained at Carnegie Mellon University.\n",
      "\n",
      "The Boston house-price data of Harrison, D. and Rubinfeld, D.L. 'Hedonic\n",
      "prices and the demand for clean air', J. Environ. Economics & Management,\n",
      "vol.5, 81-102, 1978.   Used in Belsley, Kuh & Welsch, 'Regression diagnostics\n",
      "...', Wiley, 1980.   N.B. Various transformations are used in the table on\n",
      "pages 244-261 of the latter.\n",
      "\n",
      "The Boston house-price data has been used in many machine learning papers that address regression\n",
      "problems.   \n",
      "     \n",
      ".. topic:: References\n",
      "\n",
      "   - Belsley, Kuh & Welsch, 'Regression diagnostics: Identifying Influential Data and Sources of Collinearity', Wiley, 1980. 244-261.\n",
      "   - Quinlan,R. (1993). Combining Instance-Based and Model-Based Learning. In Proceedings on the Tenth International Conference of Machine Learning, 236-243, University of Massachusetts, Amherst. Morgan Kaufmann.\n",
      "\n"
     ]
    }
   ],
   "source": [
    "boston = datasets.load_boston()\n",
    "print(boston.DESCR)"
   ]
  },
  {
   "cell_type": "markdown",
   "metadata": {},
   "source": [
    "Let's split the data in a test and training set."
   ]
  },
  {
   "cell_type": "code",
   "execution_count": 3,
   "metadata": {},
   "outputs": [],
   "source": [
    "X = pd.DataFrame(boston.data, columns=boston.feature_names)\n",
    "y = boston.target\n",
    "\n",
    "X_train, X_test, y_train, y_test = model_selection.train_test_split(X, y, train_size=0.7)"
   ]
  },
  {
   "cell_type": "markdown",
   "metadata": {},
   "source": [
    "## Fitting models - the standard way\n",
    "### Full model without an intercept\n"
   ]
  },
  {
   "cell_type": "code",
   "execution_count": 4,
   "metadata": {},
   "outputs": [
    {
     "name": "stdout",
     "output_type": "stream",
     "text": [
      "                                 OLS Regression Results                                \n",
      "=======================================================================================\n",
      "Dep. Variable:                      y   R-squared (uncentered):                   0.960\n",
      "Model:                            OLS   Adj. R-squared (uncentered):              0.958\n",
      "Method:                 Least Squares   F-statistic:                              626.6\n",
      "Date:                Mon, 08 Mar 2021   Prob (F-statistic):                   5.52e-229\n",
      "Time:                        23:37:38   Log-Likelihood:                         -1056.2\n",
      "No. Observations:                 354   AIC:                                      2138.\n",
      "Df Residuals:                     341   BIC:                                      2189.\n",
      "Df Model:                          13                                                  \n",
      "Covariance Type:            nonrobust                                                  \n",
      "==============================================================================\n",
      "                 coef    std err          t      P>|t|      [0.025      0.975]\n",
      "------------------------------------------------------------------------------\n",
      "CRIM          -0.0495      0.043     -1.160      0.247      -0.133       0.034\n",
      "ZN             0.0507      0.017      2.909      0.004       0.016       0.085\n",
      "INDUS         -0.0583      0.077     -0.757      0.449      -0.210       0.093\n",
      "CHAS           2.5844      0.979      2.640      0.009       0.659       4.510\n",
      "NOX           -0.1511      3.816     -0.040      0.968      -7.656       7.354\n",
      "RM             5.1811      0.363     14.262      0.000       4.467       5.896\n",
      "AGE            0.0031      0.016      0.194      0.847      -0.029       0.035\n",
      "DIS           -0.8843      0.232     -3.814      0.000      -1.340      -0.428\n",
      "RAD            0.1342      0.078      1.712      0.088      -0.020       0.288\n",
      "TAX           -0.0071      0.005     -1.521      0.129      -0.016       0.002\n",
      "PTRATIO       -0.3643      0.128     -2.841      0.005      -0.616      -0.112\n",
      "B              0.0199      0.003      6.255      0.000       0.014       0.026\n",
      "LSTAT         -0.4311      0.055     -7.902      0.000      -0.538      -0.324\n",
      "==============================================================================\n",
      "Omnibus:                      147.191   Durbin-Watson:                   2.026\n",
      "Prob(Omnibus):                  0.000   Jarque-Bera (JB):              990.379\n",
      "Skew:                           1.593   Prob(JB):                    8.75e-216\n",
      "Kurtosis:                      10.549   Cond. No.                     8.23e+03\n",
      "==============================================================================\n",
      "\n",
      "Notes:\n",
      "[1] R² is computed without centering (uncentered) since the model does not contain a constant.\n",
      "[2] Standard Errors assume that the covariance matrix of the errors is correctly specified.\n",
      "[3] The condition number is large, 8.23e+03. This might indicate that there are\n",
      "strong multicollinearity or other numerical problems.\n"
     ]
    }
   ],
   "source": [
    "model = sm.OLS(y_train, X_train)\n",
    "result = model.fit()\n",
    "print(result.summary())"
   ]
  },
  {
   "cell_type": "code",
   "execution_count": 5,
   "metadata": {},
   "outputs": [
    {
     "data": {
      "image/png": "[encoded data removed]",
      "text/plain": [
       "<Figure size 432x288 with 1 Axes>"
      ]
     },
     "metadata": {
      "needs_background": "light"
     },
     "output_type": "display_data"
    }
   ],
   "source": [
    "fig = sm.qqplot(result.resid, fit=True, line=\"s\")\n",
    "plt.show()"
   ]
  },
  {
   "cell_type": "code",
   "execution_count": 6,
   "metadata": {},
   "outputs": [
    {
     "data": {
      "text/plain": [
       "CRIM       False\n",
       "ZN          True\n",
       "INDUS      False\n",
       "CHAS        True\n",
       "NOX        False\n",
       "RM          True\n",
       "AGE        False\n",
       "DIS         True\n",
       "RAD        False\n",
       "TAX        False\n",
       "PTRATIO     True\n",
       "B           True\n",
       "LSTAT       True\n",
       "dtype: bool"
      ]
     },
     "execution_count": 6,
     "metadata": {},
     "output_type": "execute_result"
    }
   ],
   "source": [
    "result.pvalues < 0.05"
   ]
  },
  {
   "cell_type": "code",
   "execution_count": 7,
   "metadata": {},
   "outputs": [
    {
     "name": "stdout",
     "output_type": "stream",
     "text": [
      "rsquared: 0.959822581672449\n",
      "mse: 22.85994999778429\n",
      "rmse: 4.781208006119822\n"
     ]
    }
   ],
   "source": [
    "print(\"rsquared: {}\".format(result.rsquared))\n",
    "print(\"mse: {}\".format(eval_measures.mse(y_train, result.fittedvalues)))\n",
    "print(\"rmse: {}\".format(eval_measures.rmse(y_train, result.fittedvalues)))"
   ]
  },
  {
   "cell_type": "markdown",
   "metadata": {},
   "source": [
    "### Full model with an intercept\n"
   ]
  },
  {
   "cell_type": "code",
   "execution_count": 8,
   "metadata": {},
   "outputs": [
    {
     "name": "stdout",
     "output_type": "stream",
     "text": [
      "                            OLS Regression Results                            \n",
      "==============================================================================\n",
      "Dep. Variable:                      y   R-squared:                       0.736\n",
      "Model:                            OLS   Adj. R-squared:                  0.726\n",
      "Method:                 Least Squares   F-statistic:                     72.96\n",
      "Date:                Mon, 08 Mar 2021   Prob (F-statistic):           5.85e-90\n",
      "Time:                        23:37:38   Log-Likelihood:                -1034.3\n",
      "No. Observations:                 354   AIC:                             2097.\n",
      "Df Residuals:                     340   BIC:                             2151.\n",
      "Df Model:                          13                                         \n",
      "Covariance Type:            nonrobust                                         \n",
      "==============================================================================\n",
      "                 coef    std err          t      P>|t|      [0.025      0.975]\n",
      "------------------------------------------------------------------------------\n",
      "const         39.5016      5.908      6.686      0.000      27.881      51.122\n",
      "CRIM          -0.0896      0.041     -2.209      0.028      -0.169      -0.010\n",
      "ZN             0.0490      0.016      2.987      0.003       0.017       0.081\n",
      "INDUS         -0.0435      0.072     -0.600      0.549      -0.186       0.099\n",
      "CHAS           2.4877      0.922      2.699      0.007       0.675       4.300\n",
      "NOX          -16.0044      4.304     -3.718      0.000     -24.471      -7.538\n",
      "RM             2.8935      0.484      5.981      0.000       1.942       3.845\n",
      "AGE            0.0083      0.015      0.545      0.586      -0.022       0.038\n",
      "DIS           -1.4413      0.234     -6.169      0.000      -1.901      -0.982\n",
      "RAD            0.2768      0.077      3.602      0.000       0.126       0.428\n",
      "TAX           -0.0096      0.004     -2.192      0.029      -0.018      -0.001\n",
      "PTRATIO       -0.9711      0.151     -6.430      0.000      -1.268      -0.674\n",
      "B              0.0131      0.003      4.144      0.000       0.007       0.019\n",
      "LSTAT         -0.5324      0.054     -9.942      0.000      -0.638      -0.427\n",
      "==============================================================================\n",
      "Omnibus:                      132.442   Durbin-Watson:                   2.050\n",
      "Prob(Omnibus):                  0.000   Jarque-Bera (JB):              592.282\n",
      "Skew:                           1.555   Prob(JB):                    2.44e-129\n",
      "Kurtosis:                       8.521   Cond. No.                     1.50e+04\n",
      "==============================================================================\n",
      "\n",
      "Notes:\n",
      "[1] Standard Errors assume that the covariance matrix of the errors is correctly specified.\n",
      "[2] The condition number is large, 1.5e+04. This might indicate that there are\n",
      "strong multicollinearity or other numerical problems.\n"
     ]
    }
   ],
   "source": [
    "model = sm.OLS(y_train, sm.add_constant(X_train))\n",
    "result = model.fit()\n",
    "print(result.summary())"
   ]
  },
  {
   "cell_type": "code",
   "execution_count": 9,
   "metadata": {},
   "outputs": [
    {
     "data": {
      "image/png": "[encoded data removed]",
      "text/plain": [
       "<Figure size 432x288 with 1 Axes>"
      ]
     },
     "metadata": {
      "needs_background": "light"
     },
     "output_type": "display_data"
    }
   ],
   "source": [
    "fig = sm.qqplot(result.resid, fit=True, line=\"s\")\n",
    "plt.show()"
   ]
  },
  {
   "cell_type": "code",
   "execution_count": 10,
   "metadata": {},
   "outputs": [
    {
     "name": "stdout",
     "output_type": "stream",
     "text": [
      "rsquared: 0.7361141271744145\n",
      "mse: 20.203480618671588\n",
      "rmse: 4.494828207915358\n"
     ]
    }
   ],
   "source": [
    "print(\"rsquared: {}\".format(result.rsquared))\n",
    "print(\"mse: {}\".format(eval_measures.mse(y_train, result.fittedvalues)))\n",
    "print(\"rmse: {}\".format(eval_measures.rmse(y_train, result.fittedvalues)))"
   ]
  },
  {
   "cell_type": "markdown",
   "metadata": {},
   "source": [
    "## Fitting models using R-style formulas\n",
    "We can also fit a model with the R syntax `y ~ x_1 + x_2` and build some complexer models."
   ]
  },
  {
   "cell_type": "code",
   "execution_count": 11,
   "metadata": {},
   "outputs": [
    {
     "data": {
      "text/html": [
       "<div>\n",
       "<style scoped>\n",
       "    .dataframe tbody tr th:only-of-type {\n",
       "        vertical-align: middle;\n",
       "    }\n",
       "\n",
       "    .dataframe tbody tr th {\n",
       "        vertical-align: top;\n",
       "    }\n",
       "\n",
       "    .dataframe thead th {\n",
       "        text-align: right;\n",
       "    }\n",
       "</style>\n",
       "<table border=\"1\" class=\"dataframe\">\n",
       "  <thead>\n",
       "    <tr style=\"text-align: right;\">\n",
       "      <th></th>\n",
       "      <th>CRIM</th>\n",
       "      <th>ZN</th>\n",
       "      <th>INDUS</th>\n",
       "      <th>CHAS</th>\n",
       "      <th>NOX</th>\n",
       "      <th>RM</th>\n",
       "      <th>AGE</th>\n",
       "      <th>DIS</th>\n",
       "      <th>RAD</th>\n",
       "      <th>TAX</th>\n",
       "      <th>PTRATIO</th>\n",
       "      <th>B</th>\n",
       "      <th>LSTAT</th>\n",
       "      <th>MEDV</th>\n",
       "    </tr>\n",
       "  </thead>\n",
       "  <tbody>\n",
       "    <tr>\n",
       "      <th>61</th>\n",
       "      <td>0.17171</td>\n",
       "      <td>25.0</td>\n",
       "      <td>5.13</td>\n",
       "      <td>0.0</td>\n",
       "      <td>0.453</td>\n",
       "      <td>5.966</td>\n",
       "      <td>93.4</td>\n",
       "      <td>6.8185</td>\n",
       "      <td>8.0</td>\n",
       "      <td>284.0</td>\n",
       "      <td>19.7</td>\n",
       "      <td>378.08</td>\n",
       "      <td>14.44</td>\n",
       "      <td>16.0</td>\n",
       "    </tr>\n",
       "    <tr>\n",
       "      <th>398</th>\n",
       "      <td>38.35180</td>\n",
       "      <td>0.0</td>\n",
       "      <td>18.10</td>\n",
       "      <td>0.0</td>\n",
       "      <td>0.693</td>\n",
       "      <td>5.453</td>\n",
       "      <td>100.0</td>\n",
       "      <td>1.4896</td>\n",
       "      <td>24.0</td>\n",
       "      <td>666.0</td>\n",
       "      <td>20.2</td>\n",
       "      <td>396.90</td>\n",
       "      <td>30.59</td>\n",
       "      <td>5.0</td>\n",
       "    </tr>\n",
       "    <tr>\n",
       "      <th>379</th>\n",
       "      <td>17.86670</td>\n",
       "      <td>0.0</td>\n",
       "      <td>18.10</td>\n",
       "      <td>0.0</td>\n",
       "      <td>0.671</td>\n",
       "      <td>6.223</td>\n",
       "      <td>100.0</td>\n",
       "      <td>1.3861</td>\n",
       "      <td>24.0</td>\n",
       "      <td>666.0</td>\n",
       "      <td>20.2</td>\n",
       "      <td>393.74</td>\n",
       "      <td>21.78</td>\n",
       "      <td>10.2</td>\n",
       "    </tr>\n",
       "    <tr>\n",
       "      <th>296</th>\n",
       "      <td>0.05372</td>\n",
       "      <td>0.0</td>\n",
       "      <td>13.92</td>\n",
       "      <td>0.0</td>\n",
       "      <td>0.437</td>\n",
       "      <td>6.549</td>\n",
       "      <td>51.0</td>\n",
       "      <td>5.9604</td>\n",
       "      <td>4.0</td>\n",
       "      <td>289.0</td>\n",
       "      <td>16.0</td>\n",
       "      <td>392.85</td>\n",
       "      <td>7.39</td>\n",
       "      <td>27.1</td>\n",
       "    </tr>\n",
       "    <tr>\n",
       "      <th>354</th>\n",
       "      <td>0.04301</td>\n",
       "      <td>80.0</td>\n",
       "      <td>1.91</td>\n",
       "      <td>0.0</td>\n",
       "      <td>0.413</td>\n",
       "      <td>5.663</td>\n",
       "      <td>21.9</td>\n",
       "      <td>10.5857</td>\n",
       "      <td>4.0</td>\n",
       "      <td>334.0</td>\n",
       "      <td>22.0</td>\n",
       "      <td>382.80</td>\n",
       "      <td>8.05</td>\n",
       "      <td>18.2</td>\n",
       "    </tr>\n",
       "  </tbody>\n",
       "</table>\n",
       "</div>"
      ],
      "text/plain": [
       "         CRIM    ZN  INDUS  CHAS    NOX     RM    AGE      DIS   RAD    TAX  \\\n",
       "61    0.17171  25.0   5.13   0.0  0.453  5.966   93.4   6.8185   8.0  284.0   \n",
       "398  38.35180   0.0  18.10   0.0  0.693  5.453  100.0   1.4896  24.0  666.0   \n",
       "379  17.86670   0.0  18.10   0.0  0.671  6.223  100.0   1.3861  24.0  666.0   \n",
       "296   0.05372   0.0  13.92   0.0  0.437  6.549   51.0   5.9604   4.0  289.0   \n",
       "354   0.04301  80.0   1.91   0.0  0.413  5.663   21.9  10.5857   4.0  334.0   \n",
       "\n",
       "     PTRATIO       B  LSTAT  MEDV  \n",
       "61      19.7  378.08  14.44  16.0  \n",
       "398     20.2  396.90  30.59   5.0  \n",
       "379     20.2  393.74  21.78  10.2  \n",
       "296     16.0  392.85   7.39  27.1  \n",
       "354     22.0  382.80   8.05  18.2  "
      ]
     },
     "execution_count": 11,
     "metadata": {},
     "output_type": "execute_result"
    }
   ],
   "source": [
    "dat = X_train.copy()\n",
    "dat['MEDV'] = y_train\n",
    "dat.head()"
   ]
  },
  {
   "cell_type": "markdown",
   "metadata": {},
   "source": [
    "### Full model with an intercept"
   ]
  },
  {
   "cell_type": "code",
   "execution_count": 12,
   "metadata": {},
   "outputs": [
    {
     "name": "stdout",
     "output_type": "stream",
     "text": [
      "                            OLS Regression Results                            \n",
      "==============================================================================\n",
      "Dep. Variable:                   MEDV   R-squared:                       0.659\n",
      "Model:                            OLS   Adj. R-squared:                  0.647\n",
      "Method:                 Least Squares   F-statistic:                     55.01\n",
      "Date:                Mon, 08 Mar 2021   Prob (F-statistic):           2.93e-72\n",
      "Time:                        23:37:38   Log-Likelihood:                -1079.5\n",
      "No. Observations:                 354   AIC:                             2185.\n",
      "Df Residuals:                     341   BIC:                             2235.\n",
      "Df Model:                          12                                         \n",
      "Covariance Type:            nonrobust                                         \n",
      "==============================================================================\n",
      "                 coef    std err          t      P>|t|      [0.025      0.975]\n",
      "------------------------------------------------------------------------------\n",
      "Intercept     22.8843      6.428      3.560      0.000      10.240      35.528\n",
      "CRIM          -0.1452      0.046     -3.186      0.002      -0.235      -0.056\n",
      "ZN             0.0403      0.019      2.170      0.031       0.004       0.077\n",
      "INDUS         -0.0965      0.082     -1.177      0.240      -0.258       0.065\n",
      "CHAS           2.9376      1.044      2.813      0.005       0.884       4.991\n",
      "NOX          -19.2984      4.868     -3.964      0.000     -28.874      -9.723\n",
      "RM             5.3765      0.470     11.439      0.000       4.452       6.301\n",
      "AGE           -0.0387      0.016     -2.367      0.018      -0.071      -0.007\n",
      "DIS           -1.5340      0.265     -5.792      0.000      -2.055      -1.013\n",
      "RAD            0.2646      0.087      3.036      0.003       0.093       0.436\n",
      "TAX           -0.0084      0.005     -1.677      0.094      -0.018       0.001\n",
      "PTRATIO       -1.0296      0.171     -6.014      0.000      -1.366      -0.693\n",
      "B              0.0167      0.004      4.685      0.000       0.010       0.024\n",
      "==============================================================================\n",
      "Omnibus:                      203.228   Durbin-Watson:                   2.056\n",
      "Prob(Omnibus):                  0.000   Jarque-Bera (JB):             1956.042\n",
      "Skew:                           2.239   Prob(JB):                         0.00\n",
      "Kurtosis:                      13.610   Cond. No.                     1.47e+04\n",
      "==============================================================================\n",
      "\n",
      "Notes:\n",
      "[1] Standard Errors assume that the covariance matrix of the errors is correctly specified.\n",
      "[2] The condition number is large, 1.47e+04. This might indicate that there are\n",
      "strong multicollinearity or other numerical problems.\n"
     ]
    }
   ],
   "source": [
    "result = smf.ols('MEDV ~ CRIM + ZN + INDUS + CHAS + NOX + RM + AGE + DIS + RAD + TAX + PTRATIO + B', data=dat).fit()\n",
    "print(result.summary())"
   ]
  },
  {
   "cell_type": "code",
   "execution_count": 13,
   "metadata": {},
   "outputs": [
    {
     "data": {
      "image/png": "[encoded data removed]",
      "text/plain": [
       "<Figure size 432x288 with 1 Axes>"
      ]
     },
     "metadata": {
      "needs_background": "light"
     },
     "output_type": "display_data"
    }
   ],
   "source": [
    "fig = sm.qqplot(result.resid, fit=True, line=\"s\")\n",
    "\n",
    "plt.show()"
   ]
  },
  {
   "cell_type": "code",
   "execution_count": 14,
   "metadata": {},
   "outputs": [
    {
     "name": "stdout",
     "output_type": "stream",
     "text": [
      "rsquared: 0.6593995370266135\n",
      "mse: 26.076859585967927\n",
      "rmse: 5.106550654401455\n"
     ]
    }
   ],
   "source": [
    "print(\"rsquared: {}\".format(result.rsquared))\n",
    "print(\"mse: {}\".format(eval_measures.mse(y_train, result.fittedvalues)))\n",
    "print(\"rmse: {}\".format(eval_measures.rmse(y_train, result.fittedvalues)))"
   ]
  },
  {
   "cell_type": "markdown",
   "metadata": {},
   "source": [
    "### Model with a polynomial and the target variable log transformed"
   ]
  },
  {
   "cell_type": "code",
   "execution_count": 15,
   "metadata": {},
   "outputs": [
    {
     "name": "stdout",
     "output_type": "stream",
     "text": [
      "                            OLS Regression Results                            \n",
      "==============================================================================\n",
      "Dep. Variable:           np.log(MEDV)   R-squared:                       0.688\n",
      "Model:                            OLS   Adj. R-squared:                  0.679\n",
      "Method:                 Least Squares   F-statistic:                     75.51\n",
      "Date:                Mon, 08 Mar 2021   Prob (F-statistic):           1.85e-80\n",
      "Time:                        23:37:38   Log-Likelihood:                 30.035\n",
      "No. Observations:                 354   AIC:                            -38.07\n",
      "Df Residuals:                     343   BIC:                             4.492\n",
      "Df Model:                          10                                         \n",
      "Covariance Type:            nonrobust                                         \n",
      "===============================================================================\n",
      "                  coef    std err          t      P>|t|      [0.025      0.975]\n",
      "-------------------------------------------------------------------------------\n",
      "Intercept       3.2226      0.279     11.553      0.000       2.674       3.771\n",
      "CRIM           -0.0133      0.002     -6.721      0.000      -0.017      -0.009\n",
      "CHAS            0.1179      0.045      2.615      0.009       0.029       0.207\n",
      "NOX            -0.9390      0.205     -4.588      0.000      -1.342      -0.536\n",
      "RM              0.2052      0.020     10.417      0.000       0.166       0.244\n",
      "DIS            -0.0457      0.010     -4.534      0.000      -0.065      -0.026\n",
      "RAD             0.0114      0.004      3.183      0.002       0.004       0.019\n",
      "TAX            -0.0004      0.000     -2.086      0.038      -0.001    -2.2e-05\n",
      "PTRATIO        -0.0468      0.007     -6.687      0.000      -0.061      -0.033\n",
      "B               0.0008      0.000      4.978      0.000       0.000       0.001\n",
      "pow(AGE, 2) -1.813e-05   5.81e-06     -3.118      0.002   -2.96e-05   -6.69e-06\n",
      "==============================================================================\n",
      "Omnibus:                       99.833   Durbin-Watson:                   1.981\n",
      "Prob(Omnibus):                  0.000   Jarque-Bera (JB):              644.247\n",
      "Skew:                           1.003   Prob(JB):                    1.27e-140\n",
      "Kurtosis:                       9.297   Cond. No.                     1.73e+05\n",
      "==============================================================================\n",
      "\n",
      "Notes:\n",
      "[1] Standard Errors assume that the covariance matrix of the errors is correctly specified.\n",
      "[2] The condition number is large, 1.73e+05. This might indicate that there are\n",
      "strong multicollinearity or other numerical problems.\n"
     ]
    }
   ],
   "source": [
    "result = smf.ols('np.log(MEDV) ~ CRIM + CHAS + NOX + RM + DIS + RAD + TAX + PTRATIO + B + pow(AGE, 2)', data=dat).fit()\n",
    "print(result.summary())"
   ]
  },
  {
   "cell_type": "markdown",
   "metadata": {},
   "source": [
    "Let's plot the QQ-Plot for the residuals"
   ]
  },
  {
   "cell_type": "code",
   "execution_count": 16,
   "metadata": {},
   "outputs": [
    {
     "data": {
      "text/plain": [
       "Intercept      True\n",
       "CRIM           True\n",
       "CHAS           True\n",
       "NOX            True\n",
       "RM             True\n",
       "DIS            True\n",
       "RAD            True\n",
       "TAX            True\n",
       "PTRATIO        True\n",
       "B              True\n",
       "pow(AGE, 2)    True\n",
       "dtype: bool"
      ]
     },
     "execution_count": 16,
     "metadata": {},
     "output_type": "execute_result"
    }
   ],
   "source": [
    "result.pvalues < 0.05"
   ]
  },
  {
   "cell_type": "code",
   "execution_count": 17,
   "metadata": {},
   "outputs": [
    {
     "name": "stdout",
     "output_type": "stream",
     "text": [
      "rsquared: 0.6876463271879514\n",
      "mse: 0.049411693888693736\n",
      "rmse: 0.2222874127985967\n"
     ]
    }
   ],
   "source": [
    "print(\"rsquared: {}\".format(result.rsquared))\n",
    "print(\"mse: {}\".format(eval_measures.mse(np.log(y_train), result.fittedvalues)))\n",
    "print(\"rmse: {}\".format(eval_measures.rmse(np.log(y_train), result.fittedvalues)))"
   ]
  },
  {
   "cell_type": "code",
   "execution_count": 18,
   "metadata": {},
   "outputs": [
    {
     "data": {
      "image/png": "[encoded data removed]",
      "text/plain": [
       "<Figure size 432x288 with 1 Axes>"
      ]
     },
     "metadata": {
      "needs_background": "light"
     },
     "output_type": "display_data"
    }
   ],
   "source": [
    "fig = sm.qqplot(result.resid, fit=True, line=\"q\")\n",
    "plt.show()"
   ]
  }
 ],
 "metadata": {
  "kernelspec": {
   "display_name": "Python 3",
   "language": "python",
   "name": "python3"
  },
  "language_info": {
   "codemirror_mode": {
    "name": "ipython",
    "version": 3
   },
   "file_extension": ".py",
   "mimetype": "text/x-python",
   "name": "python",
   "nbconvert_exporter": "python",
   "pygments_lexer": "ipython3",
   "version": "3.8.5"
  }
 },
 "nbformat": 4,
 "nbformat_minor": 4
}
