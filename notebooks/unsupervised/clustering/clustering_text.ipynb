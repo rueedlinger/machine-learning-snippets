{
 "cells": [
  {
   "cell_type": "markdown",
   "metadata": {},
   "source": [
    "# Text Clustering Basics"
   ]
  },
  {
   "cell_type": "markdown",
   "metadata": {},
   "source": [
    "This snippet shows how to use the algorithm mini batch k-means to cluster text. In this example we use the newsgroup dataset from scikit-learn. There are multiple categories in the newsgroup dataset, but we will only use the documents categories 'talk.politics.misc', 'talk.religion.misc' and 'talk.politics.guns'."
   ]
  },
  {
   "cell_type": "code",
   "execution_count": 1,
   "metadata": {
    "collapsed": true,
    "execution": {
     "iopub.execute_input": "2021-03-09T10:09:22.980045Z",
     "iopub.status.busy": "2021-03-09T10:09:22.979292Z",
     "iopub.status.idle": "2021-03-09T10:09:23.972224Z",
     "shell.execute_reply": "2021-03-09T10:09:23.972864Z"
    }
   },
   "outputs": [],
   "source": [
    "%matplotlib inline\n",
    "import matplotlib.pyplot as plt\n",
    "import matplotlib.cm as cm\n",
    "import seaborn as sns\n",
    "import pandas as pd\n",
    "import numpy as np\n",
    "\n",
    "from sklearn import cluster, datasets, manifold, utils, preprocessing, decomposition, pipeline, metrics\n",
    "from sklearn.feature_extraction import text"
   ]
  },
  {
   "cell_type": "markdown",
   "metadata": {},
   "source": [
    "To simplyfy our example we are only interested in the documents categories politics, religion and guns. The other categories are ignored in our example."
   ]
  },
  {
   "cell_type": "code",
   "execution_count": 2,
   "metadata": {
    "collapsed": false,
    "execution": {
     "iopub.execute_input": "2021-03-09T10:09:23.977084Z",
     "iopub.status.busy": "2021-03-09T10:09:23.976583Z",
     "iopub.status.idle": "2021-03-09T10:09:24.315575Z",
     "shell.execute_reply": "2021-03-09T10:09:24.314813Z"
    }
   },
   "outputs": [
    {
     "name": "stdout",
     "output_type": "stream",
     "text": [
      "['talk.politics.guns', 'talk.politics.misc', 'talk.religion.misc']\n"
     ]
    }
   ],
   "source": [
    "categories = ['talk.politics.misc', 'talk.religion.misc', 'talk.politics.guns']\n",
    "dataset = datasets.fetch_20newsgroups(subset='all', categories=categories,\n",
    "                             shuffle=False, random_state=42, download_if_missing=True)\n",
    "\n",
    "print(dataset.target_names)"
   ]
  },
  {
   "cell_type": "code",
   "execution_count": 3,
   "metadata": {
    "collapsed": false,
    "execution": {
     "iopub.execute_input": "2021-03-09T10:09:24.318827Z",
     "iopub.status.busy": "2021-03-09T10:09:24.318365Z",
     "iopub.status.idle": "2021-03-09T10:09:24.320744Z",
     "shell.execute_reply": "2021-03-09T10:09:24.320291Z"
    }
   },
   "outputs": [
    {
     "name": "stdout",
     "output_type": "stream",
     "text": [
      "2313 documents\n",
      "3 categories\n"
     ]
    }
   ],
   "source": [
    "print(\"%d documents\" % len(dataset.data))\n",
    "print(\"%d categories\" % len(dataset.target_names))"
   ]
  },
  {
   "cell_type": "markdown",
   "metadata": {},
   "source": [
    "We build a bag of words model with the TF-IDF vectorizer, which converts the words from the text documents to features.  In our case we use words as features, but you could also use character n-grams as features. There are plenty of options to tune your model like min / max document frequency, max features, stopwords, etc. All this options have an impact which features are used in the final model."
   ]
  },
  {
   "cell_type": "code",
   "execution_count": 4,
   "metadata": {
    "collapsed": false,
    "execution": {
     "iopub.execute_input": "2021-03-09T10:09:24.350864Z",
     "iopub.status.busy": "2021-03-09T10:09:24.329014Z",
     "iopub.status.idle": "2021-03-09T10:09:25.037726Z",
     "shell.execute_reply": "2021-03-09T10:09:25.038048Z"
    }
   },
   "outputs": [
    {
     "name": "stdout",
     "output_type": "stream",
     "text": [
      "(2313, 1000)\n"
     ]
    }
   ],
   "source": [
    "vectorizer = text.TfidfVectorizer(analyzer='word', max_df=0.8, max_features=1000,\n",
    "                                 min_df=2, stop_words='english',\n",
    "                                 use_idf=True)\n",
    "X = vectorizer.fit_transform(dataset.data)\n",
    "print(X.shape)"
   ]
  },
  {
   "cell_type": "markdown",
   "metadata": {},
   "source": [
    "We have now 2313 samples with 1000 features, which is a high dimensional datasets. So we can now use latent semantic analysis to reduce dimensionality and discover latent patterns in the data."
   ]
  },
  {
   "cell_type": "code",
   "execution_count": 5,
   "metadata": {
    "collapsed": false,
    "execution": {
     "iopub.execute_input": "2021-03-09T10:09:25.041478Z",
     "iopub.status.busy": "2021-03-09T10:09:25.041064Z",
     "iopub.status.idle": "2021-03-09T10:09:25.060493Z",
     "shell.execute_reply": "2021-03-09T10:09:25.060977Z"
    }
   },
   "outputs": [],
   "source": [
    "svd = decomposition.TruncatedSVD(n_components=2)\n",
    "normalizer = preprocessing.Normalizer(copy=False, norm='l2')\n",
    "lsa = pipeline.make_pipeline(svd, normalizer)\n",
    "\n",
    "X = lsa.fit_transform(X)"
   ]
  },
  {
   "cell_type": "markdown",
   "metadata": {},
   "source": [
    "Next use the k-means mini batch algorithm to cluster documents in the new created two-dimensional space.  "
   ]
  },
  {
   "cell_type": "code",
   "execution_count": 6,
   "metadata": {
    "collapsed": false,
    "execution": {
     "iopub.execute_input": "2021-03-09T10:09:25.066643Z",
     "iopub.status.busy": "2021-03-09T10:09:25.066016Z",
     "iopub.status.idle": "2021-03-09T10:09:25.140766Z",
     "shell.execute_reply": "2021-03-09T10:09:25.140165Z"
    }
   },
   "outputs": [],
   "source": [
    "n_clusters = 3\n",
    "kmeans = cluster.MiniBatchKMeans(n_clusters=n_clusters, random_state=1)\n",
    "label = kmeans.fit_predict(X)\n",
    "\n",
    "df = pd.DataFrame(X, columns=['X', 'Y'])\n",
    "df['label'] = label"
   ]
  },
  {
   "cell_type": "markdown",
   "metadata": {
    "collapsed": false
   },
   "source": [
    "Fortunately we have the true clusters and can evaluate our model against them. A first step to evaluate the model is to plot the true and predicted clusters scatter plot in a two dimensional space."
   ]
  },
  {
   "cell_type": "code",
   "execution_count": 7,
   "metadata": {
    "collapsed": false,
    "execution": {
     "iopub.execute_input": "2021-03-09T10:09:25.172194Z",
     "iopub.status.busy": "2021-03-09T10:09:25.171642Z",
     "iopub.status.idle": "2021-03-09T10:09:25.559043Z",
     "shell.execute_reply": "2021-03-09T10:09:25.559414Z"
    }
   },
   "outputs": [
    {
     "data": {
      "image/png": "[encoded data removed]",
      "text/plain": [
       "<Figure size 432x288 with 2 Axes>"
      ]
     },
     "metadata": {
      "needs_background": "light"
     },
     "output_type": "display_data"
    }
   ],
   "source": [
    "fig = plt.figure()\n",
    "colors = [cm.rainbow(i/(n_clusters + 1)) for i in range(n_clusters)]\n",
    "\n",
    "ax = fig.add_subplot(211)\n",
    "for i in range(len(dataset.target_names)):\n",
    "    plt.scatter(df[dataset.target == i].X, df[dataset.target == i].Y, color=colors[i], label=dataset.target_names[i])\n",
    "\n",
    "ax.set_title('True clusters')\n",
    "plt.legend(bbox_to_anchor=(1.25, 1))\n",
    "\n",
    "ax = fig.add_subplot(212)\n",
    "for i in range(n_clusters):\n",
    "    plt.scatter(df[df.label == i].X, df[df.label == i].Y, color=colors[i], label=i)\n",
    "    \n",
    "\n",
    "ax.set_title('Predicted clusters')\n",
    "plt.legend(bbox_to_anchor=(1.25, 1))\n",
    "\n",
    "fig.tight_layout()"
   ]
  },
  {
   "cell_type": "markdown",
   "metadata": {},
   "source": [
    "We can see in the plot that the predicted and true clusters differ a lot. When we look at the different metrics the score is very low as well. The true clusters cannot easily be separated with our approach, because some documents categories are overlapping as you can see in the true cluster section of the scatter plot. With the k-means approach a centroid is set and the nearest documents are assigned to that clusters. As you can see with this approach we have no overlapping documents, which explains the low metric score."
   ]
  },
  {
   "cell_type": "code",
   "execution_count": 8,
   "metadata": {
    "collapsed": false,
    "execution": {
     "iopub.execute_input": "2021-03-09T10:09:25.562543Z",
     "iopub.status.busy": "2021-03-09T10:09:25.562117Z",
     "iopub.status.idle": "2021-03-09T10:09:25.566896Z",
     "shell.execute_reply": "2021-03-09T10:09:25.566487Z"
    }
   },
   "outputs": [
    {
     "data": {
      "text/plain": [
       "0.16791482016525522"
      ]
     },
     "execution_count": 1,
     "metadata": {},
     "output_type": "execute_result"
    }
   ],
   "source": [
    "metrics.adjusted_rand_score(dataset.target, label)"
   ]
  },
  {
   "cell_type": "code",
   "execution_count": 9,
   "metadata": {
    "collapsed": false,
    "execution": {
     "iopub.execute_input": "2021-03-09T10:09:25.569781Z",
     "iopub.status.busy": "2021-03-09T10:09:25.569340Z",
     "iopub.status.idle": "2021-03-09T10:09:25.575237Z",
     "shell.execute_reply": "2021-03-09T10:09:25.575692Z"
    }
   },
   "outputs": [
    {
     "data": {
      "text/plain": [
       "0.20790023390406887"
      ]
     },
     "execution_count": 1,
     "metadata": {},
     "output_type": "execute_result"
    }
   ],
   "source": [
    "metrics.adjusted_mutual_info_score(dataset.target, label)"
   ]
  },
  {
   "cell_type": "code",
   "execution_count": 10,
   "metadata": {
    "collapsed": false,
    "execution": {
     "iopub.execute_input": "2021-03-09T10:09:25.579151Z",
     "iopub.status.busy": "2021-03-09T10:09:25.578653Z",
     "iopub.status.idle": "2021-03-09T10:09:25.582146Z",
     "shell.execute_reply": "2021-03-09T10:09:25.582982Z"
    }
   },
   "outputs": [
    {
     "data": {
      "text/plain": [
       "0.5776048421962818"
      ]
     },
     "execution_count": 1,
     "metadata": {},
     "output_type": "execute_result"
    }
   ],
   "source": [
    "metrics.accuracy_score(dataset.target, label)"
   ]
  }
 ],
 "metadata": {
  "kernelspec": {
   "display_name": "Python 3",
   "language": "python",
   "name": "python3"
  },
  "language_info": {
   "codemirror_mode": {
    "name": "ipython",
    "version": 3
   },
   "file_extension": ".py",
   "mimetype": "text/x-python",
   "name": "python",
   "nbconvert_exporter": "python",
   "pygments_lexer": "ipython3",
   "version": "3.8.5"
  }
 },
 "nbformat": 4,
 "nbformat_minor": 2
}
