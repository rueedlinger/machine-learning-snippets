{
 "cells": [
  {
   "cell_type": "markdown",
   "metadata": {},
   "source": [
    "# Clustering Basics and Model Evaluation"
   ]
  },
  {
   "cell_type": "markdown",
   "metadata": {},
   "source": [
    "Cluster analysis or clustering is the task of grouping unlabeled data, so that similar object belongs to the same cluster. This machine learning snippet shows how to use a cluster algorithm with the iris dataset and evaluate the cluster with an internal and external evaluation method. As cluster algorithm we use k-means in this example."
   ]
  },
  {
   "cell_type": "code",
   "execution_count": 1,
   "metadata": {
    "execution": {
     "iopub.execute_input": "2021-03-09T08:38:55.901912Z",
     "iopub.status.busy": "2021-03-09T08:38:55.900738Z",
     "iopub.status.idle": "2021-03-09T08:38:56.795167Z",
     "shell.execute_reply": "2021-03-09T08:38:56.795551Z"
    }
   },
   "outputs": [],
   "source": [
    "%matplotlib inline\n",
    "import matplotlib.pyplot as plt\n",
    "import matplotlib.cm as cm\n",
    "import seaborn as sns\n",
    "import pandas as pd\n",
    "\n",
    "from sklearn import cluster, datasets, manifold, metrics"
   ]
  },
  {
   "cell_type": "markdown",
   "metadata": {},
   "source": [
    "Depending on the clustering algorithm we have to set some parameters. Here we use k-means clustering, so we have to specify the number of clusters we expect in the dataset."
   ]
  },
  {
   "cell_type": "code",
   "execution_count": 2,
   "metadata": {
    "execution": {
     "iopub.execute_input": "2021-03-09T08:38:56.799073Z",
     "iopub.status.busy": "2021-03-09T08:38:56.798663Z",
     "iopub.status.idle": "2021-03-09T08:38:56.819923Z",
     "shell.execute_reply": "2021-03-09T08:38:56.819429Z"
    }
   },
   "outputs": [],
   "source": [
    "iris = datasets.load_iris()\n",
    "\n",
    "n_clusters = 3\n",
    "kmeans = cluster.KMeans(n_clusters=n_clusters, random_state=100)\n",
    "label = kmeans.fit_predict(iris.data)"
   ]
  },
  {
   "cell_type": "markdown",
   "metadata": {},
   "source": [
    "We have the true and predicted clusters. So we can do a dimension reduction with MDS and plot both true and predicted clusters as scatter plot in a two dimensional space."
   ]
  },
  {
   "cell_type": "code",
   "execution_count": 3,
   "metadata": {
    "execution": {
     "iopub.execute_input": "2021-03-09T08:38:56.827032Z",
     "iopub.status.busy": "2021-03-09T08:38:56.826424Z",
     "iopub.status.idle": "2021-03-09T08:38:57.350276Z",
     "shell.execute_reply": "2021-03-09T08:38:57.350595Z"
    }
   },
   "outputs": [
    {
     "data": {
      "image/png": "[encoded data removed]",
      "text/plain": [
       "<Figure size 432x288 with 2 Axes>"
      ]
     },
     "metadata": {
      "needs_background": "light"
     },
     "output_type": "display_data"
    }
   ],
   "source": [
    "mds = manifold.MDS(n_components=2)\n",
    "new_dim = mds.fit_transform(iris.data)\n",
    "\n",
    "df = pd.DataFrame(new_dim, columns=['X', 'Y'])\n",
    "\n",
    "fig = plt.figure()\n",
    "n_true_clusters = 3\n",
    "\n",
    "n = max(n_clusters, n_true_clusters)\n",
    "colors = [cm.rainbow(i/(n + 1)) for i in range(n)]\n",
    "\n",
    "\n",
    "ax = fig.add_subplot(211)\n",
    "for i in range(n_true_clusters):\n",
    "    plt.scatter(df[iris.target == i].X, df[iris.target == i].Y, color=colors[i], label=iris.target_names[i])\n",
    "\n",
    "ax.set_title('True clusters')\n",
    "plt.legend(bbox_to_anchor=(1.25, 1))\n",
    "\n",
    "ax = fig.add_subplot(212)\n",
    "for i in range(n_clusters):\n",
    "    plt.scatter(df[label == i].X, df[label == i].Y, color=colors[i], label=i)\n",
    "\n",
    "ax.set_title('Predicted clusters')\n",
    "plt.legend(bbox_to_anchor=(1.25, 1))\n",
    "\n",
    "fig.tight_layout()"
   ]
  },
  {
   "cell_type": "markdown",
   "metadata": {},
   "source": [
    "Next we can evaluate how well the predicted clusters are separated with an internal criterion like the silhouette score. A good separation would result in a score of 1. "
   ]
  },
  {
   "cell_type": "code",
   "execution_count": 4,
   "metadata": {
    "execution": {
     "iopub.execute_input": "2021-03-09T08:38:57.353852Z",
     "iopub.status.busy": "2021-03-09T08:38:57.353431Z",
     "iopub.status.idle": "2021-03-09T08:38:57.357184Z",
     "shell.execute_reply": "2021-03-09T08:38:57.356823Z"
    }
   },
   "outputs": [
    {
     "name": "stdout",
     "output_type": "stream",
     "text": [
      "0.5528190123564091\n"
     ]
    }
   ],
   "source": [
    "silhouette_avg = metrics.silhouette_score(iris.data, label, metric='euclidean')\n",
    "print(silhouette_avg)"
   ]
  },
  {
   "cell_type": "markdown",
   "metadata": {},
   "source": [
    "With a boxplot we can easily plot the silhouette score for every cluster. If we do not know the true cluster size, we could try to optimize silhouette score if we change the parameters for our cluster algorithm."
   ]
  },
  {
   "cell_type": "code",
   "execution_count": 5,
   "metadata": {
    "execution": {
     "iopub.execute_input": "2021-03-09T08:38:57.360653Z",
     "iopub.status.busy": "2021-03-09T08:38:57.360233Z",
     "iopub.status.idle": "2021-03-09T08:38:57.466122Z",
     "shell.execute_reply": "2021-03-09T08:38:57.465764Z"
    }
   },
   "outputs": [
    {
     "data": {
      "text/plain": [
       "<AxesSubplot:xlabel='label', ylabel='score'>"
      ]
     },
     "execution_count": 1,
     "metadata": {},
     "output_type": "execute_result"
    },
    {
     "data": {
      "image/png": "[encoded data removed]",
      "text/plain": [
       "<Figure size 432x288 with 1 Axes>"
      ]
     },
     "metadata": {
      "needs_background": "light"
     },
     "output_type": "display_data"
    }
   ],
   "source": [
    "sample_silhouette_values = pd.DataFrame(metrics.silhouette_samples(iris.data, label), columns=['score'])\n",
    "sample_silhouette_values['label'] = label\n",
    "\n",
    "sns.boxplot(x=\"label\", y=\"score\", data=sample_silhouette_values, palette=colors)"
   ]
  },
  {
   "cell_type": "markdown",
   "metadata": {},
   "source": [
    "But for the iris dataset we know the true clusters and we can evaluate the result with an external criterion. The adjusted rand score evaluates the cluster against the ground truth. A perfect match would result in a score of 1."
   ]
  },
  {
   "cell_type": "code",
   "execution_count": 6,
   "metadata": {
    "execution": {
     "iopub.execute_input": "2021-03-09T08:38:57.469996Z",
     "iopub.status.busy": "2021-03-09T08:38:57.469212Z",
     "iopub.status.idle": "2021-03-09T08:38:57.472516Z",
     "shell.execute_reply": "2021-03-09T08:38:57.472855Z"
    }
   },
   "outputs": [
    {
     "data": {
      "text/plain": [
       "0.7302382722834697"
      ]
     },
     "execution_count": 1,
     "metadata": {},
     "output_type": "execute_result"
    }
   ],
   "source": [
    "metrics.adjusted_rand_score(iris.target, label)"
   ]
  },
  {
   "cell_type": "code",
   "execution_count": 7,
   "metadata": {
    "execution": {
     "iopub.execute_input": "2021-03-09T08:38:57.475646Z",
     "iopub.status.busy": "2021-03-09T08:38:57.475219Z",
     "iopub.status.idle": "2021-03-09T08:38:57.480491Z",
     "shell.execute_reply": "2021-03-09T08:38:57.480002Z"
    }
   },
   "outputs": [
    {
     "data": {
      "text/plain": [
       "0.7551191675800483"
      ]
     },
     "execution_count": 1,
     "metadata": {},
     "output_type": "execute_result"
    }
   ],
   "source": [
    "metrics.adjusted_mutual_info_score(iris.target, label)"
   ]
  },
  {
   "cell_type": "code",
   "execution_count": 8,
   "metadata": {
    "execution": {
     "iopub.execute_input": "2021-03-09T08:38:57.484259Z",
     "iopub.status.busy": "2021-03-09T08:38:57.483550Z",
     "iopub.status.idle": "2021-03-09T08:38:57.487274Z",
     "shell.execute_reply": "2021-03-09T08:38:57.486863Z"
    }
   },
   "outputs": [
    {
     "data": {
      "text/plain": [
       "0.8933333333333333"
      ]
     },
     "execution_count": 1,
     "metadata": {},
     "output_type": "execute_result"
    }
   ],
   "source": [
    "metrics.accuracy_score(iris.target, label)"
   ]
  },
  {
   "cell_type": "markdown",
   "metadata": {},
   "source": [
    "After we have finished, we can user our fitted model to predict new values."
   ]
  },
  {
   "cell_type": "code",
   "execution_count": 9,
   "metadata": {
    "execution": {
     "iopub.execute_input": "2021-03-09T08:38:57.490981Z",
     "iopub.status.busy": "2021-03-09T08:38:57.490533Z",
     "iopub.status.idle": "2021-03-09T08:38:57.492673Z",
     "shell.execute_reply": "2021-03-09T08:38:57.492993Z"
    }
   },
   "outputs": [
    {
     "data": {
      "text/plain": [
       "array([0, 1, 2], dtype=int32)"
      ]
     },
     "execution_count": 1,
     "metadata": {},
     "output_type": "execute_result"
    }
   ],
   "source": [
    "N = [[1.9,  3.2,  1.3,  0.1],\n",
    "       [ 6.2,  3.1,  4.5,  1.6],\n",
    "       [ 6.9,  3.3,  5.9,  2.3]]\n",
    "\n",
    "kmeans.predict(N)"
   ]
  }
 ],
 "metadata": {
  "kernelspec": {
   "display_name": "Python 3",
   "language": "python",
   "name": "python3"
  },
  "language_info": {
   "codemirror_mode": {
    "name": "ipython",
    "version": 3
   },
   "file_extension": ".py",
   "mimetype": "text/x-python",
   "name": "python",
   "nbconvert_exporter": "python",
   "pygments_lexer": "ipython3",
   "version": "3.8.5"
  }
 },
 "nbformat": 4,
 "nbformat_minor": 2
}
